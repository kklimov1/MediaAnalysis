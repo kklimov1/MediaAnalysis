{
 "cells": [
  {
   "cell_type": "code",
   "execution_count": 473,
   "source": [
    "import numpy as np\n",
    "import pandas as pd\n",
    "from sklearn.preprocessing import OneHotEncoder, PolynomialFeatures\n",
    "from sklearn.linear_model import LinearRegression, Ridge, Lasso\n",
    "from sklearn.metrics import mean_squared_error, r2_score\n",
    "from sklearn.model_selection import GridSearchCV, train_test_split, cross_val_score\n",
    "from sklearn.ensemble import AdaBoostRegressor, StackingRegressor\n",
    "import matplotlib.pyplot as plt\n",
    "from sklearn.svm import SVR\n",
    "import joblib\n",
    "from sklearn.utils import shuffle\n",
    "import re"
   ],
   "outputs": [],
   "metadata": {}
  },
  {
   "cell_type": "markdown",
   "source": [
    "Loading in the Data:"
   ],
   "metadata": {}
  },
  {
   "cell_type": "code",
   "execution_count": 215,
   "source": [
    "df = pd.read_csv('Ninja Vegas Results.csv') #For April 2018"
   ],
   "outputs": [],
   "metadata": {}
  },
  {
   "cell_type": "markdown",
   "source": [
    "# Data Cleaning"
   ],
   "metadata": {}
  },
  {
   "cell_type": "markdown",
   "source": [
    "There are columns without non-null values, let's see if we can clean the set."
   ],
   "metadata": {}
  },
  {
   "cell_type": "code",
   "execution_count": 216,
   "source": [
    "df.head(3)"
   ],
   "outputs": [
    {
     "output_type": "execute_result",
     "data": {
      "text/plain": [
       "   SegID        DBName   Brand  Location  Network    Sport         League  \\\n",
       "0      1  NINJAVEGAS18  Purple  Logo Bug      NaN  Esports  StreamHatchet   \n",
       "1      2  NINJAVEGAS18  Purple  Logo Bug      NaN  Esports  StreamHatchet   \n",
       "2      3  NINJAVEGAS18  Purple  Logo Bug      NaN  Esports  StreamHatchet   \n",
       "\n",
       "   Away  Home  Venue  ... Size Weight.1 PictureFrameVis%.1 Duration Weight.1  \\\n",
       "0   NaN   NaN    NaN  ...           NaN                NaN               NaN   \n",
       "1   NaN   NaN    NaN  ...           NaN                NaN               NaN   \n",
       "2   NaN   NaN    NaN  ...           NaN                NaN               NaN   \n",
       "\n",
       "  SOV/Clutter Weight  Clutter/SOV Size Score Location Score Duration Score  \\\n",
       "0                NaN            1        0.0            0.2            0.4   \n",
       "1                NaN            1        0.0            0.2            0.4   \n",
       "2                NaN            1        0.0            0.2            0.4   \n",
       "\n",
       "   ME Score   ME Value   \n",
       "0     5.18%   $ 259.31   \n",
       "1     5.18%   $ 259.31   \n",
       "2     5.18%   $ 259.31   \n",
       "\n",
       "[3 rows x 51 columns]"
      ],
      "text/html": [
       "<div>\n",
       "<style scoped>\n",
       "    .dataframe tbody tr th:only-of-type {\n",
       "        vertical-align: middle;\n",
       "    }\n",
       "\n",
       "    .dataframe tbody tr th {\n",
       "        vertical-align: top;\n",
       "    }\n",
       "\n",
       "    .dataframe thead th {\n",
       "        text-align: right;\n",
       "    }\n",
       "</style>\n",
       "<table border=\"1\" class=\"dataframe\">\n",
       "  <thead>\n",
       "    <tr style=\"text-align: right;\">\n",
       "      <th></th>\n",
       "      <th>SegID</th>\n",
       "      <th>DBName</th>\n",
       "      <th>Brand</th>\n",
       "      <th>Location</th>\n",
       "      <th>Network</th>\n",
       "      <th>Sport</th>\n",
       "      <th>League</th>\n",
       "      <th>Away</th>\n",
       "      <th>Home</th>\n",
       "      <th>Venue</th>\n",
       "      <th>...</th>\n",
       "      <th>Size Weight.1</th>\n",
       "      <th>PictureFrameVis%.1</th>\n",
       "      <th>Duration Weight.1</th>\n",
       "      <th>SOV/Clutter Weight</th>\n",
       "      <th>Clutter/SOV</th>\n",
       "      <th>Size Score</th>\n",
       "      <th>Location Score</th>\n",
       "      <th>Duration Score</th>\n",
       "      <th>ME Score</th>\n",
       "      <th>ME Value</th>\n",
       "    </tr>\n",
       "  </thead>\n",
       "  <tbody>\n",
       "    <tr>\n",
       "      <th>0</th>\n",
       "      <td>1</td>\n",
       "      <td>NINJAVEGAS18</td>\n",
       "      <td>Purple</td>\n",
       "      <td>Logo Bug</td>\n",
       "      <td>NaN</td>\n",
       "      <td>Esports</td>\n",
       "      <td>StreamHatchet</td>\n",
       "      <td>NaN</td>\n",
       "      <td>NaN</td>\n",
       "      <td>NaN</td>\n",
       "      <td>...</td>\n",
       "      <td>NaN</td>\n",
       "      <td>NaN</td>\n",
       "      <td>NaN</td>\n",
       "      <td>NaN</td>\n",
       "      <td>1</td>\n",
       "      <td>0.0</td>\n",
       "      <td>0.2</td>\n",
       "      <td>0.4</td>\n",
       "      <td>5.18%</td>\n",
       "      <td>$ 259.31</td>\n",
       "    </tr>\n",
       "    <tr>\n",
       "      <th>1</th>\n",
       "      <td>2</td>\n",
       "      <td>NINJAVEGAS18</td>\n",
       "      <td>Purple</td>\n",
       "      <td>Logo Bug</td>\n",
       "      <td>NaN</td>\n",
       "      <td>Esports</td>\n",
       "      <td>StreamHatchet</td>\n",
       "      <td>NaN</td>\n",
       "      <td>NaN</td>\n",
       "      <td>NaN</td>\n",
       "      <td>...</td>\n",
       "      <td>NaN</td>\n",
       "      <td>NaN</td>\n",
       "      <td>NaN</td>\n",
       "      <td>NaN</td>\n",
       "      <td>1</td>\n",
       "      <td>0.0</td>\n",
       "      <td>0.2</td>\n",
       "      <td>0.4</td>\n",
       "      <td>5.18%</td>\n",
       "      <td>$ 259.31</td>\n",
       "    </tr>\n",
       "    <tr>\n",
       "      <th>2</th>\n",
       "      <td>3</td>\n",
       "      <td>NINJAVEGAS18</td>\n",
       "      <td>Purple</td>\n",
       "      <td>Logo Bug</td>\n",
       "      <td>NaN</td>\n",
       "      <td>Esports</td>\n",
       "      <td>StreamHatchet</td>\n",
       "      <td>NaN</td>\n",
       "      <td>NaN</td>\n",
       "      <td>NaN</td>\n",
       "      <td>...</td>\n",
       "      <td>NaN</td>\n",
       "      <td>NaN</td>\n",
       "      <td>NaN</td>\n",
       "      <td>NaN</td>\n",
       "      <td>1</td>\n",
       "      <td>0.0</td>\n",
       "      <td>0.2</td>\n",
       "      <td>0.4</td>\n",
       "      <td>5.18%</td>\n",
       "      <td>$ 259.31</td>\n",
       "    </tr>\n",
       "  </tbody>\n",
       "</table>\n",
       "<p>3 rows × 51 columns</p>\n",
       "</div>"
      ]
     },
     "metadata": {},
     "execution_count": 216
    }
   ],
   "metadata": {}
  },
  {
   "cell_type": "code",
   "execution_count": 217,
   "source": [
    "columns_with_all_null_values = df.columns[df.isnull().sum()==df.shape[0]].tolist()"
   ],
   "outputs": [],
   "metadata": {}
  },
  {
   "cell_type": "code",
   "execution_count": 218,
   "source": [
    "columns_with_all_null_values"
   ],
   "outputs": [
    {
     "output_type": "execute_result",
     "data": {
      "text/plain": [
       "['Network',\n",
       " 'Away',\n",
       " 'Home',\n",
       " 'Venue',\n",
       " 'Bbox_x1',\n",
       " 'Bbox_y1',\n",
       " 'Bbox_x2',\n",
       " 'Bbox_y2',\n",
       " 'Video_Height',\n",
       " 'Video_Width',\n",
       " 'SC-X2',\n",
       " 'SC-Y2',\n",
       " 'Center',\n",
       " 'Calc',\n",
       " 'BullseyePercent',\n",
       " 'PF_X_UL',\n",
       " 'PF_Y_UL',\n",
       " 'PF_X_LL',\n",
       " 'PF_Y_LL',\n",
       " 'PF_X_UR',\n",
       " 'PF_Y_UR',\n",
       " 'PF_X_LR',\n",
       " 'PF_Y_LR',\n",
       " 'PictureFrameVis%',\n",
       " 'Size Weight.1',\n",
       " 'PictureFrameVis%.1',\n",
       " 'Duration Weight.1',\n",
       " 'SOV/Clutter Weight']"
      ]
     },
     "metadata": {},
     "execution_count": 218
    }
   ],
   "metadata": {}
  },
  {
   "cell_type": "markdown",
   "source": [
    "We will proceed to remove them."
   ],
   "metadata": {}
  },
  {
   "cell_type": "code",
   "execution_count": 219,
   "source": [
    "df=df.drop(columns_with_all_null_values, axis=1)"
   ],
   "outputs": [],
   "metadata": {}
  },
  {
   "cell_type": "code",
   "execution_count": 220,
   "source": [
    "df.head(3)"
   ],
   "outputs": [
    {
     "output_type": "execute_result",
     "data": {
      "text/plain": [
       "   SegID        DBName   Brand  Location    Sport         League  \\\n",
       "0      1  NINJAVEGAS18  Purple  Logo Bug  Esports  StreamHatchet   \n",
       "1      2  NINJAVEGAS18  Purple  Logo Bug  Esports  StreamHatchet   \n",
       "2      3  NINJAVEGAS18  Purple  Logo Bug  Esports  StreamHatchet   \n",
       "\n",
       "  Broadcast Day Broadcast Date Start Time  End Time  ...  Location %  \\\n",
       "0      Saturday     04-21-2018   03:19:07  03:19:13  ...      20.00%   \n",
       "1      Saturday     04-21-2018   03:19:21  03:19:27  ...      20.00%   \n",
       "2      Saturday     04-21-2018   03:19:35  03:19:41  ...      20.00%   \n",
       "\n",
       "  Clear/Unclear Brand Size % Size Weight  Clutter/SOV Size Score  \\\n",
       "0             1        0.11%       0.22%            1        0.0   \n",
       "1             1        0.11%       0.22%            1        0.0   \n",
       "2             1        0.11%       0.22%            1        0.0   \n",
       "\n",
       "  Location Score  Duration Score  ME Score   ME Value   \n",
       "0            0.2             0.4     5.18%   $ 259.31   \n",
       "1            0.2             0.4     5.18%   $ 259.31   \n",
       "2            0.2             0.4     5.18%   $ 259.31   \n",
       "\n",
       "[3 rows x 23 columns]"
      ],
      "text/html": [
       "<div>\n",
       "<style scoped>\n",
       "    .dataframe tbody tr th:only-of-type {\n",
       "        vertical-align: middle;\n",
       "    }\n",
       "\n",
       "    .dataframe tbody tr th {\n",
       "        vertical-align: top;\n",
       "    }\n",
       "\n",
       "    .dataframe thead th {\n",
       "        text-align: right;\n",
       "    }\n",
       "</style>\n",
       "<table border=\"1\" class=\"dataframe\">\n",
       "  <thead>\n",
       "    <tr style=\"text-align: right;\">\n",
       "      <th></th>\n",
       "      <th>SegID</th>\n",
       "      <th>DBName</th>\n",
       "      <th>Brand</th>\n",
       "      <th>Location</th>\n",
       "      <th>Sport</th>\n",
       "      <th>League</th>\n",
       "      <th>Broadcast Day</th>\n",
       "      <th>Broadcast Date</th>\n",
       "      <th>Start Time</th>\n",
       "      <th>End Time</th>\n",
       "      <th>...</th>\n",
       "      <th>Location %</th>\n",
       "      <th>Clear/Unclear</th>\n",
       "      <th>Brand Size %</th>\n",
       "      <th>Size Weight</th>\n",
       "      <th>Clutter/SOV</th>\n",
       "      <th>Size Score</th>\n",
       "      <th>Location Score</th>\n",
       "      <th>Duration Score</th>\n",
       "      <th>ME Score</th>\n",
       "      <th>ME Value</th>\n",
       "    </tr>\n",
       "  </thead>\n",
       "  <tbody>\n",
       "    <tr>\n",
       "      <th>0</th>\n",
       "      <td>1</td>\n",
       "      <td>NINJAVEGAS18</td>\n",
       "      <td>Purple</td>\n",
       "      <td>Logo Bug</td>\n",
       "      <td>Esports</td>\n",
       "      <td>StreamHatchet</td>\n",
       "      <td>Saturday</td>\n",
       "      <td>04-21-2018</td>\n",
       "      <td>03:19:07</td>\n",
       "      <td>03:19:13</td>\n",
       "      <td>...</td>\n",
       "      <td>20.00%</td>\n",
       "      <td>1</td>\n",
       "      <td>0.11%</td>\n",
       "      <td>0.22%</td>\n",
       "      <td>1</td>\n",
       "      <td>0.0</td>\n",
       "      <td>0.2</td>\n",
       "      <td>0.4</td>\n",
       "      <td>5.18%</td>\n",
       "      <td>$ 259.31</td>\n",
       "    </tr>\n",
       "    <tr>\n",
       "      <th>1</th>\n",
       "      <td>2</td>\n",
       "      <td>NINJAVEGAS18</td>\n",
       "      <td>Purple</td>\n",
       "      <td>Logo Bug</td>\n",
       "      <td>Esports</td>\n",
       "      <td>StreamHatchet</td>\n",
       "      <td>Saturday</td>\n",
       "      <td>04-21-2018</td>\n",
       "      <td>03:19:21</td>\n",
       "      <td>03:19:27</td>\n",
       "      <td>...</td>\n",
       "      <td>20.00%</td>\n",
       "      <td>1</td>\n",
       "      <td>0.11%</td>\n",
       "      <td>0.22%</td>\n",
       "      <td>1</td>\n",
       "      <td>0.0</td>\n",
       "      <td>0.2</td>\n",
       "      <td>0.4</td>\n",
       "      <td>5.18%</td>\n",
       "      <td>$ 259.31</td>\n",
       "    </tr>\n",
       "    <tr>\n",
       "      <th>2</th>\n",
       "      <td>3</td>\n",
       "      <td>NINJAVEGAS18</td>\n",
       "      <td>Purple</td>\n",
       "      <td>Logo Bug</td>\n",
       "      <td>Esports</td>\n",
       "      <td>StreamHatchet</td>\n",
       "      <td>Saturday</td>\n",
       "      <td>04-21-2018</td>\n",
       "      <td>03:19:35</td>\n",
       "      <td>03:19:41</td>\n",
       "      <td>...</td>\n",
       "      <td>20.00%</td>\n",
       "      <td>1</td>\n",
       "      <td>0.11%</td>\n",
       "      <td>0.22%</td>\n",
       "      <td>1</td>\n",
       "      <td>0.0</td>\n",
       "      <td>0.2</td>\n",
       "      <td>0.4</td>\n",
       "      <td>5.18%</td>\n",
       "      <td>$ 259.31</td>\n",
       "    </tr>\n",
       "  </tbody>\n",
       "</table>\n",
       "<p>3 rows × 23 columns</p>\n",
       "</div>"
      ]
     },
     "metadata": {},
     "execution_count": 220
    }
   ],
   "metadata": {}
  },
  {
   "cell_type": "code",
   "execution_count": 221,
   "source": [
    "df.isnull().any() #There are no NAN values left in our data set!"
   ],
   "outputs": [
    {
     "output_type": "execute_result",
     "data": {
      "text/plain": [
       "SegID                    False\n",
       "DBName                   False\n",
       "Brand                    False\n",
       "Location                 False\n",
       "Sport                    False\n",
       "League                   False\n",
       "Broadcast Day            False\n",
       "Broadcast Date           False\n",
       "Start Time               False\n",
       "End Time                 False\n",
       "Duration Time            False\n",
       "Duration Weight          False\n",
       "30 Second Equivalents    False\n",
       "Location %               False\n",
       "Clear/Unclear            False\n",
       "Brand Size %             False\n",
       "Size Weight              False\n",
       "Clutter/SOV              False\n",
       "Size Score               False\n",
       "Location Score           False\n",
       "Duration Score           False\n",
       "ME Score                 False\n",
       " ME Value                False\n",
       "dtype: bool"
      ]
     },
     "metadata": {},
     "execution_count": 221
    }
   ],
   "metadata": {}
  },
  {
   "cell_type": "markdown",
   "source": [
    "Some time values start with 0 and others do not, so I will add a 0 to those which do not"
   ],
   "metadata": {}
  },
  {
   "cell_type": "code",
   "execution_count": 222,
   "source": [
    "df.loc[[0,1,2,df.shape[0]-1], 'Start Time':'End Time']"
   ],
   "outputs": [
    {
     "output_type": "execute_result",
     "data": {
      "text/plain": [
       "     Start Time  End Time\n",
       "0      03:19:07  03:19:13\n",
       "1      03:19:21  03:19:27\n",
       "2      03:19:35  03:19:41\n",
       "1481    1:35:38   1:36:09"
      ],
      "text/html": [
       "<div>\n",
       "<style scoped>\n",
       "    .dataframe tbody tr th:only-of-type {\n",
       "        vertical-align: middle;\n",
       "    }\n",
       "\n",
       "    .dataframe tbody tr th {\n",
       "        vertical-align: top;\n",
       "    }\n",
       "\n",
       "    .dataframe thead th {\n",
       "        text-align: right;\n",
       "    }\n",
       "</style>\n",
       "<table border=\"1\" class=\"dataframe\">\n",
       "  <thead>\n",
       "    <tr style=\"text-align: right;\">\n",
       "      <th></th>\n",
       "      <th>Start Time</th>\n",
       "      <th>End Time</th>\n",
       "    </tr>\n",
       "  </thead>\n",
       "  <tbody>\n",
       "    <tr>\n",
       "      <th>0</th>\n",
       "      <td>03:19:07</td>\n",
       "      <td>03:19:13</td>\n",
       "    </tr>\n",
       "    <tr>\n",
       "      <th>1</th>\n",
       "      <td>03:19:21</td>\n",
       "      <td>03:19:27</td>\n",
       "    </tr>\n",
       "    <tr>\n",
       "      <th>2</th>\n",
       "      <td>03:19:35</td>\n",
       "      <td>03:19:41</td>\n",
       "    </tr>\n",
       "    <tr>\n",
       "      <th>1481</th>\n",
       "      <td>1:35:38</td>\n",
       "      <td>1:36:09</td>\n",
       "    </tr>\n",
       "  </tbody>\n",
       "</table>\n",
       "</div>"
      ]
     },
     "metadata": {},
     "execution_count": 222
    }
   ],
   "metadata": {}
  },
  {
   "cell_type": "code",
   "execution_count": 223,
   "source": [
    "df.loc[:,'Start Time':'End Time']=df.loc[:,'Start Time':'End Time'].applymap(lambda x: '0'+x if (len(x.split(':')[0])<2) else x)"
   ],
   "outputs": [],
   "metadata": {}
  },
  {
   "cell_type": "code",
   "execution_count": 224,
   "source": [
    "df.loc[[0,1,2,df.shape[0]-1], 'Start Time':'End Time']\n",
    "#As you can tell, that is now fixed"
   ],
   "outputs": [
    {
     "output_type": "execute_result",
     "data": {
      "text/plain": [
       "     Start Time  End Time\n",
       "0      03:19:07  03:19:13\n",
       "1      03:19:21  03:19:27\n",
       "2      03:19:35  03:19:41\n",
       "1481   01:35:38  01:36:09"
      ],
      "text/html": [
       "<div>\n",
       "<style scoped>\n",
       "    .dataframe tbody tr th:only-of-type {\n",
       "        vertical-align: middle;\n",
       "    }\n",
       "\n",
       "    .dataframe tbody tr th {\n",
       "        vertical-align: top;\n",
       "    }\n",
       "\n",
       "    .dataframe thead th {\n",
       "        text-align: right;\n",
       "    }\n",
       "</style>\n",
       "<table border=\"1\" class=\"dataframe\">\n",
       "  <thead>\n",
       "    <tr style=\"text-align: right;\">\n",
       "      <th></th>\n",
       "      <th>Start Time</th>\n",
       "      <th>End Time</th>\n",
       "    </tr>\n",
       "  </thead>\n",
       "  <tbody>\n",
       "    <tr>\n",
       "      <th>0</th>\n",
       "      <td>03:19:07</td>\n",
       "      <td>03:19:13</td>\n",
       "    </tr>\n",
       "    <tr>\n",
       "      <th>1</th>\n",
       "      <td>03:19:21</td>\n",
       "      <td>03:19:27</td>\n",
       "    </tr>\n",
       "    <tr>\n",
       "      <th>2</th>\n",
       "      <td>03:19:35</td>\n",
       "      <td>03:19:41</td>\n",
       "    </tr>\n",
       "    <tr>\n",
       "      <th>1481</th>\n",
       "      <td>01:35:38</td>\n",
       "      <td>01:36:09</td>\n",
       "    </tr>\n",
       "  </tbody>\n",
       "</table>\n",
       "</div>"
      ]
     },
     "metadata": {},
     "execution_count": 224
    }
   ],
   "metadata": {}
  },
  {
   "cell_type": "markdown",
   "source": [
    "Perhaps the time at which the commercial time begins is a factor in determining the EMV value. Therefore we will make a column with the starting hours, which we will one-hot-encode later on!"
   ],
   "metadata": {}
  },
  {
   "cell_type": "code",
   "execution_count": 225,
   "source": [
    "df['Start Time Hour']=df[['Start Time']].applymap(lambda x: x.split(':')[0])"
   ],
   "outputs": [],
   "metadata": {}
  },
  {
   "cell_type": "markdown",
   "source": [
    "I doubt that the start and end time are of much help, so we will drop them."
   ],
   "metadata": {}
  },
  {
   "cell_type": "code",
   "execution_count": 226,
   "source": [
    "df.drop(['Start Time', 'End Time'], axis=1, inplace=True)"
   ],
   "outputs": [],
   "metadata": {}
  },
  {
   "cell_type": "code",
   "execution_count": 227,
   "source": [
    "df.head(3)"
   ],
   "outputs": [
    {
     "output_type": "execute_result",
     "data": {
      "text/plain": [
       "   SegID        DBName   Brand  Location    Sport         League  \\\n",
       "0      1  NINJAVEGAS18  Purple  Logo Bug  Esports  StreamHatchet   \n",
       "1      2  NINJAVEGAS18  Purple  Logo Bug  Esports  StreamHatchet   \n",
       "2      3  NINJAVEGAS18  Purple  Logo Bug  Esports  StreamHatchet   \n",
       "\n",
       "  Broadcast Day Broadcast Date  Duration Time Duration Weight  ...  \\\n",
       "0      Saturday     04-21-2018            6.0          40.00%  ...   \n",
       "1      Saturday     04-21-2018            6.0          40.00%  ...   \n",
       "2      Saturday     04-21-2018            6.0          40.00%  ...   \n",
       "\n",
       "  Clear/Unclear Brand Size %  Size Weight Clutter/SOV Size Score  \\\n",
       "0             1        0.11%        0.22%           1        0.0   \n",
       "1             1        0.11%        0.22%           1        0.0   \n",
       "2             1        0.11%        0.22%           1        0.0   \n",
       "\n",
       "   Location Score  Duration Score  ME Score   ME Value  Start Time Hour  \n",
       "0             0.2             0.4     5.18%   $ 259.31               03  \n",
       "1             0.2             0.4     5.18%   $ 259.31               03  \n",
       "2             0.2             0.4     5.18%   $ 259.31               03  \n",
       "\n",
       "[3 rows x 22 columns]"
      ],
      "text/html": [
       "<div>\n",
       "<style scoped>\n",
       "    .dataframe tbody tr th:only-of-type {\n",
       "        vertical-align: middle;\n",
       "    }\n",
       "\n",
       "    .dataframe tbody tr th {\n",
       "        vertical-align: top;\n",
       "    }\n",
       "\n",
       "    .dataframe thead th {\n",
       "        text-align: right;\n",
       "    }\n",
       "</style>\n",
       "<table border=\"1\" class=\"dataframe\">\n",
       "  <thead>\n",
       "    <tr style=\"text-align: right;\">\n",
       "      <th></th>\n",
       "      <th>SegID</th>\n",
       "      <th>DBName</th>\n",
       "      <th>Brand</th>\n",
       "      <th>Location</th>\n",
       "      <th>Sport</th>\n",
       "      <th>League</th>\n",
       "      <th>Broadcast Day</th>\n",
       "      <th>Broadcast Date</th>\n",
       "      <th>Duration Time</th>\n",
       "      <th>Duration Weight</th>\n",
       "      <th>...</th>\n",
       "      <th>Clear/Unclear</th>\n",
       "      <th>Brand Size %</th>\n",
       "      <th>Size Weight</th>\n",
       "      <th>Clutter/SOV</th>\n",
       "      <th>Size Score</th>\n",
       "      <th>Location Score</th>\n",
       "      <th>Duration Score</th>\n",
       "      <th>ME Score</th>\n",
       "      <th>ME Value</th>\n",
       "      <th>Start Time Hour</th>\n",
       "    </tr>\n",
       "  </thead>\n",
       "  <tbody>\n",
       "    <tr>\n",
       "      <th>0</th>\n",
       "      <td>1</td>\n",
       "      <td>NINJAVEGAS18</td>\n",
       "      <td>Purple</td>\n",
       "      <td>Logo Bug</td>\n",
       "      <td>Esports</td>\n",
       "      <td>StreamHatchet</td>\n",
       "      <td>Saturday</td>\n",
       "      <td>04-21-2018</td>\n",
       "      <td>6.0</td>\n",
       "      <td>40.00%</td>\n",
       "      <td>...</td>\n",
       "      <td>1</td>\n",
       "      <td>0.11%</td>\n",
       "      <td>0.22%</td>\n",
       "      <td>1</td>\n",
       "      <td>0.0</td>\n",
       "      <td>0.2</td>\n",
       "      <td>0.4</td>\n",
       "      <td>5.18%</td>\n",
       "      <td>$ 259.31</td>\n",
       "      <td>03</td>\n",
       "    </tr>\n",
       "    <tr>\n",
       "      <th>1</th>\n",
       "      <td>2</td>\n",
       "      <td>NINJAVEGAS18</td>\n",
       "      <td>Purple</td>\n",
       "      <td>Logo Bug</td>\n",
       "      <td>Esports</td>\n",
       "      <td>StreamHatchet</td>\n",
       "      <td>Saturday</td>\n",
       "      <td>04-21-2018</td>\n",
       "      <td>6.0</td>\n",
       "      <td>40.00%</td>\n",
       "      <td>...</td>\n",
       "      <td>1</td>\n",
       "      <td>0.11%</td>\n",
       "      <td>0.22%</td>\n",
       "      <td>1</td>\n",
       "      <td>0.0</td>\n",
       "      <td>0.2</td>\n",
       "      <td>0.4</td>\n",
       "      <td>5.18%</td>\n",
       "      <td>$ 259.31</td>\n",
       "      <td>03</td>\n",
       "    </tr>\n",
       "    <tr>\n",
       "      <th>2</th>\n",
       "      <td>3</td>\n",
       "      <td>NINJAVEGAS18</td>\n",
       "      <td>Purple</td>\n",
       "      <td>Logo Bug</td>\n",
       "      <td>Esports</td>\n",
       "      <td>StreamHatchet</td>\n",
       "      <td>Saturday</td>\n",
       "      <td>04-21-2018</td>\n",
       "      <td>6.0</td>\n",
       "      <td>40.00%</td>\n",
       "      <td>...</td>\n",
       "      <td>1</td>\n",
       "      <td>0.11%</td>\n",
       "      <td>0.22%</td>\n",
       "      <td>1</td>\n",
       "      <td>0.0</td>\n",
       "      <td>0.2</td>\n",
       "      <td>0.4</td>\n",
       "      <td>5.18%</td>\n",
       "      <td>$ 259.31</td>\n",
       "      <td>03</td>\n",
       "    </tr>\n",
       "  </tbody>\n",
       "</table>\n",
       "<p>3 rows × 22 columns</p>\n",
       "</div>"
      ]
     },
     "metadata": {},
     "execution_count": 227
    }
   ],
   "metadata": {}
  },
  {
   "cell_type": "markdown",
   "source": [
    "Before we can begin analyzing what factors are responsible for determining the output, we must get rid of data that does not contribute to our output. We can delete columns with only one unique value without having repercussions in quality of our analysis."
   ],
   "metadata": {}
  },
  {
   "cell_type": "code",
   "execution_count": 228,
   "source": [
    "df.nunique()"
   ],
   "outputs": [
    {
     "output_type": "execute_result",
     "data": {
      "text/plain": [
       "SegID                    1157\n",
       "DBName                      4\n",
       "Brand                       2\n",
       "Location                    5\n",
       "Sport                       1\n",
       "League                      1\n",
       "Broadcast Day               1\n",
       "Broadcast Date              1\n",
       "Duration Time              68\n",
       "Duration Weight            17\n",
       "30 Second Equivalents      54\n",
       "Location %                 11\n",
       "Clear/Unclear               1\n",
       "Brand Size %               86\n",
       "Size Weight                86\n",
       "Clutter/SOV                 2\n",
       "Size Score                 12\n",
       "Location Score             11\n",
       "Duration Score             17\n",
       "ME Score                  233\n",
       " ME Value                 365\n",
       "Start Time Hour             5\n",
       "dtype: int64"
      ]
     },
     "metadata": {},
     "execution_count": 228
    }
   ],
   "metadata": {}
  },
  {
   "cell_type": "code",
   "execution_count": 229,
   "source": [
    "columns_to_drop = df.columns[df.nunique()==1].tolist()"
   ],
   "outputs": [],
   "metadata": {}
  },
  {
   "cell_type": "code",
   "execution_count": 230,
   "source": [
    "df.drop(columns_to_drop, axis=1, inplace=True)"
   ],
   "outputs": [],
   "metadata": {}
  },
  {
   "cell_type": "code",
   "execution_count": 231,
   "source": [
    "df.head(5)"
   ],
   "outputs": [
    {
     "output_type": "execute_result",
     "data": {
      "text/plain": [
       "   SegID        DBName   Brand  Location  Duration Time Duration Weight  \\\n",
       "0      1  NINJAVEGAS18  Purple  Logo Bug            6.0          40.00%   \n",
       "1      2  NINJAVEGAS18  Purple  Logo Bug            6.0          40.00%   \n",
       "2      3  NINJAVEGAS18  Purple  Logo Bug            6.0          40.00%   \n",
       "3      4  NINJAVEGAS18  Purple  Logo Bug            6.0          40.00%   \n",
       "4      5  NINJAVEGAS18  Purple  Logo Bug            6.0          40.00%   \n",
       "\n",
       "  30 Second Equivalents Location % Brand Size % Size Weight  Clutter/SOV  \\\n",
       "0                   20%     20.00%        0.11%       0.22%            1   \n",
       "1                   20%     20.00%        0.11%       0.22%            1   \n",
       "2                   20%     20.00%        0.11%       0.22%            1   \n",
       "3                   20%     20.00%        0.11%       0.22%            1   \n",
       "4                   20%     20.00%        0.11%       0.22%            1   \n",
       "\n",
       "   Size Score  Location Score  Duration Score ME Score   ME Value   \\\n",
       "0         0.0             0.2             0.4    5.18%   $ 259.31    \n",
       "1         0.0             0.2             0.4    5.18%   $ 259.31    \n",
       "2         0.0             0.2             0.4    5.18%   $ 259.31    \n",
       "3         0.0             0.2             0.4    5.18%   $ 259.31    \n",
       "4         0.0             0.2             0.4    5.18%   $ 259.31    \n",
       "\n",
       "  Start Time Hour  \n",
       "0              03  \n",
       "1              03  \n",
       "2              03  \n",
       "3              03  \n",
       "4              03  "
      ],
      "text/html": [
       "<div>\n",
       "<style scoped>\n",
       "    .dataframe tbody tr th:only-of-type {\n",
       "        vertical-align: middle;\n",
       "    }\n",
       "\n",
       "    .dataframe tbody tr th {\n",
       "        vertical-align: top;\n",
       "    }\n",
       "\n",
       "    .dataframe thead th {\n",
       "        text-align: right;\n",
       "    }\n",
       "</style>\n",
       "<table border=\"1\" class=\"dataframe\">\n",
       "  <thead>\n",
       "    <tr style=\"text-align: right;\">\n",
       "      <th></th>\n",
       "      <th>SegID</th>\n",
       "      <th>DBName</th>\n",
       "      <th>Brand</th>\n",
       "      <th>Location</th>\n",
       "      <th>Duration Time</th>\n",
       "      <th>Duration Weight</th>\n",
       "      <th>30 Second Equivalents</th>\n",
       "      <th>Location %</th>\n",
       "      <th>Brand Size %</th>\n",
       "      <th>Size Weight</th>\n",
       "      <th>Clutter/SOV</th>\n",
       "      <th>Size Score</th>\n",
       "      <th>Location Score</th>\n",
       "      <th>Duration Score</th>\n",
       "      <th>ME Score</th>\n",
       "      <th>ME Value</th>\n",
       "      <th>Start Time Hour</th>\n",
       "    </tr>\n",
       "  </thead>\n",
       "  <tbody>\n",
       "    <tr>\n",
       "      <th>0</th>\n",
       "      <td>1</td>\n",
       "      <td>NINJAVEGAS18</td>\n",
       "      <td>Purple</td>\n",
       "      <td>Logo Bug</td>\n",
       "      <td>6.0</td>\n",
       "      <td>40.00%</td>\n",
       "      <td>20%</td>\n",
       "      <td>20.00%</td>\n",
       "      <td>0.11%</td>\n",
       "      <td>0.22%</td>\n",
       "      <td>1</td>\n",
       "      <td>0.0</td>\n",
       "      <td>0.2</td>\n",
       "      <td>0.4</td>\n",
       "      <td>5.18%</td>\n",
       "      <td>$ 259.31</td>\n",
       "      <td>03</td>\n",
       "    </tr>\n",
       "    <tr>\n",
       "      <th>1</th>\n",
       "      <td>2</td>\n",
       "      <td>NINJAVEGAS18</td>\n",
       "      <td>Purple</td>\n",
       "      <td>Logo Bug</td>\n",
       "      <td>6.0</td>\n",
       "      <td>40.00%</td>\n",
       "      <td>20%</td>\n",
       "      <td>20.00%</td>\n",
       "      <td>0.11%</td>\n",
       "      <td>0.22%</td>\n",
       "      <td>1</td>\n",
       "      <td>0.0</td>\n",
       "      <td>0.2</td>\n",
       "      <td>0.4</td>\n",
       "      <td>5.18%</td>\n",
       "      <td>$ 259.31</td>\n",
       "      <td>03</td>\n",
       "    </tr>\n",
       "    <tr>\n",
       "      <th>2</th>\n",
       "      <td>3</td>\n",
       "      <td>NINJAVEGAS18</td>\n",
       "      <td>Purple</td>\n",
       "      <td>Logo Bug</td>\n",
       "      <td>6.0</td>\n",
       "      <td>40.00%</td>\n",
       "      <td>20%</td>\n",
       "      <td>20.00%</td>\n",
       "      <td>0.11%</td>\n",
       "      <td>0.22%</td>\n",
       "      <td>1</td>\n",
       "      <td>0.0</td>\n",
       "      <td>0.2</td>\n",
       "      <td>0.4</td>\n",
       "      <td>5.18%</td>\n",
       "      <td>$ 259.31</td>\n",
       "      <td>03</td>\n",
       "    </tr>\n",
       "    <tr>\n",
       "      <th>3</th>\n",
       "      <td>4</td>\n",
       "      <td>NINJAVEGAS18</td>\n",
       "      <td>Purple</td>\n",
       "      <td>Logo Bug</td>\n",
       "      <td>6.0</td>\n",
       "      <td>40.00%</td>\n",
       "      <td>20%</td>\n",
       "      <td>20.00%</td>\n",
       "      <td>0.11%</td>\n",
       "      <td>0.22%</td>\n",
       "      <td>1</td>\n",
       "      <td>0.0</td>\n",
       "      <td>0.2</td>\n",
       "      <td>0.4</td>\n",
       "      <td>5.18%</td>\n",
       "      <td>$ 259.31</td>\n",
       "      <td>03</td>\n",
       "    </tr>\n",
       "    <tr>\n",
       "      <th>4</th>\n",
       "      <td>5</td>\n",
       "      <td>NINJAVEGAS18</td>\n",
       "      <td>Purple</td>\n",
       "      <td>Logo Bug</td>\n",
       "      <td>6.0</td>\n",
       "      <td>40.00%</td>\n",
       "      <td>20%</td>\n",
       "      <td>20.00%</td>\n",
       "      <td>0.11%</td>\n",
       "      <td>0.22%</td>\n",
       "      <td>1</td>\n",
       "      <td>0.0</td>\n",
       "      <td>0.2</td>\n",
       "      <td>0.4</td>\n",
       "      <td>5.18%</td>\n",
       "      <td>$ 259.31</td>\n",
       "      <td>03</td>\n",
       "    </tr>\n",
       "  </tbody>\n",
       "</table>\n",
       "</div>"
      ]
     },
     "metadata": {},
     "execution_count": 231
    }
   ],
   "metadata": {}
  },
  {
   "cell_type": "markdown",
   "source": [
    "Lastly, we need to alter the numerical string columns to numerical columns by first removing the percentage and dollar sign symbols!"
   ],
   "metadata": {}
  },
  {
   "cell_type": "code",
   "execution_count": 232,
   "source": [
    "str_to_number_cols = ['Duration Weight', '30 Second Equivalents', 'Location %', 'Brand Size %', \n",
    "    'Size Weight', 'ME Score', ' ME Value ', 'Start Time Hour']"
   ],
   "outputs": [],
   "metadata": {}
  },
  {
   "cell_type": "code",
   "execution_count": 233,
   "source": [
    "\n",
    "df[str_to_number_cols]=df[str_to_number_cols].applymap(lambda x: float(re.sub('[\\,$%]','',x)))"
   ],
   "outputs": [],
   "metadata": {}
  },
  {
   "cell_type": "code",
   "execution_count": 234,
   "source": [
    "#Great! Now that we got rid of the string symbols and converted our values to numerical, we have a data set that we can work with!\n",
    "df.head(4)"
   ],
   "outputs": [
    {
     "output_type": "execute_result",
     "data": {
      "text/plain": [
       "   SegID        DBName   Brand  Location  Duration Time  Duration Weight  \\\n",
       "0      1  NINJAVEGAS18  Purple  Logo Bug            6.0             40.0   \n",
       "1      2  NINJAVEGAS18  Purple  Logo Bug            6.0             40.0   \n",
       "2      3  NINJAVEGAS18  Purple  Logo Bug            6.0             40.0   \n",
       "3      4  NINJAVEGAS18  Purple  Logo Bug            6.0             40.0   \n",
       "\n",
       "   30 Second Equivalents  Location %  Brand Size %  Size Weight  Clutter/SOV  \\\n",
       "0                   20.0        20.0          0.11         0.22            1   \n",
       "1                   20.0        20.0          0.11         0.22            1   \n",
       "2                   20.0        20.0          0.11         0.22            1   \n",
       "3                   20.0        20.0          0.11         0.22            1   \n",
       "\n",
       "   Size Score  Location Score  Duration Score  ME Score   ME Value   \\\n",
       "0         0.0             0.2             0.4      5.18      259.31   \n",
       "1         0.0             0.2             0.4      5.18      259.31   \n",
       "2         0.0             0.2             0.4      5.18      259.31   \n",
       "3         0.0             0.2             0.4      5.18      259.31   \n",
       "\n",
       "   Start Time Hour  \n",
       "0              3.0  \n",
       "1              3.0  \n",
       "2              3.0  \n",
       "3              3.0  "
      ],
      "text/html": [
       "<div>\n",
       "<style scoped>\n",
       "    .dataframe tbody tr th:only-of-type {\n",
       "        vertical-align: middle;\n",
       "    }\n",
       "\n",
       "    .dataframe tbody tr th {\n",
       "        vertical-align: top;\n",
       "    }\n",
       "\n",
       "    .dataframe thead th {\n",
       "        text-align: right;\n",
       "    }\n",
       "</style>\n",
       "<table border=\"1\" class=\"dataframe\">\n",
       "  <thead>\n",
       "    <tr style=\"text-align: right;\">\n",
       "      <th></th>\n",
       "      <th>SegID</th>\n",
       "      <th>DBName</th>\n",
       "      <th>Brand</th>\n",
       "      <th>Location</th>\n",
       "      <th>Duration Time</th>\n",
       "      <th>Duration Weight</th>\n",
       "      <th>30 Second Equivalents</th>\n",
       "      <th>Location %</th>\n",
       "      <th>Brand Size %</th>\n",
       "      <th>Size Weight</th>\n",
       "      <th>Clutter/SOV</th>\n",
       "      <th>Size Score</th>\n",
       "      <th>Location Score</th>\n",
       "      <th>Duration Score</th>\n",
       "      <th>ME Score</th>\n",
       "      <th>ME Value</th>\n",
       "      <th>Start Time Hour</th>\n",
       "    </tr>\n",
       "  </thead>\n",
       "  <tbody>\n",
       "    <tr>\n",
       "      <th>0</th>\n",
       "      <td>1</td>\n",
       "      <td>NINJAVEGAS18</td>\n",
       "      <td>Purple</td>\n",
       "      <td>Logo Bug</td>\n",
       "      <td>6.0</td>\n",
       "      <td>40.0</td>\n",
       "      <td>20.0</td>\n",
       "      <td>20.0</td>\n",
       "      <td>0.11</td>\n",
       "      <td>0.22</td>\n",
       "      <td>1</td>\n",
       "      <td>0.0</td>\n",
       "      <td>0.2</td>\n",
       "      <td>0.4</td>\n",
       "      <td>5.18</td>\n",
       "      <td>259.31</td>\n",
       "      <td>3.0</td>\n",
       "    </tr>\n",
       "    <tr>\n",
       "      <th>1</th>\n",
       "      <td>2</td>\n",
       "      <td>NINJAVEGAS18</td>\n",
       "      <td>Purple</td>\n",
       "      <td>Logo Bug</td>\n",
       "      <td>6.0</td>\n",
       "      <td>40.0</td>\n",
       "      <td>20.0</td>\n",
       "      <td>20.0</td>\n",
       "      <td>0.11</td>\n",
       "      <td>0.22</td>\n",
       "      <td>1</td>\n",
       "      <td>0.0</td>\n",
       "      <td>0.2</td>\n",
       "      <td>0.4</td>\n",
       "      <td>5.18</td>\n",
       "      <td>259.31</td>\n",
       "      <td>3.0</td>\n",
       "    </tr>\n",
       "    <tr>\n",
       "      <th>2</th>\n",
       "      <td>3</td>\n",
       "      <td>NINJAVEGAS18</td>\n",
       "      <td>Purple</td>\n",
       "      <td>Logo Bug</td>\n",
       "      <td>6.0</td>\n",
       "      <td>40.0</td>\n",
       "      <td>20.0</td>\n",
       "      <td>20.0</td>\n",
       "      <td>0.11</td>\n",
       "      <td>0.22</td>\n",
       "      <td>1</td>\n",
       "      <td>0.0</td>\n",
       "      <td>0.2</td>\n",
       "      <td>0.4</td>\n",
       "      <td>5.18</td>\n",
       "      <td>259.31</td>\n",
       "      <td>3.0</td>\n",
       "    </tr>\n",
       "    <tr>\n",
       "      <th>3</th>\n",
       "      <td>4</td>\n",
       "      <td>NINJAVEGAS18</td>\n",
       "      <td>Purple</td>\n",
       "      <td>Logo Bug</td>\n",
       "      <td>6.0</td>\n",
       "      <td>40.0</td>\n",
       "      <td>20.0</td>\n",
       "      <td>20.0</td>\n",
       "      <td>0.11</td>\n",
       "      <td>0.22</td>\n",
       "      <td>1</td>\n",
       "      <td>0.0</td>\n",
       "      <td>0.2</td>\n",
       "      <td>0.4</td>\n",
       "      <td>5.18</td>\n",
       "      <td>259.31</td>\n",
       "      <td>3.0</td>\n",
       "    </tr>\n",
       "  </tbody>\n",
       "</table>\n",
       "</div>"
      ]
     },
     "metadata": {},
     "execution_count": 234
    }
   ],
   "metadata": {}
  },
  {
   "cell_type": "code",
   "execution_count": 238,
   "source": [
    "num_columns = df.columns[df.dtypes!=np.dtype(object)].tolist()\n",
    "string_columns = df.columns[df.dtypes==np.dtype(object)].tolist()\n",
    "print(string_columns)\n",
    "df_num = df[num_columns]\n",
    "df_string = df[string_columns]"
   ],
   "outputs": [
    {
     "output_type": "stream",
     "name": "stdout",
     "text": [
      "['DBName', 'Brand', 'Location']\n"
     ]
    }
   ],
   "metadata": {}
  },
  {
   "cell_type": "code",
   "execution_count": 241,
   "source": [
    "ohe=OneHotEncoder()\n",
    "df_string2 = ohe.fit_transform(df_string)"
   ],
   "outputs": [],
   "metadata": {}
  },
  {
   "cell_type": "markdown",
   "source": [
    "The following are categories that I have one hot encoded in order to logically separate the categorical variables.\n",
    "There seem to be multiple strings that refer to the same thing ? I'm not sure so I will leave them as is for the time being."
   ],
   "metadata": {}
  },
  {
   "cell_type": "code",
   "execution_count": 240,
   "source": [
    "ohe.categories_"
   ],
   "outputs": [
    {
     "output_type": "execute_result",
     "data": {
      "text/plain": [
       "[array(['NINJAVEGAS18', 'NINJAVEGAS186m46s', 'NINJAVEGAS18LIVEAT4',\n",
       "        'NINJAVEGAS18LIVEAT41H36M'], dtype=object),\n",
       " array(['Purple', 'Red Bull'], dtype=object),\n",
       " array(['Banner Sign', 'Logo Bug', 'Midroll', 'Product Placement',\n",
       "        'Single refridgerator behind Ninja'], dtype=object)]"
      ]
     },
     "metadata": {},
     "execution_count": 240
    }
   ],
   "metadata": {}
  },
  {
   "cell_type": "markdown",
   "source": [
    "Now let's take a look at our one hot encoded dataframe"
   ],
   "metadata": {}
  },
  {
   "cell_type": "code",
   "execution_count": 242,
   "source": [
    "df_string2 = pd.DataFrame(df_string2.toarray(), columns=ohe.get_feature_names())"
   ],
   "outputs": [],
   "metadata": {}
  },
  {
   "cell_type": "code",
   "execution_count": 244,
   "source": [
    "df = df_string2.merge(df_num, how='outer', left_index=True, right_index=True)\n",
    "df.head(7)"
   ],
   "outputs": [
    {
     "output_type": "execute_result",
     "data": {
      "text/plain": [
       "   x0_NINJAVEGAS18  x0_NINJAVEGAS186m46s  x0_NINJAVEGAS18LIVEAT4  \\\n",
       "0              1.0                   0.0                     0.0   \n",
       "1              1.0                   0.0                     0.0   \n",
       "2              1.0                   0.0                     0.0   \n",
       "3              1.0                   0.0                     0.0   \n",
       "4              1.0                   0.0                     0.0   \n",
       "5              1.0                   0.0                     0.0   \n",
       "6              1.0                   0.0                     0.0   \n",
       "\n",
       "   x0_NINJAVEGAS18LIVEAT41H36M  x1_Purple  x1_Red Bull  x2_Banner Sign  \\\n",
       "0                          0.0        1.0          0.0             0.0   \n",
       "1                          0.0        1.0          0.0             0.0   \n",
       "2                          0.0        1.0          0.0             0.0   \n",
       "3                          0.0        1.0          0.0             0.0   \n",
       "4                          0.0        1.0          0.0             0.0   \n",
       "5                          0.0        1.0          0.0             0.0   \n",
       "6                          0.0        1.0          0.0             0.0   \n",
       "\n",
       "   x2_Logo Bug  x2_Midroll  x2_Product Placement  ...  Location %  \\\n",
       "0          1.0         0.0                   0.0  ...        20.0   \n",
       "1          1.0         0.0                   0.0  ...        20.0   \n",
       "2          1.0         0.0                   0.0  ...        20.0   \n",
       "3          1.0         0.0                   0.0  ...        20.0   \n",
       "4          1.0         0.0                   0.0  ...        20.0   \n",
       "5          1.0         0.0                   0.0  ...        20.0   \n",
       "6          1.0         0.0                   0.0  ...        20.0   \n",
       "\n",
       "   Brand Size %  Size Weight  Clutter/SOV  Size Score  Location Score  \\\n",
       "0          0.11         0.22            1         0.0             0.2   \n",
       "1          0.11         0.22            1         0.0             0.2   \n",
       "2          0.11         0.22            1         0.0             0.2   \n",
       "3          0.11         0.22            1         0.0             0.2   \n",
       "4          0.11         0.22            1         0.0             0.2   \n",
       "5          0.11         0.22            1         0.0             0.2   \n",
       "6          0.11         0.22            1         0.0             0.2   \n",
       "\n",
       "   Duration Score  ME Score   ME Value   Start Time Hour  \n",
       "0             0.4      5.18      259.31              3.0  \n",
       "1             0.4      5.18      259.31              3.0  \n",
       "2             0.4      5.18      259.31              3.0  \n",
       "3             0.4      5.18      259.31              3.0  \n",
       "4             0.4      5.18      259.31              3.0  \n",
       "5             0.4      5.18      302.53              3.0  \n",
       "6             0.4      5.18      302.53              3.0  \n",
       "\n",
       "[7 rows x 25 columns]"
      ],
      "text/html": [
       "<div>\n",
       "<style scoped>\n",
       "    .dataframe tbody tr th:only-of-type {\n",
       "        vertical-align: middle;\n",
       "    }\n",
       "\n",
       "    .dataframe tbody tr th {\n",
       "        vertical-align: top;\n",
       "    }\n",
       "\n",
       "    .dataframe thead th {\n",
       "        text-align: right;\n",
       "    }\n",
       "</style>\n",
       "<table border=\"1\" class=\"dataframe\">\n",
       "  <thead>\n",
       "    <tr style=\"text-align: right;\">\n",
       "      <th></th>\n",
       "      <th>x0_NINJAVEGAS18</th>\n",
       "      <th>x0_NINJAVEGAS186m46s</th>\n",
       "      <th>x0_NINJAVEGAS18LIVEAT4</th>\n",
       "      <th>x0_NINJAVEGAS18LIVEAT41H36M</th>\n",
       "      <th>x1_Purple</th>\n",
       "      <th>x1_Red Bull</th>\n",
       "      <th>x2_Banner Sign</th>\n",
       "      <th>x2_Logo Bug</th>\n",
       "      <th>x2_Midroll</th>\n",
       "      <th>x2_Product Placement</th>\n",
       "      <th>...</th>\n",
       "      <th>Location %</th>\n",
       "      <th>Brand Size %</th>\n",
       "      <th>Size Weight</th>\n",
       "      <th>Clutter/SOV</th>\n",
       "      <th>Size Score</th>\n",
       "      <th>Location Score</th>\n",
       "      <th>Duration Score</th>\n",
       "      <th>ME Score</th>\n",
       "      <th>ME Value</th>\n",
       "      <th>Start Time Hour</th>\n",
       "    </tr>\n",
       "  </thead>\n",
       "  <tbody>\n",
       "    <tr>\n",
       "      <th>0</th>\n",
       "      <td>1.0</td>\n",
       "      <td>0.0</td>\n",
       "      <td>0.0</td>\n",
       "      <td>0.0</td>\n",
       "      <td>1.0</td>\n",
       "      <td>0.0</td>\n",
       "      <td>0.0</td>\n",
       "      <td>1.0</td>\n",
       "      <td>0.0</td>\n",
       "      <td>0.0</td>\n",
       "      <td>...</td>\n",
       "      <td>20.0</td>\n",
       "      <td>0.11</td>\n",
       "      <td>0.22</td>\n",
       "      <td>1</td>\n",
       "      <td>0.0</td>\n",
       "      <td>0.2</td>\n",
       "      <td>0.4</td>\n",
       "      <td>5.18</td>\n",
       "      <td>259.31</td>\n",
       "      <td>3.0</td>\n",
       "    </tr>\n",
       "    <tr>\n",
       "      <th>1</th>\n",
       "      <td>1.0</td>\n",
       "      <td>0.0</td>\n",
       "      <td>0.0</td>\n",
       "      <td>0.0</td>\n",
       "      <td>1.0</td>\n",
       "      <td>0.0</td>\n",
       "      <td>0.0</td>\n",
       "      <td>1.0</td>\n",
       "      <td>0.0</td>\n",
       "      <td>0.0</td>\n",
       "      <td>...</td>\n",
       "      <td>20.0</td>\n",
       "      <td>0.11</td>\n",
       "      <td>0.22</td>\n",
       "      <td>1</td>\n",
       "      <td>0.0</td>\n",
       "      <td>0.2</td>\n",
       "      <td>0.4</td>\n",
       "      <td>5.18</td>\n",
       "      <td>259.31</td>\n",
       "      <td>3.0</td>\n",
       "    </tr>\n",
       "    <tr>\n",
       "      <th>2</th>\n",
       "      <td>1.0</td>\n",
       "      <td>0.0</td>\n",
       "      <td>0.0</td>\n",
       "      <td>0.0</td>\n",
       "      <td>1.0</td>\n",
       "      <td>0.0</td>\n",
       "      <td>0.0</td>\n",
       "      <td>1.0</td>\n",
       "      <td>0.0</td>\n",
       "      <td>0.0</td>\n",
       "      <td>...</td>\n",
       "      <td>20.0</td>\n",
       "      <td>0.11</td>\n",
       "      <td>0.22</td>\n",
       "      <td>1</td>\n",
       "      <td>0.0</td>\n",
       "      <td>0.2</td>\n",
       "      <td>0.4</td>\n",
       "      <td>5.18</td>\n",
       "      <td>259.31</td>\n",
       "      <td>3.0</td>\n",
       "    </tr>\n",
       "    <tr>\n",
       "      <th>3</th>\n",
       "      <td>1.0</td>\n",
       "      <td>0.0</td>\n",
       "      <td>0.0</td>\n",
       "      <td>0.0</td>\n",
       "      <td>1.0</td>\n",
       "      <td>0.0</td>\n",
       "      <td>0.0</td>\n",
       "      <td>1.0</td>\n",
       "      <td>0.0</td>\n",
       "      <td>0.0</td>\n",
       "      <td>...</td>\n",
       "      <td>20.0</td>\n",
       "      <td>0.11</td>\n",
       "      <td>0.22</td>\n",
       "      <td>1</td>\n",
       "      <td>0.0</td>\n",
       "      <td>0.2</td>\n",
       "      <td>0.4</td>\n",
       "      <td>5.18</td>\n",
       "      <td>259.31</td>\n",
       "      <td>3.0</td>\n",
       "    </tr>\n",
       "    <tr>\n",
       "      <th>4</th>\n",
       "      <td>1.0</td>\n",
       "      <td>0.0</td>\n",
       "      <td>0.0</td>\n",
       "      <td>0.0</td>\n",
       "      <td>1.0</td>\n",
       "      <td>0.0</td>\n",
       "      <td>0.0</td>\n",
       "      <td>1.0</td>\n",
       "      <td>0.0</td>\n",
       "      <td>0.0</td>\n",
       "      <td>...</td>\n",
       "      <td>20.0</td>\n",
       "      <td>0.11</td>\n",
       "      <td>0.22</td>\n",
       "      <td>1</td>\n",
       "      <td>0.0</td>\n",
       "      <td>0.2</td>\n",
       "      <td>0.4</td>\n",
       "      <td>5.18</td>\n",
       "      <td>259.31</td>\n",
       "      <td>3.0</td>\n",
       "    </tr>\n",
       "    <tr>\n",
       "      <th>5</th>\n",
       "      <td>1.0</td>\n",
       "      <td>0.0</td>\n",
       "      <td>0.0</td>\n",
       "      <td>0.0</td>\n",
       "      <td>1.0</td>\n",
       "      <td>0.0</td>\n",
       "      <td>0.0</td>\n",
       "      <td>1.0</td>\n",
       "      <td>0.0</td>\n",
       "      <td>0.0</td>\n",
       "      <td>...</td>\n",
       "      <td>20.0</td>\n",
       "      <td>0.11</td>\n",
       "      <td>0.22</td>\n",
       "      <td>1</td>\n",
       "      <td>0.0</td>\n",
       "      <td>0.2</td>\n",
       "      <td>0.4</td>\n",
       "      <td>5.18</td>\n",
       "      <td>302.53</td>\n",
       "      <td>3.0</td>\n",
       "    </tr>\n",
       "    <tr>\n",
       "      <th>6</th>\n",
       "      <td>1.0</td>\n",
       "      <td>0.0</td>\n",
       "      <td>0.0</td>\n",
       "      <td>0.0</td>\n",
       "      <td>1.0</td>\n",
       "      <td>0.0</td>\n",
       "      <td>0.0</td>\n",
       "      <td>1.0</td>\n",
       "      <td>0.0</td>\n",
       "      <td>0.0</td>\n",
       "      <td>...</td>\n",
       "      <td>20.0</td>\n",
       "      <td>0.11</td>\n",
       "      <td>0.22</td>\n",
       "      <td>1</td>\n",
       "      <td>0.0</td>\n",
       "      <td>0.2</td>\n",
       "      <td>0.4</td>\n",
       "      <td>5.18</td>\n",
       "      <td>302.53</td>\n",
       "      <td>3.0</td>\n",
       "    </tr>\n",
       "  </tbody>\n",
       "</table>\n",
       "<p>7 rows × 25 columns</p>\n",
       "</div>"
      ]
     },
     "metadata": {},
     "execution_count": 244
    }
   ],
   "metadata": {}
  },
  {
   "cell_type": "markdown",
   "source": [
    "Shuffle:"
   ],
   "metadata": {}
  },
  {
   "cell_type": "code",
   "execution_count": 245,
   "source": [
    "df=df.sample(frac=1)"
   ],
   "outputs": [],
   "metadata": {}
  },
  {
   "cell_type": "markdown",
   "source": [
    "After shuffling and cleaning the dataset, we need to have a set of data from which we determine the ME Value (or simply put the X and y matrices)"
   ],
   "metadata": {}
  },
  {
   "cell_type": "code",
   "execution_count": 246,
   "source": [
    "y=df[' ME Value ']\n",
    "X=df.drop(' ME Value ', axis=1)"
   ],
   "outputs": [],
   "metadata": {}
  },
  {
   "cell_type": "markdown",
   "source": [
    "That is it for the data cleaning process!"
   ],
   "metadata": {}
  },
  {
   "cell_type": "markdown",
   "source": [
    "# Building models"
   ],
   "metadata": {}
  },
  {
   "cell_type": "markdown",
   "source": [
    "## Linear Regression With Polynomial Features"
   ],
   "metadata": {}
  },
  {
   "cell_type": "markdown",
   "source": [
    "According to the linear regression model, SegID is useless as it has a tiny coefficient of e-3 value. After briefly looking at the Mean Squared Error of the linear model and the polynomial model, a polynomial model with a degree of 2 far outperforms the linear model!"
   ],
   "metadata": {}
  },
  {
   "cell_type": "code",
   "execution_count": 251,
   "source": [
    "try:\n",
    "    X.drop('SegID', axis=1, inplace = True)\n",
    "except Exception as x:\n",
    "    print(x)"
   ],
   "outputs": [],
   "metadata": {}
  },
  {
   "cell_type": "code",
   "execution_count": 252,
   "source": [
    "poly = PolynomialFeatures(2)\n",
    "X_2=poly.fit_transform(X)"
   ],
   "outputs": [],
   "metadata": {}
  },
  {
   "cell_type": "markdown",
   "source": [
    "Let's gather a training and testing set and create a function for analysis of our models."
   ],
   "metadata": {}
  },
  {
   "cell_type": "code",
   "execution_count": 253,
   "source": [
    "\n",
    "X_2_train, X_2_test, y_train, y_test = train_test_split(X_2,y, test_size=0.1, random_state=111)"
   ],
   "outputs": [],
   "metadata": {}
  },
  {
   "cell_type": "code",
   "execution_count": 254,
   "source": [
    "def show_scores_reg(X,y,X_train,y_train,X_test,y_test,model):\n",
    "    print('Mean Cross Val Score MSE: ', -cross_val_score(model,X,y, scoring='neg_mean_squared_error', cv=6).mean())\n",
    "    print('Cross Val Score MSE: ', -cross_val_score(model,X,y, scoring='neg_mean_squared_error', cv=6), '\\n')\n",
    "    print('MSE train set: ', mean_squared_error(y_train,model.predict(X_train)))\n",
    "    print('r^2 value train set: ',r2_score(y_train,model.predict(X_train)))\n",
    "    print('MSE test set: ', mean_squared_error(y_test,model.predict(X_test)))\n",
    "    print('r^2 value test set: ',r2_score(y_test,model.predict(X_test)))"
   ],
   "outputs": [],
   "metadata": {}
  },
  {
   "cell_type": "code",
   "execution_count": 255,
   "source": [
    "lin_reg = LinearRegression(n_jobs=-1)\n",
    "lin_reg.fit(X_2_train,y_train)\n",
    "show_scores_reg(X_2,y,X_2_train,y_train, X_2_test, y_test, lin_reg)"
   ],
   "outputs": [
    {
     "output_type": "stream",
     "name": "stdout",
     "text": [
      "Mean Cross Val Score MSE:  143465129327.34738\n",
      "Cross Val Score MSE:  [5.33202108e+00 2.06706213e+01 8.59747917e+11 6.54730743e+00\n",
      " 1.00143848e+09 4.14208420e+07] \n",
      "\n",
      "MSE train set:  0.0011014037387476778\n",
      "r^2 value train set:  0.9999999992990702\n",
      "MSE test set:  2.7056463125792347\n",
      "r^2 value test set:  0.999994362329623\n"
     ]
    }
   ],
   "metadata": {}
  },
  {
   "cell_type": "markdown",
   "source": [
    "It is clear that overfitting is a problem as the test set prediction error is far higher than the training set error. The cross validation error points to a problem with the data distribution."
   ],
   "metadata": {}
  },
  {
   "cell_type": "code",
   "execution_count": 257,
   "source": [
    "print('std deviaion: \\n',X.std().sort_values(ascending=True)[-4 : -1])\n",
    "print('means: \\n',X[['Duration Weight', 'Duration Time', 'Location %']].mean())"
   ],
   "outputs": [
    {
     "output_type": "stream",
     "name": "stdout",
     "text": [
      "std deviaion: \n",
      " Duration Weight    10.698563\n",
      "Duration Time      24.664119\n",
      "Location %         31.947656\n",
      "dtype: float64\n",
      "means: \n",
      " Duration Weight    39.587476\n",
      "Duration Time       7.412159\n",
      "Location %         36.323097\n",
      "dtype: float64\n"
     ]
    }
   ],
   "metadata": {}
  },
  {
   "cell_type": "markdown",
   "source": [
    "It is my guess but it seems like Duration time may have some rare or wrong/extreme value which gives us the high MSE."
   ],
   "metadata": {}
  },
  {
   "cell_type": "code",
   "execution_count": 258,
   "source": [
    "print(lin_reg.predict(X_2_test)[:5])\n",
    "print(y_test[:5])"
   ],
   "outputs": [
    {
     "output_type": "stream",
     "name": "stdout",
     "text": [
      "[263.86609164 259.89210942 104.20299815 370.39511602 266.52507948]\n",
      "1433    263.86\n",
      "531     259.89\n",
      "832     104.20\n",
      "725     370.09\n",
      "918     266.52\n",
      "Name:  ME Value , dtype: float64\n"
     ]
    }
   ],
   "metadata": {}
  },
  {
   "cell_type": "markdown",
   "source": [
    "## Ridge Regression"
   ],
   "metadata": {}
  },
  {
   "cell_type": "markdown",
   "source": [
    "Let's add regularization in order to try to reduce our cross-val /test set error."
   ],
   "metadata": {}
  },
  {
   "cell_type": "code",
   "execution_count": 262,
   "source": [
    "ridge_reg = Ridge(alpha=1,tol=.0001, random_state=1)\n",
    "ridge_reg.fit(X_2_train, y_train)\n",
    "show_scores_reg(X_2, y, X_2_train,y_train, X_2_test, y_test, ridge_reg)"
   ],
   "outputs": [
    {
     "output_type": "stream",
     "name": "stdout",
     "text": [
      "Mean Cross Val Score MSE:  5.544403486393162\n",
      "Cross Val Score MSE:  [ 0.05916743  0.03670972 25.66013072  3.35441091  0.54789069  3.60811145] \n",
      "\n",
      "MSE train set:  0.021427880382650758\n",
      "r^2 value train set:  0.9999999863633656\n",
      "MSE test set:  0.3004722538267603\n",
      "r^2 value test set:  0.999999373915387\n"
     ]
    }
   ],
   "metadata": {}
  },
  {
   "cell_type": "markdown",
   "source": [
    "\n",
    "Unsurprisingly, our regularized linear regression model performs [far] better on the test set and slightly worse on the training set, and far* better on the cross val set. The MSE is greatly improved."
   ],
   "metadata": {}
  },
  {
   "cell_type": "code",
   "execution_count": 263,
   "source": [
    "print(ridge_reg.predict(X_2_test)[:11])\n",
    "print(y_test[:11])"
   ],
   "outputs": [
    {
     "output_type": "stream",
     "name": "stdout",
     "text": [
      "[263.89549111 259.9226717  104.12372155 369.88484385 266.49891466\n",
      " 250.46127931 257.41338888 258.39927162 258.90148384 261.42781019\n",
      " 262.41151985]\n",
      "1433    263.86\n",
      "531     259.89\n",
      "832     104.20\n",
      "725     370.09\n",
      "918     266.52\n",
      "13      250.37\n",
      "670     257.51\n",
      "664     258.30\n",
      "668     259.10\n",
      "1408    261.48\n",
      "1389    262.27\n",
      "Name:  ME Value , dtype: float64\n"
     ]
    }
   ],
   "metadata": {}
  },
  {
   "cell_type": "markdown",
   "source": [
    "# Model Analysis"
   ],
   "metadata": {}
  },
  {
   "cell_type": "code",
   "execution_count": 264,
   "source": [
    "#Here are the predicted vs actual points of the test set. Reminder. our model has never seen these instances before.\n",
    "#The yellow points are the actual ME values while the red points are the predicted ME values. As you can see, it is quite accurate!\n",
    "fig, ax = plt.subplots(1,1)\n",
    "plt.xlabel(\"Instances\")\n",
    "plt.ylabel('$ MEV')\n",
    "ax.plot(y_test,'yo', markersize=11)\n",
    "ax.plot(pd.Series(ridge_reg.predict(X_2_test), index=y_test.index),'ro', markersize=3)"
   ],
   "outputs": [
    {
     "output_type": "execute_result",
     "data": {
      "text/plain": [
       "[<matplotlib.lines.Line2D at 0x152fcb1c0>]"
      ]
     },
     "metadata": {},
     "execution_count": 264
    },
    {
     "output_type": "display_data",
     "data": {
      "text/plain": [
       "<Figure size 432x288 with 1 Axes>"
      ],
      "image/svg+xml": "<?xml version=\"1.0\" encoding=\"utf-8\" standalone=\"no\"?>\n<!DOCTYPE svg PUBLIC \"-//W3C//DTD SVG 1.1//EN\"\n  \"http://www.w3.org/Graphics/SVG/1.1/DTD/svg11.dtd\">\n<svg height=\"262.19625pt\" version=\"1.1\" viewBox=\"0 0 395.328125 262.19625\" width=\"395.328125pt\" xmlns=\"http://www.w3.org/2000/svg\" xmlns:xlink=\"http://www.w3.org/1999/xlink\">\n <metadata>\n  <rdf:RDF xmlns:cc=\"http://creativecommons.org/ns#\" xmlns:dc=\"http://purl.org/dc/elements/1.1/\" xmlns:rdf=\"http://www.w3.org/1999/02/22-rdf-syntax-ns#\">\n   <cc:Work>\n    <dc:type rdf:resource=\"http://purl.org/dc/dcmitype/StillImage\"/>\n    <dc:date>2021-09-17T15:35:45.178261</dc:date>\n    <dc:format>image/svg+xml</dc:format>\n    <dc:creator>\n     <cc:Agent>\n      <dc:title>Matplotlib v3.4.1, https://matplotlib.org/</dc:title>\n     </cc:Agent>\n    </dc:creator>\n   </cc:Work>\n  </rdf:RDF>\n </metadata>\n <defs>\n  <style type=\"text/css\">*{stroke-linecap:butt;stroke-linejoin:round;}</style>\n </defs>\n <g id=\"figure_1\">\n  <g id=\"patch_1\">\n   <path d=\"M 0 262.19625 \nL 395.328125 262.19625 \nL 395.328125 0 \nL 0 0 \nz\n\" style=\"fill:none;\"/>\n  </g>\n  <g id=\"axes_1\">\n   <g id=\"patch_2\">\n    <path d=\"M 53.328125 224.64 \nL 388.128125 224.64 \nL 388.128125 7.2 \nL 53.328125 7.2 \nz\n\" style=\"fill:#ffffff;\"/>\n   </g>\n   <g id=\"matplotlib.axis_1\">\n    <g id=\"xtick_1\">\n     <g id=\"line2d_1\">\n      <defs>\n       <path d=\"M 0 0 \nL 0 3.5 \n\" id=\"m253902ca4a\" style=\"stroke:#000000;stroke-width:0.8;\"/>\n      </defs>\n      <g>\n       <use style=\"stroke:#000000;stroke-width:0.8;\" x=\"67.307377\" xlink:href=\"#m253902ca4a\" y=\"224.64\"/>\n      </g>\n     </g>\n     <g id=\"text_1\">\n      <!-- 0 -->\n      <g transform=\"translate(64.126127 239.238437)scale(0.1 -0.1)\">\n       <defs>\n        <path d=\"M 2034 4250 \nQ 1547 4250 1301 3770 \nQ 1056 3291 1056 2328 \nQ 1056 1369 1301 889 \nQ 1547 409 2034 409 \nQ 2525 409 2770 889 \nQ 3016 1369 3016 2328 \nQ 3016 3291 2770 3770 \nQ 2525 4250 2034 4250 \nz\nM 2034 4750 \nQ 2819 4750 3233 4129 \nQ 3647 3509 3647 2328 \nQ 3647 1150 3233 529 \nQ 2819 -91 2034 -91 \nQ 1250 -91 836 529 \nQ 422 1150 422 2328 \nQ 422 3509 836 4129 \nQ 1250 4750 2034 4750 \nz\n\" id=\"DejaVuSans-30\" transform=\"scale(0.015625)\"/>\n       </defs>\n       <use xlink:href=\"#DejaVuSans-30\"/>\n      </g>\n     </g>\n    </g>\n    <g id=\"xtick_2\">\n     <g id=\"line2d_2\">\n      <g>\n       <use style=\"stroke:#000000;stroke-width:0.8;\" x=\"108.605022\" xlink:href=\"#m253902ca4a\" y=\"224.64\"/>\n      </g>\n     </g>\n     <g id=\"text_2\">\n      <!-- 200 -->\n      <g transform=\"translate(99.061272 239.238437)scale(0.1 -0.1)\">\n       <defs>\n        <path d=\"M 1228 531 \nL 3431 531 \nL 3431 0 \nL 469 0 \nL 469 531 \nQ 828 903 1448 1529 \nQ 2069 2156 2228 2338 \nQ 2531 2678 2651 2914 \nQ 2772 3150 2772 3378 \nQ 2772 3750 2511 3984 \nQ 2250 4219 1831 4219 \nQ 1534 4219 1204 4116 \nQ 875 4013 500 3803 \nL 500 4441 \nQ 881 4594 1212 4672 \nQ 1544 4750 1819 4750 \nQ 2544 4750 2975 4387 \nQ 3406 4025 3406 3419 \nQ 3406 3131 3298 2873 \nQ 3191 2616 2906 2266 \nQ 2828 2175 2409 1742 \nQ 1991 1309 1228 531 \nz\n\" id=\"DejaVuSans-32\" transform=\"scale(0.015625)\"/>\n       </defs>\n       <use xlink:href=\"#DejaVuSans-32\"/>\n       <use x=\"63.623047\" xlink:href=\"#DejaVuSans-30\"/>\n       <use x=\"127.246094\" xlink:href=\"#DejaVuSans-30\"/>\n      </g>\n     </g>\n    </g>\n    <g id=\"xtick_3\">\n     <g id=\"line2d_3\">\n      <g>\n       <use style=\"stroke:#000000;stroke-width:0.8;\" x=\"149.902666\" xlink:href=\"#m253902ca4a\" y=\"224.64\"/>\n      </g>\n     </g>\n     <g id=\"text_3\">\n      <!-- 400 -->\n      <g transform=\"translate(140.358916 239.238437)scale(0.1 -0.1)\">\n       <defs>\n        <path d=\"M 2419 4116 \nL 825 1625 \nL 2419 1625 \nL 2419 4116 \nz\nM 2253 4666 \nL 3047 4666 \nL 3047 1625 \nL 3713 1625 \nL 3713 1100 \nL 3047 1100 \nL 3047 0 \nL 2419 0 \nL 2419 1100 \nL 313 1100 \nL 313 1709 \nL 2253 4666 \nz\n\" id=\"DejaVuSans-34\" transform=\"scale(0.015625)\"/>\n       </defs>\n       <use xlink:href=\"#DejaVuSans-34\"/>\n       <use x=\"63.623047\" xlink:href=\"#DejaVuSans-30\"/>\n       <use x=\"127.246094\" xlink:href=\"#DejaVuSans-30\"/>\n      </g>\n     </g>\n    </g>\n    <g id=\"xtick_4\">\n     <g id=\"line2d_4\">\n      <g>\n       <use style=\"stroke:#000000;stroke-width:0.8;\" x=\"191.20031\" xlink:href=\"#m253902ca4a\" y=\"224.64\"/>\n      </g>\n     </g>\n     <g id=\"text_4\">\n      <!-- 600 -->\n      <g transform=\"translate(181.65656 239.238437)scale(0.1 -0.1)\">\n       <defs>\n        <path d=\"M 2113 2584 \nQ 1688 2584 1439 2293 \nQ 1191 2003 1191 1497 \nQ 1191 994 1439 701 \nQ 1688 409 2113 409 \nQ 2538 409 2786 701 \nQ 3034 994 3034 1497 \nQ 3034 2003 2786 2293 \nQ 2538 2584 2113 2584 \nz\nM 3366 4563 \nL 3366 3988 \nQ 3128 4100 2886 4159 \nQ 2644 4219 2406 4219 \nQ 1781 4219 1451 3797 \nQ 1122 3375 1075 2522 \nQ 1259 2794 1537 2939 \nQ 1816 3084 2150 3084 \nQ 2853 3084 3261 2657 \nQ 3669 2231 3669 1497 \nQ 3669 778 3244 343 \nQ 2819 -91 2113 -91 \nQ 1303 -91 875 529 \nQ 447 1150 447 2328 \nQ 447 3434 972 4092 \nQ 1497 4750 2381 4750 \nQ 2619 4750 2861 4703 \nQ 3103 4656 3366 4563 \nz\n\" id=\"DejaVuSans-36\" transform=\"scale(0.015625)\"/>\n       </defs>\n       <use xlink:href=\"#DejaVuSans-36\"/>\n       <use x=\"63.623047\" xlink:href=\"#DejaVuSans-30\"/>\n       <use x=\"127.246094\" xlink:href=\"#DejaVuSans-30\"/>\n      </g>\n     </g>\n    </g>\n    <g id=\"xtick_5\">\n     <g id=\"line2d_5\">\n      <g>\n       <use style=\"stroke:#000000;stroke-width:0.8;\" x=\"232.497954\" xlink:href=\"#m253902ca4a\" y=\"224.64\"/>\n      </g>\n     </g>\n     <g id=\"text_5\">\n      <!-- 800 -->\n      <g transform=\"translate(222.954204 239.238437)scale(0.1 -0.1)\">\n       <defs>\n        <path d=\"M 2034 2216 \nQ 1584 2216 1326 1975 \nQ 1069 1734 1069 1313 \nQ 1069 891 1326 650 \nQ 1584 409 2034 409 \nQ 2484 409 2743 651 \nQ 3003 894 3003 1313 \nQ 3003 1734 2745 1975 \nQ 2488 2216 2034 2216 \nz\nM 1403 2484 \nQ 997 2584 770 2862 \nQ 544 3141 544 3541 \nQ 544 4100 942 4425 \nQ 1341 4750 2034 4750 \nQ 2731 4750 3128 4425 \nQ 3525 4100 3525 3541 \nQ 3525 3141 3298 2862 \nQ 3072 2584 2669 2484 \nQ 3125 2378 3379 2068 \nQ 3634 1759 3634 1313 \nQ 3634 634 3220 271 \nQ 2806 -91 2034 -91 \nQ 1263 -91 848 271 \nQ 434 634 434 1313 \nQ 434 1759 690 2068 \nQ 947 2378 1403 2484 \nz\nM 1172 3481 \nQ 1172 3119 1398 2916 \nQ 1625 2713 2034 2713 \nQ 2441 2713 2670 2916 \nQ 2900 3119 2900 3481 \nQ 2900 3844 2670 4047 \nQ 2441 4250 2034 4250 \nQ 1625 4250 1398 4047 \nQ 1172 3844 1172 3481 \nz\n\" id=\"DejaVuSans-38\" transform=\"scale(0.015625)\"/>\n       </defs>\n       <use xlink:href=\"#DejaVuSans-38\"/>\n       <use x=\"63.623047\" xlink:href=\"#DejaVuSans-30\"/>\n       <use x=\"127.246094\" xlink:href=\"#DejaVuSans-30\"/>\n      </g>\n     </g>\n    </g>\n    <g id=\"xtick_6\">\n     <g id=\"line2d_6\">\n      <g>\n       <use style=\"stroke:#000000;stroke-width:0.8;\" x=\"273.795598\" xlink:href=\"#m253902ca4a\" y=\"224.64\"/>\n      </g>\n     </g>\n     <g id=\"text_6\">\n      <!-- 1000 -->\n      <g transform=\"translate(261.070598 239.238437)scale(0.1 -0.1)\">\n       <defs>\n        <path d=\"M 794 531 \nL 1825 531 \nL 1825 4091 \nL 703 3866 \nL 703 4441 \nL 1819 4666 \nL 2450 4666 \nL 2450 531 \nL 3481 531 \nL 3481 0 \nL 794 0 \nL 794 531 \nz\n\" id=\"DejaVuSans-31\" transform=\"scale(0.015625)\"/>\n       </defs>\n       <use xlink:href=\"#DejaVuSans-31\"/>\n       <use x=\"63.623047\" xlink:href=\"#DejaVuSans-30\"/>\n       <use x=\"127.246094\" xlink:href=\"#DejaVuSans-30\"/>\n       <use x=\"190.869141\" xlink:href=\"#DejaVuSans-30\"/>\n      </g>\n     </g>\n    </g>\n    <g id=\"xtick_7\">\n     <g id=\"line2d_7\">\n      <g>\n       <use style=\"stroke:#000000;stroke-width:0.8;\" x=\"315.093242\" xlink:href=\"#m253902ca4a\" y=\"224.64\"/>\n      </g>\n     </g>\n     <g id=\"text_7\">\n      <!-- 1200 -->\n      <g transform=\"translate(302.368242 239.238437)scale(0.1 -0.1)\">\n       <use xlink:href=\"#DejaVuSans-31\"/>\n       <use x=\"63.623047\" xlink:href=\"#DejaVuSans-32\"/>\n       <use x=\"127.246094\" xlink:href=\"#DejaVuSans-30\"/>\n       <use x=\"190.869141\" xlink:href=\"#DejaVuSans-30\"/>\n      </g>\n     </g>\n    </g>\n    <g id=\"xtick_8\">\n     <g id=\"line2d_8\">\n      <g>\n       <use style=\"stroke:#000000;stroke-width:0.8;\" x=\"356.390886\" xlink:href=\"#m253902ca4a\" y=\"224.64\"/>\n      </g>\n     </g>\n     <g id=\"text_8\">\n      <!-- 1400 -->\n      <g transform=\"translate(343.665886 239.238437)scale(0.1 -0.1)\">\n       <use xlink:href=\"#DejaVuSans-31\"/>\n       <use x=\"63.623047\" xlink:href=\"#DejaVuSans-34\"/>\n       <use x=\"127.246094\" xlink:href=\"#DejaVuSans-30\"/>\n       <use x=\"190.869141\" xlink:href=\"#DejaVuSans-30\"/>\n      </g>\n     </g>\n    </g>\n    <g id=\"text_9\">\n     <!-- Instances -->\n     <g transform=\"translate(196.85625 252.916562)scale(0.1 -0.1)\">\n      <defs>\n       <path d=\"M 628 4666 \nL 1259 4666 \nL 1259 0 \nL 628 0 \nL 628 4666 \nz\n\" id=\"DejaVuSans-49\" transform=\"scale(0.015625)\"/>\n       <path d=\"M 3513 2113 \nL 3513 0 \nL 2938 0 \nL 2938 2094 \nQ 2938 2591 2744 2837 \nQ 2550 3084 2163 3084 \nQ 1697 3084 1428 2787 \nQ 1159 2491 1159 1978 \nL 1159 0 \nL 581 0 \nL 581 3500 \nL 1159 3500 \nL 1159 2956 \nQ 1366 3272 1645 3428 \nQ 1925 3584 2291 3584 \nQ 2894 3584 3203 3211 \nQ 3513 2838 3513 2113 \nz\n\" id=\"DejaVuSans-6e\" transform=\"scale(0.015625)\"/>\n       <path d=\"M 2834 3397 \nL 2834 2853 \nQ 2591 2978 2328 3040 \nQ 2066 3103 1784 3103 \nQ 1356 3103 1142 2972 \nQ 928 2841 928 2578 \nQ 928 2378 1081 2264 \nQ 1234 2150 1697 2047 \nL 1894 2003 \nQ 2506 1872 2764 1633 \nQ 3022 1394 3022 966 \nQ 3022 478 2636 193 \nQ 2250 -91 1575 -91 \nQ 1294 -91 989 -36 \nQ 684 19 347 128 \nL 347 722 \nQ 666 556 975 473 \nQ 1284 391 1588 391 \nQ 1994 391 2212 530 \nQ 2431 669 2431 922 \nQ 2431 1156 2273 1281 \nQ 2116 1406 1581 1522 \nL 1381 1569 \nQ 847 1681 609 1914 \nQ 372 2147 372 2553 \nQ 372 3047 722 3315 \nQ 1072 3584 1716 3584 \nQ 2034 3584 2315 3537 \nQ 2597 3491 2834 3397 \nz\n\" id=\"DejaVuSans-73\" transform=\"scale(0.015625)\"/>\n       <path d=\"M 1172 4494 \nL 1172 3500 \nL 2356 3500 \nL 2356 3053 \nL 1172 3053 \nL 1172 1153 \nQ 1172 725 1289 603 \nQ 1406 481 1766 481 \nL 2356 481 \nL 2356 0 \nL 1766 0 \nQ 1100 0 847 248 \nQ 594 497 594 1153 \nL 594 3053 \nL 172 3053 \nL 172 3500 \nL 594 3500 \nL 594 4494 \nL 1172 4494 \nz\n\" id=\"DejaVuSans-74\" transform=\"scale(0.015625)\"/>\n       <path d=\"M 2194 1759 \nQ 1497 1759 1228 1600 \nQ 959 1441 959 1056 \nQ 959 750 1161 570 \nQ 1363 391 1709 391 \nQ 2188 391 2477 730 \nQ 2766 1069 2766 1631 \nL 2766 1759 \nL 2194 1759 \nz\nM 3341 1997 \nL 3341 0 \nL 2766 0 \nL 2766 531 \nQ 2569 213 2275 61 \nQ 1981 -91 1556 -91 \nQ 1019 -91 701 211 \nQ 384 513 384 1019 \nQ 384 1609 779 1909 \nQ 1175 2209 1959 2209 \nL 2766 2209 \nL 2766 2266 \nQ 2766 2663 2505 2880 \nQ 2244 3097 1772 3097 \nQ 1472 3097 1187 3025 \nQ 903 2953 641 2809 \nL 641 3341 \nQ 956 3463 1253 3523 \nQ 1550 3584 1831 3584 \nQ 2591 3584 2966 3190 \nQ 3341 2797 3341 1997 \nz\n\" id=\"DejaVuSans-61\" transform=\"scale(0.015625)\"/>\n       <path d=\"M 3122 3366 \nL 3122 2828 \nQ 2878 2963 2633 3030 \nQ 2388 3097 2138 3097 \nQ 1578 3097 1268 2742 \nQ 959 2388 959 1747 \nQ 959 1106 1268 751 \nQ 1578 397 2138 397 \nQ 2388 397 2633 464 \nQ 2878 531 3122 666 \nL 3122 134 \nQ 2881 22 2623 -34 \nQ 2366 -91 2075 -91 \nQ 1284 -91 818 406 \nQ 353 903 353 1747 \nQ 353 2603 823 3093 \nQ 1294 3584 2113 3584 \nQ 2378 3584 2631 3529 \nQ 2884 3475 3122 3366 \nz\n\" id=\"DejaVuSans-63\" transform=\"scale(0.015625)\"/>\n       <path d=\"M 3597 1894 \nL 3597 1613 \nL 953 1613 \nQ 991 1019 1311 708 \nQ 1631 397 2203 397 \nQ 2534 397 2845 478 \nQ 3156 559 3463 722 \nL 3463 178 \nQ 3153 47 2828 -22 \nQ 2503 -91 2169 -91 \nQ 1331 -91 842 396 \nQ 353 884 353 1716 \nQ 353 2575 817 3079 \nQ 1281 3584 2069 3584 \nQ 2775 3584 3186 3129 \nQ 3597 2675 3597 1894 \nz\nM 3022 2063 \nQ 3016 2534 2758 2815 \nQ 2500 3097 2075 3097 \nQ 1594 3097 1305 2825 \nQ 1016 2553 972 2059 \nL 3022 2063 \nz\n\" id=\"DejaVuSans-65\" transform=\"scale(0.015625)\"/>\n      </defs>\n      <use xlink:href=\"#DejaVuSans-49\"/>\n      <use x=\"29.492188\" xlink:href=\"#DejaVuSans-6e\"/>\n      <use x=\"92.871094\" xlink:href=\"#DejaVuSans-73\"/>\n      <use x=\"144.970703\" xlink:href=\"#DejaVuSans-74\"/>\n      <use x=\"184.179688\" xlink:href=\"#DejaVuSans-61\"/>\n      <use x=\"245.458984\" xlink:href=\"#DejaVuSans-6e\"/>\n      <use x=\"308.837891\" xlink:href=\"#DejaVuSans-63\"/>\n      <use x=\"363.818359\" xlink:href=\"#DejaVuSans-65\"/>\n      <use x=\"425.341797\" xlink:href=\"#DejaVuSans-73\"/>\n     </g>\n    </g>\n   </g>\n   <g id=\"matplotlib.axis_2\">\n    <g id=\"ytick_1\">\n     <g id=\"line2d_9\">\n      <defs>\n       <path d=\"M 0 0 \nL -3.5 0 \n\" id=\"m9facede3b2\" style=\"stroke:#000000;stroke-width:0.8;\"/>\n      </defs>\n      <g>\n       <use style=\"stroke:#000000;stroke-width:0.8;\" x=\"53.328125\" xlink:href=\"#m9facede3b2\" y=\"217.450475\"/>\n      </g>\n     </g>\n     <g id=\"text_10\">\n      <!-- 0 -->\n      <g transform=\"translate(39.965625 221.249693)scale(0.1 -0.1)\">\n       <use xlink:href=\"#DejaVuSans-30\"/>\n      </g>\n     </g>\n    </g>\n    <g id=\"ytick_2\">\n     <g id=\"line2d_10\">\n      <g>\n       <use style=\"stroke:#000000;stroke-width:0.8;\" x=\"53.328125\" xlink:href=\"#m9facede3b2\" y=\"172.671393\"/>\n      </g>\n     </g>\n     <g id=\"text_11\">\n      <!-- 1000 -->\n      <g transform=\"translate(20.878125 176.470612)scale(0.1 -0.1)\">\n       <use xlink:href=\"#DejaVuSans-31\"/>\n       <use x=\"63.623047\" xlink:href=\"#DejaVuSans-30\"/>\n       <use x=\"127.246094\" xlink:href=\"#DejaVuSans-30\"/>\n       <use x=\"190.869141\" xlink:href=\"#DejaVuSans-30\"/>\n      </g>\n     </g>\n    </g>\n    <g id=\"ytick_3\">\n     <g id=\"line2d_11\">\n      <g>\n       <use style=\"stroke:#000000;stroke-width:0.8;\" x=\"53.328125\" xlink:href=\"#m9facede3b2\" y=\"127.892312\"/>\n      </g>\n     </g>\n     <g id=\"text_12\">\n      <!-- 2000 -->\n      <g transform=\"translate(20.878125 131.691531)scale(0.1 -0.1)\">\n       <use xlink:href=\"#DejaVuSans-32\"/>\n       <use x=\"63.623047\" xlink:href=\"#DejaVuSans-30\"/>\n       <use x=\"127.246094\" xlink:href=\"#DejaVuSans-30\"/>\n       <use x=\"190.869141\" xlink:href=\"#DejaVuSans-30\"/>\n      </g>\n     </g>\n    </g>\n    <g id=\"ytick_4\">\n     <g id=\"line2d_12\">\n      <g>\n       <use style=\"stroke:#000000;stroke-width:0.8;\" x=\"53.328125\" xlink:href=\"#m9facede3b2\" y=\"83.113231\"/>\n      </g>\n     </g>\n     <g id=\"text_13\">\n      <!-- 3000 -->\n      <g transform=\"translate(20.878125 86.912449)scale(0.1 -0.1)\">\n       <defs>\n        <path d=\"M 2597 2516 \nQ 3050 2419 3304 2112 \nQ 3559 1806 3559 1356 \nQ 3559 666 3084 287 \nQ 2609 -91 1734 -91 \nQ 1441 -91 1130 -33 \nQ 819 25 488 141 \nL 488 750 \nQ 750 597 1062 519 \nQ 1375 441 1716 441 \nQ 2309 441 2620 675 \nQ 2931 909 2931 1356 \nQ 2931 1769 2642 2001 \nQ 2353 2234 1838 2234 \nL 1294 2234 \nL 1294 2753 \nL 1863 2753 \nQ 2328 2753 2575 2939 \nQ 2822 3125 2822 3475 \nQ 2822 3834 2567 4026 \nQ 2313 4219 1838 4219 \nQ 1578 4219 1281 4162 \nQ 984 4106 628 3988 \nL 628 4550 \nQ 988 4650 1302 4700 \nQ 1616 4750 1894 4750 \nQ 2613 4750 3031 4423 \nQ 3450 4097 3450 3541 \nQ 3450 3153 3228 2886 \nQ 3006 2619 2597 2516 \nz\n\" id=\"DejaVuSans-33\" transform=\"scale(0.015625)\"/>\n       </defs>\n       <use xlink:href=\"#DejaVuSans-33\"/>\n       <use x=\"63.623047\" xlink:href=\"#DejaVuSans-30\"/>\n       <use x=\"127.246094\" xlink:href=\"#DejaVuSans-30\"/>\n       <use x=\"190.869141\" xlink:href=\"#DejaVuSans-30\"/>\n      </g>\n     </g>\n    </g>\n    <g id=\"ytick_5\">\n     <g id=\"line2d_13\">\n      <g>\n       <use style=\"stroke:#000000;stroke-width:0.8;\" x=\"53.328125\" xlink:href=\"#m9facede3b2\" y=\"38.334149\"/>\n      </g>\n     </g>\n     <g id=\"text_14\">\n      <!-- 4000 -->\n      <g transform=\"translate(20.878125 42.133368)scale(0.1 -0.1)\">\n       <use xlink:href=\"#DejaVuSans-34\"/>\n       <use x=\"63.623047\" xlink:href=\"#DejaVuSans-30\"/>\n       <use x=\"127.246094\" xlink:href=\"#DejaVuSans-30\"/>\n       <use x=\"190.869141\" xlink:href=\"#DejaVuSans-30\"/>\n      </g>\n     </g>\n    </g>\n    <g id=\"text_15\">\n     <!-- $ MEV -->\n     <g transform=\"translate(14.798438 131.584062)rotate(-90)scale(0.1 -0.1)\">\n      <defs>\n       <path d=\"M 2163 -941 \nL 1850 -941 \nL 1847 0 \nQ 1519 6 1191 76 \nQ 863 147 531 288 \nL 531 850 \nQ 850 650 1176 548 \nQ 1503 447 1850 444 \nL 1850 1869 \nQ 1159 1981 845 2250 \nQ 531 2519 531 2988 \nQ 531 3497 872 3790 \nQ 1213 4084 1850 4128 \nL 1850 4863 \nL 2163 4863 \nL 2163 4138 \nQ 2453 4125 2725 4076 \nQ 2997 4028 3256 3944 \nL 3256 3397 \nQ 2997 3528 2723 3600 \nQ 2450 3672 2163 3684 \nL 2163 2350 \nQ 2872 2241 3206 1959 \nQ 3541 1678 3541 1191 \nQ 3541 663 3186 358 \nQ 2831 53 2163 6 \nL 2163 -941 \nz\nM 1850 2406 \nL 1850 3688 \nQ 1488 3647 1297 3481 \nQ 1106 3316 1106 3041 \nQ 1106 2772 1282 2622 \nQ 1459 2472 1850 2406 \nz\nM 2163 1806 \nL 2163 453 \nQ 2559 506 2761 678 \nQ 2963 850 2963 1131 \nQ 2963 1406 2770 1568 \nQ 2578 1731 2163 1806 \nz\n\" id=\"DejaVuSans-24\" transform=\"scale(0.015625)\"/>\n       <path id=\"DejaVuSans-20\" transform=\"scale(0.015625)\"/>\n       <path d=\"M 628 4666 \nL 1569 4666 \nL 2759 1491 \nL 3956 4666 \nL 4897 4666 \nL 4897 0 \nL 4281 0 \nL 4281 4097 \nL 3078 897 \nL 2444 897 \nL 1241 4097 \nL 1241 0 \nL 628 0 \nL 628 4666 \nz\n\" id=\"DejaVuSans-4d\" transform=\"scale(0.015625)\"/>\n       <path d=\"M 628 4666 \nL 3578 4666 \nL 3578 4134 \nL 1259 4134 \nL 1259 2753 \nL 3481 2753 \nL 3481 2222 \nL 1259 2222 \nL 1259 531 \nL 3634 531 \nL 3634 0 \nL 628 0 \nL 628 4666 \nz\n\" id=\"DejaVuSans-45\" transform=\"scale(0.015625)\"/>\n       <path d=\"M 1831 0 \nL 50 4666 \nL 709 4666 \nL 2188 738 \nL 3669 4666 \nL 4325 4666 \nL 2547 0 \nL 1831 0 \nz\n\" id=\"DejaVuSans-56\" transform=\"scale(0.015625)\"/>\n      </defs>\n      <use xlink:href=\"#DejaVuSans-24\"/>\n      <use x=\"63.623047\" xlink:href=\"#DejaVuSans-20\"/>\n      <use x=\"95.410156\" xlink:href=\"#DejaVuSans-4d\"/>\n      <use x=\"181.689453\" xlink:href=\"#DejaVuSans-45\"/>\n      <use x=\"244.873047\" xlink:href=\"#DejaVuSans-56\"/>\n     </g>\n    </g>\n   </g>\n   <g id=\"line2d_14\">\n    <defs>\n     <path d=\"M 0 5.5 \nC 1.458617 5.5 2.857689 4.920485 3.889087 3.889087 \nC 4.920485 2.857689 5.5 1.458617 5.5 0 \nC 5.5 -1.458617 4.920485 -2.857689 3.889087 -3.889087 \nC 2.857689 -4.920485 1.458617 -5.5 0 -5.5 \nC -1.458617 -5.5 -2.857689 -4.920485 -3.889087 -3.889087 \nC -4.920485 -2.857689 -5.5 -1.458617 -5.5 0 \nC -5.5 1.458617 -4.920485 2.857689 -3.889087 3.889087 \nC -2.857689 4.920485 -1.458617 5.5 0 5.5 \nz\n\" id=\"m0afea7487e\" style=\"stroke:#bfbf00;\"/>\n    </defs>\n    <g clip-path=\"url(#pfa93d7bd0c)\">\n     <use style=\"fill:#bfbf00;stroke:#bfbf00;\" x=\"363.204997\" xlink:href=\"#m0afea7487e\" y=\"205.635066\"/>\n     <use style=\"fill:#bfbf00;stroke:#bfbf00;\" x=\"176.952622\" xlink:href=\"#m0afea7487e\" y=\"205.812839\"/>\n     <use style=\"fill:#bfbf00;stroke:#bfbf00;\" x=\"239.105577\" xlink:href=\"#m0afea7487e\" y=\"212.784494\"/>\n     <use style=\"fill:#bfbf00;stroke:#bfbf00;\" x=\"217.011337\" xlink:href=\"#m0afea7487e\" y=\"200.878184\"/>\n     <use style=\"fill:#bfbf00;stroke:#bfbf00;\" x=\"256.863564\" xlink:href=\"#m0afea7487e\" y=\"205.515954\"/>\n     <use style=\"fill:#bfbf00;stroke:#bfbf00;\" x=\"69.991724\" xlink:href=\"#m0afea7487e\" y=\"206.239136\"/>\n     <use style=\"fill:#bfbf00;stroke:#bfbf00;\" x=\"205.654485\" xlink:href=\"#m0afea7487e\" y=\"205.919413\"/>\n     <use style=\"fill:#bfbf00;stroke:#bfbf00;\" x=\"204.415556\" xlink:href=\"#m0afea7487e\" y=\"205.884038\"/>\n     <use style=\"fill:#bfbf00;stroke:#bfbf00;\" x=\"205.241508\" xlink:href=\"#m0afea7487e\" y=\"205.848215\"/>\n     <use style=\"fill:#bfbf00;stroke:#bfbf00;\" x=\"358.042791\" xlink:href=\"#m0afea7487e\" y=\"205.74164\"/>\n     <use style=\"fill:#bfbf00;stroke:#bfbf00;\" x=\"354.119515\" xlink:href=\"#m0afea7487e\" y=\"205.706265\"/>\n     <use style=\"fill:#bfbf00;stroke:#bfbf00;\" x=\"69.37226\" xlink:href=\"#m0afea7487e\" y=\"206.125845\"/>\n     <use style=\"fill:#bfbf00;stroke:#bfbf00;\" x=\"108.81151\" xlink:href=\"#m0afea7487e\" y=\"214.252353\"/>\n     <use style=\"fill:#bfbf00;stroke:#bfbf00;\" x=\"323.559259\" xlink:href=\"#m0afea7487e\" y=\"205.670889\"/>\n     <use style=\"fill:#bfbf00;stroke:#bfbf00;\" x=\"203.589603\" xlink:href=\"#m0afea7487e\" y=\"205.802988\"/>\n     <use style=\"fill:#bfbf00;stroke:#bfbf00;\" x=\"215.359431\" xlink:href=\"#m0afea7487e\" y=\"178.559843\"/>\n     <use style=\"fill:#bfbf00;stroke:#bfbf00;\" x=\"325.004676\" xlink:href=\"#m0afea7487e\" y=\"205.480131\"/>\n     <use style=\"fill:#bfbf00;stroke:#bfbf00;\" x=\"251.49487\" xlink:href=\"#m0afea7487e\" y=\"205.874634\"/>\n     <use style=\"fill:#bfbf00;stroke:#bfbf00;\" x=\"261.612793\" xlink:href=\"#m0afea7487e\" y=\"205.635066\"/>\n     <use style=\"fill:#bfbf00;stroke:#bfbf00;\" x=\"182.114828\" xlink:href=\"#m0afea7487e\" y=\"205.493117\"/>\n     <use style=\"fill:#bfbf00;stroke:#bfbf00;\" x=\"336.980993\" xlink:href=\"#m0afea7487e\" y=\"205.563867\"/>\n     <use style=\"fill:#bfbf00;stroke:#bfbf00;\" x=\"235.595277\" xlink:href=\"#m0afea7487e\" y=\"166.409487\"/>\n     <use style=\"fill:#bfbf00;stroke:#bfbf00;\" x=\"359.901185\" xlink:href=\"#m0afea7487e\" y=\"205.551777\"/>\n     <use style=\"fill:#bfbf00;stroke:#bfbf00;\" x=\"246.952129\" xlink:href=\"#m0afea7487e\" y=\"205.990612\"/>\n     <use style=\"fill:#bfbf00;stroke:#bfbf00;\" x=\"330.992835\" xlink:href=\"#m0afea7487e\" y=\"205.659247\"/>\n     <use style=\"fill:#bfbf00;stroke:#bfbf00;\" x=\"170.138511\" xlink:href=\"#m0afea7487e\" y=\"205.848215\"/>\n     <use style=\"fill:#bfbf00;stroke:#bfbf00;\" x=\"142.882066\" xlink:href=\"#m0afea7487e\" y=\"205.884038\"/>\n     <use style=\"fill:#bfbf00;stroke:#bfbf00;\" x=\"369.399643\" xlink:href=\"#m0afea7487e\" y=\"178.9839\"/>\n     <use style=\"fill:#bfbf00;stroke:#bfbf00;\" x=\"75.360418\" xlink:href=\"#m0afea7487e\" y=\"204.41215\"/>\n     <use style=\"fill:#bfbf00;stroke:#bfbf00;\" x=\"91.879476\" xlink:href=\"#m0afea7487e\" y=\"206.025988\"/>\n     <use style=\"fill:#bfbf00;stroke:#bfbf00;\" x=\"235.801765\" xlink:href=\"#m0afea7487e\" y=\"199.378085\"/>\n     <use style=\"fill:#bfbf00;stroke:#bfbf00;\" x=\"188.102986\" xlink:href=\"#m0afea7487e\" y=\"212.795241\"/>\n     <use style=\"fill:#bfbf00;stroke:#bfbf00;\" x=\"294.031443\" xlink:href=\"#m0afea7487e\" y=\"206.097186\"/>\n     <use style=\"fill:#bfbf00;stroke:#bfbf00;\" x=\"204.209067\" xlink:href=\"#m0afea7487e\" y=\"205.884038\"/>\n     <use style=\"fill:#bfbf00;stroke:#bfbf00;\" x=\"209.577761\" xlink:href=\"#m0afea7487e\" y=\"179.232872\"/>\n     <use style=\"fill:#bfbf00;stroke:#bfbf00;\" x=\"82.793994\" xlink:href=\"#m0afea7487e\" y=\"205.910458\"/>\n     <use style=\"fill:#bfbf00;stroke:#bfbf00;\" x=\"352.054633\" xlink:href=\"#m0afea7487e\" y=\"205.635066\"/>\n     <use style=\"fill:#bfbf00;stroke:#bfbf00;\" x=\"368.780179\" xlink:href=\"#m0afea7487e\" y=\"178.703136\"/>\n     <use style=\"fill:#bfbf00;stroke:#bfbf00;\" x=\"108.605022\" xlink:href=\"#m0afea7487e\" y=\"45.491638\"/>\n     <use style=\"fill:#bfbf00;stroke:#bfbf00;\" x=\"283.294056\" xlink:href=\"#m0afea7487e\" y=\"206.515423\"/>\n     <use style=\"fill:#bfbf00;stroke:#bfbf00;\" x=\"329.753905\" xlink:href=\"#m0afea7487e\" y=\"205.480131\"/>\n     <use style=\"fill:#bfbf00;stroke:#bfbf00;\" x=\"126.363008\" xlink:href=\"#m0afea7487e\" y=\"205.884038\"/>\n     <use style=\"fill:#bfbf00;stroke:#bfbf00;\" x=\"72.263095\" xlink:href=\"#m0afea7487e\" y=\"206.125845\"/>\n     <use style=\"fill:#bfbf00;stroke:#bfbf00;\" x=\"91.053523\" xlink:href=\"#m0afea7487e\" y=\"206.025988\"/>\n     <use style=\"fill:#bfbf00;stroke:#bfbf00;\" x=\"321.907353\" xlink:href=\"#m0afea7487e\" y=\"97.815099\"/>\n     <use style=\"fill:#bfbf00;stroke:#bfbf00;\" x=\"332.64474\" xlink:href=\"#m0afea7487e\" y=\"205.551777\"/>\n     <use style=\"fill:#bfbf00;stroke:#bfbf00;\" x=\"250.875405\" xlink:href=\"#m0afea7487e\" y=\"205.874634\"/>\n     <use style=\"fill:#bfbf00;stroke:#bfbf00;\" x=\"368.367202\" xlink:href=\"#m0afea7487e\" y=\"178.523571\"/>\n     <use style=\"fill:#bfbf00;stroke:#bfbf00;\" x=\"213.501037\" xlink:href=\"#m0afea7487e\" y=\"205.599691\"/>\n     <use style=\"fill:#bfbf00;stroke:#bfbf00;\" x=\"127.808426\" xlink:href=\"#m0afea7487e\" y=\"92.056957\"/>\n     <use style=\"fill:#bfbf00;stroke:#bfbf00;\" x=\"91.466499\" xlink:href=\"#m0afea7487e\" y=\"206.025988\"/>\n     <use style=\"fill:#bfbf00;stroke:#bfbf00;\" x=\"252.114334\" xlink:href=\"#m0afea7487e\" y=\"205.874634\"/>\n     <use style=\"fill:#bfbf00;stroke:#bfbf00;\" x=\"203.176626\" xlink:href=\"#m0afea7487e\" y=\"205.767165\"/>\n     <use style=\"fill:#bfbf00;stroke:#bfbf00;\" x=\"360.727138\" xlink:href=\"#m0afea7487e\" y=\"205.635066\"/>\n     <use style=\"fill:#bfbf00;stroke:#bfbf00;\" x=\"278.13185\" xlink:href=\"#m0afea7487e\" y=\"166.048567\"/>\n     <use style=\"fill:#bfbf00;stroke:#bfbf00;\" x=\"224.238425\" xlink:href=\"#m0afea7487e\" y=\"205.874634\"/>\n     <use style=\"fill:#bfbf00;stroke:#bfbf00;\" x=\"119.135921\" xlink:href=\"#m0afea7487e\" y=\"205.515954\"/>\n     <use style=\"fill:#bfbf00;stroke:#bfbf00;\" x=\"321.700865\" xlink:href=\"#m0afea7487e\" y=\"158.03759\"/>\n     <use style=\"fill:#bfbf00;stroke:#bfbf00;\" x=\"132.144679\" xlink:href=\"#m0afea7487e\" y=\"174.162537\"/>\n     <use style=\"fill:#bfbf00;stroke:#bfbf00;\" x=\"317.364612\" xlink:href=\"#m0afea7487e\" y=\"205.515954\"/>\n     <use style=\"fill:#bfbf00;stroke:#bfbf00;\" x=\"236.834206\" xlink:href=\"#m0afea7487e\" y=\"164.447267\"/>\n     <use style=\"fill:#bfbf00;stroke:#bfbf00;\" x=\"285.978403\" xlink:href=\"#m0afea7487e\" y=\"204.070933\"/>\n     <use style=\"fill:#bfbf00;stroke:#bfbf00;\" x=\"216.598361\" xlink:href=\"#m0afea7487e\" y=\"105.98952\"/>\n     <use style=\"fill:#bfbf00;stroke:#bfbf00;\" x=\"268.220416\" xlink:href=\"#m0afea7487e\" y=\"205.635066\"/>\n     <use style=\"fill:#bfbf00;stroke:#bfbf00;\" x=\"130.079796\" xlink:href=\"#m0afea7487e\" y=\"82.418259\"/>\n     <use style=\"fill:#bfbf00;stroke:#bfbf00;\" x=\"150.315642\" xlink:href=\"#m0afea7487e\" y=\"179.098087\"/>\n     <use style=\"fill:#bfbf00;stroke:#bfbf00;\" x=\"325.211164\" xlink:href=\"#m0afea7487e\" y=\"205.5876\"/>\n     <use style=\"fill:#bfbf00;stroke:#bfbf00;\" x=\"364.237438\" xlink:href=\"#m0afea7487e\" y=\"205.74164\"/>\n     <use style=\"fill:#bfbf00;stroke:#bfbf00;\" x=\"325.830629\" xlink:href=\"#m0afea7487e\" y=\"205.515954\"/>\n     <use style=\"fill:#bfbf00;stroke:#bfbf00;\" x=\"211.436155\" xlink:href=\"#m0afea7487e\" y=\"205.731341\"/>\n     <use style=\"fill:#bfbf00;stroke:#bfbf00;\" x=\"184.386198\" xlink:href=\"#m0afea7487e\" y=\"205.493117\"/>\n     <use style=\"fill:#bfbf00;stroke:#bfbf00;\" x=\"312.202406\" xlink:href=\"#m0afea7487e\" y=\"193.239321\"/>\n     <use style=\"fill:#bfbf00;stroke:#bfbf00;\" x=\"363.411485\" xlink:href=\"#m0afea7487e\" y=\"205.515954\"/>\n     <use style=\"fill:#bfbf00;stroke:#bfbf00;\" x=\"121.200803\" xlink:href=\"#m0afea7487e\" y=\"205.919413\"/>\n     <use style=\"fill:#bfbf00;stroke:#bfbf00;\" x=\"112.321809\" xlink:href=\"#m0afea7487e\" y=\"205.515954\"/>\n     <use style=\"fill:#bfbf00;stroke:#bfbf00;\" x=\"275.241015\" xlink:href=\"#m0afea7487e\" y=\"206.624684\"/>\n     <use style=\"fill:#bfbf00;stroke:#bfbf00;\" x=\"280.403221\" xlink:href=\"#m0afea7487e\" y=\"206.624684\"/>\n     <use style=\"fill:#bfbf00;stroke:#bfbf00;\" x=\"129.460332\" xlink:href=\"#m0afea7487e\" y=\"205.731341\"/>\n     <use style=\"fill:#bfbf00;stroke:#bfbf00;\" x=\"158.575171\" xlink:href=\"#m0afea7487e\" y=\"206.935451\"/>\n     <use style=\"fill:#bfbf00;stroke:#bfbf00;\" x=\"131.318726\" xlink:href=\"#m0afea7487e\" y=\"205.919413\"/>\n     <use style=\"fill:#bfbf00;stroke:#bfbf00;\" x=\"134.622537\" xlink:href=\"#m0afea7487e\" y=\"205.802988\"/>\n     <use style=\"fill:#bfbf00;stroke:#bfbf00;\" x=\"355.771421\" xlink:href=\"#m0afea7487e\" y=\"205.706265\"/>\n     <use style=\"fill:#bfbf00;stroke:#bfbf00;\" x=\"152.174036\" xlink:href=\"#m0afea7487e\" y=\"205.884038\"/>\n     <use style=\"fill:#bfbf00;stroke:#bfbf00;\" x=\"171.790417\" xlink:href=\"#m0afea7487e\" y=\"205.731341\"/>\n     <use style=\"fill:#bfbf00;stroke:#bfbf00;\" x=\"253.76624\" xlink:href=\"#m0afea7487e\" y=\"212.60493\"/>\n     <use style=\"fill:#bfbf00;stroke:#bfbf00;\" x=\"310.137524\" xlink:href=\"#m0afea7487e\" y=\"87.366348\"/>\n     <use style=\"fill:#bfbf00;stroke:#bfbf00;\" x=\"101.997398\" xlink:href=\"#m0afea7487e\" y=\"204.121981\"/>\n     <use style=\"fill:#bfbf00;stroke:#bfbf00;\" x=\"114.59318\" xlink:href=\"#m0afea7487e\" y=\"205.635066\"/>\n     <use style=\"fill:#bfbf00;stroke:#bfbf00;\" x=\"256.244099\" xlink:href=\"#m0afea7487e\" y=\"211.054231\"/>\n     <use style=\"fill:#bfbf00;stroke:#bfbf00;\" x=\"330.37337\" xlink:href=\"#m0afea7487e\" y=\"205.551777\"/>\n     <use style=\"fill:#bfbf00;stroke:#bfbf00;\" x=\"268.83988\" xlink:href=\"#m0afea7487e\" y=\"205.515954\"/>\n     <use style=\"fill:#bfbf00;stroke:#bfbf00;\" x=\"275.034527\" xlink:href=\"#m0afea7487e\" y=\"214.729698\"/>\n     <use style=\"fill:#bfbf00;stroke:#bfbf00;\" x=\"366.30232\" xlink:href=\"#m0afea7487e\" y=\"205.623424\"/>\n     <use style=\"fill:#bfbf00;stroke:#bfbf00;\" x=\"316.538659\" xlink:href=\"#m0afea7487e\" y=\"206.752752\"/>\n     <use style=\"fill:#bfbf00;stroke:#bfbf00;\" x=\"333.88367\" xlink:href=\"#m0afea7487e\" y=\"178.631489\"/>\n     <use style=\"fill:#bfbf00;stroke:#bfbf00;\" x=\"129.66682\" xlink:href=\"#m0afea7487e\" y=\"205.802988\"/>\n     <use style=\"fill:#bfbf00;stroke:#bfbf00;\" x=\"372.909943\" xlink:href=\"#m0afea7487e\" y=\"212.706579\"/>\n     <use style=\"fill:#bfbf00;stroke:#bfbf00;\" x=\"264.710116\" xlink:href=\"#m0afea7487e\" y=\"205.515954\"/>\n     <use style=\"fill:#bfbf00;stroke:#bfbf00;\" x=\"245.506711\" xlink:href=\"#m0afea7487e\" y=\"205.874634\"/>\n     <use style=\"fill:#bfbf00;stroke:#bfbf00;\" x=\"155.064871\" xlink:href=\"#m0afea7487e\" y=\"211.807863\"/>\n     <use style=\"fill:#bfbf00;stroke:#bfbf00;\" x=\"140.197719\" xlink:href=\"#m0afea7487e\" y=\"205.802988\"/>\n     <use style=\"fill:#bfbf00;stroke:#bfbf00;\" x=\"324.798188\" xlink:href=\"#m0afea7487e\" y=\"205.5876\"/>\n     <use style=\"fill:#bfbf00;stroke:#bfbf00;\" x=\"146.805342\" xlink:href=\"#m0afea7487e\" y=\"205.767165\"/>\n     <use style=\"fill:#bfbf00;stroke:#bfbf00;\" x=\"282.055126\" xlink:href=\"#m0afea7487e\" y=\"206.624684\"/>\n     <use style=\"fill:#bfbf00;stroke:#bfbf00;\" x=\"220.10866\" xlink:href=\"#m0afea7487e\" y=\"205.874634\"/>\n     <use style=\"fill:#bfbf00;stroke:#bfbf00;\" x=\"230.63956\" xlink:href=\"#m0afea7487e\" y=\"205.874634\"/>\n     <use style=\"fill:#bfbf00;stroke:#bfbf00;\" x=\"236.42123\" xlink:href=\"#m0afea7487e\" y=\"117.848364\"/>\n     <use style=\"fill:#bfbf00;stroke:#bfbf00;\" x=\"210.610202\" xlink:href=\"#m0afea7487e\" y=\"178.811053\"/>\n     <use style=\"fill:#bfbf00;stroke:#bfbf00;\" x=\"109.430974\" xlink:href=\"#m0afea7487e\" y=\"205.515954\"/>\n     <use style=\"fill:#bfbf00;stroke:#bfbf00;\" x=\"319.635982\" xlink:href=\"#m0afea7487e\" y=\"205.515954\"/>\n     <use style=\"fill:#bfbf00;stroke:#bfbf00;\" x=\"281.848638\" xlink:href=\"#m0afea7487e\" y=\"206.515423\"/>\n     <use style=\"fill:#bfbf00;stroke:#bfbf00;\" x=\"265.536069\" xlink:href=\"#m0afea7487e\" y=\"205.635066\"/>\n     <use style=\"fill:#bfbf00;stroke:#bfbf00;\" x=\"188.928939\" xlink:href=\"#m0afea7487e\" y=\"205.884038\"/>\n     <use style=\"fill:#bfbf00;stroke:#bfbf00;\" x=\"311.78943\" xlink:href=\"#m0afea7487e\" y=\"150.972346\"/>\n     <use style=\"fill:#bfbf00;stroke:#bfbf00;\" x=\"74.740953\" xlink:href=\"#m0afea7487e\" y=\"205.919413\"/>\n     <use style=\"fill:#bfbf00;stroke:#bfbf00;\" x=\"252.733799\" xlink:href=\"#m0afea7487e\" y=\"205.990612\"/>\n     <use style=\"fill:#bfbf00;stroke:#bfbf00;\" x=\"334.503134\" xlink:href=\"#m0afea7487e\" y=\"205.515954\"/>\n     <use style=\"fill:#bfbf00;stroke:#bfbf00;\" x=\"304.562342\" xlink:href=\"#m0afea7487e\" y=\"17.125881\"/>\n     <use style=\"fill:#bfbf00;stroke:#bfbf00;\" x=\"168.486605\" xlink:href=\"#m0afea7487e\" y=\"205.919413\"/>\n     <use style=\"fill:#bfbf00;stroke:#bfbf00;\" x=\"266.155533\" xlink:href=\"#m0afea7487e\" y=\"205.515954\"/>\n     <use style=\"fill:#bfbf00;stroke:#bfbf00;\" x=\"88.782152\" xlink:href=\"#m0afea7487e\" y=\"206.025988\"/>\n     <use style=\"fill:#bfbf00;stroke:#bfbf00;\" x=\"340.904269\" xlink:href=\"#m0afea7487e\" y=\"205.635066\"/>\n     <use style=\"fill:#bfbf00;stroke:#bfbf00;\" x=\"119.961874\" xlink:href=\"#m0afea7487e\" y=\"205.515954\"/>\n     <use style=\"fill:#bfbf00;stroke:#bfbf00;\" x=\"240.550994\" xlink:href=\"#m0afea7487e\" y=\"205.599691\"/>\n     <use style=\"fill:#bfbf00;stroke:#bfbf00;\" x=\"284.532985\" xlink:href=\"#m0afea7487e\" y=\"206.515423\"/>\n     <use style=\"fill:#bfbf00;stroke:#bfbf00;\" x=\"164.150353\" xlink:href=\"#m0afea7487e\" y=\"205.767165\"/>\n     <use style=\"fill:#bfbf00;stroke:#bfbf00;\" x=\"277.925362\" xlink:href=\"#m0afea7487e\" y=\"116.624104\"/>\n     <use style=\"fill:#bfbf00;stroke:#bfbf00;\" x=\"327.069558\" xlink:href=\"#m0afea7487e\" y=\"205.74164\"/>\n     <use style=\"fill:#bfbf00;stroke:#bfbf00;\" x=\"115.832109\" xlink:href=\"#m0afea7487e\" y=\"197.764247\"/>\n     <use style=\"fill:#bfbf00;stroke:#bfbf00;\" x=\"135.654978\" xlink:href=\"#m0afea7487e\" y=\"205.919413\"/>\n     <use style=\"fill:#bfbf00;stroke:#bfbf00;\" x=\"68.546307\" xlink:href=\"#m0afea7487e\" y=\"203.903459\"/>\n     <use style=\"fill:#bfbf00;stroke:#bfbf00;\" x=\"251.081893\" xlink:href=\"#m0afea7487e\" y=\"205.874634\"/>\n     <use style=\"fill:#bfbf00;stroke:#bfbf00;\" x=\"117.690503\" xlink:href=\"#m0afea7487e\" y=\"205.635066\"/>\n     <use style=\"fill:#bfbf00;stroke:#bfbf00;\" x=\"344.827545\" xlink:href=\"#m0afea7487e\" y=\"178.948525\"/>\n     <use style=\"fill:#bfbf00;stroke:#bfbf00;\" x=\"357.629815\" xlink:href=\"#m0afea7487e\" y=\"205.623424\"/>\n     <use style=\"fill:#bfbf00;stroke:#bfbf00;\" x=\"335.742064\" xlink:href=\"#m0afea7487e\" y=\"178.9839\"/>\n     <use style=\"fill:#bfbf00;stroke:#bfbf00;\" x=\"151.348083\" xlink:href=\"#m0afea7487e\" y=\"205.884038\"/>\n     <use style=\"fill:#bfbf00;stroke:#bfbf00;\" x=\"98.900075\" xlink:href=\"#m0afea7487e\" y=\"179.205557\"/>\n     <use style=\"fill:#bfbf00;stroke:#bfbf00;\" x=\"263.471187\" xlink:href=\"#m0afea7487e\" y=\"205.635066\"/>\n     <use style=\"fill:#bfbf00;stroke:#bfbf00;\" x=\"125.950032\" xlink:href=\"#m0afea7487e\" y=\"203.819722\"/>\n     <use style=\"fill:#bfbf00;stroke:#bfbf00;\" x=\"137.926349\" xlink:href=\"#m0afea7487e\" y=\"179.13391\"/>\n     <use style=\"fill:#bfbf00;stroke:#bfbf00;\" x=\"155.477847\" xlink:href=\"#m0afea7487e\" y=\"205.802988\"/>\n     <use style=\"fill:#bfbf00;stroke:#bfbf00;\" x=\"340.284804\" xlink:href=\"#m0afea7487e\" y=\"205.706265\"/>\n     <use style=\"fill:#bfbf00;stroke:#bfbf00;\" x=\"115.419133\" xlink:href=\"#m0afea7487e\" y=\"205.635066\"/>\n     <use style=\"fill:#bfbf00;stroke:#bfbf00;\" x=\"269.459345\" xlink:href=\"#m0afea7487e\" y=\"193.00244\"/>\n     <use style=\"fill:#bfbf00;stroke:#bfbf00;\" x=\"194.917097\" xlink:href=\"#m0afea7487e\" y=\"205.884038\"/>\n     <use style=\"fill:#bfbf00;stroke:#bfbf00;\" x=\"308.485619\" xlink:href=\"#m0afea7487e\" y=\"170.612003\"/>\n     <use style=\"fill:#bfbf00;stroke:#bfbf00;\" x=\"119.548897\" xlink:href=\"#m0afea7487e\" y=\"205.515954\"/>\n     <use style=\"fill:#bfbf00;stroke:#bfbf00;\" x=\"93.531381\" xlink:href=\"#m0afea7487e\" y=\"206.025988\"/>\n    </g>\n   </g>\n   <g id=\"line2d_15\">\n    <defs>\n     <path d=\"M 0 1.5 \nC 0.397805 1.5 0.77937 1.341951 1.06066 1.06066 \nC 1.341951 0.77937 1.5 0.397805 1.5 0 \nC 1.5 -0.397805 1.341951 -0.77937 1.06066 -1.06066 \nC 0.77937 -1.341951 0.397805 -1.5 0 -1.5 \nC -0.397805 -1.5 -0.77937 -1.341951 -1.06066 -1.06066 \nC -1.341951 -0.77937 -1.5 -0.397805 -1.5 0 \nC -1.5 0.397805 -1.341951 0.77937 -1.06066 1.06066 \nC -0.77937 1.341951 -0.397805 1.5 0 1.5 \nz\n\" id=\"m1dbd1832fc\" style=\"stroke:#ff0000;\"/>\n    </defs>\n    <g clip-path=\"url(#pfa93d7bd0c)\">\n     <use style=\"fill:#ff0000;stroke:#ff0000;\" x=\"363.204997\" xlink:href=\"#m1dbd1832fc\" y=\"205.633477\"/>\n     <use style=\"fill:#ff0000;stroke:#ff0000;\" x=\"176.952622\" xlink:href=\"#m1dbd1832fc\" y=\"205.811376\"/>\n     <use style=\"fill:#ff0000;stroke:#ff0000;\" x=\"239.105577\" xlink:href=\"#m1dbd1832fc\" y=\"212.78791\"/>\n     <use style=\"fill:#ff0000;stroke:#ff0000;\" x=\"217.011337\" xlink:href=\"#m1dbd1832fc\" y=\"200.887371\"/>\n     <use style=\"fill:#ff0000;stroke:#ff0000;\" x=\"256.863564\" xlink:href=\"#m1dbd1832fc\" y=\"205.516898\"/>\n     <use style=\"fill:#ff0000;stroke:#ff0000;\" x=\"69.991724\" xlink:href=\"#m1dbd1832fc\" y=\"206.235049\"/>\n     <use style=\"fill:#ff0000;stroke:#ff0000;\" x=\"205.654485\" xlink:href=\"#m1dbd1832fc\" y=\"205.92374\"/>\n     <use style=\"fill:#ff0000;stroke:#ff0000;\" x=\"204.415556\" xlink:href=\"#m1dbd1832fc\" y=\"205.879593\"/>\n     <use style=\"fill:#ff0000;stroke:#ff0000;\" x=\"205.241508\" xlink:href=\"#m1dbd1832fc\" y=\"205.857104\"/>\n     <use style=\"fill:#ff0000;stroke:#ff0000;\" x=\"358.042791\" xlink:href=\"#m1dbd1832fc\" y=\"205.743977\"/>\n     <use style=\"fill:#ff0000;stroke:#ff0000;\" x=\"354.119515\" xlink:href=\"#m1dbd1832fc\" y=\"205.699928\"/>\n     <use style=\"fill:#ff0000;stroke:#ff0000;\" x=\"69.37226\" xlink:href=\"#m1dbd1832fc\" y=\"206.12065\"/>\n     <use style=\"fill:#ff0000;stroke:#ff0000;\" x=\"108.81151\" xlink:href=\"#m1dbd1832fc\" y=\"214.251213\"/>\n     <use style=\"fill:#ff0000;stroke:#ff0000;\" x=\"323.559259\" xlink:href=\"#m1dbd1832fc\" y=\"205.679421\"/>\n     <use style=\"fill:#ff0000;stroke:#ff0000;\" x=\"203.589603\" xlink:href=\"#m1dbd1832fc\" y=\"205.807291\"/>\n     <use style=\"fill:#ff0000;stroke:#ff0000;\" x=\"215.359431\" xlink:href=\"#m1dbd1832fc\" y=\"178.554837\"/>\n     <use style=\"fill:#ff0000;stroke:#ff0000;\" x=\"325.004676\" xlink:href=\"#m1dbd1832fc\" y=\"205.472828\"/>\n     <use style=\"fill:#ff0000;stroke:#ff0000;\" x=\"251.49487\" xlink:href=\"#m1dbd1832fc\" y=\"205.872988\"/>\n     <use style=\"fill:#ff0000;stroke:#ff0000;\" x=\"261.612793\" xlink:href=\"#m1dbd1832fc\" y=\"205.635343\"/>\n     <use style=\"fill:#ff0000;stroke:#ff0000;\" x=\"182.114828\" xlink:href=\"#m1dbd1832fc\" y=\"205.502277\"/>\n     <use style=\"fill:#ff0000;stroke:#ff0000;\" x=\"336.980993\" xlink:href=\"#m1dbd1832fc\" y=\"205.569053\"/>\n     <use style=\"fill:#ff0000;stroke:#ff0000;\" x=\"235.595277\" xlink:href=\"#m1dbd1832fc\" y=\"166.425574\"/>\n     <use style=\"fill:#ff0000;stroke:#ff0000;\" x=\"359.901185\" xlink:href=\"#m1dbd1832fc\" y=\"205.559256\"/>\n     <use style=\"fill:#ff0000;stroke:#ff0000;\" x=\"246.952129\" xlink:href=\"#m1dbd1832fc\" y=\"205.988568\"/>\n     <use style=\"fill:#ff0000;stroke:#ff0000;\" x=\"330.992835\" xlink:href=\"#m1dbd1832fc\" y=\"205.650911\"/>\n     <use style=\"fill:#ff0000;stroke:#ff0000;\" x=\"170.138511\" xlink:href=\"#m1dbd1832fc\" y=\"205.855493\"/>\n     <use style=\"fill:#ff0000;stroke:#ff0000;\" x=\"142.882066\" xlink:href=\"#m1dbd1832fc\" y=\"205.879731\"/>\n     <use style=\"fill:#ff0000;stroke:#ff0000;\" x=\"369.399643\" xlink:href=\"#m1dbd1832fc\" y=\"178.981607\"/>\n     <use style=\"fill:#ff0000;stroke:#ff0000;\" x=\"75.360418\" xlink:href=\"#m1dbd1832fc\" y=\"204.415878\"/>\n     <use style=\"fill:#ff0000;stroke:#ff0000;\" x=\"91.879476\" xlink:href=\"#m1dbd1832fc\" y=\"206.029297\"/>\n     <use style=\"fill:#ff0000;stroke:#ff0000;\" x=\"235.801765\" xlink:href=\"#m1dbd1832fc\" y=\"199.372065\"/>\n     <use style=\"fill:#ff0000;stroke:#ff0000;\" x=\"188.102986\" xlink:href=\"#m1dbd1832fc\" y=\"212.800811\"/>\n     <use style=\"fill:#ff0000;stroke:#ff0000;\" x=\"294.031443\" xlink:href=\"#m1dbd1832fc\" y=\"206.100423\"/>\n     <use style=\"fill:#ff0000;stroke:#ff0000;\" x=\"204.209067\" xlink:href=\"#m1dbd1832fc\" y=\"205.879593\"/>\n     <use style=\"fill:#ff0000;stroke:#ff0000;\" x=\"209.577761\" xlink:href=\"#m1dbd1832fc\" y=\"179.230343\"/>\n     <use style=\"fill:#ff0000;stroke:#ff0000;\" x=\"82.793994\" xlink:href=\"#m1dbd1832fc\" y=\"205.914377\"/>\n     <use style=\"fill:#ff0000;stroke:#ff0000;\" x=\"352.054633\" xlink:href=\"#m1dbd1832fc\" y=\"205.633477\"/>\n     <use style=\"fill:#ff0000;stroke:#ff0000;\" x=\"368.780179\" xlink:href=\"#m1dbd1832fc\" y=\"178.705871\"/>\n     <use style=\"fill:#ff0000;stroke:#ff0000;\" x=\"108.605022\" xlink:href=\"#m1dbd1832fc\" y=\"45.768126\"/>\n     <use style=\"fill:#ff0000;stroke:#ff0000;\" x=\"283.294056\" xlink:href=\"#m1dbd1832fc\" y=\"206.518887\"/>\n     <use style=\"fill:#ff0000;stroke:#ff0000;\" x=\"329.753905\" xlink:href=\"#m1dbd1832fc\" y=\"205.472828\"/>\n     <use style=\"fill:#ff0000;stroke:#ff0000;\" x=\"126.363008\" xlink:href=\"#m1dbd1832fc\" y=\"205.879731\"/>\n     <use style=\"fill:#ff0000;stroke:#ff0000;\" x=\"72.263095\" xlink:href=\"#m1dbd1832fc\" y=\"206.12065\"/>\n     <use style=\"fill:#ff0000;stroke:#ff0000;\" x=\"91.053523\" xlink:href=\"#m1dbd1832fc\" y=\"206.029297\"/>\n     <use style=\"fill:#ff0000;stroke:#ff0000;\" x=\"321.907353\" xlink:href=\"#m1dbd1832fc\" y=\"97.828641\"/>\n     <use style=\"fill:#ff0000;stroke:#ff0000;\" x=\"332.64474\" xlink:href=\"#m1dbd1832fc\" y=\"205.561496\"/>\n     <use style=\"fill:#ff0000;stroke:#ff0000;\" x=\"250.875405\" xlink:href=\"#m1dbd1832fc\" y=\"205.872988\"/>\n     <use style=\"fill:#ff0000;stroke:#ff0000;\" x=\"368.367202\" xlink:href=\"#m1dbd1832fc\" y=\"178.527559\"/>\n     <use style=\"fill:#ff0000;stroke:#ff0000;\" x=\"213.501037\" xlink:href=\"#m1dbd1832fc\" y=\"205.591378\"/>\n     <use style=\"fill:#ff0000;stroke:#ff0000;\" x=\"127.808426\" xlink:href=\"#m1dbd1832fc\" y=\"92.081241\"/>\n     <use style=\"fill:#ff0000;stroke:#ff0000;\" x=\"91.466499\" xlink:href=\"#m1dbd1832fc\" y=\"206.029297\"/>\n     <use style=\"fill:#ff0000;stroke:#ff0000;\" x=\"252.114334\" xlink:href=\"#m1dbd1832fc\" y=\"205.872988\"/>\n     <use style=\"fill:#ff0000;stroke:#ff0000;\" x=\"203.176626\" xlink:href=\"#m1dbd1832fc\" y=\"205.762832\"/>\n     <use style=\"fill:#ff0000;stroke:#ff0000;\" x=\"360.727138\" xlink:href=\"#m1dbd1832fc\" y=\"205.633477\"/>\n     <use style=\"fill:#ff0000;stroke:#ff0000;\" x=\"278.13185\" xlink:href=\"#m1dbd1832fc\" y=\"166.085471\"/>\n     <use style=\"fill:#ff0000;stroke:#ff0000;\" x=\"224.238425\" xlink:href=\"#m1dbd1832fc\" y=\"205.872988\"/>\n     <use style=\"fill:#ff0000;stroke:#ff0000;\" x=\"119.135921\" xlink:href=\"#m1dbd1832fc\" y=\"205.513356\"/>\n     <use style=\"fill:#ff0000;stroke:#ff0000;\" x=\"321.700865\" xlink:href=\"#m1dbd1832fc\" y=\"158.028345\"/>\n     <use style=\"fill:#ff0000;stroke:#ff0000;\" x=\"132.144679\" xlink:href=\"#m1dbd1832fc\" y=\"174.142015\"/>\n     <use style=\"fill:#ff0000;stroke:#ff0000;\" x=\"317.364612\" xlink:href=\"#m1dbd1832fc\" y=\"205.517163\"/>\n     <use style=\"fill:#ff0000;stroke:#ff0000;\" x=\"236.834206\" xlink:href=\"#m1dbd1832fc\" y=\"164.444834\"/>\n     <use style=\"fill:#ff0000;stroke:#ff0000;\" x=\"285.978403\" xlink:href=\"#m1dbd1832fc\" y=\"204.072279\"/>\n     <use style=\"fill:#ff0000;stroke:#ff0000;\" x=\"216.598361\" xlink:href=\"#m1dbd1832fc\" y=\"105.987151\"/>\n     <use style=\"fill:#ff0000;stroke:#ff0000;\" x=\"268.220416\" xlink:href=\"#m1dbd1832fc\" y=\"205.635343\"/>\n     <use style=\"fill:#ff0000;stroke:#ff0000;\" x=\"130.079796\" xlink:href=\"#m1dbd1832fc\" y=\"82.421667\"/>\n     <use style=\"fill:#ff0000;stroke:#ff0000;\" x=\"150.315642\" xlink:href=\"#m1dbd1832fc\" y=\"179.092352\"/>\n     <use style=\"fill:#ff0000;stroke:#ff0000;\" x=\"325.211164\" xlink:href=\"#m1dbd1832fc\" y=\"205.584036\"/>\n     <use style=\"fill:#ff0000;stroke:#ff0000;\" x=\"364.237438\" xlink:href=\"#m1dbd1832fc\" y=\"205.743977\"/>\n     <use style=\"fill:#ff0000;stroke:#ff0000;\" x=\"325.830629\" xlink:href=\"#m1dbd1832fc\" y=\"205.517163\"/>\n     <use style=\"fill:#ff0000;stroke:#ff0000;\" x=\"211.436155\" xlink:href=\"#m1dbd1832fc\" y=\"205.740135\"/>\n     <use style=\"fill:#ff0000;stroke:#ff0000;\" x=\"184.386198\" xlink:href=\"#m1dbd1832fc\" y=\"205.502277\"/>\n     <use style=\"fill:#ff0000;stroke:#ff0000;\" x=\"312.202406\" xlink:href=\"#m1dbd1832fc\" y=\"193.248404\"/>\n     <use style=\"fill:#ff0000;stroke:#ff0000;\" x=\"363.411485\" xlink:href=\"#m1dbd1832fc\" y=\"205.514892\"/>\n     <use style=\"fill:#ff0000;stroke:#ff0000;\" x=\"121.200803\" xlink:href=\"#m1dbd1832fc\" y=\"205.92391\"/>\n     <use style=\"fill:#ff0000;stroke:#ff0000;\" x=\"112.321809\" xlink:href=\"#m1dbd1832fc\" y=\"205.513356\"/>\n     <use style=\"fill:#ff0000;stroke:#ff0000;\" x=\"275.241015\" xlink:href=\"#m1dbd1832fc\" y=\"206.627539\"/>\n     <use style=\"fill:#ff0000;stroke:#ff0000;\" x=\"280.403221\" xlink:href=\"#m1dbd1832fc\" y=\"206.627539\"/>\n     <use style=\"fill:#ff0000;stroke:#ff0000;\" x=\"129.460332\" xlink:href=\"#m1dbd1832fc\" y=\"205.739858\"/>\n     <use style=\"fill:#ff0000;stroke:#ff0000;\" x=\"158.575171\" xlink:href=\"#m1dbd1832fc\" y=\"206.92883\"/>\n     <use style=\"fill:#ff0000;stroke:#ff0000;\" x=\"131.318726\" xlink:href=\"#m1dbd1832fc\" y=\"205.92391\"/>\n     <use style=\"fill:#ff0000;stroke:#ff0000;\" x=\"134.622537\" xlink:href=\"#m1dbd1832fc\" y=\"205.807114\"/>\n     <use style=\"fill:#ff0000;stroke:#ff0000;\" x=\"355.771421\" xlink:href=\"#m1dbd1832fc\" y=\"205.699928\"/>\n     <use style=\"fill:#ff0000;stroke:#ff0000;\" x=\"152.174036\" xlink:href=\"#m1dbd1832fc\" y=\"205.87833\"/>\n     <use style=\"fill:#ff0000;stroke:#ff0000;\" x=\"171.790417\" xlink:href=\"#m1dbd1832fc\" y=\"205.738871\"/>\n     <use style=\"fill:#ff0000;stroke:#ff0000;\" x=\"253.76624\" xlink:href=\"#m1dbd1832fc\" y=\"212.609143\"/>\n     <use style=\"fill:#ff0000;stroke:#ff0000;\" x=\"310.137524\" xlink:href=\"#m1dbd1832fc\" y=\"87.415293\"/>\n     <use style=\"fill:#ff0000;stroke:#ff0000;\" x=\"101.997398\" xlink:href=\"#m1dbd1832fc\" y=\"204.130454\"/>\n     <use style=\"fill:#ff0000;stroke:#ff0000;\" x=\"114.59318\" xlink:href=\"#m1dbd1832fc\" y=\"205.631298\"/>\n     <use style=\"fill:#ff0000;stroke:#ff0000;\" x=\"256.244099\" xlink:href=\"#m1dbd1832fc\" y=\"211.061787\"/>\n     <use style=\"fill:#ff0000;stroke:#ff0000;\" x=\"330.37337\" xlink:href=\"#m1dbd1832fc\" y=\"205.561496\"/>\n     <use style=\"fill:#ff0000;stroke:#ff0000;\" x=\"268.83988\" xlink:href=\"#m1dbd1832fc\" y=\"205.516358\"/>\n     <use style=\"fill:#ff0000;stroke:#ff0000;\" x=\"275.034527\" xlink:href=\"#m1dbd1832fc\" y=\"214.756364\"/>\n     <use style=\"fill:#ff0000;stroke:#ff0000;\" x=\"366.30232\" xlink:href=\"#m1dbd1832fc\" y=\"205.626226\"/>\n     <use style=\"fill:#ff0000;stroke:#ff0000;\" x=\"316.538659\" xlink:href=\"#m1dbd1832fc\" y=\"206.744084\"/>\n     <use style=\"fill:#ff0000;stroke:#ff0000;\" x=\"333.88367\" xlink:href=\"#m1dbd1832fc\" y=\"178.639838\"/>\n     <use style=\"fill:#ff0000;stroke:#ff0000;\" x=\"129.66682\" xlink:href=\"#m1dbd1832fc\" y=\"205.807114\"/>\n     <use style=\"fill:#ff0000;stroke:#ff0000;\" x=\"372.909943\" xlink:href=\"#m1dbd1832fc\" y=\"212.716131\"/>\n     <use style=\"fill:#ff0000;stroke:#ff0000;\" x=\"264.710116\" xlink:href=\"#m1dbd1832fc\" y=\"205.516358\"/>\n     <use style=\"fill:#ff0000;stroke:#ff0000;\" x=\"245.506711\" xlink:href=\"#m1dbd1832fc\" y=\"205.872988\"/>\n     <use style=\"fill:#ff0000;stroke:#ff0000;\" x=\"155.064871\" xlink:href=\"#m1dbd1832fc\" y=\"211.802473\"/>\n     <use style=\"fill:#ff0000;stroke:#ff0000;\" x=\"140.197719\" xlink:href=\"#m1dbd1832fc\" y=\"205.807114\"/>\n     <use style=\"fill:#ff0000;stroke:#ff0000;\" x=\"324.798188\" xlink:href=\"#m1dbd1832fc\" y=\"205.584036\"/>\n     <use style=\"fill:#ff0000;stroke:#ff0000;\" x=\"146.805342\" xlink:href=\"#m1dbd1832fc\" y=\"205.760874\"/>\n     <use style=\"fill:#ff0000;stroke:#ff0000;\" x=\"282.055126\" xlink:href=\"#m1dbd1832fc\" y=\"206.630838\"/>\n     <use style=\"fill:#ff0000;stroke:#ff0000;\" x=\"220.10866\" xlink:href=\"#m1dbd1832fc\" y=\"205.872988\"/>\n     <use style=\"fill:#ff0000;stroke:#ff0000;\" x=\"230.63956\" xlink:href=\"#m1dbd1832fc\" y=\"205.872988\"/>\n     <use style=\"fill:#ff0000;stroke:#ff0000;\" x=\"236.42123\" xlink:href=\"#m1dbd1832fc\" y=\"117.839321\"/>\n     <use style=\"fill:#ff0000;stroke:#ff0000;\" x=\"210.610202\" xlink:href=\"#m1dbd1832fc\" y=\"178.82223\"/>\n     <use style=\"fill:#ff0000;stroke:#ff0000;\" x=\"109.430974\" xlink:href=\"#m1dbd1832fc\" y=\"205.513356\"/>\n     <use style=\"fill:#ff0000;stroke:#ff0000;\" x=\"319.635982\" xlink:href=\"#m1dbd1832fc\" y=\"205.517163\"/>\n     <use style=\"fill:#ff0000;stroke:#ff0000;\" x=\"281.848638\" xlink:href=\"#m1dbd1832fc\" y=\"206.518887\"/>\n     <use style=\"fill:#ff0000;stroke:#ff0000;\" x=\"265.536069\" xlink:href=\"#m1dbd1832fc\" y=\"205.635343\"/>\n     <use style=\"fill:#ff0000;stroke:#ff0000;\" x=\"188.928939\" xlink:href=\"#m1dbd1832fc\" y=\"205.879593\"/>\n     <use style=\"fill:#ff0000;stroke:#ff0000;\" x=\"311.78943\" xlink:href=\"#m1dbd1832fc\" y=\"150.990351\"/>\n     <use style=\"fill:#ff0000;stroke:#ff0000;\" x=\"74.740953\" xlink:href=\"#m1dbd1832fc\" y=\"205.92391\"/>\n     <use style=\"fill:#ff0000;stroke:#ff0000;\" x=\"252.733799\" xlink:href=\"#m1dbd1832fc\" y=\"205.988568\"/>\n     <use style=\"fill:#ff0000;stroke:#ff0000;\" x=\"334.503134\" xlink:href=\"#m1dbd1832fc\" y=\"205.517163\"/>\n     <use style=\"fill:#ff0000;stroke:#ff0000;\" x=\"304.562342\" xlink:href=\"#m1dbd1832fc\" y=\"17.083636\"/>\n     <use style=\"fill:#ff0000;stroke:#ff0000;\" x=\"168.486605\" xlink:href=\"#m1dbd1832fc\" y=\"205.92254\"/>\n     <use style=\"fill:#ff0000;stroke:#ff0000;\" x=\"266.155533\" xlink:href=\"#m1dbd1832fc\" y=\"205.516358\"/>\n     <use style=\"fill:#ff0000;stroke:#ff0000;\" x=\"88.782152\" xlink:href=\"#m1dbd1832fc\" y=\"206.029297\"/>\n     <use style=\"fill:#ff0000;stroke:#ff0000;\" x=\"340.904269\" xlink:href=\"#m1dbd1832fc\" y=\"205.635401\"/>\n     <use style=\"fill:#ff0000;stroke:#ff0000;\" x=\"119.961874\" xlink:href=\"#m1dbd1832fc\" y=\"205.513356\"/>\n     <use style=\"fill:#ff0000;stroke:#ff0000;\" x=\"240.550994\" xlink:href=\"#m1dbd1832fc\" y=\"205.590061\"/>\n     <use style=\"fill:#ff0000;stroke:#ff0000;\" x=\"284.532985\" xlink:href=\"#m1dbd1832fc\" y=\"206.518887\"/>\n     <use style=\"fill:#ff0000;stroke:#ff0000;\" x=\"164.150353\" xlink:href=\"#m1dbd1832fc\" y=\"205.760874\"/>\n     <use style=\"fill:#ff0000;stroke:#ff0000;\" x=\"277.925362\" xlink:href=\"#m1dbd1832fc\" y=\"116.66328\"/>\n     <use style=\"fill:#ff0000;stroke:#ff0000;\" x=\"327.069558\" xlink:href=\"#m1dbd1832fc\" y=\"205.74577\"/>\n     <use style=\"fill:#ff0000;stroke:#ff0000;\" x=\"115.832109\" xlink:href=\"#m1dbd1832fc\" y=\"197.755918\"/>\n     <use style=\"fill:#ff0000;stroke:#ff0000;\" x=\"135.654978\" xlink:href=\"#m1dbd1832fc\" y=\"205.92391\"/>\n     <use style=\"fill:#ff0000;stroke:#ff0000;\" x=\"68.546307\" xlink:href=\"#m1dbd1832fc\" y=\"203.893526\"/>\n     <use style=\"fill:#ff0000;stroke:#ff0000;\" x=\"251.081893\" xlink:href=\"#m1dbd1832fc\" y=\"205.872988\"/>\n     <use style=\"fill:#ff0000;stroke:#ff0000;\" x=\"117.690503\" xlink:href=\"#m1dbd1832fc\" y=\"205.631298\"/>\n     <use style=\"fill:#ff0000;stroke:#ff0000;\" x=\"344.827545\" xlink:href=\"#m1dbd1832fc\" y=\"178.938452\"/>\n     <use style=\"fill:#ff0000;stroke:#ff0000;\" x=\"357.629815\" xlink:href=\"#m1dbd1832fc\" y=\"205.626226\"/>\n     <use style=\"fill:#ff0000;stroke:#ff0000;\" x=\"335.742064\" xlink:href=\"#m1dbd1832fc\" y=\"178.982313\"/>\n     <use style=\"fill:#ff0000;stroke:#ff0000;\" x=\"151.348083\" xlink:href=\"#m1dbd1832fc\" y=\"205.87833\"/>\n     <use style=\"fill:#ff0000;stroke:#ff0000;\" x=\"98.900075\" xlink:href=\"#m1dbd1832fc\" y=\"179.19519\"/>\n     <use style=\"fill:#ff0000;stroke:#ff0000;\" x=\"263.471187\" xlink:href=\"#m1dbd1832fc\" y=\"205.635343\"/>\n     <use style=\"fill:#ff0000;stroke:#ff0000;\" x=\"125.950032\" xlink:href=\"#m1dbd1832fc\" y=\"203.815311\"/>\n     <use style=\"fill:#ff0000;stroke:#ff0000;\" x=\"137.926349\" xlink:href=\"#m1dbd1832fc\" y=\"179.136875\"/>\n     <use style=\"fill:#ff0000;stroke:#ff0000;\" x=\"155.477847\" xlink:href=\"#m1dbd1832fc\" y=\"205.805397\"/>\n     <use style=\"fill:#ff0000;stroke:#ff0000;\" x=\"340.284804\" xlink:href=\"#m1dbd1832fc\" y=\"205.701752\"/>\n     <use style=\"fill:#ff0000;stroke:#ff0000;\" x=\"115.419133\" xlink:href=\"#m1dbd1832fc\" y=\"205.631298\"/>\n     <use style=\"fill:#ff0000;stroke:#ff0000;\" x=\"269.459345\" xlink:href=\"#m1dbd1832fc\" y=\"193.006931\"/>\n     <use style=\"fill:#ff0000;stroke:#ff0000;\" x=\"194.917097\" xlink:href=\"#m1dbd1832fc\" y=\"205.879593\"/>\n     <use style=\"fill:#ff0000;stroke:#ff0000;\" x=\"308.485619\" xlink:href=\"#m1dbd1832fc\" y=\"170.616159\"/>\n     <use style=\"fill:#ff0000;stroke:#ff0000;\" x=\"119.548897\" xlink:href=\"#m1dbd1832fc\" y=\"205.513356\"/>\n     <use style=\"fill:#ff0000;stroke:#ff0000;\" x=\"93.531381\" xlink:href=\"#m1dbd1832fc\" y=\"206.029297\"/>\n    </g>\n   </g>\n   <g id=\"patch_3\">\n    <path d=\"M 53.328125 224.64 \nL 53.328125 7.2 \n\" style=\"fill:none;stroke:#000000;stroke-linecap:square;stroke-linejoin:miter;stroke-width:0.8;\"/>\n   </g>\n   <g id=\"patch_4\">\n    <path d=\"M 388.128125 224.64 \nL 388.128125 7.2 \n\" style=\"fill:none;stroke:#000000;stroke-linecap:square;stroke-linejoin:miter;stroke-width:0.8;\"/>\n   </g>\n   <g id=\"patch_5\">\n    <path d=\"M 53.328125 224.64 \nL 388.128125 224.64 \n\" style=\"fill:none;stroke:#000000;stroke-linecap:square;stroke-linejoin:miter;stroke-width:0.8;\"/>\n   </g>\n   <g id=\"patch_6\">\n    <path d=\"M 53.328125 7.2 \nL 388.128125 7.2 \n\" style=\"fill:none;stroke:#000000;stroke-linecap:square;stroke-linejoin:miter;stroke-width:0.8;\"/>\n   </g>\n  </g>\n </g>\n <defs>\n  <clipPath id=\"pfa93d7bd0c\">\n   <rect height=\"217.44\" width=\"334.8\" x=\"53.328125\" y=\"7.2\"/>\n  </clipPath>\n </defs>\n</svg>\n",
      "image/png": "[encoded data removed]"
     },
     "metadata": {
      "needs_background": "light"
     }
    }
   ],
   "metadata": {}
  },
  {
   "cell_type": "markdown",
   "source": [
    "It is clear that the regularized model is far superior to that of the simple linear regression.\n",
    "A perfect model will have a slope of 1 with an intercept of 0, with no deviations. As you can see, this model should suffice."
   ],
   "metadata": {}
  },
  {
   "cell_type": "code",
   "execution_count": 265,
   "source": [
    "plt.plot(y_test, ridge_reg.predict(X_2_test))"
   ],
   "outputs": [
    {
     "output_type": "execute_result",
     "data": {
      "text/plain": [
       "[<matplotlib.lines.Line2D at 0x1535c4c40>]"
      ]
     },
     "metadata": {},
     "execution_count": 265
    },
    {
     "output_type": "display_data",
     "data": {
      "text/plain": [
       "<Figure size 432x288 with 1 Axes>"
      ],
      "image/svg+xml": "<?xml version=\"1.0\" encoding=\"utf-8\" standalone=\"no\"?>\n<!DOCTYPE svg PUBLIC \"-//W3C//DTD SVG 1.1//EN\"\n  \"http://www.w3.org/Graphics/SVG/1.1/DTD/svg11.dtd\">\n<svg height=\"248.518125pt\" version=\"1.1\" viewBox=\"0 0 381.65 248.518125\" width=\"381.65pt\" xmlns=\"http://www.w3.org/2000/svg\" xmlns:xlink=\"http://www.w3.org/1999/xlink\">\n <metadata>\n  <rdf:RDF xmlns:cc=\"http://creativecommons.org/ns#\" xmlns:dc=\"http://purl.org/dc/elements/1.1/\" xmlns:rdf=\"http://www.w3.org/1999/02/22-rdf-syntax-ns#\">\n   <cc:Work>\n    <dc:type rdf:resource=\"http://purl.org/dc/dcmitype/StillImage\"/>\n    <dc:date>2021-09-17T15:35:54.903512</dc:date>\n    <dc:format>image/svg+xml</dc:format>\n    <dc:creator>\n     <cc:Agent>\n      <dc:title>Matplotlib v3.4.1, https://matplotlib.org/</dc:title>\n     </cc:Agent>\n    </dc:creator>\n   </cc:Work>\n  </rdf:RDF>\n </metadata>\n <defs>\n  <style type=\"text/css\">*{stroke-linecap:butt;stroke-linejoin:round;}</style>\n </defs>\n <g id=\"figure_1\">\n  <g id=\"patch_1\">\n   <path d=\"M -0 248.518125 \nL 381.65 248.518125 \nL 381.65 0 \nL -0 0 \nz\n\" style=\"fill:none;\"/>\n  </g>\n  <g id=\"axes_1\">\n   <g id=\"patch_2\">\n    <path d=\"M 39.65 224.64 \nL 374.45 224.64 \nL 374.45 7.2 \nL 39.65 7.2 \nz\n\" style=\"fill:#ffffff;\"/>\n   </g>\n   <g id=\"matplotlib.axis_1\">\n    <g id=\"xtick_1\">\n     <g id=\"line2d_1\">\n      <defs>\n       <path d=\"M 0 0 \nL 0 3.5 \n\" id=\"m4b1d75b875\" style=\"stroke:#000000;stroke-width:0.8;\"/>\n      </defs>\n      <g>\n       <use style=\"stroke:#000000;stroke-width:0.8;\" x=\"50.677445\" xlink:href=\"#m4b1d75b875\" y=\"224.64\"/>\n      </g>\n     </g>\n     <g id=\"text_1\">\n      <!-- 0 -->\n      <g transform=\"translate(47.496195 239.238437)scale(0.1 -0.1)\">\n       <defs>\n        <path d=\"M 2034 4250 \nQ 1547 4250 1301 3770 \nQ 1056 3291 1056 2328 \nQ 1056 1369 1301 889 \nQ 1547 409 2034 409 \nQ 2525 409 2770 889 \nQ 3016 1369 3016 2328 \nQ 3016 3291 2770 3770 \nQ 2525 4250 2034 4250 \nz\nM 2034 4750 \nQ 2819 4750 3233 4129 \nQ 3647 3509 3647 2328 \nQ 3647 1150 3233 529 \nQ 2819 -91 2034 -91 \nQ 1250 -91 836 529 \nQ 422 1150 422 2328 \nQ 422 3509 836 4129 \nQ 1250 4750 2034 4750 \nz\n\" id=\"DejaVuSans-30\" transform=\"scale(0.015625)\"/>\n       </defs>\n       <use xlink:href=\"#DejaVuSans-30\"/>\n      </g>\n     </g>\n    </g>\n    <g id=\"xtick_2\">\n     <g id=\"line2d_2\">\n      <g>\n       <use style=\"stroke:#000000;stroke-width:0.8;\" x=\"119.649413\" xlink:href=\"#m4b1d75b875\" y=\"224.64\"/>\n      </g>\n     </g>\n     <g id=\"text_2\">\n      <!-- 1000 -->\n      <g transform=\"translate(106.924413 239.238437)scale(0.1 -0.1)\">\n       <defs>\n        <path d=\"M 794 531 \nL 1825 531 \nL 1825 4091 \nL 703 3866 \nL 703 4441 \nL 1819 4666 \nL 2450 4666 \nL 2450 531 \nL 3481 531 \nL 3481 0 \nL 794 0 \nL 794 531 \nz\n\" id=\"DejaVuSans-31\" transform=\"scale(0.015625)\"/>\n       </defs>\n       <use xlink:href=\"#DejaVuSans-31\"/>\n       <use x=\"63.623047\" xlink:href=\"#DejaVuSans-30\"/>\n       <use x=\"127.246094\" xlink:href=\"#DejaVuSans-30\"/>\n       <use x=\"190.869141\" xlink:href=\"#DejaVuSans-30\"/>\n      </g>\n     </g>\n    </g>\n    <g id=\"xtick_3\">\n     <g id=\"line2d_3\">\n      <g>\n       <use style=\"stroke:#000000;stroke-width:0.8;\" x=\"188.62138\" xlink:href=\"#m4b1d75b875\" y=\"224.64\"/>\n      </g>\n     </g>\n     <g id=\"text_3\">\n      <!-- 2000 -->\n      <g transform=\"translate(175.89638 239.238437)scale(0.1 -0.1)\">\n       <defs>\n        <path d=\"M 1228 531 \nL 3431 531 \nL 3431 0 \nL 469 0 \nL 469 531 \nQ 828 903 1448 1529 \nQ 2069 2156 2228 2338 \nQ 2531 2678 2651 2914 \nQ 2772 3150 2772 3378 \nQ 2772 3750 2511 3984 \nQ 2250 4219 1831 4219 \nQ 1534 4219 1204 4116 \nQ 875 4013 500 3803 \nL 500 4441 \nQ 881 4594 1212 4672 \nQ 1544 4750 1819 4750 \nQ 2544 4750 2975 4387 \nQ 3406 4025 3406 3419 \nQ 3406 3131 3298 2873 \nQ 3191 2616 2906 2266 \nQ 2828 2175 2409 1742 \nQ 1991 1309 1228 531 \nz\n\" id=\"DejaVuSans-32\" transform=\"scale(0.015625)\"/>\n       </defs>\n       <use xlink:href=\"#DejaVuSans-32\"/>\n       <use x=\"63.623047\" xlink:href=\"#DejaVuSans-30\"/>\n       <use x=\"127.246094\" xlink:href=\"#DejaVuSans-30\"/>\n       <use x=\"190.869141\" xlink:href=\"#DejaVuSans-30\"/>\n      </g>\n     </g>\n    </g>\n    <g id=\"xtick_4\">\n     <g id=\"line2d_4\">\n      <g>\n       <use style=\"stroke:#000000;stroke-width:0.8;\" x=\"257.593347\" xlink:href=\"#m4b1d75b875\" y=\"224.64\"/>\n      </g>\n     </g>\n     <g id=\"text_4\">\n      <!-- 3000 -->\n      <g transform=\"translate(244.868347 239.238437)scale(0.1 -0.1)\">\n       <defs>\n        <path d=\"M 2597 2516 \nQ 3050 2419 3304 2112 \nQ 3559 1806 3559 1356 \nQ 3559 666 3084 287 \nQ 2609 -91 1734 -91 \nQ 1441 -91 1130 -33 \nQ 819 25 488 141 \nL 488 750 \nQ 750 597 1062 519 \nQ 1375 441 1716 441 \nQ 2309 441 2620 675 \nQ 2931 909 2931 1356 \nQ 2931 1769 2642 2001 \nQ 2353 2234 1838 2234 \nL 1294 2234 \nL 1294 2753 \nL 1863 2753 \nQ 2328 2753 2575 2939 \nQ 2822 3125 2822 3475 \nQ 2822 3834 2567 4026 \nQ 2313 4219 1838 4219 \nQ 1578 4219 1281 4162 \nQ 984 4106 628 3988 \nL 628 4550 \nQ 988 4650 1302 4700 \nQ 1616 4750 1894 4750 \nQ 2613 4750 3031 4423 \nQ 3450 4097 3450 3541 \nQ 3450 3153 3228 2886 \nQ 3006 2619 2597 2516 \nz\n\" id=\"DejaVuSans-33\" transform=\"scale(0.015625)\"/>\n       </defs>\n       <use xlink:href=\"#DejaVuSans-33\"/>\n       <use x=\"63.623047\" xlink:href=\"#DejaVuSans-30\"/>\n       <use x=\"127.246094\" xlink:href=\"#DejaVuSans-30\"/>\n       <use x=\"190.869141\" xlink:href=\"#DejaVuSans-30\"/>\n      </g>\n     </g>\n    </g>\n    <g id=\"xtick_5\">\n     <g id=\"line2d_5\">\n      <g>\n       <use style=\"stroke:#000000;stroke-width:0.8;\" x=\"326.565315\" xlink:href=\"#m4b1d75b875\" y=\"224.64\"/>\n      </g>\n     </g>\n     <g id=\"text_5\">\n      <!-- 4000 -->\n      <g transform=\"translate(313.840315 239.238437)scale(0.1 -0.1)\">\n       <defs>\n        <path d=\"M 2419 4116 \nL 825 1625 \nL 2419 1625 \nL 2419 4116 \nz\nM 2253 4666 \nL 3047 4666 \nL 3047 1625 \nL 3713 1625 \nL 3713 1100 \nL 3047 1100 \nL 3047 0 \nL 2419 0 \nL 2419 1100 \nL 313 1100 \nL 313 1709 \nL 2253 4666 \nz\n\" id=\"DejaVuSans-34\" transform=\"scale(0.015625)\"/>\n       </defs>\n       <use xlink:href=\"#DejaVuSans-34\"/>\n       <use x=\"63.623047\" xlink:href=\"#DejaVuSans-30\"/>\n       <use x=\"127.246094\" xlink:href=\"#DejaVuSans-30\"/>\n       <use x=\"190.869141\" xlink:href=\"#DejaVuSans-30\"/>\n      </g>\n     </g>\n    </g>\n   </g>\n   <g id=\"matplotlib.axis_2\">\n    <g id=\"ytick_1\">\n     <g id=\"line2d_6\">\n      <defs>\n       <path d=\"M 0 0 \nL -3.5 0 \n\" id=\"meb1be13d65\" style=\"stroke:#000000;stroke-width:0.8;\"/>\n      </defs>\n      <g>\n       <use style=\"stroke:#000000;stroke-width:0.8;\" x=\"39.65\" xlink:href=\"#meb1be13d65\" y=\"217.450475\"/>\n      </g>\n     </g>\n     <g id=\"text_6\">\n      <!-- 0 -->\n      <g transform=\"translate(26.2875 221.249693)scale(0.1 -0.1)\">\n       <use xlink:href=\"#DejaVuSans-30\"/>\n      </g>\n     </g>\n    </g>\n    <g id=\"ytick_2\">\n     <g id=\"line2d_7\">\n      <g>\n       <use style=\"stroke:#000000;stroke-width:0.8;\" x=\"39.65\" xlink:href=\"#meb1be13d65\" y=\"172.671393\"/>\n      </g>\n     </g>\n     <g id=\"text_7\">\n      <!-- 1000 -->\n      <g transform=\"translate(7.2 176.470612)scale(0.1 -0.1)\">\n       <use xlink:href=\"#DejaVuSans-31\"/>\n       <use x=\"63.623047\" xlink:href=\"#DejaVuSans-30\"/>\n       <use x=\"127.246094\" xlink:href=\"#DejaVuSans-30\"/>\n       <use x=\"190.869141\" xlink:href=\"#DejaVuSans-30\"/>\n      </g>\n     </g>\n    </g>\n    <g id=\"ytick_3\">\n     <g id=\"line2d_8\">\n      <g>\n       <use style=\"stroke:#000000;stroke-width:0.8;\" x=\"39.65\" xlink:href=\"#meb1be13d65\" y=\"127.892312\"/>\n      </g>\n     </g>\n     <g id=\"text_8\">\n      <!-- 2000 -->\n      <g transform=\"translate(7.2 131.691531)scale(0.1 -0.1)\">\n       <use xlink:href=\"#DejaVuSans-32\"/>\n       <use x=\"63.623047\" xlink:href=\"#DejaVuSans-30\"/>\n       <use x=\"127.246094\" xlink:href=\"#DejaVuSans-30\"/>\n       <use x=\"190.869141\" xlink:href=\"#DejaVuSans-30\"/>\n      </g>\n     </g>\n    </g>\n    <g id=\"ytick_4\">\n     <g id=\"line2d_9\">\n      <g>\n       <use style=\"stroke:#000000;stroke-width:0.8;\" x=\"39.65\" xlink:href=\"#meb1be13d65\" y=\"83.113231\"/>\n      </g>\n     </g>\n     <g id=\"text_9\">\n      <!-- 3000 -->\n      <g transform=\"translate(7.2 86.912449)scale(0.1 -0.1)\">\n       <use xlink:href=\"#DejaVuSans-33\"/>\n       <use x=\"63.623047\" xlink:href=\"#DejaVuSans-30\"/>\n       <use x=\"127.246094\" xlink:href=\"#DejaVuSans-30\"/>\n       <use x=\"190.869141\" xlink:href=\"#DejaVuSans-30\"/>\n      </g>\n     </g>\n    </g>\n    <g id=\"ytick_5\">\n     <g id=\"line2d_10\">\n      <g>\n       <use style=\"stroke:#000000;stroke-width:0.8;\" x=\"39.65\" xlink:href=\"#meb1be13d65\" y=\"38.334149\"/>\n      </g>\n     </g>\n     <g id=\"text_10\">\n      <!-- 4000 -->\n      <g transform=\"translate(7.2 42.133368)scale(0.1 -0.1)\">\n       <use xlink:href=\"#DejaVuSans-34\"/>\n       <use x=\"63.623047\" xlink:href=\"#DejaVuSans-30\"/>\n       <use x=\"127.246094\" xlink:href=\"#DejaVuSans-30\"/>\n       <use x=\"190.869141\" xlink:href=\"#DejaVuSans-30\"/>\n      </g>\n     </g>\n    </g>\n   </g>\n   <g id=\"line2d_11\">\n    <path clip-path=\"url(#p756a737e73)\" d=\"M 68.876388 205.633477 \nL 55.603423 214.251213 \nL 129.294452 166.425574 \nL 110.358889 178.705871 \nL 315.540836 45.768126 \nL 67.5204 206.518887 \nL 68.274263 206.029297 \nL 359.231818 17.083636 \nL 54.868182 214.756364 \nL 68.274263 206.029297 \n\" style=\"fill:none;stroke:#1f77b4;stroke-linecap:square;stroke-width:1.5;\"/>\n   </g>\n   <g id=\"patch_3\">\n    <path d=\"M 39.65 224.64 \nL 39.65 7.2 \n\" style=\"fill:none;stroke:#000000;stroke-linecap:square;stroke-linejoin:miter;stroke-width:0.8;\"/>\n   </g>\n   <g id=\"patch_4\">\n    <path d=\"M 374.45 224.64 \nL 374.45 7.2 \n\" style=\"fill:none;stroke:#000000;stroke-linecap:square;stroke-linejoin:miter;stroke-width:0.8;\"/>\n   </g>\n   <g id=\"patch_5\">\n    <path d=\"M 39.65 224.64 \nL 374.45 224.64 \n\" style=\"fill:none;stroke:#000000;stroke-linecap:square;stroke-linejoin:miter;stroke-width:0.8;\"/>\n   </g>\n   <g id=\"patch_6\">\n    <path d=\"M 39.65 7.2 \nL 374.45 7.2 \n\" style=\"fill:none;stroke:#000000;stroke-linecap:square;stroke-linejoin:miter;stroke-width:0.8;\"/>\n   </g>\n  </g>\n </g>\n <defs>\n  <clipPath id=\"p756a737e73\">\n   <rect height=\"217.44\" width=\"334.8\" x=\"39.65\" y=\"7.2\"/>\n  </clipPath>\n </defs>\n</svg>\n",
      "image/png": "[encoded data removed]"
     },
     "metadata": {
      "needs_background": "light"
     }
    }
   ],
   "metadata": {}
  },
  {
   "cell_type": "markdown",
   "source": [
    "Let us take a look at how the polynomial features are ordered, with their coefficients:\n",
    "You will see feature names at position 0,5,10,...50. If two feature names are listed together, then the values were multiplied in order to make the polynomial feature data set."
   ],
   "metadata": {}
  },
  {
   "cell_type": "markdown",
   "source": [
    "## Lin. Regression Coefficients"
   ],
   "metadata": {}
  },
  {
   "cell_type": "code",
   "execution_count": 266,
   "source": [
    "[print(poly.get_feature_names(X.columns)[i]+' Coefficient of ',lin_reg.coef_[i]) for i in np.arange(0,50,5)]"
   ],
   "outputs": [
    {
     "output_type": "stream",
     "name": "stdout",
     "text": [
      "1 Coefficient of  5.750961276660966e-05\n",
      "x1_Purple Coefficient of  -8.713119025447172\n",
      "x2_Product Placement Coefficient of  0.0017833155279731727\n",
      "Location % Coefficient of  -8.149932765852668\n",
      "Location Score Coefficient of  -0.20638727106449267\n",
      "x0_NINJAVEGAS18 x0_NINJAVEGAS186m46s Coefficient of  1.861849099410451e-05\n",
      "x0_NINJAVEGAS18 x2_Banner Sign Coefficient of  14.12662806131084\n",
      "x0_NINJAVEGAS18 Duration Time Coefficient of  0.8491873200645728\n",
      "x0_NINJAVEGAS18 Size Weight Coefficient of  86.77079271265168\n",
      "x0_NINJAVEGAS18 ME Score Coefficient of  -147.1246678300957\n"
     ]
    },
    {
     "output_type": "execute_result",
     "data": {
      "text/plain": [
       "[None, None, None, None, None, None, None, None, None, None]"
      ]
     },
     "metadata": {},
     "execution_count": 266
    }
   ],
   "metadata": {}
  },
  {
   "cell_type": "markdown",
   "source": [
    "## Ridge Regression Coefficients"
   ],
   "metadata": {}
  },
  {
   "cell_type": "code",
   "execution_count": 267,
   "source": [
    "[print(poly.get_feature_names(X.columns)[i]+' Coefficient of ',ridge_reg.coef_[i]) for i in np.arange(0,50,5)]"
   ],
   "outputs": [
    {
     "output_type": "stream",
     "name": "stdout",
     "text": [
      "1 Coefficient of  0.0\n",
      "x1_Purple Coefficient of  0.024031554019255576\n",
      "x2_Product Placement Coefficient of  1.844963725679485e-05\n",
      "Location % Coefficient of  0.06326650473789582\n",
      "Location Score Coefficient of  0.00012991149198420015\n",
      "x0_NINJAVEGAS18 x0_NINJAVEGAS186m46s Coefficient of  0.0\n",
      "x0_NINJAVEGAS18 x2_Banner Sign Coefficient of  0.056180385386796615\n",
      "x0_NINJAVEGAS18 Duration Time Coefficient of  -0.0092975986336041\n",
      "x0_NINJAVEGAS18 Size Weight Coefficient of  -0.015046787496961728\n",
      "x0_NINJAVEGAS18 ME Score Coefficient of  -0.008557213076488114\n"
     ]
    },
    {
     "output_type": "execute_result",
     "data": {
      "text/plain": [
       "[None, None, None, None, None, None, None, None, None, None]"
      ]
     },
     "metadata": {},
     "execution_count": 267
    }
   ],
   "metadata": {}
  },
  {
   "cell_type": "markdown",
   "source": [
    "Lastly, let's take a look at which variables are the most important using a dictionary!"
   ],
   "metadata": {}
  },
  {
   "cell_type": "code",
   "execution_count": 268,
   "source": [
    "dict_coeff={}\n",
    "for i in range(len(poly.get_feature_names(X.columns))):\n",
    "    dict_coeff[poly.get_feature_names(X.columns)[i]]=ridge_reg.coef_[i]\n",
    "series_sorter=pd.Series(dict_coeff)\n",
    "series_sorter.sort_values(ascending=False)[:10]"
   ],
   "outputs": [
    {
     "output_type": "execute_result",
     "data": {
      "text/plain": [
       "Duration Time ME Score               3.871789\n",
       "Duration Time Size Weight            1.556801\n",
       "30 Second Equivalents ME Score       1.383724\n",
       "Duration Time Brand Size %           0.778401\n",
       "Duration Time Location %             0.667665\n",
       "x1_Purple Duration Time              0.587463\n",
       "x2_Banner Sign Duration Time         0.333706\n",
       "Size Weight Clutter/SOV              0.320296\n",
       "30 Second Equivalents Clutter/SOV    0.317826\n",
       "Duration Weight Size Score           0.310436\n",
       "dtype: float64"
      ]
     },
     "metadata": {},
     "execution_count": 268
    }
   ],
   "metadata": {}
  },
  {
   "cell_type": "markdown",
   "source": [
    "It seems rather strange that the regularized model takes a completely different approach."
   ],
   "metadata": {}
  },
  {
   "cell_type": "markdown",
   "source": [
    "## Saving the Model"
   ],
   "metadata": {}
  },
  {
   "cell_type": "markdown",
   "source": [
    "Finally, let's save our model so that we can reproduce it later on!"
   ],
   "metadata": {}
  },
  {
   "cell_type": "code",
   "execution_count": 269,
   "source": [
    "joblib.dump(lin_reg, 'linear_reg_for_polynomial_of_2.pkl')\n",
    "joblib.dump(ridge_reg, 'ridge_reg_for_polynomial_of_2.pkl')\n",
    "joblib.dump(poly, 'polynomial_implementation.pkl')"
   ],
   "outputs": [
    {
     "output_type": "execute_result",
     "data": {
      "text/plain": [
       "['polynomial_implementation.pkl']"
      ]
     },
     "metadata": {},
     "execution_count": 269
    }
   ],
   "metadata": {}
  },
  {
   "cell_type": "markdown",
   "source": [
    "Let's also save our training and test sets just in case"
   ],
   "metadata": {}
  },
  {
   "cell_type": "code",
   "execution_count": 270,
   "source": [
    "X_2_df=pd.DataFrame(X_2, index=X.index, columns = poly.get_feature_names(X.columns))"
   ],
   "outputs": [],
   "metadata": {}
  },
  {
   "cell_type": "code",
   "execution_count": 271,
   "source": [
    "X_2_df.to_csv('X_2.csv')\n",
    "X.to_csv('cleaned_X.csv',index=False)\n",
    "y.to_csv('y.csv', index=False)"
   ],
   "outputs": [],
   "metadata": {}
  },
  {
   "cell_type": "markdown",
   "source": [
    "# Additional Models and Analysis"
   ],
   "metadata": {}
  },
  {
   "cell_type": "code",
   "execution_count": 273,
   "source": [
    "Xy=X.copy()\n",
    "Xy['MEV']=y"
   ],
   "outputs": [],
   "metadata": {}
  },
  {
   "cell_type": "markdown",
   "source": [
    "Remove SegID from num_columns and throw an error if there is one."
   ],
   "metadata": {}
  },
  {
   "cell_type": "code",
   "execution_count": 274,
   "source": [
    "try:\n",
    "    if 'MEV' not in num_columns:\n",
    "        num_columns.append('MEV')\n",
    "    num_columns.remove('SegID')\n",
    "except Exception as x:\n",
    "    print(x)"
   ],
   "outputs": [],
   "metadata": {}
  },
  {
   "cell_type": "markdown",
   "source": [
    "Let's look at a correlation heatmap!"
   ],
   "metadata": {}
  },
  {
   "cell_type": "code",
   "execution_count": 275,
   "source": [
    "import seaborn\n",
    "plt.figure(figsize=(7,7))\n",
    "seaborn.heatmap(Xy.corr(), cmap='YlGnBu')"
   ],
   "outputs": [
    {
     "output_type": "execute_result",
     "data": {
      "text/plain": [
       "<AxesSubplot:>"
      ]
     },
     "metadata": {},
     "execution_count": 275
    },
    {
     "output_type": "display_data",
     "data": {
      "text/plain": [
       "<Figure size 504x504 with 2 Axes>"
      ],
      "image/svg+xml": "<?xml version=\"1.0\" encoding=\"utf-8\" standalone=\"no\"?>\n<!DOCTYPE svg PUBLIC \"-//W3C//DTD SVG 1.1//EN\"\n  \"http://www.w3.org/Graphics/SVG/1.1/DTD/svg11.dtd\">\n<svg height=\"586.772344pt\" version=\"1.1\" viewBox=\"0 0 591.134438 586.772344\" width=\"591.134438pt\" xmlns=\"http://www.w3.org/2000/svg\" xmlns:xlink=\"http://www.w3.org/1999/xlink\">\n <metadata>\n  <rdf:RDF xmlns:cc=\"http://creativecommons.org/ns#\" xmlns:dc=\"http://purl.org/dc/elements/1.1/\" xmlns:rdf=\"http://www.w3.org/1999/02/22-rdf-syntax-ns#\">\n   <cc:Work>\n    <dc:type rdf:resource=\"http://purl.org/dc/dcmitype/StillImage\"/>\n    <dc:date>2021-09-17T15:37:37.760879</dc:date>\n    <dc:format>image/svg+xml</dc:format>\n    <dc:creator>\n     <cc:Agent>\n      <dc:title>Matplotlib v3.4.1, https://matplotlib.org/</dc:title>\n     </cc:Agent>\n    </dc:creator>\n   </cc:Work>\n  </rdf:RDF>\n </metadata>\n <defs>\n  <style type=\"text/css\">*{stroke-linecap:butt;stroke-linejoin:round;}</style>\n </defs>\n <g id=\"figure_1\">\n  <g id=\"patch_1\">\n   <path d=\"M 0 586.772344 \nL 591.134438 586.772344 \nL 591.134438 0 \nL 0 0 \nz\n\" style=\"fill:none;\"/>\n  </g>\n  <g id=\"axes_1\">\n   <g id=\"patch_2\">\n    <path d=\"M 195.253125 391.519219 \nL 507.733125 391.519219 \nL 507.733125 10.999219 \nL 195.253125 10.999219 \nz\n\" style=\"fill:#ffffff;\"/>\n   </g>\n   <g id=\"QuadMesh_1\">\n    <path clip-path=\"url(#pd23a781904)\" d=\"M 195.253125 10.999219 \nL 208.273125 10.999219 \nL 208.273125 26.854219 \nL 195.253125 26.854219 \nL 195.253125 10.999219 \n\" style=\"fill:#081d58;\"/>\n    <path clip-path=\"url(#pd23a781904)\" d=\"M 208.273125 10.999219 \nL 221.293125 10.999219 \nL 221.293125 26.854219 \nL 208.273125 26.854219 \nL 208.273125 10.999219 \n\" style=\"fill:#65c3bf;\"/>\n    <path clip-path=\"url(#pd23a781904)\" d=\"M 221.293125 10.999219 \nL 234.313125 10.999219 \nL 234.313125 26.854219 \nL 221.293125 26.854219 \nL 221.293125 10.999219 \n\" style=\"fill:#75c9bd;\"/>\n    <path clip-path=\"url(#pd23a781904)\" d=\"M 234.313125 10.999219 \nL 247.333125 10.999219 \nL 247.333125 26.854219 \nL 234.313125 26.854219 \nL 234.313125 10.999219 \n\" style=\"fill:#fcfed1;\"/>\n    <path clip-path=\"url(#pd23a781904)\" d=\"M 247.333125 10.999219 \nL 260.353125 10.999219 \nL 260.353125 26.854219 \nL 247.333125 26.854219 \nL 247.333125 10.999219 \n\" style=\"fill:#3db2c4;\"/>\n    <path clip-path=\"url(#pd23a781904)\" d=\"M 260.353125 10.999219 \nL 273.373125 10.999219 \nL 273.373125 26.854219 \nL 260.353125 26.854219 \nL 260.353125 10.999219 \n\" style=\"fill:#48b9c3;\"/>\n    <path clip-path=\"url(#pd23a781904)\" d=\"M 273.373125 10.999219 \nL 286.393125 10.999219 \nL 286.393125 26.854219 \nL 273.373125 26.854219 \nL 273.373125 10.999219 \n\" style=\"fill:#61c2bf;\"/>\n    <path clip-path=\"url(#pd23a781904)\" d=\"M 286.393125 10.999219 \nL 299.413125 10.999219 \nL 299.413125 26.854219 \nL 286.393125 26.854219 \nL 286.393125 10.999219 \n\" style=\"fill:#289cc1;\"/>\n    <path clip-path=\"url(#pd23a781904)\" d=\"M 299.413125 10.999219 \nL 312.433125 10.999219 \nL 312.433125 26.854219 \nL 299.413125 26.854219 \nL 299.413125 10.999219 \n\" style=\"fill:#6fc7bd;\"/>\n    <path clip-path=\"url(#pd23a781904)\" d=\"M 312.433125 10.999219 \nL 325.453125 10.999219 \nL 325.453125 26.854219 \nL 312.433125 26.854219 \nL 312.433125 10.999219 \n\" style=\"fill:#3eb3c4;\"/>\n    <path clip-path=\"url(#pd23a781904)\" d=\"M 325.453125 10.999219 \nL 338.473125 10.999219 \nL 338.473125 26.854219 \nL 325.453125 26.854219 \nL 325.453125 10.999219 \n\" style=\"fill:#4ab9c3;\"/>\n    <path clip-path=\"url(#pd23a781904)\" d=\"M 338.473125 10.999219 \nL 351.493125 10.999219 \nL 351.493125 26.854219 \nL 338.473125 26.854219 \nL 338.473125 10.999219 \n\" style=\"fill:#57bec1;\"/>\n    <path clip-path=\"url(#pd23a781904)\" d=\"M 351.493125 10.999219 \nL 364.513125 10.999219 \nL 364.513125 26.854219 \nL 351.493125 26.854219 \nL 351.493125 10.999219 \n\" style=\"fill:#4ebbc2;\"/>\n    <path clip-path=\"url(#pd23a781904)\" d=\"M 364.513125 10.999219 \nL 377.533125 10.999219 \nL 377.533125 26.854219 \nL 364.513125 26.854219 \nL 364.513125 10.999219 \n\" style=\"fill:#57bec1;\"/>\n    <path clip-path=\"url(#pd23a781904)\" d=\"M 377.533125 10.999219 \nL 390.553125 10.999219 \nL 390.553125 26.854219 \nL 377.533125 26.854219 \nL 377.533125 10.999219 \n\" style=\"fill:#75c9bd;\"/>\n    <path clip-path=\"url(#pd23a781904)\" d=\"M 390.553125 10.999219 \nL 403.573125 10.999219 \nL 403.573125 26.854219 \nL 390.553125 26.854219 \nL 390.553125 10.999219 \n\" style=\"fill:#5bc0c0;\"/>\n    <path clip-path=\"url(#pd23a781904)\" d=\"M 403.573125 10.999219 \nL 416.593125 10.999219 \nL 416.593125 26.854219 \nL 403.573125 26.854219 \nL 403.573125 10.999219 \n\" style=\"fill:#5bc0c0;\"/>\n    <path clip-path=\"url(#pd23a781904)\" d=\"M 416.593125 10.999219 \nL 429.613125 10.999219 \nL 429.613125 26.854219 \nL 416.593125 26.854219 \nL 416.593125 10.999219 \n\" style=\"fill:#3cb1c3;\"/>\n    <path clip-path=\"url(#pd23a781904)\" d=\"M 429.613125 10.999219 \nL 442.633125 10.999219 \nL 442.633125 26.854219 \nL 429.613125 26.854219 \nL 429.613125 10.999219 \n\" style=\"fill:#53bdc1;\"/>\n    <path clip-path=\"url(#pd23a781904)\" d=\"M 442.633125 10.999219 \nL 455.653125 10.999219 \nL 455.653125 26.854219 \nL 442.633125 26.854219 \nL 442.633125 10.999219 \n\" style=\"fill:#75c9bd;\"/>\n    <path clip-path=\"url(#pd23a781904)\" d=\"M 455.653125 10.999219 \nL 468.673125 10.999219 \nL 468.673125 26.854219 \nL 455.653125 26.854219 \nL 455.653125 10.999219 \n\" style=\"fill:#4ebbc2;\"/>\n    <path clip-path=\"url(#pd23a781904)\" d=\"M 468.673125 10.999219 \nL 481.693125 10.999219 \nL 481.693125 26.854219 \nL 468.673125 26.854219 \nL 468.673125 10.999219 \n\" style=\"fill:#78cbbc;\"/>\n    <path clip-path=\"url(#pd23a781904)\" d=\"M 481.693125 10.999219 \nL 494.713125 10.999219 \nL 494.713125 26.854219 \nL 481.693125 26.854219 \nL 481.693125 10.999219 \n\" style=\"fill:#2166ac;\"/>\n    <path clip-path=\"url(#pd23a781904)\" d=\"M 494.713125 10.999219 \nL 507.733125 10.999219 \nL 507.733125 26.854219 \nL 494.713125 26.854219 \nL 494.713125 10.999219 \n\" style=\"fill:#65c3bf;\"/>\n    <path clip-path=\"url(#pd23a781904)\" d=\"M 195.253125 26.854219 \nL 208.273125 26.854219 \nL 208.273125 42.709219 \nL 195.253125 42.709219 \nL 195.253125 26.854219 \n\" style=\"fill:#65c3bf;\"/>\n    <path clip-path=\"url(#pd23a781904)\" d=\"M 208.273125 26.854219 \nL 221.293125 26.854219 \nL 221.293125 42.709219 \nL 208.273125 42.709219 \nL 208.273125 26.854219 \n\" style=\"fill:#081d58;\"/>\n    <path clip-path=\"url(#pd23a781904)\" d=\"M 221.293125 26.854219 \nL 234.313125 26.854219 \nL 234.313125 42.709219 \nL 221.293125 42.709219 \nL 221.293125 26.854219 \n\" style=\"fill:#44b7c4;\"/>\n    <path clip-path=\"url(#pd23a781904)\" d=\"M 234.313125 26.854219 \nL 247.333125 26.854219 \nL 247.333125 42.709219 \nL 234.313125 42.709219 \nL 234.313125 26.854219 \n\" style=\"fill:#4cbac2;\"/>\n    <path clip-path=\"url(#pd23a781904)\" d=\"M 247.333125 26.854219 \nL 260.353125 26.854219 \nL 260.353125 42.709219 \nL 247.333125 42.709219 \nL 247.333125 26.854219 \n\" style=\"fill:#3eb3c4;\"/>\n    <path clip-path=\"url(#pd23a781904)\" d=\"M 260.353125 26.854219 \nL 273.373125 26.854219 \nL 273.373125 42.709219 \nL 260.353125 42.709219 \nL 260.353125 26.854219 \n\" style=\"fill:#46b8c3;\"/>\n    <path clip-path=\"url(#pd23a781904)\" d=\"M 273.373125 26.854219 \nL 286.393125 26.854219 \nL 286.393125 42.709219 \nL 273.373125 42.709219 \nL 273.373125 26.854219 \n\" style=\"fill:#46b8c3;\"/>\n    <path clip-path=\"url(#pd23a781904)\" d=\"M 286.393125 26.854219 \nL 299.413125 26.854219 \nL 299.413125 42.709219 \nL 286.393125 42.709219 \nL 286.393125 26.854219 \n\" style=\"fill:#6fc7bd;\"/>\n    <path clip-path=\"url(#pd23a781904)\" d=\"M 299.413125 26.854219 \nL 312.433125 26.854219 \nL 312.433125 42.709219 \nL 299.413125 42.709219 \nL 299.413125 26.854219 \n\" style=\"fill:#2350a1;\"/>\n    <path clip-path=\"url(#pd23a781904)\" d=\"M 312.433125 26.854219 \nL 325.453125 26.854219 \nL 325.453125 42.709219 \nL 312.433125 42.709219 \nL 312.433125 26.854219 \n\" style=\"fill:#42b6c4;\"/>\n    <path clip-path=\"url(#pd23a781904)\" d=\"M 325.453125 26.854219 \nL 338.473125 26.854219 \nL 338.473125 42.709219 \nL 325.453125 42.709219 \nL 325.453125 26.854219 \n\" style=\"fill:#46b8c3;\"/>\n    <path clip-path=\"url(#pd23a781904)\" d=\"M 338.473125 26.854219 \nL 351.493125 26.854219 \nL 351.493125 42.709219 \nL 338.473125 42.709219 \nL 338.473125 26.854219 \n\" style=\"fill:#34a9c3;\"/>\n    <path clip-path=\"url(#pd23a781904)\" d=\"M 351.493125 26.854219 \nL 364.513125 26.854219 \nL 364.513125 42.709219 \nL 351.493125 42.709219 \nL 351.493125 26.854219 \n\" style=\"fill:#52bcc2;\"/>\n    <path clip-path=\"url(#pd23a781904)\" d=\"M 364.513125 26.854219 \nL 377.533125 26.854219 \nL 377.533125 42.709219 \nL 364.513125 42.709219 \nL 364.513125 26.854219 \n\" style=\"fill:#34a9c3;\"/>\n    <path clip-path=\"url(#pd23a781904)\" d=\"M 377.533125 26.854219 \nL 390.553125 26.854219 \nL 390.553125 42.709219 \nL 377.533125 42.709219 \nL 377.533125 26.854219 \n\" style=\"fill:#2da2c2;\"/>\n    <path clip-path=\"url(#pd23a781904)\" d=\"M 390.553125 26.854219 \nL 403.573125 26.854219 \nL 403.573125 42.709219 \nL 390.553125 42.709219 \nL 390.553125 26.854219 \n\" style=\"fill:#1d8ebf;\"/>\n    <path clip-path=\"url(#pd23a781904)\" d=\"M 403.573125 26.854219 \nL 416.593125 26.854219 \nL 416.593125 42.709219 \nL 403.573125 42.709219 \nL 403.573125 26.854219 \n\" style=\"fill:#1d8ebf;\"/>\n    <path clip-path=\"url(#pd23a781904)\" d=\"M 416.593125 26.854219 \nL 429.613125 26.854219 \nL 429.613125 42.709219 \nL 416.593125 42.709219 \nL 416.593125 26.854219 \n\" style=\"fill:#48b9c3;\"/>\n    <path clip-path=\"url(#pd23a781904)\" d=\"M 429.613125 26.854219 \nL 442.633125 26.854219 \nL 442.633125 42.709219 \nL 429.613125 42.709219 \nL 429.613125 26.854219 \n\" style=\"fill:#1d8dbe;\"/>\n    <path clip-path=\"url(#pd23a781904)\" d=\"M 442.633125 26.854219 \nL 455.653125 26.854219 \nL 455.653125 42.709219 \nL 442.633125 42.709219 \nL 442.633125 26.854219 \n\" style=\"fill:#2da2c2;\"/>\n    <path clip-path=\"url(#pd23a781904)\" d=\"M 455.653125 26.854219 \nL 468.673125 26.854219 \nL 468.673125 42.709219 \nL 455.653125 42.709219 \nL 455.653125 26.854219 \n\" style=\"fill:#52bcc2;\"/>\n    <path clip-path=\"url(#pd23a781904)\" d=\"M 468.673125 26.854219 \nL 481.693125 26.854219 \nL 481.693125 42.709219 \nL 468.673125 42.709219 \nL 468.673125 26.854219 \n\" style=\"fill:#269bc1;\"/>\n    <path clip-path=\"url(#pd23a781904)\" d=\"M 481.693125 26.854219 \nL 494.713125 26.854219 \nL 494.713125 42.709219 \nL 481.693125 42.709219 \nL 481.693125 26.854219 \n\" style=\"fill:#57bec1;\"/>\n    <path clip-path=\"url(#pd23a781904)\" d=\"M 494.713125 26.854219 \nL 507.733125 26.854219 \nL 507.733125 42.709219 \nL 494.713125 42.709219 \nL 494.713125 26.854219 \n\" style=\"fill:#2498c1;\"/>\n    <path clip-path=\"url(#pd23a781904)\" d=\"M 195.253125 42.709219 \nL 208.273125 42.709219 \nL 208.273125 58.564219 \nL 195.253125 58.564219 \nL 195.253125 42.709219 \n\" style=\"fill:#75c9bd;\"/>\n    <path clip-path=\"url(#pd23a781904)\" d=\"M 208.273125 42.709219 \nL 221.293125 42.709219 \nL 221.293125 58.564219 \nL 208.273125 58.564219 \nL 208.273125 42.709219 \n\" style=\"fill:#44b7c4;\"/>\n    <path clip-path=\"url(#pd23a781904)\" d=\"M 221.293125 42.709219 \nL 234.313125 42.709219 \nL 234.313125 58.564219 \nL 221.293125 58.564219 \nL 221.293125 42.709219 \n\" style=\"fill:#081d58;\"/>\n    <path clip-path=\"url(#pd23a781904)\" d=\"M 234.313125 42.709219 \nL 247.333125 42.709219 \nL 247.333125 58.564219 \nL 234.313125 58.564219 \nL 234.313125 42.709219 \n\" style=\"fill:#50bbc2;\"/>\n    <path clip-path=\"url(#pd23a781904)\" d=\"M 247.333125 42.709219 \nL 260.353125 42.709219 \nL 260.353125 58.564219 \nL 247.333125 58.564219 \nL 247.333125 42.709219 \n\" style=\"fill:#4ab9c3;\"/>\n    <path clip-path=\"url(#pd23a781904)\" d=\"M 260.353125 42.709219 \nL 273.373125 42.709219 \nL 273.373125 58.564219 \nL 260.353125 58.564219 \nL 260.353125 42.709219 \n\" style=\"fill:#3cb1c3;\"/>\n    <path clip-path=\"url(#pd23a781904)\" d=\"M 273.373125 42.709219 \nL 286.393125 42.709219 \nL 286.393125 58.564219 \nL 273.373125 58.564219 \nL 273.373125 42.709219 \n\" style=\"fill:#269bc1;\"/>\n    <path clip-path=\"url(#pd23a781904)\" d=\"M 286.393125 42.709219 \nL 299.413125 42.709219 \nL 299.413125 58.564219 \nL 286.393125 58.564219 \nL 286.393125 42.709219 \n\" style=\"fill:#89d1ba;\"/>\n    <path clip-path=\"url(#pd23a781904)\" d=\"M 299.413125 42.709219 \nL 312.433125 42.709219 \nL 312.433125 58.564219 \nL 299.413125 58.564219 \nL 299.413125 42.709219 \n\" style=\"fill:#1f7eb7;\"/>\n    <path clip-path=\"url(#pd23a781904)\" d=\"M 312.433125 42.709219 \nL 325.453125 42.709219 \nL 325.453125 58.564219 \nL 312.433125 58.564219 \nL 312.433125 42.709219 \n\" style=\"fill:#42b6c4;\"/>\n    <path clip-path=\"url(#pd23a781904)\" d=\"M 325.453125 42.709219 \nL 338.473125 42.709219 \nL 338.473125 58.564219 \nL 325.453125 58.564219 \nL 325.453125 42.709219 \n\" style=\"fill:#3cb1c3;\"/>\n    <path clip-path=\"url(#pd23a781904)\" d=\"M 338.473125 42.709219 \nL 351.493125 42.709219 \nL 351.493125 58.564219 \nL 338.473125 58.564219 \nL 338.473125 42.709219 \n\" style=\"fill:#2ca1c2;\"/>\n    <path clip-path=\"url(#pd23a781904)\" d=\"M 351.493125 42.709219 \nL 364.513125 42.709219 \nL 364.513125 58.564219 \nL 351.493125 58.564219 \nL 351.493125 42.709219 \n\" style=\"fill:#3cb1c3;\"/>\n    <path clip-path=\"url(#pd23a781904)\" d=\"M 364.513125 42.709219 \nL 377.533125 42.709219 \nL 377.533125 58.564219 \nL 364.513125 58.564219 \nL 364.513125 42.709219 \n\" style=\"fill:#2ca1c2;\"/>\n    <path clip-path=\"url(#pd23a781904)\" d=\"M 377.533125 42.709219 \nL 390.553125 42.709219 \nL 390.553125 58.564219 \nL 377.533125 58.564219 \nL 377.533125 42.709219 \n\" style=\"fill:#2498c1;\"/>\n    <path clip-path=\"url(#pd23a781904)\" d=\"M 390.553125 42.709219 \nL 403.573125 42.709219 \nL 403.573125 58.564219 \nL 390.553125 58.564219 \nL 390.553125 42.709219 \n\" style=\"fill:#37acc3;\"/>\n    <path clip-path=\"url(#pd23a781904)\" d=\"M 403.573125 42.709219 \nL 416.593125 42.709219 \nL 416.593125 58.564219 \nL 403.573125 58.564219 \nL 403.573125 42.709219 \n\" style=\"fill:#37acc3;\"/>\n    <path clip-path=\"url(#pd23a781904)\" d=\"M 416.593125 42.709219 \nL 429.613125 42.709219 \nL 429.613125 58.564219 \nL 416.593125 58.564219 \nL 416.593125 42.709219 \n\" style=\"fill:#34a9c3;\"/>\n    <path clip-path=\"url(#pd23a781904)\" d=\"M 429.613125 42.709219 \nL 442.633125 42.709219 \nL 442.633125 58.564219 \nL 429.613125 58.564219 \nL 429.613125 42.709219 \n\" style=\"fill:#37acc3;\"/>\n    <path clip-path=\"url(#pd23a781904)\" d=\"M 442.633125 42.709219 \nL 455.653125 42.709219 \nL 455.653125 58.564219 \nL 442.633125 58.564219 \nL 442.633125 42.709219 \n\" style=\"fill:#2498c1;\"/>\n    <path clip-path=\"url(#pd23a781904)\" d=\"M 455.653125 42.709219 \nL 468.673125 42.709219 \nL 468.673125 58.564219 \nL 455.653125 58.564219 \nL 455.653125 42.709219 \n\" style=\"fill:#3cb1c3;\"/>\n    <path clip-path=\"url(#pd23a781904)\" d=\"M 468.673125 42.709219 \nL 481.693125 42.709219 \nL 481.693125 58.564219 \nL 468.673125 58.564219 \nL 468.673125 42.709219 \n\" style=\"fill:#259ac1;\"/>\n    <path clip-path=\"url(#pd23a781904)\" d=\"M 481.693125 42.709219 \nL 494.713125 42.709219 \nL 494.713125 58.564219 \nL 481.693125 58.564219 \nL 481.693125 42.709219 \n\" style=\"fill:#61c2bf;\"/>\n    <path clip-path=\"url(#pd23a781904)\" d=\"M 494.713125 42.709219 \nL 507.733125 42.709219 \nL 507.733125 58.564219 \nL 494.713125 58.564219 \nL 494.713125 42.709219 \n\" style=\"fill:#269bc1;\"/>\n    <path clip-path=\"url(#pd23a781904)\" d=\"M 195.253125 58.564219 \nL 208.273125 58.564219 \nL 208.273125 74.419219 \nL 195.253125 74.419219 \nL 195.253125 58.564219 \n\" style=\"fill:#fcfed1;\"/>\n    <path clip-path=\"url(#pd23a781904)\" d=\"M 208.273125 58.564219 \nL 221.293125 58.564219 \nL 221.293125 74.419219 \nL 208.273125 74.419219 \nL 208.273125 58.564219 \n\" style=\"fill:#4cbac2;\"/>\n    <path clip-path=\"url(#pd23a781904)\" d=\"M 221.293125 58.564219 \nL 234.313125 58.564219 \nL 234.313125 74.419219 \nL 221.293125 74.419219 \nL 221.293125 58.564219 \n\" style=\"fill:#50bbc2;\"/>\n    <path clip-path=\"url(#pd23a781904)\" d=\"M 234.313125 58.564219 \nL 247.333125 58.564219 \nL 247.333125 74.419219 \nL 234.313125 74.419219 \nL 234.313125 58.564219 \n\" style=\"fill:#081d58;\"/>\n    <path clip-path=\"url(#pd23a781904)\" d=\"M 247.333125 58.564219 \nL 260.353125 58.564219 \nL 260.353125 74.419219 \nL 247.333125 74.419219 \nL 247.333125 58.564219 \n\" style=\"fill:#46b8c3;\"/>\n    <path clip-path=\"url(#pd23a781904)\" d=\"M 260.353125 58.564219 \nL 273.373125 58.564219 \nL 273.373125 74.419219 \nL 260.353125 74.419219 \nL 260.353125 58.564219 \n\" style=\"fill:#3eb3c4;\"/>\n    <path clip-path=\"url(#pd23a781904)\" d=\"M 273.373125 58.564219 \nL 286.393125 58.564219 \nL 286.393125 74.419219 \nL 273.373125 74.419219 \nL 273.373125 58.564219 \n\" style=\"fill:#35aac3;\"/>\n    <path clip-path=\"url(#pd23a781904)\" d=\"M 286.393125 58.564219 \nL 299.413125 58.564219 \nL 299.413125 74.419219 \nL 286.393125 74.419219 \nL 286.393125 58.564219 \n\" style=\"fill:#52bcc2;\"/>\n    <path clip-path=\"url(#pd23a781904)\" d=\"M 299.413125 58.564219 \nL 312.433125 58.564219 \nL 312.433125 74.419219 \nL 299.413125 74.419219 \nL 299.413125 58.564219 \n\" style=\"fill:#46b8c3;\"/>\n    <path clip-path=\"url(#pd23a781904)\" d=\"M 312.433125 58.564219 \nL 325.453125 58.564219 \nL 325.453125 74.419219 \nL 312.433125 74.419219 \nL 312.433125 58.564219 \n\" style=\"fill:#46b8c3;\"/>\n    <path clip-path=\"url(#pd23a781904)\" d=\"M 325.453125 58.564219 \nL 338.473125 58.564219 \nL 338.473125 74.419219 \nL 325.453125 74.419219 \nL 325.453125 58.564219 \n\" style=\"fill:#3db2c4;\"/>\n    <path clip-path=\"url(#pd23a781904)\" d=\"M 338.473125 58.564219 \nL 351.493125 58.564219 \nL 351.493125 74.419219 \nL 338.473125 74.419219 \nL 338.473125 58.564219 \n\" style=\"fill:#3db2c4;\"/>\n    <path clip-path=\"url(#pd23a781904)\" d=\"M 351.493125 58.564219 \nL 364.513125 58.564219 \nL 364.513125 74.419219 \nL 351.493125 74.419219 \nL 351.493125 58.564219 \n\" style=\"fill:#39adc3;\"/>\n    <path clip-path=\"url(#pd23a781904)\" d=\"M 364.513125 58.564219 \nL 377.533125 58.564219 \nL 377.533125 74.419219 \nL 364.513125 74.419219 \nL 364.513125 58.564219 \n\" style=\"fill:#3db2c4;\"/>\n    <path clip-path=\"url(#pd23a781904)\" d=\"M 377.533125 58.564219 \nL 390.553125 58.564219 \nL 390.553125 74.419219 \nL 377.533125 74.419219 \nL 377.533125 58.564219 \n\" style=\"fill:#2ea3c2;\"/>\n    <path clip-path=\"url(#pd23a781904)\" d=\"M 390.553125 58.564219 \nL 403.573125 58.564219 \nL 403.573125 74.419219 \nL 390.553125 74.419219 \nL 390.553125 58.564219 \n\" style=\"fill:#3bb0c3;\"/>\n    <path clip-path=\"url(#pd23a781904)\" d=\"M 403.573125 58.564219 \nL 416.593125 58.564219 \nL 416.593125 74.419219 \nL 403.573125 74.419219 \nL 403.573125 58.564219 \n\" style=\"fill:#3bb0c3;\"/>\n    <path clip-path=\"url(#pd23a781904)\" d=\"M 416.593125 58.564219 \nL 429.613125 58.564219 \nL 429.613125 74.419219 \nL 416.593125 74.419219 \nL 416.593125 58.564219 \n\" style=\"fill:#50bbc2;\"/>\n    <path clip-path=\"url(#pd23a781904)\" d=\"M 429.613125 58.564219 \nL 442.633125 58.564219 \nL 442.633125 74.419219 \nL 429.613125 74.419219 \nL 429.613125 58.564219 \n\" style=\"fill:#3fb4c4;\"/>\n    <path clip-path=\"url(#pd23a781904)\" d=\"M 442.633125 58.564219 \nL 455.653125 58.564219 \nL 455.653125 74.419219 \nL 442.633125 74.419219 \nL 442.633125 58.564219 \n\" style=\"fill:#2ea3c2;\"/>\n    <path clip-path=\"url(#pd23a781904)\" d=\"M 455.653125 58.564219 \nL 468.673125 58.564219 \nL 468.673125 74.419219 \nL 455.653125 74.419219 \nL 455.653125 58.564219 \n\" style=\"fill:#39adc3;\"/>\n    <path clip-path=\"url(#pd23a781904)\" d=\"M 468.673125 58.564219 \nL 481.693125 58.564219 \nL 481.693125 74.419219 \nL 468.673125 74.419219 \nL 468.673125 58.564219 \n\" style=\"fill:#2ca1c2;\"/>\n    <path clip-path=\"url(#pd23a781904)\" d=\"M 481.693125 58.564219 \nL 494.713125 58.564219 \nL 494.713125 74.419219 \nL 481.693125 74.419219 \nL 481.693125 58.564219 \n\" style=\"fill:#b0e0b6;\"/>\n    <path clip-path=\"url(#pd23a781904)\" d=\"M 494.713125 58.564219 \nL 507.733125 58.564219 \nL 507.733125 74.419219 \nL 494.713125 74.419219 \nL 494.713125 58.564219 \n\" style=\"fill:#37acc3;\"/>\n    <path clip-path=\"url(#pd23a781904)\" d=\"M 195.253125 74.419219 \nL 208.273125 74.419219 \nL 208.273125 90.274219 \nL 195.253125 90.274219 \nL 195.253125 74.419219 \n\" style=\"fill:#3db2c4;\"/>\n    <path clip-path=\"url(#pd23a781904)\" d=\"M 208.273125 74.419219 \nL 221.293125 74.419219 \nL 221.293125 90.274219 \nL 208.273125 90.274219 \nL 208.273125 74.419219 \n\" style=\"fill:#3eb3c4;\"/>\n    <path clip-path=\"url(#pd23a781904)\" d=\"M 221.293125 74.419219 \nL 234.313125 74.419219 \nL 234.313125 90.274219 \nL 221.293125 90.274219 \nL 221.293125 74.419219 \n\" style=\"fill:#4ab9c3;\"/>\n    <path clip-path=\"url(#pd23a781904)\" d=\"M 234.313125 74.419219 \nL 247.333125 74.419219 \nL 247.333125 90.274219 \nL 234.313125 90.274219 \nL 234.313125 74.419219 \n\" style=\"fill:#46b8c3;\"/>\n    <path clip-path=\"url(#pd23a781904)\" d=\"M 247.333125 74.419219 \nL 260.353125 74.419219 \nL 260.353125 90.274219 \nL 247.333125 90.274219 \nL 247.333125 74.419219 \n\" style=\"fill:#081d58;\"/>\n    <path clip-path=\"url(#pd23a781904)\" d=\"M 260.353125 74.419219 \nL 273.373125 74.419219 \nL 273.373125 90.274219 \nL 260.353125 90.274219 \nL 260.353125 74.419219 \n\" style=\"fill:#ffffd9;\"/>\n    <path clip-path=\"url(#pd23a781904)\" d=\"M 273.373125 74.419219 \nL 286.393125 74.419219 \nL 286.393125 90.274219 \nL 273.373125 90.274219 \nL 273.373125 74.419219 \n\" style=\"fill:#39adc3;\"/>\n    <path clip-path=\"url(#pd23a781904)\" d=\"M 286.393125 74.419219 \nL 299.413125 74.419219 \nL 299.413125 90.274219 \nL 286.393125 90.274219 \nL 286.393125 74.419219 \n\" style=\"fill:#2355a4;\"/>\n    <path clip-path=\"url(#pd23a781904)\" d=\"M 299.413125 74.419219 \nL 312.433125 74.419219 \nL 312.433125 90.274219 \nL 299.413125 90.274219 \nL 299.413125 74.419219 \n\" style=\"fill:#3db2c4;\"/>\n    <path clip-path=\"url(#pd23a781904)\" d=\"M 312.433125 74.419219 \nL 325.453125 74.419219 \nL 325.453125 90.274219 \nL 312.433125 90.274219 \nL 312.433125 74.419219 \n\" style=\"fill:#6dc6be;\"/>\n    <path clip-path=\"url(#pd23a781904)\" d=\"M 325.453125 74.419219 \nL 338.473125 74.419219 \nL 338.473125 90.274219 \nL 325.453125 90.274219 \nL 325.453125 74.419219 \n\" style=\"fill:#feffd6;\"/>\n    <path clip-path=\"url(#pd23a781904)\" d=\"M 338.473125 74.419219 \nL 351.493125 74.419219 \nL 351.493125 90.274219 \nL 338.473125 90.274219 \nL 338.473125 74.419219 \n\" style=\"fill:#48b9c3;\"/>\n    <path clip-path=\"url(#pd23a781904)\" d=\"M 351.493125 74.419219 \nL 364.513125 74.419219 \nL 364.513125 90.274219 \nL 351.493125 90.274219 \nL 351.493125 74.419219 \n\" style=\"fill:#6fc7bd;\"/>\n    <path clip-path=\"url(#pd23a781904)\" d=\"M 364.513125 74.419219 \nL 377.533125 74.419219 \nL 377.533125 90.274219 \nL 364.513125 90.274219 \nL 364.513125 74.419219 \n\" style=\"fill:#48b9c3;\"/>\n    <path clip-path=\"url(#pd23a781904)\" d=\"M 377.533125 74.419219 \nL 390.553125 74.419219 \nL 390.553125 90.274219 \nL 377.533125 90.274219 \nL 377.533125 74.419219 \n\" style=\"fill:#a9ddb7;\"/>\n    <path clip-path=\"url(#pd23a781904)\" d=\"M 390.553125 74.419219 \nL 403.573125 74.419219 \nL 403.573125 90.274219 \nL 390.553125 90.274219 \nL 390.553125 74.419219 \n\" style=\"fill:#3fb4c4;\"/>\n    <path clip-path=\"url(#pd23a781904)\" d=\"M 403.573125 74.419219 \nL 416.593125 74.419219 \nL 416.593125 90.274219 \nL 403.573125 90.274219 \nL 403.573125 74.419219 \n\" style=\"fill:#3fb4c4;\"/>\n    <path clip-path=\"url(#pd23a781904)\" d=\"M 416.593125 74.419219 \nL 429.613125 74.419219 \nL 429.613125 90.274219 \nL 416.593125 90.274219 \nL 416.593125 74.419219 \n\" style=\"fill:#95d5b9;\"/>\n    <path clip-path=\"url(#pd23a781904)\" d=\"M 429.613125 74.419219 \nL 442.633125 74.419219 \nL 442.633125 90.274219 \nL 429.613125 90.274219 \nL 429.613125 74.419219 \n\" style=\"fill:#3fb4c4;\"/>\n    <path clip-path=\"url(#pd23a781904)\" d=\"M 442.633125 74.419219 \nL 455.653125 74.419219 \nL 455.653125 90.274219 \nL 442.633125 90.274219 \nL 442.633125 74.419219 \n\" style=\"fill:#a9ddb7;\"/>\n    <path clip-path=\"url(#pd23a781904)\" d=\"M 455.653125 74.419219 \nL 468.673125 74.419219 \nL 468.673125 90.274219 \nL 455.653125 90.274219 \nL 455.653125 74.419219 \n\" style=\"fill:#6fc7bd;\"/>\n    <path clip-path=\"url(#pd23a781904)\" d=\"M 468.673125 74.419219 \nL 481.693125 74.419219 \nL 481.693125 90.274219 \nL 468.673125 90.274219 \nL 468.673125 74.419219 \n\" style=\"fill:#9cd8b8;\"/>\n    <path clip-path=\"url(#pd23a781904)\" d=\"M 481.693125 74.419219 \nL 494.713125 74.419219 \nL 494.713125 90.274219 \nL 481.693125 90.274219 \nL 481.693125 74.419219 \n\" style=\"fill:#3bb0c3;\"/>\n    <path clip-path=\"url(#pd23a781904)\" d=\"M 494.713125 74.419219 \nL 507.733125 74.419219 \nL 507.733125 90.274219 \nL 494.713125 90.274219 \nL 494.713125 74.419219 \n\" style=\"fill:#6dc6be;\"/>\n    <path clip-path=\"url(#pd23a781904)\" d=\"M 195.253125 90.274219 \nL 208.273125 90.274219 \nL 208.273125 106.129219 \nL 195.253125 106.129219 \nL 195.253125 90.274219 \n\" style=\"fill:#48b9c3;\"/>\n    <path clip-path=\"url(#pd23a781904)\" d=\"M 208.273125 90.274219 \nL 221.293125 90.274219 \nL 221.293125 106.129219 \nL 208.273125 106.129219 \nL 208.273125 90.274219 \n\" style=\"fill:#46b8c3;\"/>\n    <path clip-path=\"url(#pd23a781904)\" d=\"M 221.293125 90.274219 \nL 234.313125 90.274219 \nL 234.313125 106.129219 \nL 221.293125 106.129219 \nL 221.293125 90.274219 \n\" style=\"fill:#3cb1c3;\"/>\n    <path clip-path=\"url(#pd23a781904)\" d=\"M 234.313125 90.274219 \nL 247.333125 90.274219 \nL 247.333125 106.129219 \nL 234.313125 106.129219 \nL 234.313125 90.274219 \n\" style=\"fill:#3eb3c4;\"/>\n    <path clip-path=\"url(#pd23a781904)\" d=\"M 247.333125 90.274219 \nL 260.353125 90.274219 \nL 260.353125 106.129219 \nL 247.333125 106.129219 \nL 247.333125 90.274219 \n\" style=\"fill:#ffffd9;\"/>\n    <path clip-path=\"url(#pd23a781904)\" d=\"M 260.353125 90.274219 \nL 273.373125 90.274219 \nL 273.373125 106.129219 \nL 260.353125 106.129219 \nL 260.353125 90.274219 \n\" style=\"fill:#081d58;\"/>\n    <path clip-path=\"url(#pd23a781904)\" d=\"M 273.373125 90.274219 \nL 286.393125 90.274219 \nL 286.393125 106.129219 \nL 273.373125 106.129219 \nL 273.373125 90.274219 \n\" style=\"fill:#50bbc2;\"/>\n    <path clip-path=\"url(#pd23a781904)\" d=\"M 286.393125 90.274219 \nL 299.413125 90.274219 \nL 299.413125 106.129219 \nL 286.393125 106.129219 \nL 286.393125 90.274219 \n\" style=\"fill:#cfecb3;\"/>\n    <path clip-path=\"url(#pd23a781904)\" d=\"M 299.413125 90.274219 \nL 312.433125 90.274219 \nL 312.433125 106.129219 \nL 299.413125 106.129219 \nL 299.413125 90.274219 \n\" style=\"fill:#48b9c3;\"/>\n    <path clip-path=\"url(#pd23a781904)\" d=\"M 312.433125 90.274219 \nL 325.453125 90.274219 \nL 325.453125 106.129219 \nL 312.433125 106.129219 \nL 312.433125 90.274219 \n\" style=\"fill:#289cc1;\"/>\n    <path clip-path=\"url(#pd23a781904)\" d=\"M 325.453125 90.274219 \nL 338.473125 90.274219 \nL 338.473125 106.129219 \nL 325.453125 106.129219 \nL 325.453125 90.274219 \n\" style=\"fill:#0a1e5c;\"/>\n    <path clip-path=\"url(#pd23a781904)\" d=\"M 338.473125 90.274219 \nL 351.493125 90.274219 \nL 351.493125 106.129219 \nL 338.473125 106.129219 \nL 338.473125 90.274219 \n\" style=\"fill:#3db2c4;\"/>\n    <path clip-path=\"url(#pd23a781904)\" d=\"M 351.493125 90.274219 \nL 364.513125 90.274219 \nL 364.513125 106.129219 \nL 351.493125 106.129219 \nL 351.493125 90.274219 \n\" style=\"fill:#269bc1;\"/>\n    <path clip-path=\"url(#pd23a781904)\" d=\"M 364.513125 90.274219 \nL 377.533125 90.274219 \nL 377.533125 106.129219 \nL 364.513125 106.129219 \nL 364.513125 90.274219 \n\" style=\"fill:#3db2c4;\"/>\n    <path clip-path=\"url(#pd23a781904)\" d=\"M 377.533125 90.274219 \nL 390.553125 90.274219 \nL 390.553125 106.129219 \nL 377.533125 106.129219 \nL 377.533125 90.274219 \n\" style=\"fill:#2073b2;\"/>\n    <path clip-path=\"url(#pd23a781904)\" d=\"M 390.553125 90.274219 \nL 403.573125 90.274219 \nL 403.573125 106.129219 \nL 390.553125 106.129219 \nL 390.553125 90.274219 \n\" style=\"fill:#44b7c4;\"/>\n    <path clip-path=\"url(#pd23a781904)\" d=\"M 403.573125 90.274219 \nL 416.593125 90.274219 \nL 416.593125 106.129219 \nL 403.573125 106.129219 \nL 403.573125 90.274219 \n\" style=\"fill:#44b7c4;\"/>\n    <path clip-path=\"url(#pd23a781904)\" d=\"M 416.593125 90.274219 \nL 429.613125 90.274219 \nL 429.613125 106.129219 \nL 416.593125 106.129219 \nL 416.593125 90.274219 \n\" style=\"fill:#1f82b9;\"/>\n    <path clip-path=\"url(#pd23a781904)\" d=\"M 429.613125 90.274219 \nL 442.633125 90.274219 \nL 442.633125 106.129219 \nL 429.613125 106.129219 \nL 429.613125 90.274219 \n\" style=\"fill:#44b7c4;\"/>\n    <path clip-path=\"url(#pd23a781904)\" d=\"M 442.633125 90.274219 \nL 455.653125 90.274219 \nL 455.653125 106.129219 \nL 442.633125 106.129219 \nL 442.633125 90.274219 \n\" style=\"fill:#2073b2;\"/>\n    <path clip-path=\"url(#pd23a781904)\" d=\"M 455.653125 90.274219 \nL 468.673125 90.274219 \nL 468.673125 106.129219 \nL 455.653125 106.129219 \nL 455.653125 90.274219 \n\" style=\"fill:#269bc1;\"/>\n    <path clip-path=\"url(#pd23a781904)\" d=\"M 468.673125 90.274219 \nL 481.693125 90.274219 \nL 481.693125 106.129219 \nL 468.673125 106.129219 \nL 468.673125 90.274219 \n\" style=\"fill:#1f7db6;\"/>\n    <path clip-path=\"url(#pd23a781904)\" d=\"M 481.693125 90.274219 \nL 494.713125 90.274219 \nL 494.713125 106.129219 \nL 481.693125 106.129219 \nL 481.693125 90.274219 \n\" style=\"fill:#4cbac2;\"/>\n    <path clip-path=\"url(#pd23a781904)\" d=\"M 494.713125 90.274219 \nL 507.733125 90.274219 \nL 507.733125 106.129219 \nL 494.713125 106.129219 \nL 494.713125 90.274219 \n\" style=\"fill:#289cc1;\"/>\n    <path clip-path=\"url(#pd23a781904)\" d=\"M 195.253125 106.129219 \nL 208.273125 106.129219 \nL 208.273125 121.984219 \nL 195.253125 121.984219 \nL 195.253125 106.129219 \n\" style=\"fill:#61c2bf;\"/>\n    <path clip-path=\"url(#pd23a781904)\" d=\"M 208.273125 106.129219 \nL 221.293125 106.129219 \nL 221.293125 121.984219 \nL 208.273125 121.984219 \nL 208.273125 106.129219 \n\" style=\"fill:#46b8c3;\"/>\n    <path clip-path=\"url(#pd23a781904)\" d=\"M 221.293125 106.129219 \nL 234.313125 106.129219 \nL 234.313125 121.984219 \nL 221.293125 121.984219 \nL 221.293125 106.129219 \n\" style=\"fill:#269bc1;\"/>\n    <path clip-path=\"url(#pd23a781904)\" d=\"M 234.313125 106.129219 \nL 247.333125 106.129219 \nL 247.333125 121.984219 \nL 234.313125 121.984219 \nL 234.313125 106.129219 \n\" style=\"fill:#35aac3;\"/>\n    <path clip-path=\"url(#pd23a781904)\" d=\"M 247.333125 106.129219 \nL 260.353125 106.129219 \nL 260.353125 121.984219 \nL 247.333125 121.984219 \nL 247.333125 106.129219 \n\" style=\"fill:#39adc3;\"/>\n    <path clip-path=\"url(#pd23a781904)\" d=\"M 260.353125 106.129219 \nL 273.373125 106.129219 \nL 273.373125 121.984219 \nL 260.353125 121.984219 \nL 260.353125 106.129219 \n\" style=\"fill:#50bbc2;\"/>\n    <path clip-path=\"url(#pd23a781904)\" d=\"M 273.373125 106.129219 \nL 286.393125 106.129219 \nL 286.393125 121.984219 \nL 273.373125 121.984219 \nL 273.373125 106.129219 \n\" style=\"fill:#081d58;\"/>\n    <path clip-path=\"url(#pd23a781904)\" d=\"M 286.393125 106.129219 \nL 299.413125 106.129219 \nL 299.413125 121.984219 \nL 286.393125 121.984219 \nL 286.393125 106.129219 \n\" style=\"fill:#e9f7b1;\"/>\n    <path clip-path=\"url(#pd23a781904)\" d=\"M 299.413125 106.129219 \nL 312.433125 106.129219 \nL 312.433125 121.984219 \nL 299.413125 121.984219 \nL 299.413125 106.129219 \n\" style=\"fill:#4ab9c3;\"/>\n    <path clip-path=\"url(#pd23a781904)\" d=\"M 312.433125 106.129219 \nL 325.453125 106.129219 \nL 325.453125 121.984219 \nL 312.433125 121.984219 \nL 312.433125 106.129219 \n\" style=\"fill:#44b7c4;\"/>\n    <path clip-path=\"url(#pd23a781904)\" d=\"M 325.453125 106.129219 \nL 338.473125 106.129219 \nL 338.473125 121.984219 \nL 325.453125 121.984219 \nL 325.453125 106.129219 \n\" style=\"fill:#4ebbc2;\"/>\n    <path clip-path=\"url(#pd23a781904)\" d=\"M 338.473125 106.129219 \nL 351.493125 106.129219 \nL 351.493125 121.984219 \nL 338.473125 121.984219 \nL 338.473125 106.129219 \n\" style=\"fill:#3cb1c3;\"/>\n    <path clip-path=\"url(#pd23a781904)\" d=\"M 351.493125 106.129219 \nL 364.513125 106.129219 \nL 364.513125 121.984219 \nL 351.493125 121.984219 \nL 351.493125 106.129219 \n\" style=\"fill:#2fa4c2;\"/>\n    <path clip-path=\"url(#pd23a781904)\" d=\"M 364.513125 106.129219 \nL 377.533125 106.129219 \nL 377.533125 121.984219 \nL 364.513125 121.984219 \nL 364.513125 106.129219 \n\" style=\"fill:#3cb1c3;\"/>\n    <path clip-path=\"url(#pd23a781904)\" d=\"M 377.533125 106.129219 \nL 390.553125 106.129219 \nL 390.553125 121.984219 \nL 377.533125 121.984219 \nL 377.533125 106.129219 \n\" style=\"fill:#2168ad;\"/>\n    <path clip-path=\"url(#pd23a781904)\" d=\"M 390.553125 106.129219 \nL 403.573125 106.129219 \nL 403.573125 121.984219 \nL 390.553125 121.984219 \nL 390.553125 106.129219 \n\" style=\"fill:#33a7c2;\"/>\n    <path clip-path=\"url(#pd23a781904)\" d=\"M 403.573125 106.129219 \nL 416.593125 106.129219 \nL 416.593125 121.984219 \nL 403.573125 121.984219 \nL 403.573125 106.129219 \n\" style=\"fill:#33a7c2;\"/>\n    <path clip-path=\"url(#pd23a781904)\" d=\"M 416.593125 106.129219 \nL 429.613125 106.129219 \nL 429.613125 121.984219 \nL 416.593125 121.984219 \nL 416.593125 106.129219 \n\" style=\"fill:#31a5c2;\"/>\n    <path clip-path=\"url(#pd23a781904)\" d=\"M 429.613125 106.129219 \nL 442.633125 106.129219 \nL 442.633125 121.984219 \nL 429.613125 121.984219 \nL 429.613125 106.129219 \n\" style=\"fill:#2ea3c2;\"/>\n    <path clip-path=\"url(#pd23a781904)\" d=\"M 442.633125 106.129219 \nL 455.653125 106.129219 \nL 455.653125 121.984219 \nL 442.633125 121.984219 \nL 442.633125 106.129219 \n\" style=\"fill:#2168ad;\"/>\n    <path clip-path=\"url(#pd23a781904)\" d=\"M 455.653125 106.129219 \nL 468.673125 106.129219 \nL 468.673125 121.984219 \nL 455.653125 121.984219 \nL 455.653125 106.129219 \n\" style=\"fill:#2fa4c2;\"/>\n    <path clip-path=\"url(#pd23a781904)\" d=\"M 468.673125 106.129219 \nL 481.693125 106.129219 \nL 481.693125 121.984219 \nL 468.673125 121.984219 \nL 468.673125 106.129219 \n\" style=\"fill:#216bae;\"/>\n    <path clip-path=\"url(#pd23a781904)\" d=\"M 481.693125 106.129219 \nL 494.713125 106.129219 \nL 494.713125 121.984219 \nL 481.693125 121.984219 \nL 481.693125 106.129219 \n\" style=\"fill:#5bc0c0;\"/>\n    <path clip-path=\"url(#pd23a781904)\" d=\"M 494.713125 106.129219 \nL 507.733125 106.129219 \nL 507.733125 121.984219 \nL 494.713125 121.984219 \nL 494.713125 106.129219 \n\" style=\"fill:#2498c1;\"/>\n    <path clip-path=\"url(#pd23a781904)\" d=\"M 195.253125 121.984219 \nL 208.273125 121.984219 \nL 208.273125 137.839219 \nL 195.253125 137.839219 \nL 195.253125 121.984219 \n\" style=\"fill:#289cc1;\"/>\n    <path clip-path=\"url(#pd23a781904)\" d=\"M 208.273125 121.984219 \nL 221.293125 121.984219 \nL 221.293125 137.839219 \nL 208.273125 137.839219 \nL 208.273125 121.984219 \n\" style=\"fill:#6fc7bd;\"/>\n    <path clip-path=\"url(#pd23a781904)\" d=\"M 221.293125 121.984219 \nL 234.313125 121.984219 \nL 234.313125 137.839219 \nL 221.293125 137.839219 \nL 221.293125 121.984219 \n\" style=\"fill:#89d1ba;\"/>\n    <path clip-path=\"url(#pd23a781904)\" d=\"M 234.313125 121.984219 \nL 247.333125 121.984219 \nL 247.333125 137.839219 \nL 234.313125 137.839219 \nL 234.313125 121.984219 \n\" style=\"fill:#52bcc2;\"/>\n    <path clip-path=\"url(#pd23a781904)\" d=\"M 247.333125 121.984219 \nL 260.353125 121.984219 \nL 260.353125 137.839219 \nL 247.333125 137.839219 \nL 247.333125 121.984219 \n\" style=\"fill:#2355a4;\"/>\n    <path clip-path=\"url(#pd23a781904)\" d=\"M 260.353125 121.984219 \nL 273.373125 121.984219 \nL 273.373125 137.839219 \nL 260.353125 137.839219 \nL 260.353125 121.984219 \n\" style=\"fill:#cfecb3;\"/>\n    <path clip-path=\"url(#pd23a781904)\" d=\"M 273.373125 121.984219 \nL 286.393125 121.984219 \nL 286.393125 137.839219 \nL 273.373125 137.839219 \nL 273.373125 121.984219 \n\" style=\"fill:#e9f7b1;\"/>\n    <path clip-path=\"url(#pd23a781904)\" d=\"M 286.393125 121.984219 \nL 299.413125 121.984219 \nL 299.413125 137.839219 \nL 286.393125 137.839219 \nL 286.393125 121.984219 \n\" style=\"fill:#081d58;\"/>\n    <path clip-path=\"url(#pd23a781904)\" d=\"M 299.413125 121.984219 \nL 312.433125 121.984219 \nL 312.433125 137.839219 \nL 299.413125 137.839219 \nL 299.413125 121.984219 \n\" style=\"fill:#95d5b9;\"/>\n    <path clip-path=\"url(#pd23a781904)\" d=\"M 312.433125 121.984219 \nL 325.453125 121.984219 \nL 325.453125 137.839219 \nL 312.433125 137.839219 \nL 312.433125 121.984219 \n\" style=\"fill:#59bfc0;\"/>\n    <path clip-path=\"url(#pd23a781904)\" d=\"M 325.453125 121.984219 \nL 338.473125 121.984219 \nL 338.473125 137.839219 \nL 325.453125 137.839219 \nL 325.453125 121.984219 \n\" style=\"fill:#ceecb3;\"/>\n    <path clip-path=\"url(#pd23a781904)\" d=\"M 338.473125 121.984219 \nL 351.493125 121.984219 \nL 351.493125 137.839219 \nL 338.473125 137.839219 \nL 338.473125 121.984219 \n\" style=\"fill:#4cbac2;\"/>\n    <path clip-path=\"url(#pd23a781904)\" d=\"M 351.493125 121.984219 \nL 364.513125 121.984219 \nL 364.513125 137.839219 \nL 351.493125 137.839219 \nL 351.493125 121.984219 \n\" style=\"fill:#6bc6be;\"/>\n    <path clip-path=\"url(#pd23a781904)\" d=\"M 364.513125 121.984219 \nL 377.533125 121.984219 \nL 377.533125 137.839219 \nL 364.513125 137.839219 \nL 364.513125 121.984219 \n\" style=\"fill:#4cbac2;\"/>\n    <path clip-path=\"url(#pd23a781904)\" d=\"M 377.533125 121.984219 \nL 390.553125 121.984219 \nL 390.553125 137.839219 \nL 377.533125 137.839219 \nL 377.533125 121.984219 \n\" style=\"fill:#e0f3b2;\"/>\n    <path clip-path=\"url(#pd23a781904)\" d=\"M 390.553125 121.984219 \nL 403.573125 121.984219 \nL 403.573125 137.839219 \nL 390.553125 137.839219 \nL 390.553125 121.984219 \n\" style=\"fill:#87d0ba;\"/>\n    <path clip-path=\"url(#pd23a781904)\" d=\"M 403.573125 121.984219 \nL 416.593125 121.984219 \nL 416.593125 137.839219 \nL 403.573125 137.839219 \nL 403.573125 121.984219 \n\" style=\"fill:#87d0ba;\"/>\n    <path clip-path=\"url(#pd23a781904)\" d=\"M 416.593125 121.984219 \nL 429.613125 121.984219 \nL 429.613125 137.839219 \nL 416.593125 137.839219 \nL 416.593125 121.984219 \n\" style=\"fill:#85cfba;\"/>\n    <path clip-path=\"url(#pd23a781904)\" d=\"M 429.613125 121.984219 \nL 442.633125 121.984219 \nL 442.633125 137.839219 \nL 429.613125 137.839219 \nL 429.613125 121.984219 \n\" style=\"fill:#8cd2ba;\"/>\n    <path clip-path=\"url(#pd23a781904)\" d=\"M 442.633125 121.984219 \nL 455.653125 121.984219 \nL 455.653125 137.839219 \nL 442.633125 137.839219 \nL 442.633125 121.984219 \n\" style=\"fill:#e0f3b2;\"/>\n    <path clip-path=\"url(#pd23a781904)\" d=\"M 455.653125 121.984219 \nL 468.673125 121.984219 \nL 468.673125 137.839219 \nL 455.653125 137.839219 \nL 455.653125 121.984219 \n\" style=\"fill:#6bc6be;\"/>\n    <path clip-path=\"url(#pd23a781904)\" d=\"M 468.673125 121.984219 \nL 481.693125 121.984219 \nL 481.693125 137.839219 \nL 468.673125 137.839219 \nL 468.673125 121.984219 \n\" style=\"fill:#e1f3b2;\"/>\n    <path clip-path=\"url(#pd23a781904)\" d=\"M 481.693125 121.984219 \nL 494.713125 121.984219 \nL 494.713125 137.839219 \nL 481.693125 137.839219 \nL 481.693125 121.984219 \n\" style=\"fill:#2b9fc2;\"/>\n    <path clip-path=\"url(#pd23a781904)\" d=\"M 494.713125 121.984219 \nL 507.733125 121.984219 \nL 507.733125 137.839219 \nL 494.713125 137.839219 \nL 494.713125 121.984219 \n\" style=\"fill:#8ed3ba;\"/>\n    <path clip-path=\"url(#pd23a781904)\" d=\"M 195.253125 137.839219 \nL 208.273125 137.839219 \nL 208.273125 153.694219 \nL 195.253125 153.694219 \nL 195.253125 137.839219 \n\" style=\"fill:#6fc7bd;\"/>\n    <path clip-path=\"url(#pd23a781904)\" d=\"M 208.273125 137.839219 \nL 221.293125 137.839219 \nL 221.293125 153.694219 \nL 208.273125 153.694219 \nL 208.273125 137.839219 \n\" style=\"fill:#2350a1;\"/>\n    <path clip-path=\"url(#pd23a781904)\" d=\"M 221.293125 137.839219 \nL 234.313125 137.839219 \nL 234.313125 153.694219 \nL 221.293125 153.694219 \nL 221.293125 137.839219 \n\" style=\"fill:#1f7eb7;\"/>\n    <path clip-path=\"url(#pd23a781904)\" d=\"M 234.313125 137.839219 \nL 247.333125 137.839219 \nL 247.333125 153.694219 \nL 234.313125 153.694219 \nL 234.313125 137.839219 \n\" style=\"fill:#46b8c3;\"/>\n    <path clip-path=\"url(#pd23a781904)\" d=\"M 247.333125 137.839219 \nL 260.353125 137.839219 \nL 260.353125 153.694219 \nL 247.333125 153.694219 \nL 247.333125 137.839219 \n\" style=\"fill:#3db2c4;\"/>\n    <path clip-path=\"url(#pd23a781904)\" d=\"M 260.353125 137.839219 \nL 273.373125 137.839219 \nL 273.373125 153.694219 \nL 260.353125 153.694219 \nL 260.353125 137.839219 \n\" style=\"fill:#48b9c3;\"/>\n    <path clip-path=\"url(#pd23a781904)\" d=\"M 273.373125 137.839219 \nL 286.393125 137.839219 \nL 286.393125 153.694219 \nL 273.373125 153.694219 \nL 273.373125 137.839219 \n\" style=\"fill:#4ab9c3;\"/>\n    <path clip-path=\"url(#pd23a781904)\" d=\"M 286.393125 137.839219 \nL 299.413125 137.839219 \nL 299.413125 153.694219 \nL 286.393125 153.694219 \nL 286.393125 137.839219 \n\" style=\"fill:#95d5b9;\"/>\n    <path clip-path=\"url(#pd23a781904)\" d=\"M 299.413125 137.839219 \nL 312.433125 137.839219 \nL 312.433125 153.694219 \nL 299.413125 153.694219 \nL 299.413125 137.839219 \n\" style=\"fill:#081d58;\"/>\n    <path clip-path=\"url(#pd23a781904)\" d=\"M 312.433125 137.839219 \nL 325.453125 137.839219 \nL 325.453125 153.694219 \nL 312.433125 153.694219 \nL 312.433125 137.839219 \n\" style=\"fill:#42b6c4;\"/>\n    <path clip-path=\"url(#pd23a781904)\" d=\"M 325.453125 137.839219 \nL 338.473125 137.839219 \nL 338.473125 153.694219 \nL 325.453125 153.694219 \nL 325.453125 137.839219 \n\" style=\"fill:#48b9c3;\"/>\n    <path clip-path=\"url(#pd23a781904)\" d=\"M 338.473125 137.839219 \nL 351.493125 137.839219 \nL 351.493125 153.694219 \nL 338.473125 153.694219 \nL 338.473125 137.839219 \n\" style=\"fill:#40b5c4;\"/>\n    <path clip-path=\"url(#pd23a781904)\" d=\"M 351.493125 137.839219 \nL 364.513125 137.839219 \nL 364.513125 153.694219 \nL 351.493125 153.694219 \nL 351.493125 137.839219 \n\" style=\"fill:#59bfc0;\"/>\n    <path clip-path=\"url(#pd23a781904)\" d=\"M 364.513125 137.839219 \nL 377.533125 137.839219 \nL 377.533125 153.694219 \nL 364.513125 153.694219 \nL 364.513125 137.839219 \n\" style=\"fill:#40b5c4;\"/>\n    <path clip-path=\"url(#pd23a781904)\" d=\"M 377.533125 137.839219 \nL 390.553125 137.839219 \nL 390.553125 153.694219 \nL 377.533125 153.694219 \nL 377.533125 137.839219 \n\" style=\"fill:#2195c0;\"/>\n    <path clip-path=\"url(#pd23a781904)\" d=\"M 390.553125 137.839219 \nL 403.573125 137.839219 \nL 403.573125 153.694219 \nL 390.553125 153.694219 \nL 390.553125 137.839219 \n\" style=\"fill:#2351a2;\"/>\n    <path clip-path=\"url(#pd23a781904)\" d=\"M 403.573125 137.839219 \nL 416.593125 137.839219 \nL 416.593125 153.694219 \nL 403.573125 153.694219 \nL 403.573125 137.839219 \n\" style=\"fill:#2351a2;\"/>\n    <path clip-path=\"url(#pd23a781904)\" d=\"M 416.593125 137.839219 \nL 429.613125 137.839219 \nL 429.613125 153.694219 \nL 416.593125 153.694219 \nL 416.593125 137.839219 \n\" style=\"fill:#4ab9c3;\"/>\n    <path clip-path=\"url(#pd23a781904)\" d=\"M 429.613125 137.839219 \nL 442.633125 137.839219 \nL 442.633125 153.694219 \nL 429.613125 153.694219 \nL 429.613125 137.839219 \n\" style=\"fill:#2351a2;\"/>\n    <path clip-path=\"url(#pd23a781904)\" d=\"M 442.633125 137.839219 \nL 455.653125 137.839219 \nL 455.653125 153.694219 \nL 442.633125 153.694219 \nL 442.633125 137.839219 \n\" style=\"fill:#2195c0;\"/>\n    <path clip-path=\"url(#pd23a781904)\" d=\"M 455.653125 137.839219 \nL 468.673125 137.839219 \nL 468.673125 153.694219 \nL 455.653125 153.694219 \nL 455.653125 137.839219 \n\" style=\"fill:#59bfc0;\"/>\n    <path clip-path=\"url(#pd23a781904)\" d=\"M 468.673125 137.839219 \nL 481.693125 137.839219 \nL 481.693125 153.694219 \nL 468.673125 153.694219 \nL 468.673125 137.839219 \n\" style=\"fill:#1f7db6;\"/>\n    <path clip-path=\"url(#pd23a781904)\" d=\"M 481.693125 137.839219 \nL 494.713125 137.839219 \nL 494.713125 153.694219 \nL 481.693125 153.694219 \nL 481.693125 137.839219 \n\" style=\"fill:#5fc1c0;\"/>\n    <path clip-path=\"url(#pd23a781904)\" d=\"M 494.713125 137.839219 \nL 507.733125 137.839219 \nL 507.733125 153.694219 \nL 494.713125 153.694219 \nL 494.713125 137.839219 \n\" style=\"fill:#31a5c2;\"/>\n    <path clip-path=\"url(#pd23a781904)\" d=\"M 195.253125 153.694219 \nL 208.273125 153.694219 \nL 208.273125 169.549219 \nL 195.253125 169.549219 \nL 195.253125 153.694219 \n\" style=\"fill:#3eb3c4;\"/>\n    <path clip-path=\"url(#pd23a781904)\" d=\"M 208.273125 153.694219 \nL 221.293125 153.694219 \nL 221.293125 169.549219 \nL 208.273125 169.549219 \nL 208.273125 153.694219 \n\" style=\"fill:#42b6c4;\"/>\n    <path clip-path=\"url(#pd23a781904)\" d=\"M 221.293125 153.694219 \nL 234.313125 153.694219 \nL 234.313125 169.549219 \nL 221.293125 169.549219 \nL 221.293125 153.694219 \n\" style=\"fill:#42b6c4;\"/>\n    <path clip-path=\"url(#pd23a781904)\" d=\"M 234.313125 153.694219 \nL 247.333125 153.694219 \nL 247.333125 169.549219 \nL 234.313125 169.549219 \nL 234.313125 153.694219 \n\" style=\"fill:#46b8c3;\"/>\n    <path clip-path=\"url(#pd23a781904)\" d=\"M 247.333125 153.694219 \nL 260.353125 153.694219 \nL 260.353125 169.549219 \nL 247.333125 169.549219 \nL 247.333125 153.694219 \n\" style=\"fill:#6dc6be;\"/>\n    <path clip-path=\"url(#pd23a781904)\" d=\"M 260.353125 153.694219 \nL 273.373125 153.694219 \nL 273.373125 169.549219 \nL 260.353125 169.549219 \nL 260.353125 153.694219 \n\" style=\"fill:#289cc1;\"/>\n    <path clip-path=\"url(#pd23a781904)\" d=\"M 273.373125 153.694219 \nL 286.393125 153.694219 \nL 286.393125 169.549219 \nL 273.373125 169.549219 \nL 273.373125 153.694219 \n\" style=\"fill:#44b7c4;\"/>\n    <path clip-path=\"url(#pd23a781904)\" d=\"M 286.393125 153.694219 \nL 299.413125 153.694219 \nL 299.413125 169.549219 \nL 286.393125 169.549219 \nL 286.393125 153.694219 \n\" style=\"fill:#59bfc0;\"/>\n    <path clip-path=\"url(#pd23a781904)\" d=\"M 299.413125 153.694219 \nL 312.433125 153.694219 \nL 312.433125 169.549219 \nL 299.413125 169.549219 \nL 299.413125 153.694219 \n\" style=\"fill:#42b6c4;\"/>\n    <path clip-path=\"url(#pd23a781904)\" d=\"M 312.433125 153.694219 \nL 325.453125 153.694219 \nL 325.453125 169.549219 \nL 312.433125 169.549219 \nL 312.433125 153.694219 \n\" style=\"fill:#081d58;\"/>\n    <path clip-path=\"url(#pd23a781904)\" d=\"M 325.453125 153.694219 \nL 338.473125 153.694219 \nL 338.473125 169.549219 \nL 325.453125 169.549219 \nL 325.453125 153.694219 \n\" style=\"fill:#42b6c4;\"/>\n    <path clip-path=\"url(#pd23a781904)\" d=\"M 338.473125 153.694219 \nL 351.493125 153.694219 \nL 351.493125 169.549219 \nL 338.473125 169.549219 \nL 338.473125 153.694219 \n\" style=\"fill:#3eb3c4;\"/>\n    <path clip-path=\"url(#pd23a781904)\" d=\"M 351.493125 153.694219 \nL 364.513125 153.694219 \nL 364.513125 169.549219 \nL 351.493125 169.549219 \nL 351.493125 153.694219 \n\" style=\"fill:#32a6c2;\"/>\n    <path clip-path=\"url(#pd23a781904)\" d=\"M 364.513125 153.694219 \nL 377.533125 153.694219 \nL 377.533125 169.549219 \nL 364.513125 169.549219 \nL 364.513125 153.694219 \n\" style=\"fill:#3fb4c4;\"/>\n    <path clip-path=\"url(#pd23a781904)\" d=\"M 377.533125 153.694219 \nL 390.553125 153.694219 \nL 390.553125 169.549219 \nL 377.533125 169.549219 \nL 377.533125 153.694219 \n\" style=\"fill:#3db2c4;\"/>\n    <path clip-path=\"url(#pd23a781904)\" d=\"M 390.553125 153.694219 \nL 403.573125 153.694219 \nL 403.573125 169.549219 \nL 390.553125 169.549219 \nL 390.553125 153.694219 \n\" style=\"fill:#40b5c4;\"/>\n    <path clip-path=\"url(#pd23a781904)\" d=\"M 403.573125 153.694219 \nL 416.593125 153.694219 \nL 416.593125 169.549219 \nL 403.573125 169.549219 \nL 403.573125 153.694219 \n\" style=\"fill:#40b5c4;\"/>\n    <path clip-path=\"url(#pd23a781904)\" d=\"M 416.593125 153.694219 \nL 429.613125 153.694219 \nL 429.613125 169.549219 \nL 416.593125 169.549219 \nL 416.593125 153.694219 \n\" style=\"fill:#44b7c4;\"/>\n    <path clip-path=\"url(#pd23a781904)\" d=\"M 429.613125 153.694219 \nL 442.633125 153.694219 \nL 442.633125 169.549219 \nL 429.613125 169.549219 \nL 429.613125 153.694219 \n\" style=\"fill:#40b5c4;\"/>\n    <path clip-path=\"url(#pd23a781904)\" d=\"M 442.633125 153.694219 \nL 455.653125 153.694219 \nL 455.653125 169.549219 \nL 442.633125 169.549219 \nL 442.633125 153.694219 \n\" style=\"fill:#3db2c4;\"/>\n    <path clip-path=\"url(#pd23a781904)\" d=\"M 455.653125 153.694219 \nL 468.673125 153.694219 \nL 468.673125 169.549219 \nL 455.653125 169.549219 \nL 455.653125 153.694219 \n\" style=\"fill:#32a6c2;\"/>\n    <path clip-path=\"url(#pd23a781904)\" d=\"M 468.673125 153.694219 \nL 481.693125 153.694219 \nL 481.693125 169.549219 \nL 468.673125 169.549219 \nL 468.673125 153.694219 \n\" style=\"fill:#3cb1c3;\"/>\n    <path clip-path=\"url(#pd23a781904)\" d=\"M 481.693125 153.694219 \nL 494.713125 153.694219 \nL 494.713125 169.549219 \nL 481.693125 169.549219 \nL 481.693125 153.694219 \n\" style=\"fill:#42b6c4;\"/>\n    <path clip-path=\"url(#pd23a781904)\" d=\"M 494.713125 153.694219 \nL 507.733125 153.694219 \nL 507.733125 169.549219 \nL 494.713125 169.549219 \nL 494.713125 153.694219 \n\" style=\"fill:#3bb0c3;\"/>\n    <path clip-path=\"url(#pd23a781904)\" d=\"M 195.253125 169.549219 \nL 208.273125 169.549219 \nL 208.273125 185.404219 \nL 195.253125 185.404219 \nL 195.253125 169.549219 \n\" style=\"fill:#4ab9c3;\"/>\n    <path clip-path=\"url(#pd23a781904)\" d=\"M 208.273125 169.549219 \nL 221.293125 169.549219 \nL 221.293125 185.404219 \nL 208.273125 185.404219 \nL 208.273125 169.549219 \n\" style=\"fill:#46b8c3;\"/>\n    <path clip-path=\"url(#pd23a781904)\" d=\"M 221.293125 169.549219 \nL 234.313125 169.549219 \nL 234.313125 185.404219 \nL 221.293125 185.404219 \nL 221.293125 169.549219 \n\" style=\"fill:#3cb1c3;\"/>\n    <path clip-path=\"url(#pd23a781904)\" d=\"M 234.313125 169.549219 \nL 247.333125 169.549219 \nL 247.333125 185.404219 \nL 234.313125 185.404219 \nL 234.313125 169.549219 \n\" style=\"fill:#3db2c4;\"/>\n    <path clip-path=\"url(#pd23a781904)\" d=\"M 247.333125 169.549219 \nL 260.353125 169.549219 \nL 260.353125 185.404219 \nL 247.333125 185.404219 \nL 247.333125 169.549219 \n\" style=\"fill:#feffd6;\"/>\n    <path clip-path=\"url(#pd23a781904)\" d=\"M 260.353125 169.549219 \nL 273.373125 169.549219 \nL 273.373125 185.404219 \nL 260.353125 185.404219 \nL 260.353125 169.549219 \n\" style=\"fill:#0a1e5c;\"/>\n    <path clip-path=\"url(#pd23a781904)\" d=\"M 273.373125 169.549219 \nL 286.393125 169.549219 \nL 286.393125 185.404219 \nL 273.373125 185.404219 \nL 273.373125 169.549219 \n\" style=\"fill:#4ebbc2;\"/>\n    <path clip-path=\"url(#pd23a781904)\" d=\"M 286.393125 169.549219 \nL 299.413125 169.549219 \nL 299.413125 185.404219 \nL 286.393125 185.404219 \nL 286.393125 169.549219 \n\" style=\"fill:#ceecb3;\"/>\n    <path clip-path=\"url(#pd23a781904)\" d=\"M 299.413125 169.549219 \nL 312.433125 169.549219 \nL 312.433125 185.404219 \nL 299.413125 185.404219 \nL 299.413125 169.549219 \n\" style=\"fill:#48b9c3;\"/>\n    <path clip-path=\"url(#pd23a781904)\" d=\"M 312.433125 169.549219 \nL 325.453125 169.549219 \nL 325.453125 185.404219 \nL 312.433125 185.404219 \nL 312.433125 169.549219 \n\" style=\"fill:#42b6c4;\"/>\n    <path clip-path=\"url(#pd23a781904)\" d=\"M 325.453125 169.549219 \nL 338.473125 169.549219 \nL 338.473125 185.404219 \nL 325.453125 185.404219 \nL 325.453125 169.549219 \n\" style=\"fill:#081d58;\"/>\n    <path clip-path=\"url(#pd23a781904)\" d=\"M 338.473125 169.549219 \nL 351.493125 169.549219 \nL 351.493125 185.404219 \nL 338.473125 185.404219 \nL 338.473125 169.549219 \n\" style=\"fill:#3db2c4;\"/>\n    <path clip-path=\"url(#pd23a781904)\" d=\"M 351.493125 169.549219 \nL 364.513125 169.549219 \nL 364.513125 185.404219 \nL 351.493125 185.404219 \nL 351.493125 169.549219 \n\" style=\"fill:#299dc1;\"/>\n    <path clip-path=\"url(#pd23a781904)\" d=\"M 364.513125 169.549219 \nL 377.533125 169.549219 \nL 377.533125 185.404219 \nL 364.513125 185.404219 \nL 364.513125 169.549219 \n\" style=\"fill:#3db2c4;\"/>\n    <path clip-path=\"url(#pd23a781904)\" d=\"M 377.533125 169.549219 \nL 390.553125 169.549219 \nL 390.553125 185.404219 \nL 377.533125 185.404219 \nL 377.533125 169.549219 \n\" style=\"fill:#2073b2;\"/>\n    <path clip-path=\"url(#pd23a781904)\" d=\"M 390.553125 169.549219 \nL 403.573125 169.549219 \nL 403.573125 185.404219 \nL 390.553125 185.404219 \nL 390.553125 169.549219 \n\" style=\"fill:#44b7c4;\"/>\n    <path clip-path=\"url(#pd23a781904)\" d=\"M 403.573125 169.549219 \nL 416.593125 169.549219 \nL 416.593125 185.404219 \nL 403.573125 185.404219 \nL 403.573125 169.549219 \n\" style=\"fill:#44b7c4;\"/>\n    <path clip-path=\"url(#pd23a781904)\" d=\"M 416.593125 169.549219 \nL 429.613125 169.549219 \nL 429.613125 185.404219 \nL 416.593125 185.404219 \nL 416.593125 169.549219 \n\" style=\"fill:#1f80b8;\"/>\n    <path clip-path=\"url(#pd23a781904)\" d=\"M 429.613125 169.549219 \nL 442.633125 169.549219 \nL 442.633125 185.404219 \nL 429.613125 185.404219 \nL 429.613125 169.549219 \n\" style=\"fill:#44b7c4;\"/>\n    <path clip-path=\"url(#pd23a781904)\" d=\"M 442.633125 169.549219 \nL 455.653125 169.549219 \nL 455.653125 185.404219 \nL 442.633125 185.404219 \nL 442.633125 169.549219 \n\" style=\"fill:#2073b2;\"/>\n    <path clip-path=\"url(#pd23a781904)\" d=\"M 455.653125 169.549219 \nL 468.673125 169.549219 \nL 468.673125 185.404219 \nL 455.653125 185.404219 \nL 455.653125 169.549219 \n\" style=\"fill:#299dc1;\"/>\n    <path clip-path=\"url(#pd23a781904)\" d=\"M 468.673125 169.549219 \nL 481.693125 169.549219 \nL 481.693125 185.404219 \nL 468.673125 185.404219 \nL 468.673125 169.549219 \n\" style=\"fill:#1f7eb7;\"/>\n    <path clip-path=\"url(#pd23a781904)\" d=\"M 481.693125 169.549219 \nL 494.713125 169.549219 \nL 494.713125 185.404219 \nL 481.693125 185.404219 \nL 481.693125 169.549219 \n\" style=\"fill:#4cbac2;\"/>\n    <path clip-path=\"url(#pd23a781904)\" d=\"M 494.713125 169.549219 \nL 507.733125 169.549219 \nL 507.733125 185.404219 \nL 494.713125 185.404219 \nL 494.713125 169.549219 \n\" style=\"fill:#289cc1;\"/>\n    <path clip-path=\"url(#pd23a781904)\" d=\"M 195.253125 185.404219 \nL 208.273125 185.404219 \nL 208.273125 201.259219 \nL 195.253125 201.259219 \nL 195.253125 185.404219 \n\" style=\"fill:#57bec1;\"/>\n    <path clip-path=\"url(#pd23a781904)\" d=\"M 208.273125 185.404219 \nL 221.293125 185.404219 \nL 221.293125 201.259219 \nL 208.273125 201.259219 \nL 208.273125 185.404219 \n\" style=\"fill:#34a9c3;\"/>\n    <path clip-path=\"url(#pd23a781904)\" d=\"M 221.293125 185.404219 \nL 234.313125 185.404219 \nL 234.313125 201.259219 \nL 221.293125 201.259219 \nL 221.293125 185.404219 \n\" style=\"fill:#2ca1c2;\"/>\n    <path clip-path=\"url(#pd23a781904)\" d=\"M 234.313125 185.404219 \nL 247.333125 185.404219 \nL 247.333125 201.259219 \nL 234.313125 201.259219 \nL 234.313125 185.404219 \n\" style=\"fill:#3db2c4;\"/>\n    <path clip-path=\"url(#pd23a781904)\" d=\"M 247.333125 185.404219 \nL 260.353125 185.404219 \nL 260.353125 201.259219 \nL 247.333125 201.259219 \nL 247.333125 185.404219 \n\" style=\"fill:#48b9c3;\"/>\n    <path clip-path=\"url(#pd23a781904)\" d=\"M 260.353125 185.404219 \nL 273.373125 185.404219 \nL 273.373125 201.259219 \nL 260.353125 201.259219 \nL 260.353125 185.404219 \n\" style=\"fill:#3db2c4;\"/>\n    <path clip-path=\"url(#pd23a781904)\" d=\"M 273.373125 185.404219 \nL 286.393125 185.404219 \nL 286.393125 201.259219 \nL 273.373125 201.259219 \nL 273.373125 185.404219 \n\" style=\"fill:#3cb1c3;\"/>\n    <path clip-path=\"url(#pd23a781904)\" d=\"M 286.393125 185.404219 \nL 299.413125 185.404219 \nL 299.413125 201.259219 \nL 286.393125 201.259219 \nL 286.393125 185.404219 \n\" style=\"fill:#4cbac2;\"/>\n    <path clip-path=\"url(#pd23a781904)\" d=\"M 299.413125 185.404219 \nL 312.433125 185.404219 \nL 312.433125 201.259219 \nL 299.413125 201.259219 \nL 299.413125 185.404219 \n\" style=\"fill:#40b5c4;\"/>\n    <path clip-path=\"url(#pd23a781904)\" d=\"M 312.433125 185.404219 \nL 325.453125 185.404219 \nL 325.453125 201.259219 \nL 312.433125 201.259219 \nL 312.433125 185.404219 \n\" style=\"fill:#3eb3c4;\"/>\n    <path clip-path=\"url(#pd23a781904)\" d=\"M 325.453125 185.404219 \nL 338.473125 185.404219 \nL 338.473125 201.259219 \nL 325.453125 201.259219 \nL 325.453125 185.404219 \n\" style=\"fill:#3db2c4;\"/>\n    <path clip-path=\"url(#pd23a781904)\" d=\"M 338.473125 185.404219 \nL 351.493125 185.404219 \nL 351.493125 201.259219 \nL 338.473125 201.259219 \nL 338.473125 185.404219 \n\" style=\"fill:#081d58;\"/>\n    <path clip-path=\"url(#pd23a781904)\" d=\"M 351.493125 185.404219 \nL 364.513125 185.404219 \nL 364.513125 201.259219 \nL 351.493125 201.259219 \nL 351.493125 185.404219 \n\" style=\"fill:#36abc3;\"/>\n    <path clip-path=\"url(#pd23a781904)\" d=\"M 364.513125 185.404219 \nL 377.533125 185.404219 \nL 377.533125 201.259219 \nL 364.513125 201.259219 \nL 364.513125 185.404219 \n\" style=\"fill:#081d58;\"/>\n    <path clip-path=\"url(#pd23a781904)\" d=\"M 377.533125 185.404219 \nL 390.553125 185.404219 \nL 390.553125 201.259219 \nL 377.533125 201.259219 \nL 377.533125 185.404219 \n\" style=\"fill:#3fb4c4;\"/>\n    <path clip-path=\"url(#pd23a781904)\" d=\"M 390.553125 185.404219 \nL 403.573125 185.404219 \nL 403.573125 201.259219 \nL 390.553125 201.259219 \nL 390.553125 185.404219 \n\" style=\"fill:#3eb3c4;\"/>\n    <path clip-path=\"url(#pd23a781904)\" d=\"M 403.573125 185.404219 \nL 416.593125 185.404219 \nL 416.593125 201.259219 \nL 403.573125 201.259219 \nL 403.573125 185.404219 \n\" style=\"fill:#3eb3c4;\"/>\n    <path clip-path=\"url(#pd23a781904)\" d=\"M 416.593125 185.404219 \nL 429.613125 185.404219 \nL 429.613125 201.259219 \nL 416.593125 201.259219 \nL 416.593125 185.404219 \n\" style=\"fill:#3fb4c4;\"/>\n    <path clip-path=\"url(#pd23a781904)\" d=\"M 429.613125 185.404219 \nL 442.633125 185.404219 \nL 442.633125 201.259219 \nL 429.613125 201.259219 \nL 429.613125 185.404219 \n\" style=\"fill:#3db2c4;\"/>\n    <path clip-path=\"url(#pd23a781904)\" d=\"M 442.633125 185.404219 \nL 455.653125 185.404219 \nL 455.653125 201.259219 \nL 442.633125 201.259219 \nL 442.633125 185.404219 \n\" style=\"fill:#3fb4c4;\"/>\n    <path clip-path=\"url(#pd23a781904)\" d=\"M 455.653125 185.404219 \nL 468.673125 185.404219 \nL 468.673125 201.259219 \nL 455.653125 201.259219 \nL 455.653125 185.404219 \n\" style=\"fill:#37acc3;\"/>\n    <path clip-path=\"url(#pd23a781904)\" d=\"M 468.673125 185.404219 \nL 481.693125 185.404219 \nL 481.693125 201.259219 \nL 468.673125 201.259219 \nL 468.673125 185.404219 \n\" style=\"fill:#3eb3c4;\"/>\n    <path clip-path=\"url(#pd23a781904)\" d=\"M 481.693125 185.404219 \nL 494.713125 185.404219 \nL 494.713125 201.259219 \nL 481.693125 201.259219 \nL 481.693125 185.404219 \n\" style=\"fill:#4ebbc2;\"/>\n    <path clip-path=\"url(#pd23a781904)\" d=\"M 494.713125 185.404219 \nL 507.733125 185.404219 \nL 507.733125 201.259219 \nL 494.713125 201.259219 \nL 494.713125 185.404219 \n\" style=\"fill:#172978;\"/>\n    <path clip-path=\"url(#pd23a781904)\" d=\"M 195.253125 201.259219 \nL 208.273125 201.259219 \nL 208.273125 217.114219 \nL 195.253125 217.114219 \nL 195.253125 201.259219 \n\" style=\"fill:#4ebbc2;\"/>\n    <path clip-path=\"url(#pd23a781904)\" d=\"M 208.273125 201.259219 \nL 221.293125 201.259219 \nL 221.293125 217.114219 \nL 208.273125 217.114219 \nL 208.273125 201.259219 \n\" style=\"fill:#52bcc2;\"/>\n    <path clip-path=\"url(#pd23a781904)\" d=\"M 221.293125 201.259219 \nL 234.313125 201.259219 \nL 234.313125 217.114219 \nL 221.293125 217.114219 \nL 221.293125 201.259219 \n\" style=\"fill:#3cb1c3;\"/>\n    <path clip-path=\"url(#pd23a781904)\" d=\"M 234.313125 201.259219 \nL 247.333125 201.259219 \nL 247.333125 217.114219 \nL 234.313125 217.114219 \nL 234.313125 201.259219 \n\" style=\"fill:#39adc3;\"/>\n    <path clip-path=\"url(#pd23a781904)\" d=\"M 247.333125 201.259219 \nL 260.353125 201.259219 \nL 260.353125 217.114219 \nL 247.333125 217.114219 \nL 247.333125 201.259219 \n\" style=\"fill:#6fc7bd;\"/>\n    <path clip-path=\"url(#pd23a781904)\" d=\"M 260.353125 201.259219 \nL 273.373125 201.259219 \nL 273.373125 217.114219 \nL 260.353125 217.114219 \nL 260.353125 201.259219 \n\" style=\"fill:#269bc1;\"/>\n    <path clip-path=\"url(#pd23a781904)\" d=\"M 273.373125 201.259219 \nL 286.393125 201.259219 \nL 286.393125 217.114219 \nL 273.373125 217.114219 \nL 273.373125 201.259219 \n\" style=\"fill:#2fa4c2;\"/>\n    <path clip-path=\"url(#pd23a781904)\" d=\"M 286.393125 201.259219 \nL 299.413125 201.259219 \nL 299.413125 217.114219 \nL 286.393125 217.114219 \nL 286.393125 201.259219 \n\" style=\"fill:#6bc6be;\"/>\n    <path clip-path=\"url(#pd23a781904)\" d=\"M 299.413125 201.259219 \nL 312.433125 201.259219 \nL 312.433125 217.114219 \nL 299.413125 217.114219 \nL 299.413125 201.259219 \n\" style=\"fill:#59bfc0;\"/>\n    <path clip-path=\"url(#pd23a781904)\" d=\"M 312.433125 201.259219 \nL 325.453125 201.259219 \nL 325.453125 217.114219 \nL 312.433125 217.114219 \nL 312.433125 201.259219 \n\" style=\"fill:#32a6c2;\"/>\n    <path clip-path=\"url(#pd23a781904)\" d=\"M 325.453125 201.259219 \nL 338.473125 201.259219 \nL 338.473125 217.114219 \nL 325.453125 217.114219 \nL 325.453125 201.259219 \n\" style=\"fill:#299dc1;\"/>\n    <path clip-path=\"url(#pd23a781904)\" d=\"M 338.473125 201.259219 \nL 351.493125 201.259219 \nL 351.493125 217.114219 \nL 338.473125 217.114219 \nL 338.473125 201.259219 \n\" style=\"fill:#36abc3;\"/>\n    <path clip-path=\"url(#pd23a781904)\" d=\"M 351.493125 201.259219 \nL 364.513125 201.259219 \nL 364.513125 217.114219 \nL 351.493125 217.114219 \nL 351.493125 201.259219 \n\" style=\"fill:#081d58;\"/>\n    <path clip-path=\"url(#pd23a781904)\" d=\"M 364.513125 201.259219 \nL 377.533125 201.259219 \nL 377.533125 217.114219 \nL 364.513125 217.114219 \nL 364.513125 201.259219 \n\" style=\"fill:#36abc3;\"/>\n    <path clip-path=\"url(#pd23a781904)\" d=\"M 377.533125 201.259219 \nL 390.553125 201.259219 \nL 390.553125 217.114219 \nL 377.533125 217.114219 \nL 377.533125 201.259219 \n\" style=\"fill:#2fa4c2;\"/>\n    <path clip-path=\"url(#pd23a781904)\" d=\"M 390.553125 201.259219 \nL 403.573125 201.259219 \nL 403.573125 217.114219 \nL 390.553125 217.114219 \nL 390.553125 201.259219 \n\" style=\"fill:#53bdc1;\"/>\n    <path clip-path=\"url(#pd23a781904)\" d=\"M 403.573125 201.259219 \nL 416.593125 201.259219 \nL 416.593125 217.114219 \nL 403.573125 217.114219 \nL 403.573125 201.259219 \n\" style=\"fill:#53bdc1;\"/>\n    <path clip-path=\"url(#pd23a781904)\" d=\"M 416.593125 201.259219 \nL 429.613125 201.259219 \nL 429.613125 217.114219 \nL 416.593125 217.114219 \nL 416.593125 201.259219 \n\" style=\"fill:#299dc1;\"/>\n    <path clip-path=\"url(#pd23a781904)\" d=\"M 429.613125 201.259219 \nL 442.633125 201.259219 \nL 442.633125 217.114219 \nL 429.613125 217.114219 \nL 429.613125 201.259219 \n\" style=\"fill:#53bdc1;\"/>\n    <path clip-path=\"url(#pd23a781904)\" d=\"M 442.633125 201.259219 \nL 455.653125 201.259219 \nL 455.653125 217.114219 \nL 442.633125 217.114219 \nL 442.633125 201.259219 \n\" style=\"fill:#2fa4c2;\"/>\n    <path clip-path=\"url(#pd23a781904)\" d=\"M 455.653125 201.259219 \nL 468.673125 201.259219 \nL 468.673125 217.114219 \nL 455.653125 217.114219 \nL 455.653125 201.259219 \n\" style=\"fill:#081d58;\"/>\n    <path clip-path=\"url(#pd23a781904)\" d=\"M 468.673125 201.259219 \nL 481.693125 201.259219 \nL 481.693125 217.114219 \nL 468.673125 217.114219 \nL 468.673125 201.259219 \n\" style=\"fill:#289cc1;\"/>\n    <path clip-path=\"url(#pd23a781904)\" d=\"M 481.693125 201.259219 \nL 494.713125 201.259219 \nL 494.713125 217.114219 \nL 481.693125 217.114219 \nL 481.693125 201.259219 \n\" style=\"fill:#4cbac2;\"/>\n    <path clip-path=\"url(#pd23a781904)\" d=\"M 494.713125 201.259219 \nL 507.733125 201.259219 \nL 507.733125 217.114219 \nL 494.713125 217.114219 \nL 494.713125 201.259219 \n\" style=\"fill:#1f7bb6;\"/>\n    <path clip-path=\"url(#pd23a781904)\" d=\"M 195.253125 217.114219 \nL 208.273125 217.114219 \nL 208.273125 232.969219 \nL 195.253125 232.969219 \nL 195.253125 217.114219 \n\" style=\"fill:#57bec1;\"/>\n    <path clip-path=\"url(#pd23a781904)\" d=\"M 208.273125 217.114219 \nL 221.293125 217.114219 \nL 221.293125 232.969219 \nL 208.273125 232.969219 \nL 208.273125 217.114219 \n\" style=\"fill:#34a9c3;\"/>\n    <path clip-path=\"url(#pd23a781904)\" d=\"M 221.293125 217.114219 \nL 234.313125 217.114219 \nL 234.313125 232.969219 \nL 221.293125 232.969219 \nL 221.293125 217.114219 \n\" style=\"fill:#2ca1c2;\"/>\n    <path clip-path=\"url(#pd23a781904)\" d=\"M 234.313125 217.114219 \nL 247.333125 217.114219 \nL 247.333125 232.969219 \nL 234.313125 232.969219 \nL 234.313125 217.114219 \n\" style=\"fill:#3db2c4;\"/>\n    <path clip-path=\"url(#pd23a781904)\" d=\"M 247.333125 217.114219 \nL 260.353125 217.114219 \nL 260.353125 232.969219 \nL 247.333125 232.969219 \nL 247.333125 217.114219 \n\" style=\"fill:#48b9c3;\"/>\n    <path clip-path=\"url(#pd23a781904)\" d=\"M 260.353125 217.114219 \nL 273.373125 217.114219 \nL 273.373125 232.969219 \nL 260.353125 232.969219 \nL 260.353125 217.114219 \n\" style=\"fill:#3db2c4;\"/>\n    <path clip-path=\"url(#pd23a781904)\" d=\"M 273.373125 217.114219 \nL 286.393125 217.114219 \nL 286.393125 232.969219 \nL 273.373125 232.969219 \nL 273.373125 217.114219 \n\" style=\"fill:#3cb1c3;\"/>\n    <path clip-path=\"url(#pd23a781904)\" d=\"M 286.393125 217.114219 \nL 299.413125 217.114219 \nL 299.413125 232.969219 \nL 286.393125 232.969219 \nL 286.393125 217.114219 \n\" style=\"fill:#4cbac2;\"/>\n    <path clip-path=\"url(#pd23a781904)\" d=\"M 299.413125 217.114219 \nL 312.433125 217.114219 \nL 312.433125 232.969219 \nL 299.413125 232.969219 \nL 299.413125 217.114219 \n\" style=\"fill:#40b5c4;\"/>\n    <path clip-path=\"url(#pd23a781904)\" d=\"M 312.433125 217.114219 \nL 325.453125 217.114219 \nL 325.453125 232.969219 \nL 312.433125 232.969219 \nL 312.433125 217.114219 \n\" style=\"fill:#3fb4c4;\"/>\n    <path clip-path=\"url(#pd23a781904)\" d=\"M 325.453125 217.114219 \nL 338.473125 217.114219 \nL 338.473125 232.969219 \nL 325.453125 232.969219 \nL 325.453125 217.114219 \n\" style=\"fill:#3db2c4;\"/>\n    <path clip-path=\"url(#pd23a781904)\" d=\"M 338.473125 217.114219 \nL 351.493125 217.114219 \nL 351.493125 232.969219 \nL 338.473125 232.969219 \nL 338.473125 217.114219 \n\" style=\"fill:#081d58;\"/>\n    <path clip-path=\"url(#pd23a781904)\" d=\"M 351.493125 217.114219 \nL 364.513125 217.114219 \nL 364.513125 232.969219 \nL 351.493125 232.969219 \nL 351.493125 217.114219 \n\" style=\"fill:#36abc3;\"/>\n    <path clip-path=\"url(#pd23a781904)\" d=\"M 364.513125 217.114219 \nL 377.533125 217.114219 \nL 377.533125 232.969219 \nL 364.513125 232.969219 \nL 364.513125 217.114219 \n\" style=\"fill:#081d58;\"/>\n    <path clip-path=\"url(#pd23a781904)\" d=\"M 377.533125 217.114219 \nL 390.553125 217.114219 \nL 390.553125 232.969219 \nL 377.533125 232.969219 \nL 377.533125 217.114219 \n\" style=\"fill:#3fb4c4;\"/>\n    <path clip-path=\"url(#pd23a781904)\" d=\"M 390.553125 217.114219 \nL 403.573125 217.114219 \nL 403.573125 232.969219 \nL 390.553125 232.969219 \nL 390.553125 217.114219 \n\" style=\"fill:#3eb3c4;\"/>\n    <path clip-path=\"url(#pd23a781904)\" d=\"M 403.573125 217.114219 \nL 416.593125 217.114219 \nL 416.593125 232.969219 \nL 403.573125 232.969219 \nL 403.573125 217.114219 \n\" style=\"fill:#3eb3c4;\"/>\n    <path clip-path=\"url(#pd23a781904)\" d=\"M 416.593125 217.114219 \nL 429.613125 217.114219 \nL 429.613125 232.969219 \nL 416.593125 232.969219 \nL 416.593125 217.114219 \n\" style=\"fill:#3fb4c4;\"/>\n    <path clip-path=\"url(#pd23a781904)\" d=\"M 429.613125 217.114219 \nL 442.633125 217.114219 \nL 442.633125 232.969219 \nL 429.613125 232.969219 \nL 429.613125 217.114219 \n\" style=\"fill:#3db2c4;\"/>\n    <path clip-path=\"url(#pd23a781904)\" d=\"M 442.633125 217.114219 \nL 455.653125 217.114219 \nL 455.653125 232.969219 \nL 442.633125 232.969219 \nL 442.633125 217.114219 \n\" style=\"fill:#3fb4c4;\"/>\n    <path clip-path=\"url(#pd23a781904)\" d=\"M 455.653125 217.114219 \nL 468.673125 217.114219 \nL 468.673125 232.969219 \nL 455.653125 232.969219 \nL 455.653125 217.114219 \n\" style=\"fill:#37acc3;\"/>\n    <path clip-path=\"url(#pd23a781904)\" d=\"M 468.673125 217.114219 \nL 481.693125 217.114219 \nL 481.693125 232.969219 \nL 468.673125 232.969219 \nL 468.673125 217.114219 \n\" style=\"fill:#3eb3c4;\"/>\n    <path clip-path=\"url(#pd23a781904)\" d=\"M 481.693125 217.114219 \nL 494.713125 217.114219 \nL 494.713125 232.969219 \nL 481.693125 232.969219 \nL 481.693125 217.114219 \n\" style=\"fill:#4ebbc2;\"/>\n    <path clip-path=\"url(#pd23a781904)\" d=\"M 494.713125 217.114219 \nL 507.733125 217.114219 \nL 507.733125 232.969219 \nL 494.713125 232.969219 \nL 494.713125 217.114219 \n\" style=\"fill:#172978;\"/>\n    <path clip-path=\"url(#pd23a781904)\" d=\"M 195.253125 232.969219 \nL 208.273125 232.969219 \nL 208.273125 248.824219 \nL 195.253125 248.824219 \nL 195.253125 232.969219 \n\" style=\"fill:#75c9bd;\"/>\n    <path clip-path=\"url(#pd23a781904)\" d=\"M 208.273125 232.969219 \nL 221.293125 232.969219 \nL 221.293125 248.824219 \nL 208.273125 248.824219 \nL 208.273125 232.969219 \n\" style=\"fill:#2da2c2;\"/>\n    <path clip-path=\"url(#pd23a781904)\" d=\"M 221.293125 232.969219 \nL 234.313125 232.969219 \nL 234.313125 248.824219 \nL 221.293125 248.824219 \nL 221.293125 232.969219 \n\" style=\"fill:#2498c1;\"/>\n    <path clip-path=\"url(#pd23a781904)\" d=\"M 234.313125 232.969219 \nL 247.333125 232.969219 \nL 247.333125 248.824219 \nL 234.313125 248.824219 \nL 234.313125 232.969219 \n\" style=\"fill:#2ea3c2;\"/>\n    <path clip-path=\"url(#pd23a781904)\" d=\"M 247.333125 232.969219 \nL 260.353125 232.969219 \nL 260.353125 248.824219 \nL 247.333125 248.824219 \nL 247.333125 232.969219 \n\" style=\"fill:#a9ddb7;\"/>\n    <path clip-path=\"url(#pd23a781904)\" d=\"M 260.353125 232.969219 \nL 273.373125 232.969219 \nL 273.373125 248.824219 \nL 260.353125 248.824219 \nL 260.353125 232.969219 \n\" style=\"fill:#2073b2;\"/>\n    <path clip-path=\"url(#pd23a781904)\" d=\"M 273.373125 232.969219 \nL 286.393125 232.969219 \nL 286.393125 248.824219 \nL 273.373125 248.824219 \nL 273.373125 232.969219 \n\" style=\"fill:#2168ad;\"/>\n    <path clip-path=\"url(#pd23a781904)\" d=\"M 286.393125 232.969219 \nL 299.413125 232.969219 \nL 299.413125 248.824219 \nL 286.393125 248.824219 \nL 286.393125 232.969219 \n\" style=\"fill:#e0f3b2;\"/>\n    <path clip-path=\"url(#pd23a781904)\" d=\"M 299.413125 232.969219 \nL 312.433125 232.969219 \nL 312.433125 248.824219 \nL 299.413125 248.824219 \nL 299.413125 232.969219 \n\" style=\"fill:#2195c0;\"/>\n    <path clip-path=\"url(#pd23a781904)\" d=\"M 312.433125 232.969219 \nL 325.453125 232.969219 \nL 325.453125 248.824219 \nL 312.433125 248.824219 \nL 312.433125 232.969219 \n\" style=\"fill:#3db2c4;\"/>\n    <path clip-path=\"url(#pd23a781904)\" d=\"M 325.453125 232.969219 \nL 338.473125 232.969219 \nL 338.473125 248.824219 \nL 325.453125 248.824219 \nL 325.453125 232.969219 \n\" style=\"fill:#2073b2;\"/>\n    <path clip-path=\"url(#pd23a781904)\" d=\"M 338.473125 232.969219 \nL 351.493125 232.969219 \nL 351.493125 248.824219 \nL 338.473125 248.824219 \nL 338.473125 232.969219 \n\" style=\"fill:#3fb4c4;\"/>\n    <path clip-path=\"url(#pd23a781904)\" d=\"M 351.493125 232.969219 \nL 364.513125 232.969219 \nL 364.513125 248.824219 \nL 351.493125 248.824219 \nL 351.493125 232.969219 \n\" style=\"fill:#2fa4c2;\"/>\n    <path clip-path=\"url(#pd23a781904)\" d=\"M 364.513125 232.969219 \nL 377.533125 232.969219 \nL 377.533125 248.824219 \nL 364.513125 248.824219 \nL 364.513125 232.969219 \n\" style=\"fill:#3fb4c4;\"/>\n    <path clip-path=\"url(#pd23a781904)\" d=\"M 377.533125 232.969219 \nL 390.553125 232.969219 \nL 390.553125 248.824219 \nL 377.533125 248.824219 \nL 377.533125 232.969219 \n\" style=\"fill:#081d58;\"/>\n    <path clip-path=\"url(#pd23a781904)\" d=\"M 390.553125 232.969219 \nL 403.573125 232.969219 \nL 403.573125 248.824219 \nL 390.553125 248.824219 \nL 390.553125 232.969219 \n\" style=\"fill:#269bc1;\"/>\n    <path clip-path=\"url(#pd23a781904)\" d=\"M 403.573125 232.969219 \nL 416.593125 232.969219 \nL 416.593125 248.824219 \nL 403.573125 248.824219 \nL 403.573125 232.969219 \n\" style=\"fill:#269bc1;\"/>\n    <path clip-path=\"url(#pd23a781904)\" d=\"M 416.593125 232.969219 \nL 429.613125 232.969219 \nL 429.613125 248.824219 \nL 416.593125 248.824219 \nL 416.593125 232.969219 \n\" style=\"fill:#2da2c2;\"/>\n    <path clip-path=\"url(#pd23a781904)\" d=\"M 429.613125 232.969219 \nL 442.633125 232.969219 \nL 442.633125 248.824219 \nL 429.613125 248.824219 \nL 429.613125 232.969219 \n\" style=\"fill:#2498c1;\"/>\n    <path clip-path=\"url(#pd23a781904)\" d=\"M 442.633125 232.969219 \nL 455.653125 232.969219 \nL 455.653125 248.824219 \nL 442.633125 248.824219 \nL 442.633125 232.969219 \n\" style=\"fill:#081d58;\"/>\n    <path clip-path=\"url(#pd23a781904)\" d=\"M 455.653125 232.969219 \nL 468.673125 232.969219 \nL 468.673125 248.824219 \nL 455.653125 248.824219 \nL 455.653125 232.969219 \n\" style=\"fill:#2fa4c2;\"/>\n    <path clip-path=\"url(#pd23a781904)\" d=\"M 468.673125 232.969219 \nL 481.693125 232.969219 \nL 481.693125 248.824219 \nL 468.673125 248.824219 \nL 468.673125 232.969219 \n\" style=\"fill:#0c2060;\"/>\n    <path clip-path=\"url(#pd23a781904)\" d=\"M 481.693125 232.969219 \nL 494.713125 232.969219 \nL 494.713125 248.824219 \nL 481.693125 248.824219 \nL 481.693125 232.969219 \n\" style=\"fill:#61c2bf;\"/>\n    <path clip-path=\"url(#pd23a781904)\" d=\"M 494.713125 232.969219 \nL 507.733125 232.969219 \nL 507.733125 248.824219 \nL 494.713125 248.824219 \nL 494.713125 232.969219 \n\" style=\"fill:#1e86bb;\"/>\n    <path clip-path=\"url(#pd23a781904)\" d=\"M 195.253125 248.824219 \nL 208.273125 248.824219 \nL 208.273125 264.679219 \nL 195.253125 264.679219 \nL 195.253125 248.824219 \n\" style=\"fill:#5bc0c0;\"/>\n    <path clip-path=\"url(#pd23a781904)\" d=\"M 208.273125 248.824219 \nL 221.293125 248.824219 \nL 221.293125 264.679219 \nL 208.273125 264.679219 \nL 208.273125 248.824219 \n\" style=\"fill:#1d8ebf;\"/>\n    <path clip-path=\"url(#pd23a781904)\" d=\"M 221.293125 248.824219 \nL 234.313125 248.824219 \nL 234.313125 264.679219 \nL 221.293125 264.679219 \nL 221.293125 248.824219 \n\" style=\"fill:#37acc3;\"/>\n    <path clip-path=\"url(#pd23a781904)\" d=\"M 234.313125 248.824219 \nL 247.333125 248.824219 \nL 247.333125 264.679219 \nL 234.313125 264.679219 \nL 234.313125 248.824219 \n\" style=\"fill:#3bb0c3;\"/>\n    <path clip-path=\"url(#pd23a781904)\" d=\"M 247.333125 248.824219 \nL 260.353125 248.824219 \nL 260.353125 264.679219 \nL 247.333125 264.679219 \nL 247.333125 248.824219 \n\" style=\"fill:#3fb4c4;\"/>\n    <path clip-path=\"url(#pd23a781904)\" d=\"M 260.353125 248.824219 \nL 273.373125 248.824219 \nL 273.373125 264.679219 \nL 260.353125 264.679219 \nL 260.353125 248.824219 \n\" style=\"fill:#44b7c4;\"/>\n    <path clip-path=\"url(#pd23a781904)\" d=\"M 273.373125 248.824219 \nL 286.393125 248.824219 \nL 286.393125 264.679219 \nL 273.373125 264.679219 \nL 273.373125 248.824219 \n\" style=\"fill:#33a7c2;\"/>\n    <path clip-path=\"url(#pd23a781904)\" d=\"M 286.393125 248.824219 \nL 299.413125 248.824219 \nL 299.413125 264.679219 \nL 286.393125 264.679219 \nL 286.393125 248.824219 \n\" style=\"fill:#87d0ba;\"/>\n    <path clip-path=\"url(#pd23a781904)\" d=\"M 299.413125 248.824219 \nL 312.433125 248.824219 \nL 312.433125 264.679219 \nL 299.413125 264.679219 \nL 299.413125 248.824219 \n\" style=\"fill:#2351a2;\"/>\n    <path clip-path=\"url(#pd23a781904)\" d=\"M 312.433125 248.824219 \nL 325.453125 248.824219 \nL 325.453125 264.679219 \nL 312.433125 264.679219 \nL 312.433125 248.824219 \n\" style=\"fill:#40b5c4;\"/>\n    <path clip-path=\"url(#pd23a781904)\" d=\"M 325.453125 248.824219 \nL 338.473125 248.824219 \nL 338.473125 264.679219 \nL 325.453125 264.679219 \nL 325.453125 248.824219 \n\" style=\"fill:#44b7c4;\"/>\n    <path clip-path=\"url(#pd23a781904)\" d=\"M 338.473125 248.824219 \nL 351.493125 248.824219 \nL 351.493125 264.679219 \nL 338.473125 264.679219 \nL 338.473125 248.824219 \n\" style=\"fill:#3eb3c4;\"/>\n    <path clip-path=\"url(#pd23a781904)\" d=\"M 351.493125 248.824219 \nL 364.513125 248.824219 \nL 364.513125 264.679219 \nL 351.493125 264.679219 \nL 351.493125 248.824219 \n\" style=\"fill:#53bdc1;\"/>\n    <path clip-path=\"url(#pd23a781904)\" d=\"M 364.513125 248.824219 \nL 377.533125 248.824219 \nL 377.533125 264.679219 \nL 364.513125 264.679219 \nL 364.513125 248.824219 \n\" style=\"fill:#3eb3c4;\"/>\n    <path clip-path=\"url(#pd23a781904)\" d=\"M 377.533125 248.824219 \nL 390.553125 248.824219 \nL 390.553125 264.679219 \nL 377.533125 264.679219 \nL 377.533125 248.824219 \n\" style=\"fill:#269bc1;\"/>\n    <path clip-path=\"url(#pd23a781904)\" d=\"M 390.553125 248.824219 \nL 403.573125 248.824219 \nL 403.573125 264.679219 \nL 390.553125 264.679219 \nL 390.553125 248.824219 \n\" style=\"fill:#081d58;\"/>\n    <path clip-path=\"url(#pd23a781904)\" d=\"M 403.573125 248.824219 \nL 416.593125 248.824219 \nL 416.593125 264.679219 \nL 403.573125 264.679219 \nL 403.573125 248.824219 \n\" style=\"fill:#081d58;\"/>\n    <path clip-path=\"url(#pd23a781904)\" d=\"M 416.593125 248.824219 \nL 429.613125 248.824219 \nL 429.613125 264.679219 \nL 416.593125 264.679219 \nL 416.593125 248.824219 \n\" style=\"fill:#40b5c4;\"/>\n    <path clip-path=\"url(#pd23a781904)\" d=\"M 429.613125 248.824219 \nL 442.633125 248.824219 \nL 442.633125 264.679219 \nL 429.613125 264.679219 \nL 429.613125 248.824219 \n\" style=\"fill:#081d58;\"/>\n    <path clip-path=\"url(#pd23a781904)\" d=\"M 442.633125 248.824219 \nL 455.653125 248.824219 \nL 455.653125 264.679219 \nL 442.633125 264.679219 \nL 442.633125 248.824219 \n\" style=\"fill:#269bc1;\"/>\n    <path clip-path=\"url(#pd23a781904)\" d=\"M 455.653125 248.824219 \nL 468.673125 248.824219 \nL 468.673125 264.679219 \nL 455.653125 264.679219 \nL 455.653125 248.824219 \n\" style=\"fill:#53bdc1;\"/>\n    <path clip-path=\"url(#pd23a781904)\" d=\"M 468.673125 248.824219 \nL 481.693125 248.824219 \nL 481.693125 264.679219 \nL 468.673125 264.679219 \nL 468.673125 248.824219 \n\" style=\"fill:#216daf;\"/>\n    <path clip-path=\"url(#pd23a781904)\" d=\"M 481.693125 248.824219 \nL 494.713125 248.824219 \nL 494.713125 264.679219 \nL 481.693125 264.679219 \nL 481.693125 248.824219 \n\" style=\"fill:#59bfc0;\"/>\n    <path clip-path=\"url(#pd23a781904)\" d=\"M 494.713125 248.824219 \nL 507.733125 248.824219 \nL 507.733125 264.679219 \nL 494.713125 264.679219 \nL 494.713125 248.824219 \n\" style=\"fill:#2ea3c2;\"/>\n    <path clip-path=\"url(#pd23a781904)\" d=\"M 195.253125 264.679219 \nL 208.273125 264.679219 \nL 208.273125 280.534219 \nL 195.253125 280.534219 \nL 195.253125 264.679219 \n\" style=\"fill:#5bc0c0;\"/>\n    <path clip-path=\"url(#pd23a781904)\" d=\"M 208.273125 264.679219 \nL 221.293125 264.679219 \nL 221.293125 280.534219 \nL 208.273125 280.534219 \nL 208.273125 264.679219 \n\" style=\"fill:#1d8ebf;\"/>\n    <path clip-path=\"url(#pd23a781904)\" d=\"M 221.293125 264.679219 \nL 234.313125 264.679219 \nL 234.313125 280.534219 \nL 221.293125 280.534219 \nL 221.293125 264.679219 \n\" style=\"fill:#37acc3;\"/>\n    <path clip-path=\"url(#pd23a781904)\" d=\"M 234.313125 264.679219 \nL 247.333125 264.679219 \nL 247.333125 280.534219 \nL 234.313125 280.534219 \nL 234.313125 264.679219 \n\" style=\"fill:#3bb0c3;\"/>\n    <path clip-path=\"url(#pd23a781904)\" d=\"M 247.333125 264.679219 \nL 260.353125 264.679219 \nL 260.353125 280.534219 \nL 247.333125 280.534219 \nL 247.333125 264.679219 \n\" style=\"fill:#3fb4c4;\"/>\n    <path clip-path=\"url(#pd23a781904)\" d=\"M 260.353125 264.679219 \nL 273.373125 264.679219 \nL 273.373125 280.534219 \nL 260.353125 280.534219 \nL 260.353125 264.679219 \n\" style=\"fill:#44b7c4;\"/>\n    <path clip-path=\"url(#pd23a781904)\" d=\"M 273.373125 264.679219 \nL 286.393125 264.679219 \nL 286.393125 280.534219 \nL 273.373125 280.534219 \nL 273.373125 264.679219 \n\" style=\"fill:#33a7c2;\"/>\n    <path clip-path=\"url(#pd23a781904)\" d=\"M 286.393125 264.679219 \nL 299.413125 264.679219 \nL 299.413125 280.534219 \nL 286.393125 280.534219 \nL 286.393125 264.679219 \n\" style=\"fill:#87d0ba;\"/>\n    <path clip-path=\"url(#pd23a781904)\" d=\"M 299.413125 264.679219 \nL 312.433125 264.679219 \nL 312.433125 280.534219 \nL 299.413125 280.534219 \nL 299.413125 264.679219 \n\" style=\"fill:#2351a2;\"/>\n    <path clip-path=\"url(#pd23a781904)\" d=\"M 312.433125 264.679219 \nL 325.453125 264.679219 \nL 325.453125 280.534219 \nL 312.433125 280.534219 \nL 312.433125 264.679219 \n\" style=\"fill:#40b5c4;\"/>\n    <path clip-path=\"url(#pd23a781904)\" d=\"M 325.453125 264.679219 \nL 338.473125 264.679219 \nL 338.473125 280.534219 \nL 325.453125 280.534219 \nL 325.453125 264.679219 \n\" style=\"fill:#44b7c4;\"/>\n    <path clip-path=\"url(#pd23a781904)\" d=\"M 338.473125 264.679219 \nL 351.493125 264.679219 \nL 351.493125 280.534219 \nL 338.473125 280.534219 \nL 338.473125 264.679219 \n\" style=\"fill:#3eb3c4;\"/>\n    <path clip-path=\"url(#pd23a781904)\" d=\"M 351.493125 264.679219 \nL 364.513125 264.679219 \nL 364.513125 280.534219 \nL 351.493125 280.534219 \nL 351.493125 264.679219 \n\" style=\"fill:#53bdc1;\"/>\n    <path clip-path=\"url(#pd23a781904)\" d=\"M 364.513125 264.679219 \nL 377.533125 264.679219 \nL 377.533125 280.534219 \nL 364.513125 280.534219 \nL 364.513125 264.679219 \n\" style=\"fill:#3eb3c4;\"/>\n    <path clip-path=\"url(#pd23a781904)\" d=\"M 377.533125 264.679219 \nL 390.553125 264.679219 \nL 390.553125 280.534219 \nL 377.533125 280.534219 \nL 377.533125 264.679219 \n\" style=\"fill:#269bc1;\"/>\n    <path clip-path=\"url(#pd23a781904)\" d=\"M 390.553125 264.679219 \nL 403.573125 264.679219 \nL 403.573125 280.534219 \nL 390.553125 280.534219 \nL 390.553125 264.679219 \n\" style=\"fill:#081d58;\"/>\n    <path clip-path=\"url(#pd23a781904)\" d=\"M 403.573125 264.679219 \nL 416.593125 264.679219 \nL 416.593125 280.534219 \nL 403.573125 280.534219 \nL 403.573125 264.679219 \n\" style=\"fill:#081d58;\"/>\n    <path clip-path=\"url(#pd23a781904)\" d=\"M 416.593125 264.679219 \nL 429.613125 264.679219 \nL 429.613125 280.534219 \nL 416.593125 280.534219 \nL 416.593125 264.679219 \n\" style=\"fill:#40b5c4;\"/>\n    <path clip-path=\"url(#pd23a781904)\" d=\"M 429.613125 264.679219 \nL 442.633125 264.679219 \nL 442.633125 280.534219 \nL 429.613125 280.534219 \nL 429.613125 264.679219 \n\" style=\"fill:#081d58;\"/>\n    <path clip-path=\"url(#pd23a781904)\" d=\"M 442.633125 264.679219 \nL 455.653125 264.679219 \nL 455.653125 280.534219 \nL 442.633125 280.534219 \nL 442.633125 264.679219 \n\" style=\"fill:#269bc1;\"/>\n    <path clip-path=\"url(#pd23a781904)\" d=\"M 455.653125 264.679219 \nL 468.673125 264.679219 \nL 468.673125 280.534219 \nL 455.653125 280.534219 \nL 455.653125 264.679219 \n\" style=\"fill:#53bdc1;\"/>\n    <path clip-path=\"url(#pd23a781904)\" d=\"M 468.673125 264.679219 \nL 481.693125 264.679219 \nL 481.693125 280.534219 \nL 468.673125 280.534219 \nL 468.673125 264.679219 \n\" style=\"fill:#216daf;\"/>\n    <path clip-path=\"url(#pd23a781904)\" d=\"M 481.693125 264.679219 \nL 494.713125 264.679219 \nL 494.713125 280.534219 \nL 481.693125 280.534219 \nL 481.693125 264.679219 \n\" style=\"fill:#59bfc0;\"/>\n    <path clip-path=\"url(#pd23a781904)\" d=\"M 494.713125 264.679219 \nL 507.733125 264.679219 \nL 507.733125 280.534219 \nL 494.713125 280.534219 \nL 494.713125 264.679219 \n\" style=\"fill:#2ea3c2;\"/>\n    <path clip-path=\"url(#pd23a781904)\" d=\"M 195.253125 280.534219 \nL 208.273125 280.534219 \nL 208.273125 296.389219 \nL 195.253125 296.389219 \nL 195.253125 280.534219 \n\" style=\"fill:#3cb1c3;\"/>\n    <path clip-path=\"url(#pd23a781904)\" d=\"M 208.273125 280.534219 \nL 221.293125 280.534219 \nL 221.293125 296.389219 \nL 208.273125 296.389219 \nL 208.273125 280.534219 \n\" style=\"fill:#48b9c3;\"/>\n    <path clip-path=\"url(#pd23a781904)\" d=\"M 221.293125 280.534219 \nL 234.313125 280.534219 \nL 234.313125 296.389219 \nL 221.293125 296.389219 \nL 221.293125 280.534219 \n\" style=\"fill:#34a9c3;\"/>\n    <path clip-path=\"url(#pd23a781904)\" d=\"M 234.313125 280.534219 \nL 247.333125 280.534219 \nL 247.333125 296.389219 \nL 234.313125 296.389219 \nL 234.313125 280.534219 \n\" style=\"fill:#50bbc2;\"/>\n    <path clip-path=\"url(#pd23a781904)\" d=\"M 247.333125 280.534219 \nL 260.353125 280.534219 \nL 260.353125 296.389219 \nL 247.333125 296.389219 \nL 247.333125 280.534219 \n\" style=\"fill:#95d5b9;\"/>\n    <path clip-path=\"url(#pd23a781904)\" d=\"M 260.353125 280.534219 \nL 273.373125 280.534219 \nL 273.373125 296.389219 \nL 260.353125 296.389219 \nL 260.353125 280.534219 \n\" style=\"fill:#1f82b9;\"/>\n    <path clip-path=\"url(#pd23a781904)\" d=\"M 273.373125 280.534219 \nL 286.393125 280.534219 \nL 286.393125 296.389219 \nL 273.373125 296.389219 \nL 273.373125 280.534219 \n\" style=\"fill:#31a5c2;\"/>\n    <path clip-path=\"url(#pd23a781904)\" d=\"M 286.393125 280.534219 \nL 299.413125 280.534219 \nL 299.413125 296.389219 \nL 286.393125 296.389219 \nL 286.393125 280.534219 \n\" style=\"fill:#85cfba;\"/>\n    <path clip-path=\"url(#pd23a781904)\" d=\"M 299.413125 280.534219 \nL 312.433125 280.534219 \nL 312.433125 296.389219 \nL 299.413125 296.389219 \nL 299.413125 280.534219 \n\" style=\"fill:#4ab9c3;\"/>\n    <path clip-path=\"url(#pd23a781904)\" d=\"M 312.433125 280.534219 \nL 325.453125 280.534219 \nL 325.453125 296.389219 \nL 312.433125 296.389219 \nL 312.433125 280.534219 \n\" style=\"fill:#44b7c4;\"/>\n    <path clip-path=\"url(#pd23a781904)\" d=\"M 325.453125 280.534219 \nL 338.473125 280.534219 \nL 338.473125 296.389219 \nL 325.453125 296.389219 \nL 325.453125 280.534219 \n\" style=\"fill:#1f80b8;\"/>\n    <path clip-path=\"url(#pd23a781904)\" d=\"M 338.473125 280.534219 \nL 351.493125 280.534219 \nL 351.493125 296.389219 \nL 338.473125 296.389219 \nL 338.473125 280.534219 \n\" style=\"fill:#3fb4c4;\"/>\n    <path clip-path=\"url(#pd23a781904)\" d=\"M 351.493125 280.534219 \nL 364.513125 280.534219 \nL 364.513125 296.389219 \nL 351.493125 296.389219 \nL 351.493125 280.534219 \n\" style=\"fill:#299dc1;\"/>\n    <path clip-path=\"url(#pd23a781904)\" d=\"M 364.513125 280.534219 \nL 377.533125 280.534219 \nL 377.533125 296.389219 \nL 364.513125 296.389219 \nL 364.513125 280.534219 \n\" style=\"fill:#3fb4c4;\"/>\n    <path clip-path=\"url(#pd23a781904)\" d=\"M 377.533125 280.534219 \nL 390.553125 280.534219 \nL 390.553125 296.389219 \nL 377.533125 296.389219 \nL 377.533125 280.534219 \n\" style=\"fill:#2da2c2;\"/>\n    <path clip-path=\"url(#pd23a781904)\" d=\"M 390.553125 280.534219 \nL 403.573125 280.534219 \nL 403.573125 296.389219 \nL 390.553125 296.389219 \nL 390.553125 280.534219 \n\" style=\"fill:#40b5c4;\"/>\n    <path clip-path=\"url(#pd23a781904)\" d=\"M 403.573125 280.534219 \nL 416.593125 280.534219 \nL 416.593125 296.389219 \nL 403.573125 296.389219 \nL 403.573125 280.534219 \n\" style=\"fill:#40b5c4;\"/>\n    <path clip-path=\"url(#pd23a781904)\" d=\"M 416.593125 280.534219 \nL 429.613125 280.534219 \nL 429.613125 296.389219 \nL 416.593125 296.389219 \nL 416.593125 280.534219 \n\" style=\"fill:#081d58;\"/>\n    <path clip-path=\"url(#pd23a781904)\" d=\"M 429.613125 280.534219 \nL 442.633125 280.534219 \nL 442.633125 296.389219 \nL 429.613125 296.389219 \nL 429.613125 280.534219 \n\" style=\"fill:#3aaec3;\"/>\n    <path clip-path=\"url(#pd23a781904)\" d=\"M 442.633125 280.534219 \nL 455.653125 280.534219 \nL 455.653125 296.389219 \nL 442.633125 296.389219 \nL 442.633125 280.534219 \n\" style=\"fill:#2da2c2;\"/>\n    <path clip-path=\"url(#pd23a781904)\" d=\"M 455.653125 280.534219 \nL 468.673125 280.534219 \nL 468.673125 296.389219 \nL 455.653125 296.389219 \nL 455.653125 280.534219 \n\" style=\"fill:#299dc1;\"/>\n    <path clip-path=\"url(#pd23a781904)\" d=\"M 468.673125 280.534219 \nL 481.693125 280.534219 \nL 481.693125 296.389219 \nL 468.673125 296.389219 \nL 468.673125 280.534219 \n\" style=\"fill:#34a9c3;\"/>\n    <path clip-path=\"url(#pd23a781904)\" d=\"M 481.693125 280.534219 \nL 494.713125 280.534219 \nL 494.713125 296.389219 \nL 481.693125 296.389219 \nL 481.693125 280.534219 \n\" style=\"fill:#5fc1c0;\"/>\n    <path clip-path=\"url(#pd23a781904)\" d=\"M 494.713125 280.534219 \nL 507.733125 280.534219 \nL 507.733125 296.389219 \nL 494.713125 296.389219 \nL 494.713125 280.534219 \n\" style=\"fill:#34a9c3;\"/>\n    <path clip-path=\"url(#pd23a781904)\" d=\"M 195.253125 296.389219 \nL 208.273125 296.389219 \nL 208.273125 312.244219 \nL 195.253125 312.244219 \nL 195.253125 296.389219 \n\" style=\"fill:#53bdc1;\"/>\n    <path clip-path=\"url(#pd23a781904)\" d=\"M 208.273125 296.389219 \nL 221.293125 296.389219 \nL 221.293125 312.244219 \nL 208.273125 312.244219 \nL 208.273125 296.389219 \n\" style=\"fill:#1d8dbe;\"/>\n    <path clip-path=\"url(#pd23a781904)\" d=\"M 221.293125 296.389219 \nL 234.313125 296.389219 \nL 234.313125 312.244219 \nL 221.293125 312.244219 \nL 221.293125 296.389219 \n\" style=\"fill:#37acc3;\"/>\n    <path clip-path=\"url(#pd23a781904)\" d=\"M 234.313125 296.389219 \nL 247.333125 296.389219 \nL 247.333125 312.244219 \nL 234.313125 312.244219 \nL 234.313125 296.389219 \n\" style=\"fill:#3fb4c4;\"/>\n    <path clip-path=\"url(#pd23a781904)\" d=\"M 247.333125 296.389219 \nL 260.353125 296.389219 \nL 260.353125 312.244219 \nL 247.333125 312.244219 \nL 247.333125 296.389219 \n\" style=\"fill:#3fb4c4;\"/>\n    <path clip-path=\"url(#pd23a781904)\" d=\"M 260.353125 296.389219 \nL 273.373125 296.389219 \nL 273.373125 312.244219 \nL 260.353125 312.244219 \nL 260.353125 296.389219 \n\" style=\"fill:#44b7c4;\"/>\n    <path clip-path=\"url(#pd23a781904)\" d=\"M 273.373125 296.389219 \nL 286.393125 296.389219 \nL 286.393125 312.244219 \nL 273.373125 312.244219 \nL 273.373125 296.389219 \n\" style=\"fill:#2ea3c2;\"/>\n    <path clip-path=\"url(#pd23a781904)\" d=\"M 286.393125 296.389219 \nL 299.413125 296.389219 \nL 299.413125 312.244219 \nL 286.393125 312.244219 \nL 286.393125 296.389219 \n\" style=\"fill:#8cd2ba;\"/>\n    <path clip-path=\"url(#pd23a781904)\" d=\"M 299.413125 296.389219 \nL 312.433125 296.389219 \nL 312.433125 312.244219 \nL 299.413125 312.244219 \nL 299.413125 296.389219 \n\" style=\"fill:#2351a2;\"/>\n    <path clip-path=\"url(#pd23a781904)\" d=\"M 312.433125 296.389219 \nL 325.453125 296.389219 \nL 325.453125 312.244219 \nL 312.433125 312.244219 \nL 312.433125 296.389219 \n\" style=\"fill:#40b5c4;\"/>\n    <path clip-path=\"url(#pd23a781904)\" d=\"M 325.453125 296.389219 \nL 338.473125 296.389219 \nL 338.473125 312.244219 \nL 325.453125 312.244219 \nL 325.453125 296.389219 \n\" style=\"fill:#44b7c4;\"/>\n    <path clip-path=\"url(#pd23a781904)\" d=\"M 338.473125 296.389219 \nL 351.493125 296.389219 \nL 351.493125 312.244219 \nL 338.473125 312.244219 \nL 338.473125 296.389219 \n\" style=\"fill:#3db2c4;\"/>\n    <path clip-path=\"url(#pd23a781904)\" d=\"M 351.493125 296.389219 \nL 364.513125 296.389219 \nL 364.513125 312.244219 \nL 351.493125 312.244219 \nL 351.493125 296.389219 \n\" style=\"fill:#53bdc1;\"/>\n    <path clip-path=\"url(#pd23a781904)\" d=\"M 364.513125 296.389219 \nL 377.533125 296.389219 \nL 377.533125 312.244219 \nL 364.513125 312.244219 \nL 364.513125 296.389219 \n\" style=\"fill:#3db2c4;\"/>\n    <path clip-path=\"url(#pd23a781904)\" d=\"M 377.533125 296.389219 \nL 390.553125 296.389219 \nL 390.553125 312.244219 \nL 377.533125 312.244219 \nL 377.533125 296.389219 \n\" style=\"fill:#2498c1;\"/>\n    <path clip-path=\"url(#pd23a781904)\" d=\"M 390.553125 296.389219 \nL 403.573125 296.389219 \nL 403.573125 312.244219 \nL 390.553125 312.244219 \nL 390.553125 296.389219 \n\" style=\"fill:#081d58;\"/>\n    <path clip-path=\"url(#pd23a781904)\" d=\"M 403.573125 296.389219 \nL 416.593125 296.389219 \nL 416.593125 312.244219 \nL 403.573125 312.244219 \nL 403.573125 296.389219 \n\" style=\"fill:#081d58;\"/>\n    <path clip-path=\"url(#pd23a781904)\" d=\"M 416.593125 296.389219 \nL 429.613125 296.389219 \nL 429.613125 312.244219 \nL 416.593125 312.244219 \nL 416.593125 296.389219 \n\" style=\"fill:#3aaec3;\"/>\n    <path clip-path=\"url(#pd23a781904)\" d=\"M 429.613125 296.389219 \nL 442.633125 296.389219 \nL 442.633125 312.244219 \nL 429.613125 312.244219 \nL 429.613125 296.389219 \n\" style=\"fill:#081d58;\"/>\n    <path clip-path=\"url(#pd23a781904)\" d=\"M 442.633125 296.389219 \nL 455.653125 296.389219 \nL 455.653125 312.244219 \nL 442.633125 312.244219 \nL 442.633125 296.389219 \n\" style=\"fill:#2498c1;\"/>\n    <path clip-path=\"url(#pd23a781904)\" d=\"M 455.653125 296.389219 \nL 468.673125 296.389219 \nL 468.673125 312.244219 \nL 455.653125 312.244219 \nL 455.653125 296.389219 \n\" style=\"fill:#53bdc1;\"/>\n    <path clip-path=\"url(#pd23a781904)\" d=\"M 468.673125 296.389219 \nL 481.693125 296.389219 \nL 481.693125 312.244219 \nL 468.673125 312.244219 \nL 468.673125 296.389219 \n\" style=\"fill:#216bae;\"/>\n    <path clip-path=\"url(#pd23a781904)\" d=\"M 481.693125 296.389219 \nL 494.713125 296.389219 \nL 494.713125 312.244219 \nL 481.693125 312.244219 \nL 481.693125 296.389219 \n\" style=\"fill:#57bec1;\"/>\n    <path clip-path=\"url(#pd23a781904)\" d=\"M 494.713125 296.389219 \nL 507.733125 296.389219 \nL 507.733125 312.244219 \nL 494.713125 312.244219 \nL 494.713125 296.389219 \n\" style=\"fill:#2da2c2;\"/>\n    <path clip-path=\"url(#pd23a781904)\" d=\"M 195.253125 312.244219 \nL 208.273125 312.244219 \nL 208.273125 328.099219 \nL 195.253125 328.099219 \nL 195.253125 312.244219 \n\" style=\"fill:#75c9bd;\"/>\n    <path clip-path=\"url(#pd23a781904)\" d=\"M 208.273125 312.244219 \nL 221.293125 312.244219 \nL 221.293125 328.099219 \nL 208.273125 328.099219 \nL 208.273125 312.244219 \n\" style=\"fill:#2da2c2;\"/>\n    <path clip-path=\"url(#pd23a781904)\" d=\"M 221.293125 312.244219 \nL 234.313125 312.244219 \nL 234.313125 328.099219 \nL 221.293125 328.099219 \nL 221.293125 312.244219 \n\" style=\"fill:#2498c1;\"/>\n    <path clip-path=\"url(#pd23a781904)\" d=\"M 234.313125 312.244219 \nL 247.333125 312.244219 \nL 247.333125 328.099219 \nL 234.313125 328.099219 \nL 234.313125 312.244219 \n\" style=\"fill:#2ea3c2;\"/>\n    <path clip-path=\"url(#pd23a781904)\" d=\"M 247.333125 312.244219 \nL 260.353125 312.244219 \nL 260.353125 328.099219 \nL 247.333125 328.099219 \nL 247.333125 312.244219 \n\" style=\"fill:#a9ddb7;\"/>\n    <path clip-path=\"url(#pd23a781904)\" d=\"M 260.353125 312.244219 \nL 273.373125 312.244219 \nL 273.373125 328.099219 \nL 260.353125 328.099219 \nL 260.353125 312.244219 \n\" style=\"fill:#2073b2;\"/>\n    <path clip-path=\"url(#pd23a781904)\" d=\"M 273.373125 312.244219 \nL 286.393125 312.244219 \nL 286.393125 328.099219 \nL 273.373125 328.099219 \nL 273.373125 312.244219 \n\" style=\"fill:#2168ad;\"/>\n    <path clip-path=\"url(#pd23a781904)\" d=\"M 286.393125 312.244219 \nL 299.413125 312.244219 \nL 299.413125 328.099219 \nL 286.393125 328.099219 \nL 286.393125 312.244219 \n\" style=\"fill:#e0f3b2;\"/>\n    <path clip-path=\"url(#pd23a781904)\" d=\"M 299.413125 312.244219 \nL 312.433125 312.244219 \nL 312.433125 328.099219 \nL 299.413125 328.099219 \nL 299.413125 312.244219 \n\" style=\"fill:#2195c0;\"/>\n    <path clip-path=\"url(#pd23a781904)\" d=\"M 312.433125 312.244219 \nL 325.453125 312.244219 \nL 325.453125 328.099219 \nL 312.433125 328.099219 \nL 312.433125 312.244219 \n\" style=\"fill:#3db2c4;\"/>\n    <path clip-path=\"url(#pd23a781904)\" d=\"M 325.453125 312.244219 \nL 338.473125 312.244219 \nL 338.473125 328.099219 \nL 325.453125 328.099219 \nL 325.453125 312.244219 \n\" style=\"fill:#2073b2;\"/>\n    <path clip-path=\"url(#pd23a781904)\" d=\"M 338.473125 312.244219 \nL 351.493125 312.244219 \nL 351.493125 328.099219 \nL 338.473125 328.099219 \nL 338.473125 312.244219 \n\" style=\"fill:#3fb4c4;\"/>\n    <path clip-path=\"url(#pd23a781904)\" d=\"M 351.493125 312.244219 \nL 364.513125 312.244219 \nL 364.513125 328.099219 \nL 351.493125 328.099219 \nL 351.493125 312.244219 \n\" style=\"fill:#2fa4c2;\"/>\n    <path clip-path=\"url(#pd23a781904)\" d=\"M 364.513125 312.244219 \nL 377.533125 312.244219 \nL 377.533125 328.099219 \nL 364.513125 328.099219 \nL 364.513125 312.244219 \n\" style=\"fill:#3fb4c4;\"/>\n    <path clip-path=\"url(#pd23a781904)\" d=\"M 377.533125 312.244219 \nL 390.553125 312.244219 \nL 390.553125 328.099219 \nL 377.533125 328.099219 \nL 377.533125 312.244219 \n\" style=\"fill:#081d58;\"/>\n    <path clip-path=\"url(#pd23a781904)\" d=\"M 390.553125 312.244219 \nL 403.573125 312.244219 \nL 403.573125 328.099219 \nL 390.553125 328.099219 \nL 390.553125 312.244219 \n\" style=\"fill:#269bc1;\"/>\n    <path clip-path=\"url(#pd23a781904)\" d=\"M 403.573125 312.244219 \nL 416.593125 312.244219 \nL 416.593125 328.099219 \nL 403.573125 328.099219 \nL 403.573125 312.244219 \n\" style=\"fill:#269bc1;\"/>\n    <path clip-path=\"url(#pd23a781904)\" d=\"M 416.593125 312.244219 \nL 429.613125 312.244219 \nL 429.613125 328.099219 \nL 416.593125 328.099219 \nL 416.593125 312.244219 \n\" style=\"fill:#2da2c2;\"/>\n    <path clip-path=\"url(#pd23a781904)\" d=\"M 429.613125 312.244219 \nL 442.633125 312.244219 \nL 442.633125 328.099219 \nL 429.613125 328.099219 \nL 429.613125 312.244219 \n\" style=\"fill:#2498c1;\"/>\n    <path clip-path=\"url(#pd23a781904)\" d=\"M 442.633125 312.244219 \nL 455.653125 312.244219 \nL 455.653125 328.099219 \nL 442.633125 328.099219 \nL 442.633125 312.244219 \n\" style=\"fill:#081d58;\"/>\n    <path clip-path=\"url(#pd23a781904)\" d=\"M 455.653125 312.244219 \nL 468.673125 312.244219 \nL 468.673125 328.099219 \nL 455.653125 328.099219 \nL 455.653125 312.244219 \n\" style=\"fill:#2fa4c2;\"/>\n    <path clip-path=\"url(#pd23a781904)\" d=\"M 468.673125 312.244219 \nL 481.693125 312.244219 \nL 481.693125 328.099219 \nL 468.673125 328.099219 \nL 468.673125 312.244219 \n\" style=\"fill:#0c2060;\"/>\n    <path clip-path=\"url(#pd23a781904)\" d=\"M 481.693125 312.244219 \nL 494.713125 312.244219 \nL 494.713125 328.099219 \nL 481.693125 328.099219 \nL 481.693125 312.244219 \n\" style=\"fill:#61c2bf;\"/>\n    <path clip-path=\"url(#pd23a781904)\" d=\"M 494.713125 312.244219 \nL 507.733125 312.244219 \nL 507.733125 328.099219 \nL 494.713125 328.099219 \nL 494.713125 312.244219 \n\" style=\"fill:#1e86bb;\"/>\n    <path clip-path=\"url(#pd23a781904)\" d=\"M 195.253125 328.099219 \nL 208.273125 328.099219 \nL 208.273125 343.954219 \nL 195.253125 343.954219 \nL 195.253125 328.099219 \n\" style=\"fill:#4ebbc2;\"/>\n    <path clip-path=\"url(#pd23a781904)\" d=\"M 208.273125 328.099219 \nL 221.293125 328.099219 \nL 221.293125 343.954219 \nL 208.273125 343.954219 \nL 208.273125 328.099219 \n\" style=\"fill:#52bcc2;\"/>\n    <path clip-path=\"url(#pd23a781904)\" d=\"M 221.293125 328.099219 \nL 234.313125 328.099219 \nL 234.313125 343.954219 \nL 221.293125 343.954219 \nL 221.293125 328.099219 \n\" style=\"fill:#3cb1c3;\"/>\n    <path clip-path=\"url(#pd23a781904)\" d=\"M 234.313125 328.099219 \nL 247.333125 328.099219 \nL 247.333125 343.954219 \nL 234.313125 343.954219 \nL 234.313125 328.099219 \n\" style=\"fill:#39adc3;\"/>\n    <path clip-path=\"url(#pd23a781904)\" d=\"M 247.333125 328.099219 \nL 260.353125 328.099219 \nL 260.353125 343.954219 \nL 247.333125 343.954219 \nL 247.333125 328.099219 \n\" style=\"fill:#6fc7bd;\"/>\n    <path clip-path=\"url(#pd23a781904)\" d=\"M 260.353125 328.099219 \nL 273.373125 328.099219 \nL 273.373125 343.954219 \nL 260.353125 343.954219 \nL 260.353125 328.099219 \n\" style=\"fill:#269bc1;\"/>\n    <path clip-path=\"url(#pd23a781904)\" d=\"M 273.373125 328.099219 \nL 286.393125 328.099219 \nL 286.393125 343.954219 \nL 273.373125 343.954219 \nL 273.373125 328.099219 \n\" style=\"fill:#2fa4c2;\"/>\n    <path clip-path=\"url(#pd23a781904)\" d=\"M 286.393125 328.099219 \nL 299.413125 328.099219 \nL 299.413125 343.954219 \nL 286.393125 343.954219 \nL 286.393125 328.099219 \n\" style=\"fill:#6bc6be;\"/>\n    <path clip-path=\"url(#pd23a781904)\" d=\"M 299.413125 328.099219 \nL 312.433125 328.099219 \nL 312.433125 343.954219 \nL 299.413125 343.954219 \nL 299.413125 328.099219 \n\" style=\"fill:#59bfc0;\"/>\n    <path clip-path=\"url(#pd23a781904)\" d=\"M 312.433125 328.099219 \nL 325.453125 328.099219 \nL 325.453125 343.954219 \nL 312.433125 343.954219 \nL 312.433125 328.099219 \n\" style=\"fill:#32a6c2;\"/>\n    <path clip-path=\"url(#pd23a781904)\" d=\"M 325.453125 328.099219 \nL 338.473125 328.099219 \nL 338.473125 343.954219 \nL 325.453125 343.954219 \nL 325.453125 328.099219 \n\" style=\"fill:#299dc1;\"/>\n    <path clip-path=\"url(#pd23a781904)\" d=\"M 338.473125 328.099219 \nL 351.493125 328.099219 \nL 351.493125 343.954219 \nL 338.473125 343.954219 \nL 338.473125 328.099219 \n\" style=\"fill:#37acc3;\"/>\n    <path clip-path=\"url(#pd23a781904)\" d=\"M 351.493125 328.099219 \nL 364.513125 328.099219 \nL 364.513125 343.954219 \nL 351.493125 343.954219 \nL 351.493125 328.099219 \n\" style=\"fill:#081d58;\"/>\n    <path clip-path=\"url(#pd23a781904)\" d=\"M 364.513125 328.099219 \nL 377.533125 328.099219 \nL 377.533125 343.954219 \nL 364.513125 343.954219 \nL 364.513125 328.099219 \n\" style=\"fill:#37acc3;\"/>\n    <path clip-path=\"url(#pd23a781904)\" d=\"M 377.533125 328.099219 \nL 390.553125 328.099219 \nL 390.553125 343.954219 \nL 377.533125 343.954219 \nL 377.533125 328.099219 \n\" style=\"fill:#2fa4c2;\"/>\n    <path clip-path=\"url(#pd23a781904)\" d=\"M 390.553125 328.099219 \nL 403.573125 328.099219 \nL 403.573125 343.954219 \nL 390.553125 343.954219 \nL 390.553125 328.099219 \n\" style=\"fill:#53bdc1;\"/>\n    <path clip-path=\"url(#pd23a781904)\" d=\"M 403.573125 328.099219 \nL 416.593125 328.099219 \nL 416.593125 343.954219 \nL 403.573125 343.954219 \nL 403.573125 328.099219 \n\" style=\"fill:#53bdc1;\"/>\n    <path clip-path=\"url(#pd23a781904)\" d=\"M 416.593125 328.099219 \nL 429.613125 328.099219 \nL 429.613125 343.954219 \nL 416.593125 343.954219 \nL 416.593125 328.099219 \n\" style=\"fill:#299dc1;\"/>\n    <path clip-path=\"url(#pd23a781904)\" d=\"M 429.613125 328.099219 \nL 442.633125 328.099219 \nL 442.633125 343.954219 \nL 429.613125 343.954219 \nL 429.613125 328.099219 \n\" style=\"fill:#53bdc1;\"/>\n    <path clip-path=\"url(#pd23a781904)\" d=\"M 442.633125 328.099219 \nL 455.653125 328.099219 \nL 455.653125 343.954219 \nL 442.633125 343.954219 \nL 442.633125 328.099219 \n\" style=\"fill:#2fa4c2;\"/>\n    <path clip-path=\"url(#pd23a781904)\" d=\"M 455.653125 328.099219 \nL 468.673125 328.099219 \nL 468.673125 343.954219 \nL 455.653125 343.954219 \nL 455.653125 328.099219 \n\" style=\"fill:#081d58;\"/>\n    <path clip-path=\"url(#pd23a781904)\" d=\"M 468.673125 328.099219 \nL 481.693125 328.099219 \nL 481.693125 343.954219 \nL 468.673125 343.954219 \nL 468.673125 328.099219 \n\" style=\"fill:#289cc1;\"/>\n    <path clip-path=\"url(#pd23a781904)\" d=\"M 481.693125 328.099219 \nL 494.713125 328.099219 \nL 494.713125 343.954219 \nL 481.693125 343.954219 \nL 481.693125 328.099219 \n\" style=\"fill:#4cbac2;\"/>\n    <path clip-path=\"url(#pd23a781904)\" d=\"M 494.713125 328.099219 \nL 507.733125 328.099219 \nL 507.733125 343.954219 \nL 494.713125 343.954219 \nL 494.713125 328.099219 \n\" style=\"fill:#1f7bb6;\"/>\n    <path clip-path=\"url(#pd23a781904)\" d=\"M 195.253125 343.954219 \nL 208.273125 343.954219 \nL 208.273125 359.809219 \nL 195.253125 359.809219 \nL 195.253125 343.954219 \n\" style=\"fill:#78cbbc;\"/>\n    <path clip-path=\"url(#pd23a781904)\" d=\"M 208.273125 343.954219 \nL 221.293125 343.954219 \nL 221.293125 359.809219 \nL 208.273125 359.809219 \nL 208.273125 343.954219 \n\" style=\"fill:#269bc1;\"/>\n    <path clip-path=\"url(#pd23a781904)\" d=\"M 221.293125 343.954219 \nL 234.313125 343.954219 \nL 234.313125 359.809219 \nL 221.293125 359.809219 \nL 221.293125 343.954219 \n\" style=\"fill:#259ac1;\"/>\n    <path clip-path=\"url(#pd23a781904)\" d=\"M 234.313125 343.954219 \nL 247.333125 343.954219 \nL 247.333125 359.809219 \nL 234.313125 359.809219 \nL 234.313125 343.954219 \n\" style=\"fill:#2ca1c2;\"/>\n    <path clip-path=\"url(#pd23a781904)\" d=\"M 247.333125 343.954219 \nL 260.353125 343.954219 \nL 260.353125 359.809219 \nL 247.333125 359.809219 \nL 247.333125 343.954219 \n\" style=\"fill:#9cd8b8;\"/>\n    <path clip-path=\"url(#pd23a781904)\" d=\"M 260.353125 343.954219 \nL 273.373125 343.954219 \nL 273.373125 359.809219 \nL 260.353125 359.809219 \nL 260.353125 343.954219 \n\" style=\"fill:#1f7db6;\"/>\n    <path clip-path=\"url(#pd23a781904)\" d=\"M 273.373125 343.954219 \nL 286.393125 343.954219 \nL 286.393125 359.809219 \nL 273.373125 359.809219 \nL 273.373125 343.954219 \n\" style=\"fill:#216bae;\"/>\n    <path clip-path=\"url(#pd23a781904)\" d=\"M 286.393125 343.954219 \nL 299.413125 343.954219 \nL 299.413125 359.809219 \nL 286.393125 359.809219 \nL 286.393125 343.954219 \n\" style=\"fill:#e1f3b2;\"/>\n    <path clip-path=\"url(#pd23a781904)\" d=\"M 299.413125 343.954219 \nL 312.433125 343.954219 \nL 312.433125 359.809219 \nL 299.413125 359.809219 \nL 299.413125 343.954219 \n\" style=\"fill:#1f7db6;\"/>\n    <path clip-path=\"url(#pd23a781904)\" d=\"M 312.433125 343.954219 \nL 325.453125 343.954219 \nL 325.453125 359.809219 \nL 312.433125 359.809219 \nL 312.433125 343.954219 \n\" style=\"fill:#3cb1c3;\"/>\n    <path clip-path=\"url(#pd23a781904)\" d=\"M 325.453125 343.954219 \nL 338.473125 343.954219 \nL 338.473125 359.809219 \nL 325.453125 359.809219 \nL 325.453125 343.954219 \n\" style=\"fill:#1f7eb7;\"/>\n    <path clip-path=\"url(#pd23a781904)\" d=\"M 338.473125 343.954219 \nL 351.493125 343.954219 \nL 351.493125 359.809219 \nL 338.473125 359.809219 \nL 338.473125 343.954219 \n\" style=\"fill:#3eb3c4;\"/>\n    <path clip-path=\"url(#pd23a781904)\" d=\"M 351.493125 343.954219 \nL 364.513125 343.954219 \nL 364.513125 359.809219 \nL 351.493125 359.809219 \nL 351.493125 343.954219 \n\" style=\"fill:#289cc1;\"/>\n    <path clip-path=\"url(#pd23a781904)\" d=\"M 364.513125 343.954219 \nL 377.533125 343.954219 \nL 377.533125 359.809219 \nL 364.513125 359.809219 \nL 364.513125 343.954219 \n\" style=\"fill:#3eb3c4;\"/>\n    <path clip-path=\"url(#pd23a781904)\" d=\"M 377.533125 343.954219 \nL 390.553125 343.954219 \nL 390.553125 359.809219 \nL 377.533125 359.809219 \nL 377.533125 343.954219 \n\" style=\"fill:#0c2060;\"/>\n    <path clip-path=\"url(#pd23a781904)\" d=\"M 390.553125 343.954219 \nL 403.573125 343.954219 \nL 403.573125 359.809219 \nL 390.553125 359.809219 \nL 390.553125 343.954219 \n\" style=\"fill:#216daf;\"/>\n    <path clip-path=\"url(#pd23a781904)\" d=\"M 403.573125 343.954219 \nL 416.593125 343.954219 \nL 416.593125 359.809219 \nL 403.573125 359.809219 \nL 403.573125 343.954219 \n\" style=\"fill:#216daf;\"/>\n    <path clip-path=\"url(#pd23a781904)\" d=\"M 416.593125 343.954219 \nL 429.613125 343.954219 \nL 429.613125 359.809219 \nL 416.593125 359.809219 \nL 416.593125 343.954219 \n\" style=\"fill:#34a9c3;\"/>\n    <path clip-path=\"url(#pd23a781904)\" d=\"M 429.613125 343.954219 \nL 442.633125 343.954219 \nL 442.633125 359.809219 \nL 429.613125 359.809219 \nL 429.613125 343.954219 \n\" style=\"fill:#216bae;\"/>\n    <path clip-path=\"url(#pd23a781904)\" d=\"M 442.633125 343.954219 \nL 455.653125 343.954219 \nL 455.653125 359.809219 \nL 442.633125 359.809219 \nL 442.633125 343.954219 \n\" style=\"fill:#0c2060;\"/>\n    <path clip-path=\"url(#pd23a781904)\" d=\"M 455.653125 343.954219 \nL 468.673125 343.954219 \nL 468.673125 359.809219 \nL 455.653125 359.809219 \nL 455.653125 343.954219 \n\" style=\"fill:#289cc1;\"/>\n    <path clip-path=\"url(#pd23a781904)\" d=\"M 468.673125 343.954219 \nL 481.693125 343.954219 \nL 481.693125 359.809219 \nL 468.673125 359.809219 \nL 468.673125 343.954219 \n\" style=\"fill:#081d58;\"/>\n    <path clip-path=\"url(#pd23a781904)\" d=\"M 481.693125 343.954219 \nL 494.713125 343.954219 \nL 494.713125 359.809219 \nL 481.693125 359.809219 \nL 481.693125 343.954219 \n\" style=\"fill:#65c3bf;\"/>\n    <path clip-path=\"url(#pd23a781904)\" d=\"M 494.713125 343.954219 \nL 507.733125 343.954219 \nL 507.733125 359.809219 \nL 494.713125 359.809219 \nL 494.713125 343.954219 \n\" style=\"fill:#1f80b8;\"/>\n    <path clip-path=\"url(#pd23a781904)\" d=\"M 195.253125 359.809219 \nL 208.273125 359.809219 \nL 208.273125 375.664219 \nL 195.253125 375.664219 \nL 195.253125 359.809219 \n\" style=\"fill:#2166ac;\"/>\n    <path clip-path=\"url(#pd23a781904)\" d=\"M 208.273125 359.809219 \nL 221.293125 359.809219 \nL 221.293125 375.664219 \nL 208.273125 375.664219 \nL 208.273125 359.809219 \n\" style=\"fill:#57bec1;\"/>\n    <path clip-path=\"url(#pd23a781904)\" d=\"M 221.293125 359.809219 \nL 234.313125 359.809219 \nL 234.313125 375.664219 \nL 221.293125 375.664219 \nL 221.293125 359.809219 \n\" style=\"fill:#61c2bf;\"/>\n    <path clip-path=\"url(#pd23a781904)\" d=\"M 234.313125 359.809219 \nL 247.333125 359.809219 \nL 247.333125 375.664219 \nL 234.313125 375.664219 \nL 234.313125 359.809219 \n\" style=\"fill:#b0e0b6;\"/>\n    <path clip-path=\"url(#pd23a781904)\" d=\"M 247.333125 359.809219 \nL 260.353125 359.809219 \nL 260.353125 375.664219 \nL 247.333125 375.664219 \nL 247.333125 359.809219 \n\" style=\"fill:#3bb0c3;\"/>\n    <path clip-path=\"url(#pd23a781904)\" d=\"M 260.353125 359.809219 \nL 273.373125 359.809219 \nL 273.373125 375.664219 \nL 260.353125 375.664219 \nL 260.353125 359.809219 \n\" style=\"fill:#4cbac2;\"/>\n    <path clip-path=\"url(#pd23a781904)\" d=\"M 273.373125 359.809219 \nL 286.393125 359.809219 \nL 286.393125 375.664219 \nL 273.373125 375.664219 \nL 273.373125 359.809219 \n\" style=\"fill:#5bc0c0;\"/>\n    <path clip-path=\"url(#pd23a781904)\" d=\"M 286.393125 359.809219 \nL 299.413125 359.809219 \nL 299.413125 375.664219 \nL 286.393125 375.664219 \nL 286.393125 359.809219 \n\" style=\"fill:#2b9fc2;\"/>\n    <path clip-path=\"url(#pd23a781904)\" d=\"M 299.413125 359.809219 \nL 312.433125 359.809219 \nL 312.433125 375.664219 \nL 299.413125 375.664219 \nL 299.413125 359.809219 \n\" style=\"fill:#5fc1c0;\"/>\n    <path clip-path=\"url(#pd23a781904)\" d=\"M 312.433125 359.809219 \nL 325.453125 359.809219 \nL 325.453125 375.664219 \nL 312.433125 375.664219 \nL 312.433125 359.809219 \n\" style=\"fill:#42b6c4;\"/>\n    <path clip-path=\"url(#pd23a781904)\" d=\"M 325.453125 359.809219 \nL 338.473125 359.809219 \nL 338.473125 375.664219 \nL 325.453125 375.664219 \nL 325.453125 359.809219 \n\" style=\"fill:#4cbac2;\"/>\n    <path clip-path=\"url(#pd23a781904)\" d=\"M 338.473125 359.809219 \nL 351.493125 359.809219 \nL 351.493125 375.664219 \nL 338.473125 375.664219 \nL 338.473125 359.809219 \n\" style=\"fill:#4ebbc2;\"/>\n    <path clip-path=\"url(#pd23a781904)\" d=\"M 351.493125 359.809219 \nL 364.513125 359.809219 \nL 364.513125 375.664219 \nL 351.493125 375.664219 \nL 351.493125 359.809219 \n\" style=\"fill:#4cbac2;\"/>\n    <path clip-path=\"url(#pd23a781904)\" d=\"M 364.513125 359.809219 \nL 377.533125 359.809219 \nL 377.533125 375.664219 \nL 364.513125 375.664219 \nL 364.513125 359.809219 \n\" style=\"fill:#4ebbc2;\"/>\n    <path clip-path=\"url(#pd23a781904)\" d=\"M 377.533125 359.809219 \nL 390.553125 359.809219 \nL 390.553125 375.664219 \nL 377.533125 375.664219 \nL 377.533125 359.809219 \n\" style=\"fill:#61c2bf;\"/>\n    <path clip-path=\"url(#pd23a781904)\" d=\"M 390.553125 359.809219 \nL 403.573125 359.809219 \nL 403.573125 375.664219 \nL 390.553125 375.664219 \nL 390.553125 359.809219 \n\" style=\"fill:#59bfc0;\"/>\n    <path clip-path=\"url(#pd23a781904)\" d=\"M 403.573125 359.809219 \nL 416.593125 359.809219 \nL 416.593125 375.664219 \nL 403.573125 375.664219 \nL 403.573125 359.809219 \n\" style=\"fill:#59bfc0;\"/>\n    <path clip-path=\"url(#pd23a781904)\" d=\"M 416.593125 359.809219 \nL 429.613125 359.809219 \nL 429.613125 375.664219 \nL 416.593125 375.664219 \nL 416.593125 359.809219 \n\" style=\"fill:#5fc1c0;\"/>\n    <path clip-path=\"url(#pd23a781904)\" d=\"M 429.613125 359.809219 \nL 442.633125 359.809219 \nL 442.633125 375.664219 \nL 429.613125 375.664219 \nL 429.613125 359.809219 \n\" style=\"fill:#57bec1;\"/>\n    <path clip-path=\"url(#pd23a781904)\" d=\"M 442.633125 359.809219 \nL 455.653125 359.809219 \nL 455.653125 375.664219 \nL 442.633125 375.664219 \nL 442.633125 359.809219 \n\" style=\"fill:#61c2bf;\"/>\n    <path clip-path=\"url(#pd23a781904)\" d=\"M 455.653125 359.809219 \nL 468.673125 359.809219 \nL 468.673125 375.664219 \nL 455.653125 375.664219 \nL 455.653125 359.809219 \n\" style=\"fill:#4cbac2;\"/>\n    <path clip-path=\"url(#pd23a781904)\" d=\"M 468.673125 359.809219 \nL 481.693125 359.809219 \nL 481.693125 375.664219 \nL 468.673125 375.664219 \nL 468.673125 359.809219 \n\" style=\"fill:#65c3bf;\"/>\n    <path clip-path=\"url(#pd23a781904)\" d=\"M 481.693125 359.809219 \nL 494.713125 359.809219 \nL 494.713125 375.664219 \nL 481.693125 375.664219 \nL 481.693125 359.809219 \n\" style=\"fill:#081d58;\"/>\n    <path clip-path=\"url(#pd23a781904)\" d=\"M 494.713125 359.809219 \nL 507.733125 359.809219 \nL 507.733125 375.664219 \nL 494.713125 375.664219 \nL 494.713125 359.809219 \n\" style=\"fill:#57bec1;\"/>\n    <path clip-path=\"url(#pd23a781904)\" d=\"M 195.253125 375.664219 \nL 208.273125 375.664219 \nL 208.273125 391.519219 \nL 195.253125 391.519219 \nL 195.253125 375.664219 \n\" style=\"fill:#65c3bf;\"/>\n    <path clip-path=\"url(#pd23a781904)\" d=\"M 208.273125 375.664219 \nL 221.293125 375.664219 \nL 221.293125 391.519219 \nL 208.273125 391.519219 \nL 208.273125 375.664219 \n\" style=\"fill:#2498c1;\"/>\n    <path clip-path=\"url(#pd23a781904)\" d=\"M 221.293125 375.664219 \nL 234.313125 375.664219 \nL 234.313125 391.519219 \nL 221.293125 391.519219 \nL 221.293125 375.664219 \n\" style=\"fill:#269bc1;\"/>\n    <path clip-path=\"url(#pd23a781904)\" d=\"M 234.313125 375.664219 \nL 247.333125 375.664219 \nL 247.333125 391.519219 \nL 234.313125 391.519219 \nL 234.313125 375.664219 \n\" style=\"fill:#37acc3;\"/>\n    <path clip-path=\"url(#pd23a781904)\" d=\"M 247.333125 375.664219 \nL 260.353125 375.664219 \nL 260.353125 391.519219 \nL 247.333125 391.519219 \nL 247.333125 375.664219 \n\" style=\"fill:#6dc6be;\"/>\n    <path clip-path=\"url(#pd23a781904)\" d=\"M 260.353125 375.664219 \nL 273.373125 375.664219 \nL 273.373125 391.519219 \nL 260.353125 391.519219 \nL 260.353125 375.664219 \n\" style=\"fill:#289cc1;\"/>\n    <path clip-path=\"url(#pd23a781904)\" d=\"M 273.373125 375.664219 \nL 286.393125 375.664219 \nL 286.393125 391.519219 \nL 273.373125 391.519219 \nL 273.373125 375.664219 \n\" style=\"fill:#2498c1;\"/>\n    <path clip-path=\"url(#pd23a781904)\" d=\"M 286.393125 375.664219 \nL 299.413125 375.664219 \nL 299.413125 391.519219 \nL 286.393125 391.519219 \nL 286.393125 375.664219 \n\" style=\"fill:#8ed3ba;\"/>\n    <path clip-path=\"url(#pd23a781904)\" d=\"M 299.413125 375.664219 \nL 312.433125 375.664219 \nL 312.433125 391.519219 \nL 299.413125 391.519219 \nL 299.413125 375.664219 \n\" style=\"fill:#31a5c2;\"/>\n    <path clip-path=\"url(#pd23a781904)\" d=\"M 312.433125 375.664219 \nL 325.453125 375.664219 \nL 325.453125 391.519219 \nL 312.433125 391.519219 \nL 312.433125 375.664219 \n\" style=\"fill:#3bb0c3;\"/>\n    <path clip-path=\"url(#pd23a781904)\" d=\"M 325.453125 375.664219 \nL 338.473125 375.664219 \nL 338.473125 391.519219 \nL 325.453125 391.519219 \nL 325.453125 375.664219 \n\" style=\"fill:#289cc1;\"/>\n    <path clip-path=\"url(#pd23a781904)\" d=\"M 338.473125 375.664219 \nL 351.493125 375.664219 \nL 351.493125 391.519219 \nL 338.473125 391.519219 \nL 338.473125 375.664219 \n\" style=\"fill:#172978;\"/>\n    <path clip-path=\"url(#pd23a781904)\" d=\"M 351.493125 375.664219 \nL 364.513125 375.664219 \nL 364.513125 391.519219 \nL 351.493125 391.519219 \nL 351.493125 375.664219 \n\" style=\"fill:#1f7bb6;\"/>\n    <path clip-path=\"url(#pd23a781904)\" d=\"M 364.513125 375.664219 \nL 377.533125 375.664219 \nL 377.533125 391.519219 \nL 364.513125 391.519219 \nL 364.513125 375.664219 \n\" style=\"fill:#172978;\"/>\n    <path clip-path=\"url(#pd23a781904)\" d=\"M 377.533125 375.664219 \nL 390.553125 375.664219 \nL 390.553125 391.519219 \nL 377.533125 391.519219 \nL 377.533125 375.664219 \n\" style=\"fill:#1e86bb;\"/>\n    <path clip-path=\"url(#pd23a781904)\" d=\"M 390.553125 375.664219 \nL 403.573125 375.664219 \nL 403.573125 391.519219 \nL 390.553125 391.519219 \nL 390.553125 375.664219 \n\" style=\"fill:#2ea3c2;\"/>\n    <path clip-path=\"url(#pd23a781904)\" d=\"M 403.573125 375.664219 \nL 416.593125 375.664219 \nL 416.593125 391.519219 \nL 403.573125 391.519219 \nL 403.573125 375.664219 \n\" style=\"fill:#2ea3c2;\"/>\n    <path clip-path=\"url(#pd23a781904)\" d=\"M 416.593125 375.664219 \nL 429.613125 375.664219 \nL 429.613125 391.519219 \nL 416.593125 391.519219 \nL 416.593125 375.664219 \n\" style=\"fill:#34a9c3;\"/>\n    <path clip-path=\"url(#pd23a781904)\" d=\"M 429.613125 375.664219 \nL 442.633125 375.664219 \nL 442.633125 391.519219 \nL 429.613125 391.519219 \nL 429.613125 375.664219 \n\" style=\"fill:#2da2c2;\"/>\n    <path clip-path=\"url(#pd23a781904)\" d=\"M 442.633125 375.664219 \nL 455.653125 375.664219 \nL 455.653125 391.519219 \nL 442.633125 391.519219 \nL 442.633125 375.664219 \n\" style=\"fill:#1e86bb;\"/>\n    <path clip-path=\"url(#pd23a781904)\" d=\"M 455.653125 375.664219 \nL 468.673125 375.664219 \nL 468.673125 391.519219 \nL 455.653125 391.519219 \nL 455.653125 375.664219 \n\" style=\"fill:#1f7bb6;\"/>\n    <path clip-path=\"url(#pd23a781904)\" d=\"M 468.673125 375.664219 \nL 481.693125 375.664219 \nL 481.693125 391.519219 \nL 468.673125 391.519219 \nL 468.673125 375.664219 \n\" style=\"fill:#1f80b8;\"/>\n    <path clip-path=\"url(#pd23a781904)\" d=\"M 481.693125 375.664219 \nL 494.713125 375.664219 \nL 494.713125 391.519219 \nL 481.693125 391.519219 \nL 481.693125 375.664219 \n\" style=\"fill:#57bec1;\"/>\n    <path clip-path=\"url(#pd23a781904)\" d=\"M 494.713125 375.664219 \nL 507.733125 375.664219 \nL 507.733125 391.519219 \nL 494.713125 391.519219 \nL 494.713125 375.664219 \n\" style=\"fill:#081d58;\"/>\n   </g>\n   <g id=\"matplotlib.axis_1\">\n    <g id=\"xtick_1\">\n     <g id=\"line2d_1\">\n      <defs>\n       <path d=\"M 0 0 \nL 0 3.5 \n\" id=\"m65911a720d\" style=\"stroke:#000000;stroke-width:0.8;\"/>\n      </defs>\n      <g>\n       <use style=\"stroke:#000000;stroke-width:0.8;\" x=\"201.763125\" xlink:href=\"#m65911a720d\" y=\"391.519219\"/>\n      </g>\n     </g>\n     <g id=\"text_1\">\n      <!-- x0_NINJAVEGAS18 -->\n      <g transform=\"translate(204.295156 489.512969)rotate(-90)scale(0.1 -0.1)\">\n       <defs>\n        <path d=\"M 3513 3500 \nL 2247 1797 \nL 3578 0 \nL 2900 0 \nL 1881 1375 \nL 863 0 \nL 184 0 \nL 1544 1831 \nL 300 3500 \nL 978 3500 \nL 1906 2253 \nL 2834 3500 \nL 3513 3500 \nz\n\" id=\"DejaVuSans-78\" transform=\"scale(0.015625)\"/>\n        <path d=\"M 2034 4250 \nQ 1547 4250 1301 3770 \nQ 1056 3291 1056 2328 \nQ 1056 1369 1301 889 \nQ 1547 409 2034 409 \nQ 2525 409 2770 889 \nQ 3016 1369 3016 2328 \nQ 3016 3291 2770 3770 \nQ 2525 4250 2034 4250 \nz\nM 2034 4750 \nQ 2819 4750 3233 4129 \nQ 3647 3509 3647 2328 \nQ 3647 1150 3233 529 \nQ 2819 -91 2034 -91 \nQ 1250 -91 836 529 \nQ 422 1150 422 2328 \nQ 422 3509 836 4129 \nQ 1250 4750 2034 4750 \nz\n\" id=\"DejaVuSans-30\" transform=\"scale(0.015625)\"/>\n        <path d=\"M 3263 -1063 \nL 3263 -1509 \nL -63 -1509 \nL -63 -1063 \nL 3263 -1063 \nz\n\" id=\"DejaVuSans-5f\" transform=\"scale(0.015625)\"/>\n        <path d=\"M 628 4666 \nL 1478 4666 \nL 3547 763 \nL 3547 4666 \nL 4159 4666 \nL 4159 0 \nL 3309 0 \nL 1241 3903 \nL 1241 0 \nL 628 0 \nL 628 4666 \nz\n\" id=\"DejaVuSans-4e\" transform=\"scale(0.015625)\"/>\n        <path d=\"M 628 4666 \nL 1259 4666 \nL 1259 0 \nL 628 0 \nL 628 4666 \nz\n\" id=\"DejaVuSans-49\" transform=\"scale(0.015625)\"/>\n        <path d=\"M 628 4666 \nL 1259 4666 \nL 1259 325 \nQ 1259 -519 939 -900 \nQ 619 -1281 -91 -1281 \nL -331 -1281 \nL -331 -750 \nL -134 -750 \nQ 284 -750 456 -515 \nQ 628 -281 628 325 \nL 628 4666 \nz\n\" id=\"DejaVuSans-4a\" transform=\"scale(0.015625)\"/>\n        <path d=\"M 2188 4044 \nL 1331 1722 \nL 3047 1722 \nL 2188 4044 \nz\nM 1831 4666 \nL 2547 4666 \nL 4325 0 \nL 3669 0 \nL 3244 1197 \nL 1141 1197 \nL 716 0 \nL 50 0 \nL 1831 4666 \nz\n\" id=\"DejaVuSans-41\" transform=\"scale(0.015625)\"/>\n        <path d=\"M 1831 0 \nL 50 4666 \nL 709 4666 \nL 2188 738 \nL 3669 4666 \nL 4325 4666 \nL 2547 0 \nL 1831 0 \nz\n\" id=\"DejaVuSans-56\" transform=\"scale(0.015625)\"/>\n        <path d=\"M 628 4666 \nL 3578 4666 \nL 3578 4134 \nL 1259 4134 \nL 1259 2753 \nL 3481 2753 \nL 3481 2222 \nL 1259 2222 \nL 1259 531 \nL 3634 531 \nL 3634 0 \nL 628 0 \nL 628 4666 \nz\n\" id=\"DejaVuSans-45\" transform=\"scale(0.015625)\"/>\n        <path d=\"M 3809 666 \nL 3809 1919 \nL 2778 1919 \nL 2778 2438 \nL 4434 2438 \nL 4434 434 \nQ 4069 175 3628 42 \nQ 3188 -91 2688 -91 \nQ 1594 -91 976 548 \nQ 359 1188 359 2328 \nQ 359 3472 976 4111 \nQ 1594 4750 2688 4750 \nQ 3144 4750 3555 4637 \nQ 3966 4525 4313 4306 \nL 4313 3634 \nQ 3963 3931 3569 4081 \nQ 3175 4231 2741 4231 \nQ 1884 4231 1454 3753 \nQ 1025 3275 1025 2328 \nQ 1025 1384 1454 906 \nQ 1884 428 2741 428 \nQ 3075 428 3337 486 \nQ 3600 544 3809 666 \nz\n\" id=\"DejaVuSans-47\" transform=\"scale(0.015625)\"/>\n        <path d=\"M 3425 4513 \nL 3425 3897 \nQ 3066 4069 2747 4153 \nQ 2428 4238 2131 4238 \nQ 1616 4238 1336 4038 \nQ 1056 3838 1056 3469 \nQ 1056 3159 1242 3001 \nQ 1428 2844 1947 2747 \nL 2328 2669 \nQ 3034 2534 3370 2195 \nQ 3706 1856 3706 1288 \nQ 3706 609 3251 259 \nQ 2797 -91 1919 -91 \nQ 1588 -91 1214 -16 \nQ 841 59 441 206 \nL 441 856 \nQ 825 641 1194 531 \nQ 1563 422 1919 422 \nQ 2459 422 2753 634 \nQ 3047 847 3047 1241 \nQ 3047 1584 2836 1778 \nQ 2625 1972 2144 2069 \nL 1759 2144 \nQ 1053 2284 737 2584 \nQ 422 2884 422 3419 \nQ 422 4038 858 4394 \nQ 1294 4750 2059 4750 \nQ 2388 4750 2728 4690 \nQ 3069 4631 3425 4513 \nz\n\" id=\"DejaVuSans-53\" transform=\"scale(0.015625)\"/>\n        <path d=\"M 794 531 \nL 1825 531 \nL 1825 4091 \nL 703 3866 \nL 703 4441 \nL 1819 4666 \nL 2450 4666 \nL 2450 531 \nL 3481 531 \nL 3481 0 \nL 794 0 \nL 794 531 \nz\n\" id=\"DejaVuSans-31\" transform=\"scale(0.015625)\"/>\n        <path d=\"M 2034 2216 \nQ 1584 2216 1326 1975 \nQ 1069 1734 1069 1313 \nQ 1069 891 1326 650 \nQ 1584 409 2034 409 \nQ 2484 409 2743 651 \nQ 3003 894 3003 1313 \nQ 3003 1734 2745 1975 \nQ 2488 2216 2034 2216 \nz\nM 1403 2484 \nQ 997 2584 770 2862 \nQ 544 3141 544 3541 \nQ 544 4100 942 4425 \nQ 1341 4750 2034 4750 \nQ 2731 4750 3128 4425 \nQ 3525 4100 3525 3541 \nQ 3525 3141 3298 2862 \nQ 3072 2584 2669 2484 \nQ 3125 2378 3379 2068 \nQ 3634 1759 3634 1313 \nQ 3634 634 3220 271 \nQ 2806 -91 2034 -91 \nQ 1263 -91 848 271 \nQ 434 634 434 1313 \nQ 434 1759 690 2068 \nQ 947 2378 1403 2484 \nz\nM 1172 3481 \nQ 1172 3119 1398 2916 \nQ 1625 2713 2034 2713 \nQ 2441 2713 2670 2916 \nQ 2900 3119 2900 3481 \nQ 2900 3844 2670 4047 \nQ 2441 4250 2034 4250 \nQ 1625 4250 1398 4047 \nQ 1172 3844 1172 3481 \nz\n\" id=\"DejaVuSans-38\" transform=\"scale(0.015625)\"/>\n       </defs>\n       <use xlink:href=\"#DejaVuSans-78\"/>\n       <use x=\"59.179688\" xlink:href=\"#DejaVuSans-30\"/>\n       <use x=\"122.802734\" xlink:href=\"#DejaVuSans-5f\"/>\n       <use x=\"172.802734\" xlink:href=\"#DejaVuSans-4e\"/>\n       <use x=\"247.607422\" xlink:href=\"#DejaVuSans-49\"/>\n       <use x=\"277.099609\" xlink:href=\"#DejaVuSans-4e\"/>\n       <use x=\"351.904297\" xlink:href=\"#DejaVuSans-4a\"/>\n       <use x=\"379.646484\" xlink:href=\"#DejaVuSans-41\"/>\n       <use x=\"441.679688\" xlink:href=\"#DejaVuSans-56\"/>\n       <use x=\"510.087891\" xlink:href=\"#DejaVuSans-45\"/>\n       <use x=\"573.271484\" xlink:href=\"#DejaVuSans-47\"/>\n       <use x=\"650.761719\" xlink:href=\"#DejaVuSans-41\"/>\n       <use x=\"719.169922\" xlink:href=\"#DejaVuSans-53\"/>\n       <use x=\"782.646484\" xlink:href=\"#DejaVuSans-31\"/>\n       <use x=\"846.269531\" xlink:href=\"#DejaVuSans-38\"/>\n      </g>\n     </g>\n    </g>\n    <g id=\"xtick_2\">\n     <g id=\"line2d_2\">\n      <g>\n       <use style=\"stroke:#000000;stroke-width:0.8;\" x=\"214.783125\" xlink:href=\"#m65911a720d\" y=\"391.519219\"/>\n      </g>\n     </g>\n     <g id=\"text_2\">\n      <!-- x0_NINJAVEGAS186m46s -->\n      <g transform=\"translate(217.315156 523.550469)rotate(-90)scale(0.1 -0.1)\">\n       <defs>\n        <path d=\"M 2113 2584 \nQ 1688 2584 1439 2293 \nQ 1191 2003 1191 1497 \nQ 1191 994 1439 701 \nQ 1688 409 2113 409 \nQ 2538 409 2786 701 \nQ 3034 994 3034 1497 \nQ 3034 2003 2786 2293 \nQ 2538 2584 2113 2584 \nz\nM 3366 4563 \nL 3366 3988 \nQ 3128 4100 2886 4159 \nQ 2644 4219 2406 4219 \nQ 1781 4219 1451 3797 \nQ 1122 3375 1075 2522 \nQ 1259 2794 1537 2939 \nQ 1816 3084 2150 3084 \nQ 2853 3084 3261 2657 \nQ 3669 2231 3669 1497 \nQ 3669 778 3244 343 \nQ 2819 -91 2113 -91 \nQ 1303 -91 875 529 \nQ 447 1150 447 2328 \nQ 447 3434 972 4092 \nQ 1497 4750 2381 4750 \nQ 2619 4750 2861 4703 \nQ 3103 4656 3366 4563 \nz\n\" id=\"DejaVuSans-36\" transform=\"scale(0.015625)\"/>\n        <path d=\"M 3328 2828 \nQ 3544 3216 3844 3400 \nQ 4144 3584 4550 3584 \nQ 5097 3584 5394 3201 \nQ 5691 2819 5691 2113 \nL 5691 0 \nL 5113 0 \nL 5113 2094 \nQ 5113 2597 4934 2840 \nQ 4756 3084 4391 3084 \nQ 3944 3084 3684 2787 \nQ 3425 2491 3425 1978 \nL 3425 0 \nL 2847 0 \nL 2847 2094 \nQ 2847 2600 2669 2842 \nQ 2491 3084 2119 3084 \nQ 1678 3084 1418 2786 \nQ 1159 2488 1159 1978 \nL 1159 0 \nL 581 0 \nL 581 3500 \nL 1159 3500 \nL 1159 2956 \nQ 1356 3278 1631 3431 \nQ 1906 3584 2284 3584 \nQ 2666 3584 2933 3390 \nQ 3200 3197 3328 2828 \nz\n\" id=\"DejaVuSans-6d\" transform=\"scale(0.015625)\"/>\n        <path d=\"M 2419 4116 \nL 825 1625 \nL 2419 1625 \nL 2419 4116 \nz\nM 2253 4666 \nL 3047 4666 \nL 3047 1625 \nL 3713 1625 \nL 3713 1100 \nL 3047 1100 \nL 3047 0 \nL 2419 0 \nL 2419 1100 \nL 313 1100 \nL 313 1709 \nL 2253 4666 \nz\n\" id=\"DejaVuSans-34\" transform=\"scale(0.015625)\"/>\n        <path d=\"M 2834 3397 \nL 2834 2853 \nQ 2591 2978 2328 3040 \nQ 2066 3103 1784 3103 \nQ 1356 3103 1142 2972 \nQ 928 2841 928 2578 \nQ 928 2378 1081 2264 \nQ 1234 2150 1697 2047 \nL 1894 2003 \nQ 2506 1872 2764 1633 \nQ 3022 1394 3022 966 \nQ 3022 478 2636 193 \nQ 2250 -91 1575 -91 \nQ 1294 -91 989 -36 \nQ 684 19 347 128 \nL 347 722 \nQ 666 556 975 473 \nQ 1284 391 1588 391 \nQ 1994 391 2212 530 \nQ 2431 669 2431 922 \nQ 2431 1156 2273 1281 \nQ 2116 1406 1581 1522 \nL 1381 1569 \nQ 847 1681 609 1914 \nQ 372 2147 372 2553 \nQ 372 3047 722 3315 \nQ 1072 3584 1716 3584 \nQ 2034 3584 2315 3537 \nQ 2597 3491 2834 3397 \nz\n\" id=\"DejaVuSans-73\" transform=\"scale(0.015625)\"/>\n       </defs>\n       <use xlink:href=\"#DejaVuSans-78\"/>\n       <use x=\"59.179688\" xlink:href=\"#DejaVuSans-30\"/>\n       <use x=\"122.802734\" xlink:href=\"#DejaVuSans-5f\"/>\n       <use x=\"172.802734\" xlink:href=\"#DejaVuSans-4e\"/>\n       <use x=\"247.607422\" xlink:href=\"#DejaVuSans-49\"/>\n       <use x=\"277.099609\" xlink:href=\"#DejaVuSans-4e\"/>\n       <use x=\"351.904297\" xlink:href=\"#DejaVuSans-4a\"/>\n       <use x=\"379.646484\" xlink:href=\"#DejaVuSans-41\"/>\n       <use x=\"441.679688\" xlink:href=\"#DejaVuSans-56\"/>\n       <use x=\"510.087891\" xlink:href=\"#DejaVuSans-45\"/>\n       <use x=\"573.271484\" xlink:href=\"#DejaVuSans-47\"/>\n       <use x=\"650.761719\" xlink:href=\"#DejaVuSans-41\"/>\n       <use x=\"719.169922\" xlink:href=\"#DejaVuSans-53\"/>\n       <use x=\"782.646484\" xlink:href=\"#DejaVuSans-31\"/>\n       <use x=\"846.269531\" xlink:href=\"#DejaVuSans-38\"/>\n       <use x=\"909.892578\" xlink:href=\"#DejaVuSans-36\"/>\n       <use x=\"973.515625\" xlink:href=\"#DejaVuSans-6d\"/>\n       <use x=\"1070.927734\" xlink:href=\"#DejaVuSans-34\"/>\n       <use x=\"1134.550781\" xlink:href=\"#DejaVuSans-36\"/>\n       <use x=\"1198.173828\" xlink:href=\"#DejaVuSans-73\"/>\n      </g>\n     </g>\n    </g>\n    <g id=\"xtick_3\">\n     <g id=\"line2d_3\">\n      <g>\n       <use style=\"stroke:#000000;stroke-width:0.8;\" x=\"227.803125\" xlink:href=\"#m65911a720d\" y=\"391.519219\"/>\n      </g>\n     </g>\n     <g id=\"text_3\">\n      <!-- x0_NINJAVEGAS18LIVEAT4 -->\n      <g transform=\"translate(230.335156 529.730156)rotate(-90)scale(0.1 -0.1)\">\n       <defs>\n        <path d=\"M 628 4666 \nL 1259 4666 \nL 1259 531 \nL 3531 531 \nL 3531 0 \nL 628 0 \nL 628 4666 \nz\n\" id=\"DejaVuSans-4c\" transform=\"scale(0.015625)\"/>\n        <path d=\"M -19 4666 \nL 3928 4666 \nL 3928 4134 \nL 2272 4134 \nL 2272 0 \nL 1638 0 \nL 1638 4134 \nL -19 4134 \nL -19 4666 \nz\n\" id=\"DejaVuSans-54\" transform=\"scale(0.015625)\"/>\n       </defs>\n       <use xlink:href=\"#DejaVuSans-78\"/>\n       <use x=\"59.179688\" xlink:href=\"#DejaVuSans-30\"/>\n       <use x=\"122.802734\" xlink:href=\"#DejaVuSans-5f\"/>\n       <use x=\"172.802734\" xlink:href=\"#DejaVuSans-4e\"/>\n       <use x=\"247.607422\" xlink:href=\"#DejaVuSans-49\"/>\n       <use x=\"277.099609\" xlink:href=\"#DejaVuSans-4e\"/>\n       <use x=\"351.904297\" xlink:href=\"#DejaVuSans-4a\"/>\n       <use x=\"379.646484\" xlink:href=\"#DejaVuSans-41\"/>\n       <use x=\"441.679688\" xlink:href=\"#DejaVuSans-56\"/>\n       <use x=\"510.087891\" xlink:href=\"#DejaVuSans-45\"/>\n       <use x=\"573.271484\" xlink:href=\"#DejaVuSans-47\"/>\n       <use x=\"650.761719\" xlink:href=\"#DejaVuSans-41\"/>\n       <use x=\"719.169922\" xlink:href=\"#DejaVuSans-53\"/>\n       <use x=\"782.646484\" xlink:href=\"#DejaVuSans-31\"/>\n       <use x=\"846.269531\" xlink:href=\"#DejaVuSans-38\"/>\n       <use x=\"909.892578\" xlink:href=\"#DejaVuSans-4c\"/>\n       <use x=\"965.605469\" xlink:href=\"#DejaVuSans-49\"/>\n       <use x=\"995.097656\" xlink:href=\"#DejaVuSans-56\"/>\n       <use x=\"1063.505859\" xlink:href=\"#DejaVuSans-45\"/>\n       <use x=\"1126.689453\" xlink:href=\"#DejaVuSans-41\"/>\n       <use x=\"1187.347656\" xlink:href=\"#DejaVuSans-54\"/>\n       <use x=\"1248.431641\" xlink:href=\"#DejaVuSans-34\"/>\n      </g>\n     </g>\n    </g>\n    <g id=\"xtick_4\">\n     <g id=\"line2d_4\">\n      <g>\n       <use style=\"stroke:#000000;stroke-width:0.8;\" x=\"240.823125\" xlink:href=\"#m65911a720d\" y=\"391.519219\"/>\n      </g>\n     </g>\n     <g id=\"text_4\">\n      <!-- x0_NINJAVEGAS18LIVEAT41H36M -->\n      <g transform=\"translate(243.355156 564.966094)rotate(-90)scale(0.1 -0.1)\">\n       <defs>\n        <path d=\"M 628 4666 \nL 1259 4666 \nL 1259 2753 \nL 3553 2753 \nL 3553 4666 \nL 4184 4666 \nL 4184 0 \nL 3553 0 \nL 3553 2222 \nL 1259 2222 \nL 1259 0 \nL 628 0 \nL 628 4666 \nz\n\" id=\"DejaVuSans-48\" transform=\"scale(0.015625)\"/>\n        <path d=\"M 2597 2516 \nQ 3050 2419 3304 2112 \nQ 3559 1806 3559 1356 \nQ 3559 666 3084 287 \nQ 2609 -91 1734 -91 \nQ 1441 -91 1130 -33 \nQ 819 25 488 141 \nL 488 750 \nQ 750 597 1062 519 \nQ 1375 441 1716 441 \nQ 2309 441 2620 675 \nQ 2931 909 2931 1356 \nQ 2931 1769 2642 2001 \nQ 2353 2234 1838 2234 \nL 1294 2234 \nL 1294 2753 \nL 1863 2753 \nQ 2328 2753 2575 2939 \nQ 2822 3125 2822 3475 \nQ 2822 3834 2567 4026 \nQ 2313 4219 1838 4219 \nQ 1578 4219 1281 4162 \nQ 984 4106 628 3988 \nL 628 4550 \nQ 988 4650 1302 4700 \nQ 1616 4750 1894 4750 \nQ 2613 4750 3031 4423 \nQ 3450 4097 3450 3541 \nQ 3450 3153 3228 2886 \nQ 3006 2619 2597 2516 \nz\n\" id=\"DejaVuSans-33\" transform=\"scale(0.015625)\"/>\n        <path d=\"M 628 4666 \nL 1569 4666 \nL 2759 1491 \nL 3956 4666 \nL 4897 4666 \nL 4897 0 \nL 4281 0 \nL 4281 4097 \nL 3078 897 \nL 2444 897 \nL 1241 4097 \nL 1241 0 \nL 628 0 \nL 628 4666 \nz\n\" id=\"DejaVuSans-4d\" transform=\"scale(0.015625)\"/>\n       </defs>\n       <use xlink:href=\"#DejaVuSans-78\"/>\n       <use x=\"59.179688\" xlink:href=\"#DejaVuSans-30\"/>\n       <use x=\"122.802734\" xlink:href=\"#DejaVuSans-5f\"/>\n       <use x=\"172.802734\" xlink:href=\"#DejaVuSans-4e\"/>\n       <use x=\"247.607422\" xlink:href=\"#DejaVuSans-49\"/>\n       <use x=\"277.099609\" xlink:href=\"#DejaVuSans-4e\"/>\n       <use x=\"351.904297\" xlink:href=\"#DejaVuSans-4a\"/>\n       <use x=\"379.646484\" xlink:href=\"#DejaVuSans-41\"/>\n       <use x=\"441.679688\" xlink:href=\"#DejaVuSans-56\"/>\n       <use x=\"510.087891\" xlink:href=\"#DejaVuSans-45\"/>\n       <use x=\"573.271484\" xlink:href=\"#DejaVuSans-47\"/>\n       <use x=\"650.761719\" xlink:href=\"#DejaVuSans-41\"/>\n       <use x=\"719.169922\" xlink:href=\"#DejaVuSans-53\"/>\n       <use x=\"782.646484\" xlink:href=\"#DejaVuSans-31\"/>\n       <use x=\"846.269531\" xlink:href=\"#DejaVuSans-38\"/>\n       <use x=\"909.892578\" xlink:href=\"#DejaVuSans-4c\"/>\n       <use x=\"965.605469\" xlink:href=\"#DejaVuSans-49\"/>\n       <use x=\"995.097656\" xlink:href=\"#DejaVuSans-56\"/>\n       <use x=\"1063.505859\" xlink:href=\"#DejaVuSans-45\"/>\n       <use x=\"1126.689453\" xlink:href=\"#DejaVuSans-41\"/>\n       <use x=\"1187.347656\" xlink:href=\"#DejaVuSans-54\"/>\n       <use x=\"1248.431641\" xlink:href=\"#DejaVuSans-34\"/>\n       <use x=\"1312.054688\" xlink:href=\"#DejaVuSans-31\"/>\n       <use x=\"1375.677734\" xlink:href=\"#DejaVuSans-48\"/>\n       <use x=\"1450.873047\" xlink:href=\"#DejaVuSans-33\"/>\n       <use x=\"1514.496094\" xlink:href=\"#DejaVuSans-36\"/>\n       <use x=\"1578.119141\" xlink:href=\"#DejaVuSans-4d\"/>\n      </g>\n     </g>\n    </g>\n    <g id=\"xtick_5\">\n     <g id=\"line2d_5\">\n      <g>\n       <use style=\"stroke:#000000;stroke-width:0.8;\" x=\"253.843125\" xlink:href=\"#m65911a720d\" y=\"391.519219\"/>\n      </g>\n     </g>\n     <g id=\"text_5\">\n      <!-- x1_Purple -->\n      <g transform=\"translate(256.463437 447.383281)rotate(-90)scale(0.1 -0.1)\">\n       <defs>\n        <path d=\"M 1259 4147 \nL 1259 2394 \nL 2053 2394 \nQ 2494 2394 2734 2622 \nQ 2975 2850 2975 3272 \nQ 2975 3691 2734 3919 \nQ 2494 4147 2053 4147 \nL 1259 4147 \nz\nM 628 4666 \nL 2053 4666 \nQ 2838 4666 3239 4311 \nQ 3641 3956 3641 3272 \nQ 3641 2581 3239 2228 \nQ 2838 1875 2053 1875 \nL 1259 1875 \nL 1259 0 \nL 628 0 \nL 628 4666 \nz\n\" id=\"DejaVuSans-50\" transform=\"scale(0.015625)\"/>\n        <path d=\"M 544 1381 \nL 544 3500 \nL 1119 3500 \nL 1119 1403 \nQ 1119 906 1312 657 \nQ 1506 409 1894 409 \nQ 2359 409 2629 706 \nQ 2900 1003 2900 1516 \nL 2900 3500 \nL 3475 3500 \nL 3475 0 \nL 2900 0 \nL 2900 538 \nQ 2691 219 2414 64 \nQ 2138 -91 1772 -91 \nQ 1169 -91 856 284 \nQ 544 659 544 1381 \nz\nM 1991 3584 \nL 1991 3584 \nz\n\" id=\"DejaVuSans-75\" transform=\"scale(0.015625)\"/>\n        <path d=\"M 2631 2963 \nQ 2534 3019 2420 3045 \nQ 2306 3072 2169 3072 \nQ 1681 3072 1420 2755 \nQ 1159 2438 1159 1844 \nL 1159 0 \nL 581 0 \nL 581 3500 \nL 1159 3500 \nL 1159 2956 \nQ 1341 3275 1631 3429 \nQ 1922 3584 2338 3584 \nQ 2397 3584 2469 3576 \nQ 2541 3569 2628 3553 \nL 2631 2963 \nz\n\" id=\"DejaVuSans-72\" transform=\"scale(0.015625)\"/>\n        <path d=\"M 1159 525 \nL 1159 -1331 \nL 581 -1331 \nL 581 3500 \nL 1159 3500 \nL 1159 2969 \nQ 1341 3281 1617 3432 \nQ 1894 3584 2278 3584 \nQ 2916 3584 3314 3078 \nQ 3713 2572 3713 1747 \nQ 3713 922 3314 415 \nQ 2916 -91 2278 -91 \nQ 1894 -91 1617 61 \nQ 1341 213 1159 525 \nz\nM 3116 1747 \nQ 3116 2381 2855 2742 \nQ 2594 3103 2138 3103 \nQ 1681 3103 1420 2742 \nQ 1159 2381 1159 1747 \nQ 1159 1113 1420 752 \nQ 1681 391 2138 391 \nQ 2594 391 2855 752 \nQ 3116 1113 3116 1747 \nz\n\" id=\"DejaVuSans-70\" transform=\"scale(0.015625)\"/>\n        <path d=\"M 603 4863 \nL 1178 4863 \nL 1178 0 \nL 603 0 \nL 603 4863 \nz\n\" id=\"DejaVuSans-6c\" transform=\"scale(0.015625)\"/>\n        <path d=\"M 3597 1894 \nL 3597 1613 \nL 953 1613 \nQ 991 1019 1311 708 \nQ 1631 397 2203 397 \nQ 2534 397 2845 478 \nQ 3156 559 3463 722 \nL 3463 178 \nQ 3153 47 2828 -22 \nQ 2503 -91 2169 -91 \nQ 1331 -91 842 396 \nQ 353 884 353 1716 \nQ 353 2575 817 3079 \nQ 1281 3584 2069 3584 \nQ 2775 3584 3186 3129 \nQ 3597 2675 3597 1894 \nz\nM 3022 2063 \nQ 3016 2534 2758 2815 \nQ 2500 3097 2075 3097 \nQ 1594 3097 1305 2825 \nQ 1016 2553 972 2059 \nL 3022 2063 \nz\n\" id=\"DejaVuSans-65\" transform=\"scale(0.015625)\"/>\n       </defs>\n       <use xlink:href=\"#DejaVuSans-78\"/>\n       <use x=\"59.179688\" xlink:href=\"#DejaVuSans-31\"/>\n       <use x=\"122.802734\" xlink:href=\"#DejaVuSans-5f\"/>\n       <use x=\"172.802734\" xlink:href=\"#DejaVuSans-50\"/>\n       <use x=\"231.355469\" xlink:href=\"#DejaVuSans-75\"/>\n       <use x=\"294.734375\" xlink:href=\"#DejaVuSans-72\"/>\n       <use x=\"335.847656\" xlink:href=\"#DejaVuSans-70\"/>\n       <use x=\"399.324219\" xlink:href=\"#DejaVuSans-6c\"/>\n       <use x=\"427.107422\" xlink:href=\"#DejaVuSans-65\"/>\n      </g>\n     </g>\n    </g>\n    <g id=\"xtick_6\">\n     <g id=\"line2d_6\">\n      <g>\n       <use style=\"stroke:#000000;stroke-width:0.8;\" x=\"266.863125\" xlink:href=\"#m65911a720d\" y=\"391.519219\"/>\n      </g>\n     </g>\n     <g id=\"text_6\">\n      <!-- x1_Red Bull -->\n      <g transform=\"translate(269.483438 456.733281)rotate(-90)scale(0.1 -0.1)\">\n       <defs>\n        <path d=\"M 2841 2188 \nQ 3044 2119 3236 1894 \nQ 3428 1669 3622 1275 \nL 4263 0 \nL 3584 0 \nL 2988 1197 \nQ 2756 1666 2539 1819 \nQ 2322 1972 1947 1972 \nL 1259 1972 \nL 1259 0 \nL 628 0 \nL 628 4666 \nL 2053 4666 \nQ 2853 4666 3247 4331 \nQ 3641 3997 3641 3322 \nQ 3641 2881 3436 2590 \nQ 3231 2300 2841 2188 \nz\nM 1259 4147 \nL 1259 2491 \nL 2053 2491 \nQ 2509 2491 2742 2702 \nQ 2975 2913 2975 3322 \nQ 2975 3731 2742 3939 \nQ 2509 4147 2053 4147 \nL 1259 4147 \nz\n\" id=\"DejaVuSans-52\" transform=\"scale(0.015625)\"/>\n        <path d=\"M 2906 2969 \nL 2906 4863 \nL 3481 4863 \nL 3481 0 \nL 2906 0 \nL 2906 525 \nQ 2725 213 2448 61 \nQ 2172 -91 1784 -91 \nQ 1150 -91 751 415 \nQ 353 922 353 1747 \nQ 353 2572 751 3078 \nQ 1150 3584 1784 3584 \nQ 2172 3584 2448 3432 \nQ 2725 3281 2906 2969 \nz\nM 947 1747 \nQ 947 1113 1208 752 \nQ 1469 391 1925 391 \nQ 2381 391 2643 752 \nQ 2906 1113 2906 1747 \nQ 2906 2381 2643 2742 \nQ 2381 3103 1925 3103 \nQ 1469 3103 1208 2742 \nQ 947 2381 947 1747 \nz\n\" id=\"DejaVuSans-64\" transform=\"scale(0.015625)\"/>\n        <path id=\"DejaVuSans-20\" transform=\"scale(0.015625)\"/>\n        <path d=\"M 1259 2228 \nL 1259 519 \nL 2272 519 \nQ 2781 519 3026 730 \nQ 3272 941 3272 1375 \nQ 3272 1813 3026 2020 \nQ 2781 2228 2272 2228 \nL 1259 2228 \nz\nM 1259 4147 \nL 1259 2741 \nL 2194 2741 \nQ 2656 2741 2882 2914 \nQ 3109 3088 3109 3444 \nQ 3109 3797 2882 3972 \nQ 2656 4147 2194 4147 \nL 1259 4147 \nz\nM 628 4666 \nL 2241 4666 \nQ 2963 4666 3353 4366 \nQ 3744 4066 3744 3513 \nQ 3744 3084 3544 2831 \nQ 3344 2578 2956 2516 \nQ 3422 2416 3680 2098 \nQ 3938 1781 3938 1306 \nQ 3938 681 3513 340 \nQ 3088 0 2303 0 \nL 628 0 \nL 628 4666 \nz\n\" id=\"DejaVuSans-42\" transform=\"scale(0.015625)\"/>\n       </defs>\n       <use xlink:href=\"#DejaVuSans-78\"/>\n       <use x=\"59.179688\" xlink:href=\"#DejaVuSans-31\"/>\n       <use x=\"122.802734\" xlink:href=\"#DejaVuSans-5f\"/>\n       <use x=\"172.802734\" xlink:href=\"#DejaVuSans-52\"/>\n       <use x=\"237.785156\" xlink:href=\"#DejaVuSans-65\"/>\n       <use x=\"299.308594\" xlink:href=\"#DejaVuSans-64\"/>\n       <use x=\"362.785156\" xlink:href=\"#DejaVuSans-20\"/>\n       <use x=\"394.572266\" xlink:href=\"#DejaVuSans-42\"/>\n       <use x=\"463.175781\" xlink:href=\"#DejaVuSans-75\"/>\n       <use x=\"526.554688\" xlink:href=\"#DejaVuSans-6c\"/>\n       <use x=\"554.337891\" xlink:href=\"#DejaVuSans-6c\"/>\n      </g>\n     </g>\n    </g>\n    <g id=\"xtick_7\">\n     <g id=\"line2d_7\">\n      <g>\n       <use style=\"stroke:#000000;stroke-width:0.8;\" x=\"279.883125\" xlink:href=\"#m65911a720d\" y=\"391.519219\"/>\n      </g>\n     </g>\n     <g id=\"text_7\">\n      <!-- x2_Banner Sign -->\n      <g transform=\"translate(282.503438 476.719219)rotate(-90)scale(0.1 -0.1)\">\n       <defs>\n        <path d=\"M 1228 531 \nL 3431 531 \nL 3431 0 \nL 469 0 \nL 469 531 \nQ 828 903 1448 1529 \nQ 2069 2156 2228 2338 \nQ 2531 2678 2651 2914 \nQ 2772 3150 2772 3378 \nQ 2772 3750 2511 3984 \nQ 2250 4219 1831 4219 \nQ 1534 4219 1204 4116 \nQ 875 4013 500 3803 \nL 500 4441 \nQ 881 4594 1212 4672 \nQ 1544 4750 1819 4750 \nQ 2544 4750 2975 4387 \nQ 3406 4025 3406 3419 \nQ 3406 3131 3298 2873 \nQ 3191 2616 2906 2266 \nQ 2828 2175 2409 1742 \nQ 1991 1309 1228 531 \nz\n\" id=\"DejaVuSans-32\" transform=\"scale(0.015625)\"/>\n        <path d=\"M 2194 1759 \nQ 1497 1759 1228 1600 \nQ 959 1441 959 1056 \nQ 959 750 1161 570 \nQ 1363 391 1709 391 \nQ 2188 391 2477 730 \nQ 2766 1069 2766 1631 \nL 2766 1759 \nL 2194 1759 \nz\nM 3341 1997 \nL 3341 0 \nL 2766 0 \nL 2766 531 \nQ 2569 213 2275 61 \nQ 1981 -91 1556 -91 \nQ 1019 -91 701 211 \nQ 384 513 384 1019 \nQ 384 1609 779 1909 \nQ 1175 2209 1959 2209 \nL 2766 2209 \nL 2766 2266 \nQ 2766 2663 2505 2880 \nQ 2244 3097 1772 3097 \nQ 1472 3097 1187 3025 \nQ 903 2953 641 2809 \nL 641 3341 \nQ 956 3463 1253 3523 \nQ 1550 3584 1831 3584 \nQ 2591 3584 2966 3190 \nQ 3341 2797 3341 1997 \nz\n\" id=\"DejaVuSans-61\" transform=\"scale(0.015625)\"/>\n        <path d=\"M 3513 2113 \nL 3513 0 \nL 2938 0 \nL 2938 2094 \nQ 2938 2591 2744 2837 \nQ 2550 3084 2163 3084 \nQ 1697 3084 1428 2787 \nQ 1159 2491 1159 1978 \nL 1159 0 \nL 581 0 \nL 581 3500 \nL 1159 3500 \nL 1159 2956 \nQ 1366 3272 1645 3428 \nQ 1925 3584 2291 3584 \nQ 2894 3584 3203 3211 \nQ 3513 2838 3513 2113 \nz\n\" id=\"DejaVuSans-6e\" transform=\"scale(0.015625)\"/>\n        <path d=\"M 603 3500 \nL 1178 3500 \nL 1178 0 \nL 603 0 \nL 603 3500 \nz\nM 603 4863 \nL 1178 4863 \nL 1178 4134 \nL 603 4134 \nL 603 4863 \nz\n\" id=\"DejaVuSans-69\" transform=\"scale(0.015625)\"/>\n        <path d=\"M 2906 1791 \nQ 2906 2416 2648 2759 \nQ 2391 3103 1925 3103 \nQ 1463 3103 1205 2759 \nQ 947 2416 947 1791 \nQ 947 1169 1205 825 \nQ 1463 481 1925 481 \nQ 2391 481 2648 825 \nQ 2906 1169 2906 1791 \nz\nM 3481 434 \nQ 3481 -459 3084 -895 \nQ 2688 -1331 1869 -1331 \nQ 1566 -1331 1297 -1286 \nQ 1028 -1241 775 -1147 \nL 775 -588 \nQ 1028 -725 1275 -790 \nQ 1522 -856 1778 -856 \nQ 2344 -856 2625 -561 \nQ 2906 -266 2906 331 \nL 2906 616 \nQ 2728 306 2450 153 \nQ 2172 0 1784 0 \nQ 1141 0 747 490 \nQ 353 981 353 1791 \nQ 353 2603 747 3093 \nQ 1141 3584 1784 3584 \nQ 2172 3584 2450 3431 \nQ 2728 3278 2906 2969 \nL 2906 3500 \nL 3481 3500 \nL 3481 434 \nz\n\" id=\"DejaVuSans-67\" transform=\"scale(0.015625)\"/>\n       </defs>\n       <use xlink:href=\"#DejaVuSans-78\"/>\n       <use x=\"59.179688\" xlink:href=\"#DejaVuSans-32\"/>\n       <use x=\"122.802734\" xlink:href=\"#DejaVuSans-5f\"/>\n       <use x=\"172.802734\" xlink:href=\"#DejaVuSans-42\"/>\n       <use x=\"241.40625\" xlink:href=\"#DejaVuSans-61\"/>\n       <use x=\"302.685547\" xlink:href=\"#DejaVuSans-6e\"/>\n       <use x=\"366.064453\" xlink:href=\"#DejaVuSans-6e\"/>\n       <use x=\"429.443359\" xlink:href=\"#DejaVuSans-65\"/>\n       <use x=\"490.966797\" xlink:href=\"#DejaVuSans-72\"/>\n       <use x=\"532.080078\" xlink:href=\"#DejaVuSans-20\"/>\n       <use x=\"563.867188\" xlink:href=\"#DejaVuSans-53\"/>\n       <use x=\"627.34375\" xlink:href=\"#DejaVuSans-69\"/>\n       <use x=\"655.126953\" xlink:href=\"#DejaVuSans-67\"/>\n       <use x=\"718.603516\" xlink:href=\"#DejaVuSans-6e\"/>\n      </g>\n     </g>\n    </g>\n    <g id=\"xtick_8\">\n     <g id=\"line2d_8\">\n      <g>\n       <use style=\"stroke:#000000;stroke-width:0.8;\" x=\"292.903125\" xlink:href=\"#m65911a720d\" y=\"391.519219\"/>\n      </g>\n     </g>\n     <g id=\"text_8\">\n      <!-- x2_Logo Bug -->\n      <g transform=\"translate(295.435156 462.508281)rotate(-90)scale(0.1 -0.1)\">\n       <defs>\n        <path d=\"M 1959 3097 \nQ 1497 3097 1228 2736 \nQ 959 2375 959 1747 \nQ 959 1119 1226 758 \nQ 1494 397 1959 397 \nQ 2419 397 2687 759 \nQ 2956 1122 2956 1747 \nQ 2956 2369 2687 2733 \nQ 2419 3097 1959 3097 \nz\nM 1959 3584 \nQ 2709 3584 3137 3096 \nQ 3566 2609 3566 1747 \nQ 3566 888 3137 398 \nQ 2709 -91 1959 -91 \nQ 1206 -91 779 398 \nQ 353 888 353 1747 \nQ 353 2609 779 3096 \nQ 1206 3584 1959 3584 \nz\n\" id=\"DejaVuSans-6f\" transform=\"scale(0.015625)\"/>\n       </defs>\n       <use xlink:href=\"#DejaVuSans-78\"/>\n       <use x=\"59.179688\" xlink:href=\"#DejaVuSans-32\"/>\n       <use x=\"122.802734\" xlink:href=\"#DejaVuSans-5f\"/>\n       <use x=\"172.802734\" xlink:href=\"#DejaVuSans-4c\"/>\n       <use x=\"226.765625\" xlink:href=\"#DejaVuSans-6f\"/>\n       <use x=\"287.947266\" xlink:href=\"#DejaVuSans-67\"/>\n       <use x=\"351.423828\" xlink:href=\"#DejaVuSans-6f\"/>\n       <use x=\"412.605469\" xlink:href=\"#DejaVuSans-20\"/>\n       <use x=\"444.392578\" xlink:href=\"#DejaVuSans-42\"/>\n       <use x=\"512.996094\" xlink:href=\"#DejaVuSans-75\"/>\n       <use x=\"576.375\" xlink:href=\"#DejaVuSans-67\"/>\n      </g>\n     </g>\n    </g>\n    <g id=\"xtick_9\">\n     <g id=\"line2d_9\">\n      <g>\n       <use style=\"stroke:#000000;stroke-width:0.8;\" x=\"305.923125\" xlink:href=\"#m65911a720d\" y=\"391.519219\"/>\n      </g>\n     </g>\n     <g id=\"text_9\">\n      <!-- x2_Midroll -->\n      <g transform=\"translate(308.543438 449.116094)rotate(-90)scale(0.1 -0.1)\">\n       <use xlink:href=\"#DejaVuSans-78\"/>\n       <use x=\"59.179688\" xlink:href=\"#DejaVuSans-32\"/>\n       <use x=\"122.802734\" xlink:href=\"#DejaVuSans-5f\"/>\n       <use x=\"172.802734\" xlink:href=\"#DejaVuSans-4d\"/>\n       <use x=\"259.082031\" xlink:href=\"#DejaVuSans-69\"/>\n       <use x=\"286.865234\" xlink:href=\"#DejaVuSans-64\"/>\n       <use x=\"350.341797\" xlink:href=\"#DejaVuSans-72\"/>\n       <use x=\"389.205078\" xlink:href=\"#DejaVuSans-6f\"/>\n       <use x=\"450.386719\" xlink:href=\"#DejaVuSans-6c\"/>\n       <use x=\"478.169922\" xlink:href=\"#DejaVuSans-6c\"/>\n      </g>\n     </g>\n    </g>\n    <g id=\"xtick_10\">\n     <g id=\"line2d_10\">\n      <g>\n       <use style=\"stroke:#000000;stroke-width:0.8;\" x=\"318.943125\" xlink:href=\"#m65911a720d\" y=\"391.519219\"/>\n      </g>\n     </g>\n     <g id=\"text_10\">\n      <!-- x2_Product Placement -->\n      <g transform=\"translate(321.563438 509.681719)rotate(-90)scale(0.1 -0.1)\">\n       <defs>\n        <path d=\"M 3122 3366 \nL 3122 2828 \nQ 2878 2963 2633 3030 \nQ 2388 3097 2138 3097 \nQ 1578 3097 1268 2742 \nQ 959 2388 959 1747 \nQ 959 1106 1268 751 \nQ 1578 397 2138 397 \nQ 2388 397 2633 464 \nQ 2878 531 3122 666 \nL 3122 134 \nQ 2881 22 2623 -34 \nQ 2366 -91 2075 -91 \nQ 1284 -91 818 406 \nQ 353 903 353 1747 \nQ 353 2603 823 3093 \nQ 1294 3584 2113 3584 \nQ 2378 3584 2631 3529 \nQ 2884 3475 3122 3366 \nz\n\" id=\"DejaVuSans-63\" transform=\"scale(0.015625)\"/>\n        <path d=\"M 1172 4494 \nL 1172 3500 \nL 2356 3500 \nL 2356 3053 \nL 1172 3053 \nL 1172 1153 \nQ 1172 725 1289 603 \nQ 1406 481 1766 481 \nL 2356 481 \nL 2356 0 \nL 1766 0 \nQ 1100 0 847 248 \nQ 594 497 594 1153 \nL 594 3053 \nL 172 3053 \nL 172 3500 \nL 594 3500 \nL 594 4494 \nL 1172 4494 \nz\n\" id=\"DejaVuSans-74\" transform=\"scale(0.015625)\"/>\n       </defs>\n       <use xlink:href=\"#DejaVuSans-78\"/>\n       <use x=\"59.179688\" xlink:href=\"#DejaVuSans-32\"/>\n       <use x=\"122.802734\" xlink:href=\"#DejaVuSans-5f\"/>\n       <use x=\"172.802734\" xlink:href=\"#DejaVuSans-50\"/>\n       <use x=\"231.355469\" xlink:href=\"#DejaVuSans-72\"/>\n       <use x=\"270.21875\" xlink:href=\"#DejaVuSans-6f\"/>\n       <use x=\"331.400391\" xlink:href=\"#DejaVuSans-64\"/>\n       <use x=\"394.876953\" xlink:href=\"#DejaVuSans-75\"/>\n       <use x=\"458.255859\" xlink:href=\"#DejaVuSans-63\"/>\n       <use x=\"513.236328\" xlink:href=\"#DejaVuSans-74\"/>\n       <use x=\"552.445312\" xlink:href=\"#DejaVuSans-20\"/>\n       <use x=\"584.232422\" xlink:href=\"#DejaVuSans-50\"/>\n       <use x=\"644.535156\" xlink:href=\"#DejaVuSans-6c\"/>\n       <use x=\"672.318359\" xlink:href=\"#DejaVuSans-61\"/>\n       <use x=\"733.597656\" xlink:href=\"#DejaVuSans-63\"/>\n       <use x=\"788.578125\" xlink:href=\"#DejaVuSans-65\"/>\n       <use x=\"850.101562\" xlink:href=\"#DejaVuSans-6d\"/>\n       <use x=\"947.513672\" xlink:href=\"#DejaVuSans-65\"/>\n       <use x=\"1009.037109\" xlink:href=\"#DejaVuSans-6e\"/>\n       <use x=\"1072.416016\" xlink:href=\"#DejaVuSans-74\"/>\n      </g>\n     </g>\n    </g>\n    <g id=\"xtick_11\">\n     <g id=\"line2d_11\">\n      <g>\n       <use style=\"stroke:#000000;stroke-width:0.8;\" x=\"331.963125\" xlink:href=\"#m65911a720d\" y=\"391.519219\"/>\n      </g>\n     </g>\n     <g id=\"text_11\">\n      <!-- x2_Single refridgerator behind Ninja -->\n      <g transform=\"translate(334.583438 579.572344)rotate(-90)scale(0.1 -0.1)\">\n       <defs>\n        <path d=\"M 2375 4863 \nL 2375 4384 \nL 1825 4384 \nQ 1516 4384 1395 4259 \nQ 1275 4134 1275 3809 \nL 1275 3500 \nL 2222 3500 \nL 2222 3053 \nL 1275 3053 \nL 1275 0 \nL 697 0 \nL 697 3053 \nL 147 3053 \nL 147 3500 \nL 697 3500 \nL 697 3744 \nQ 697 4328 969 4595 \nQ 1241 4863 1831 4863 \nL 2375 4863 \nz\n\" id=\"DejaVuSans-66\" transform=\"scale(0.015625)\"/>\n        <path d=\"M 3116 1747 \nQ 3116 2381 2855 2742 \nQ 2594 3103 2138 3103 \nQ 1681 3103 1420 2742 \nQ 1159 2381 1159 1747 \nQ 1159 1113 1420 752 \nQ 1681 391 2138 391 \nQ 2594 391 2855 752 \nQ 3116 1113 3116 1747 \nz\nM 1159 2969 \nQ 1341 3281 1617 3432 \nQ 1894 3584 2278 3584 \nQ 2916 3584 3314 3078 \nQ 3713 2572 3713 1747 \nQ 3713 922 3314 415 \nQ 2916 -91 2278 -91 \nQ 1894 -91 1617 61 \nQ 1341 213 1159 525 \nL 1159 0 \nL 581 0 \nL 581 4863 \nL 1159 4863 \nL 1159 2969 \nz\n\" id=\"DejaVuSans-62\" transform=\"scale(0.015625)\"/>\n        <path d=\"M 3513 2113 \nL 3513 0 \nL 2938 0 \nL 2938 2094 \nQ 2938 2591 2744 2837 \nQ 2550 3084 2163 3084 \nQ 1697 3084 1428 2787 \nQ 1159 2491 1159 1978 \nL 1159 0 \nL 581 0 \nL 581 4863 \nL 1159 4863 \nL 1159 2956 \nQ 1366 3272 1645 3428 \nQ 1925 3584 2291 3584 \nQ 2894 3584 3203 3211 \nQ 3513 2838 3513 2113 \nz\n\" id=\"DejaVuSans-68\" transform=\"scale(0.015625)\"/>\n        <path d=\"M 603 3500 \nL 1178 3500 \nL 1178 -63 \nQ 1178 -731 923 -1031 \nQ 669 -1331 103 -1331 \nL -116 -1331 \nL -116 -844 \nL 38 -844 \nQ 366 -844 484 -692 \nQ 603 -541 603 -63 \nL 603 3500 \nz\nM 603 4863 \nL 1178 4863 \nL 1178 4134 \nL 603 4134 \nL 603 4863 \nz\n\" id=\"DejaVuSans-6a\" transform=\"scale(0.015625)\"/>\n       </defs>\n       <use xlink:href=\"#DejaVuSans-78\"/>\n       <use x=\"59.179688\" xlink:href=\"#DejaVuSans-32\"/>\n       <use x=\"122.802734\" xlink:href=\"#DejaVuSans-5f\"/>\n       <use x=\"172.802734\" xlink:href=\"#DejaVuSans-53\"/>\n       <use x=\"236.279297\" xlink:href=\"#DejaVuSans-69\"/>\n       <use x=\"264.0625\" xlink:href=\"#DejaVuSans-6e\"/>\n       <use x=\"327.441406\" xlink:href=\"#DejaVuSans-67\"/>\n       <use x=\"390.917969\" xlink:href=\"#DejaVuSans-6c\"/>\n       <use x=\"418.701172\" xlink:href=\"#DejaVuSans-65\"/>\n       <use x=\"480.224609\" xlink:href=\"#DejaVuSans-20\"/>\n       <use x=\"512.011719\" xlink:href=\"#DejaVuSans-72\"/>\n       <use x=\"550.875\" xlink:href=\"#DejaVuSans-65\"/>\n       <use x=\"612.398438\" xlink:href=\"#DejaVuSans-66\"/>\n       <use x=\"647.603516\" xlink:href=\"#DejaVuSans-72\"/>\n       <use x=\"688.716797\" xlink:href=\"#DejaVuSans-69\"/>\n       <use x=\"716.5\" xlink:href=\"#DejaVuSans-64\"/>\n       <use x=\"779.976562\" xlink:href=\"#DejaVuSans-67\"/>\n       <use x=\"843.453125\" xlink:href=\"#DejaVuSans-65\"/>\n       <use x=\"904.976562\" xlink:href=\"#DejaVuSans-72\"/>\n       <use x=\"946.089844\" xlink:href=\"#DejaVuSans-61\"/>\n       <use x=\"1007.369141\" xlink:href=\"#DejaVuSans-74\"/>\n       <use x=\"1046.578125\" xlink:href=\"#DejaVuSans-6f\"/>\n       <use x=\"1107.759766\" xlink:href=\"#DejaVuSans-72\"/>\n       <use x=\"1148.873047\" xlink:href=\"#DejaVuSans-20\"/>\n       <use x=\"1180.660156\" xlink:href=\"#DejaVuSans-62\"/>\n       <use x=\"1244.136719\" xlink:href=\"#DejaVuSans-65\"/>\n       <use x=\"1305.660156\" xlink:href=\"#DejaVuSans-68\"/>\n       <use x=\"1369.039062\" xlink:href=\"#DejaVuSans-69\"/>\n       <use x=\"1396.822266\" xlink:href=\"#DejaVuSans-6e\"/>\n       <use x=\"1460.201172\" xlink:href=\"#DejaVuSans-64\"/>\n       <use x=\"1523.677734\" xlink:href=\"#DejaVuSans-20\"/>\n       <use x=\"1555.464844\" xlink:href=\"#DejaVuSans-4e\"/>\n       <use x=\"1630.269531\" xlink:href=\"#DejaVuSans-69\"/>\n       <use x=\"1658.052734\" xlink:href=\"#DejaVuSans-6e\"/>\n       <use x=\"1721.431641\" xlink:href=\"#DejaVuSans-6a\"/>\n       <use x=\"1749.214844\" xlink:href=\"#DejaVuSans-61\"/>\n      </g>\n     </g>\n    </g>\n    <g id=\"xtick_12\">\n     <g id=\"line2d_12\">\n      <g>\n       <use style=\"stroke:#000000;stroke-width:0.8;\" x=\"344.983125\" xlink:href=\"#m65911a720d\" y=\"391.519219\"/>\n      </g>\n     </g>\n     <g id=\"text_12\">\n      <!-- Duration Time -->\n      <g transform=\"translate(347.7425 469.595781)rotate(-90)scale(0.1 -0.1)\">\n       <defs>\n        <path d=\"M 1259 4147 \nL 1259 519 \nL 2022 519 \nQ 2988 519 3436 956 \nQ 3884 1394 3884 2338 \nQ 3884 3275 3436 3711 \nQ 2988 4147 2022 4147 \nL 1259 4147 \nz\nM 628 4666 \nL 1925 4666 \nQ 3281 4666 3915 4102 \nQ 4550 3538 4550 2338 \nQ 4550 1131 3912 565 \nQ 3275 0 1925 0 \nL 628 0 \nL 628 4666 \nz\n\" id=\"DejaVuSans-44\" transform=\"scale(0.015625)\"/>\n       </defs>\n       <use xlink:href=\"#DejaVuSans-44\"/>\n       <use x=\"77.001953\" xlink:href=\"#DejaVuSans-75\"/>\n       <use x=\"140.380859\" xlink:href=\"#DejaVuSans-72\"/>\n       <use x=\"181.494141\" xlink:href=\"#DejaVuSans-61\"/>\n       <use x=\"242.773438\" xlink:href=\"#DejaVuSans-74\"/>\n       <use x=\"281.982422\" xlink:href=\"#DejaVuSans-69\"/>\n       <use x=\"309.765625\" xlink:href=\"#DejaVuSans-6f\"/>\n       <use x=\"370.947266\" xlink:href=\"#DejaVuSans-6e\"/>\n       <use x=\"434.326172\" xlink:href=\"#DejaVuSans-20\"/>\n       <use x=\"466.113281\" xlink:href=\"#DejaVuSans-54\"/>\n       <use x=\"524.072266\" xlink:href=\"#DejaVuSans-69\"/>\n       <use x=\"551.855469\" xlink:href=\"#DejaVuSans-6d\"/>\n       <use x=\"649.267578\" xlink:href=\"#DejaVuSans-65\"/>\n      </g>\n     </g>\n    </g>\n    <g id=\"xtick_13\">\n     <g id=\"line2d_13\">\n      <g>\n       <use style=\"stroke:#000000;stroke-width:0.8;\" x=\"358.003125\" xlink:href=\"#m65911a720d\" y=\"391.519219\"/>\n      </g>\n     </g>\n     <g id=\"text_13\">\n      <!-- Duration Weight -->\n      <g transform=\"translate(360.7625 479.966094)rotate(-90)scale(0.1 -0.1)\">\n       <defs>\n        <path d=\"M 213 4666 \nL 850 4666 \nL 1831 722 \nL 2809 4666 \nL 3519 4666 \nL 4500 722 \nL 5478 4666 \nL 6119 4666 \nL 4947 0 \nL 4153 0 \nL 3169 4050 \nL 2175 0 \nL 1381 0 \nL 213 4666 \nz\n\" id=\"DejaVuSans-57\" transform=\"scale(0.015625)\"/>\n       </defs>\n       <use xlink:href=\"#DejaVuSans-44\"/>\n       <use x=\"77.001953\" xlink:href=\"#DejaVuSans-75\"/>\n       <use x=\"140.380859\" xlink:href=\"#DejaVuSans-72\"/>\n       <use x=\"181.494141\" xlink:href=\"#DejaVuSans-61\"/>\n       <use x=\"242.773438\" xlink:href=\"#DejaVuSans-74\"/>\n       <use x=\"281.982422\" xlink:href=\"#DejaVuSans-69\"/>\n       <use x=\"309.765625\" xlink:href=\"#DejaVuSans-6f\"/>\n       <use x=\"370.947266\" xlink:href=\"#DejaVuSans-6e\"/>\n       <use x=\"434.326172\" xlink:href=\"#DejaVuSans-20\"/>\n       <use x=\"466.113281\" xlink:href=\"#DejaVuSans-57\"/>\n       <use x=\"559.115234\" xlink:href=\"#DejaVuSans-65\"/>\n       <use x=\"620.638672\" xlink:href=\"#DejaVuSans-69\"/>\n       <use x=\"648.421875\" xlink:href=\"#DejaVuSans-67\"/>\n       <use x=\"711.898438\" xlink:href=\"#DejaVuSans-68\"/>\n       <use x=\"775.277344\" xlink:href=\"#DejaVuSans-74\"/>\n      </g>\n     </g>\n    </g>\n    <g id=\"xtick_14\">\n     <g id=\"line2d_14\">\n      <g>\n       <use style=\"stroke:#000000;stroke-width:0.8;\" x=\"371.023125\" xlink:href=\"#m65911a720d\" y=\"391.519219\"/>\n      </g>\n     </g>\n     <g id=\"text_14\">\n      <!-- 30 Second Equivalents -->\n      <g transform=\"translate(373.7825 512.633281)rotate(-90)scale(0.1 -0.1)\">\n       <defs>\n        <path d=\"M 947 1747 \nQ 947 1113 1208 752 \nQ 1469 391 1925 391 \nQ 2381 391 2643 752 \nQ 2906 1113 2906 1747 \nQ 2906 2381 2643 2742 \nQ 2381 3103 1925 3103 \nQ 1469 3103 1208 2742 \nQ 947 2381 947 1747 \nz\nM 2906 525 \nQ 2725 213 2448 61 \nQ 2172 -91 1784 -91 \nQ 1150 -91 751 415 \nQ 353 922 353 1747 \nQ 353 2572 751 3078 \nQ 1150 3584 1784 3584 \nQ 2172 3584 2448 3432 \nQ 2725 3281 2906 2969 \nL 2906 3500 \nL 3481 3500 \nL 3481 -1331 \nL 2906 -1331 \nL 2906 525 \nz\n\" id=\"DejaVuSans-71\" transform=\"scale(0.015625)\"/>\n        <path d=\"M 191 3500 \nL 800 3500 \nL 1894 563 \nL 2988 3500 \nL 3597 3500 \nL 2284 0 \nL 1503 0 \nL 191 3500 \nz\n\" id=\"DejaVuSans-76\" transform=\"scale(0.015625)\"/>\n       </defs>\n       <use xlink:href=\"#DejaVuSans-33\"/>\n       <use x=\"63.623047\" xlink:href=\"#DejaVuSans-30\"/>\n       <use x=\"127.246094\" xlink:href=\"#DejaVuSans-20\"/>\n       <use x=\"159.033203\" xlink:href=\"#DejaVuSans-53\"/>\n       <use x=\"222.509766\" xlink:href=\"#DejaVuSans-65\"/>\n       <use x=\"284.033203\" xlink:href=\"#DejaVuSans-63\"/>\n       <use x=\"339.013672\" xlink:href=\"#DejaVuSans-6f\"/>\n       <use x=\"400.195312\" xlink:href=\"#DejaVuSans-6e\"/>\n       <use x=\"463.574219\" xlink:href=\"#DejaVuSans-64\"/>\n       <use x=\"527.050781\" xlink:href=\"#DejaVuSans-20\"/>\n       <use x=\"558.837891\" xlink:href=\"#DejaVuSans-45\"/>\n       <use x=\"622.021484\" xlink:href=\"#DejaVuSans-71\"/>\n       <use x=\"685.498047\" xlink:href=\"#DejaVuSans-75\"/>\n       <use x=\"748.876953\" xlink:href=\"#DejaVuSans-69\"/>\n       <use x=\"776.660156\" xlink:href=\"#DejaVuSans-76\"/>\n       <use x=\"835.839844\" xlink:href=\"#DejaVuSans-61\"/>\n       <use x=\"897.119141\" xlink:href=\"#DejaVuSans-6c\"/>\n       <use x=\"924.902344\" xlink:href=\"#DejaVuSans-65\"/>\n       <use x=\"986.425781\" xlink:href=\"#DejaVuSans-6e\"/>\n       <use x=\"1049.804688\" xlink:href=\"#DejaVuSans-74\"/>\n       <use x=\"1089.013672\" xlink:href=\"#DejaVuSans-73\"/>\n      </g>\n     </g>\n    </g>\n    <g id=\"xtick_15\">\n     <g id=\"line2d_15\">\n      <g>\n       <use style=\"stroke:#000000;stroke-width:0.8;\" x=\"384.043125\" xlink:href=\"#m65911a720d\" y=\"391.519219\"/>\n      </g>\n     </g>\n     <g id=\"text_15\">\n      <!-- Location % -->\n      <g transform=\"translate(386.8025 453.495781)rotate(-90)scale(0.1 -0.1)\">\n       <defs>\n        <path d=\"M 4653 2053 \nQ 4381 2053 4226 1822 \nQ 4072 1591 4072 1178 \nQ 4072 772 4226 539 \nQ 4381 306 4653 306 \nQ 4919 306 5073 539 \nQ 5228 772 5228 1178 \nQ 5228 1588 5073 1820 \nQ 4919 2053 4653 2053 \nz\nM 4653 2450 \nQ 5147 2450 5437 2106 \nQ 5728 1763 5728 1178 \nQ 5728 594 5436 251 \nQ 5144 -91 4653 -91 \nQ 4153 -91 3862 251 \nQ 3572 594 3572 1178 \nQ 3572 1766 3864 2108 \nQ 4156 2450 4653 2450 \nz\nM 1428 4353 \nQ 1159 4353 1004 4120 \nQ 850 3888 850 3481 \nQ 850 3069 1003 2837 \nQ 1156 2606 1428 2606 \nQ 1700 2606 1854 2837 \nQ 2009 3069 2009 3481 \nQ 2009 3884 1853 4118 \nQ 1697 4353 1428 4353 \nz\nM 4250 4750 \nL 4750 4750 \nL 1831 -91 \nL 1331 -91 \nL 4250 4750 \nz\nM 1428 4750 \nQ 1922 4750 2215 4408 \nQ 2509 4066 2509 3481 \nQ 2509 2891 2217 2550 \nQ 1925 2209 1428 2209 \nQ 931 2209 642 2551 \nQ 353 2894 353 3481 \nQ 353 4063 643 4406 \nQ 934 4750 1428 4750 \nz\n\" id=\"DejaVuSans-25\" transform=\"scale(0.015625)\"/>\n       </defs>\n       <use xlink:href=\"#DejaVuSans-4c\"/>\n       <use x=\"53.962891\" xlink:href=\"#DejaVuSans-6f\"/>\n       <use x=\"115.144531\" xlink:href=\"#DejaVuSans-63\"/>\n       <use x=\"170.125\" xlink:href=\"#DejaVuSans-61\"/>\n       <use x=\"231.404297\" xlink:href=\"#DejaVuSans-74\"/>\n       <use x=\"270.613281\" xlink:href=\"#DejaVuSans-69\"/>\n       <use x=\"298.396484\" xlink:href=\"#DejaVuSans-6f\"/>\n       <use x=\"359.578125\" xlink:href=\"#DejaVuSans-6e\"/>\n       <use x=\"422.957031\" xlink:href=\"#DejaVuSans-20\"/>\n       <use x=\"454.744141\" xlink:href=\"#DejaVuSans-25\"/>\n      </g>\n     </g>\n    </g>\n    <g id=\"xtick_16\">\n     <g id=\"line2d_16\">\n      <g>\n       <use style=\"stroke:#000000;stroke-width:0.8;\" x=\"397.063125\" xlink:href=\"#m65911a720d\" y=\"391.519219\"/>\n      </g>\n     </g>\n     <g id=\"text_16\">\n      <!-- Brand Size % -->\n      <g transform=\"translate(399.8225 464.691094)rotate(-90)scale(0.1 -0.1)\">\n       <defs>\n        <path d=\"M 353 3500 \nL 3084 3500 \nL 3084 2975 \nL 922 459 \nL 3084 459 \nL 3084 0 \nL 275 0 \nL 275 525 \nL 2438 3041 \nL 353 3041 \nL 353 3500 \nz\n\" id=\"DejaVuSans-7a\" transform=\"scale(0.015625)\"/>\n       </defs>\n       <use xlink:href=\"#DejaVuSans-42\"/>\n       <use x=\"68.603516\" xlink:href=\"#DejaVuSans-72\"/>\n       <use x=\"109.716797\" xlink:href=\"#DejaVuSans-61\"/>\n       <use x=\"170.996094\" xlink:href=\"#DejaVuSans-6e\"/>\n       <use x=\"234.375\" xlink:href=\"#DejaVuSans-64\"/>\n       <use x=\"297.851562\" xlink:href=\"#DejaVuSans-20\"/>\n       <use x=\"329.638672\" xlink:href=\"#DejaVuSans-53\"/>\n       <use x=\"393.115234\" xlink:href=\"#DejaVuSans-69\"/>\n       <use x=\"420.898438\" xlink:href=\"#DejaVuSans-7a\"/>\n       <use x=\"473.388672\" xlink:href=\"#DejaVuSans-65\"/>\n       <use x=\"534.912109\" xlink:href=\"#DejaVuSans-20\"/>\n       <use x=\"566.699219\" xlink:href=\"#DejaVuSans-25\"/>\n      </g>\n     </g>\n    </g>\n    <g id=\"xtick_17\">\n     <g id=\"line2d_17\">\n      <g>\n       <use style=\"stroke:#000000;stroke-width:0.8;\" x=\"410.083125\" xlink:href=\"#m65911a720d\" y=\"391.519219\"/>\n      </g>\n     </g>\n     <g id=\"text_17\">\n      <!-- Size Weight -->\n      <g transform=\"translate(412.8425 457.062969)rotate(-90)scale(0.1 -0.1)\">\n       <use xlink:href=\"#DejaVuSans-53\"/>\n       <use x=\"63.476562\" xlink:href=\"#DejaVuSans-69\"/>\n       <use x=\"91.259766\" xlink:href=\"#DejaVuSans-7a\"/>\n       <use x=\"143.75\" xlink:href=\"#DejaVuSans-65\"/>\n       <use x=\"205.273438\" xlink:href=\"#DejaVuSans-20\"/>\n       <use x=\"237.060547\" xlink:href=\"#DejaVuSans-57\"/>\n       <use x=\"330.0625\" xlink:href=\"#DejaVuSans-65\"/>\n       <use x=\"391.585938\" xlink:href=\"#DejaVuSans-69\"/>\n       <use x=\"419.369141\" xlink:href=\"#DejaVuSans-67\"/>\n       <use x=\"482.845703\" xlink:href=\"#DejaVuSans-68\"/>\n       <use x=\"546.224609\" xlink:href=\"#DejaVuSans-74\"/>\n      </g>\n     </g>\n    </g>\n    <g id=\"xtick_18\">\n     <g id=\"line2d_18\">\n      <g>\n       <use style=\"stroke:#000000;stroke-width:0.8;\" x=\"423.103125\" xlink:href=\"#m65911a720d\" y=\"391.519219\"/>\n      </g>\n     </g>\n     <g id=\"text_18\">\n      <!-- Clutter/SOV -->\n      <g transform=\"translate(425.8625 456.977031)rotate(-90)scale(0.1 -0.1)\">\n       <defs>\n        <path d=\"M 4122 4306 \nL 4122 3641 \nQ 3803 3938 3442 4084 \nQ 3081 4231 2675 4231 \nQ 1875 4231 1450 3742 \nQ 1025 3253 1025 2328 \nQ 1025 1406 1450 917 \nQ 1875 428 2675 428 \nQ 3081 428 3442 575 \nQ 3803 722 4122 1019 \nL 4122 359 \nQ 3791 134 3420 21 \nQ 3050 -91 2638 -91 \nQ 1578 -91 968 557 \nQ 359 1206 359 2328 \nQ 359 3453 968 4101 \nQ 1578 4750 2638 4750 \nQ 3056 4750 3426 4639 \nQ 3797 4528 4122 4306 \nz\n\" id=\"DejaVuSans-43\" transform=\"scale(0.015625)\"/>\n        <path d=\"M 1625 4666 \nL 2156 4666 \nL 531 -594 \nL 0 -594 \nL 1625 4666 \nz\n\" id=\"DejaVuSans-2f\" transform=\"scale(0.015625)\"/>\n        <path d=\"M 2522 4238 \nQ 1834 4238 1429 3725 \nQ 1025 3213 1025 2328 \nQ 1025 1447 1429 934 \nQ 1834 422 2522 422 \nQ 3209 422 3611 934 \nQ 4013 1447 4013 2328 \nQ 4013 3213 3611 3725 \nQ 3209 4238 2522 4238 \nz\nM 2522 4750 \nQ 3503 4750 4090 4092 \nQ 4678 3434 4678 2328 \nQ 4678 1225 4090 567 \nQ 3503 -91 2522 -91 \nQ 1538 -91 948 565 \nQ 359 1222 359 2328 \nQ 359 3434 948 4092 \nQ 1538 4750 2522 4750 \nz\n\" id=\"DejaVuSans-4f\" transform=\"scale(0.015625)\"/>\n       </defs>\n       <use xlink:href=\"#DejaVuSans-43\"/>\n       <use x=\"69.824219\" xlink:href=\"#DejaVuSans-6c\"/>\n       <use x=\"97.607422\" xlink:href=\"#DejaVuSans-75\"/>\n       <use x=\"160.986328\" xlink:href=\"#DejaVuSans-74\"/>\n       <use x=\"200.195312\" xlink:href=\"#DejaVuSans-74\"/>\n       <use x=\"239.404297\" xlink:href=\"#DejaVuSans-65\"/>\n       <use x=\"300.927734\" xlink:href=\"#DejaVuSans-72\"/>\n       <use x=\"342.041016\" xlink:href=\"#DejaVuSans-2f\"/>\n       <use x=\"375.732422\" xlink:href=\"#DejaVuSans-53\"/>\n       <use x=\"439.208984\" xlink:href=\"#DejaVuSans-4f\"/>\n       <use x=\"516.169922\" xlink:href=\"#DejaVuSans-56\"/>\n      </g>\n     </g>\n    </g>\n    <g id=\"xtick_19\">\n     <g id=\"line2d_19\">\n      <g>\n       <use style=\"stroke:#000000;stroke-width:0.8;\" x=\"436.123125\" xlink:href=\"#m65911a720d\" y=\"391.519219\"/>\n      </g>\n     </g>\n     <g id=\"text_19\">\n      <!-- Size Score -->\n      <g transform=\"translate(438.8825 450.230156)rotate(-90)scale(0.1 -0.1)\">\n       <use xlink:href=\"#DejaVuSans-53\"/>\n       <use x=\"63.476562\" xlink:href=\"#DejaVuSans-69\"/>\n       <use x=\"91.259766\" xlink:href=\"#DejaVuSans-7a\"/>\n       <use x=\"143.75\" xlink:href=\"#DejaVuSans-65\"/>\n       <use x=\"205.273438\" xlink:href=\"#DejaVuSans-20\"/>\n       <use x=\"237.060547\" xlink:href=\"#DejaVuSans-53\"/>\n       <use x=\"300.537109\" xlink:href=\"#DejaVuSans-63\"/>\n       <use x=\"355.517578\" xlink:href=\"#DejaVuSans-6f\"/>\n       <use x=\"416.699219\" xlink:href=\"#DejaVuSans-72\"/>\n       <use x=\"455.5625\" xlink:href=\"#DejaVuSans-65\"/>\n      </g>\n     </g>\n    </g>\n    <g id=\"xtick_20\">\n     <g id=\"line2d_20\">\n      <g>\n       <use style=\"stroke:#000000;stroke-width:0.8;\" x=\"449.143125\" xlink:href=\"#m65911a720d\" y=\"391.519219\"/>\n      </g>\n     </g>\n     <g id=\"text_20\">\n      <!-- Location Score -->\n      <g transform=\"translate(451.9025 471.998906)rotate(-90)scale(0.1 -0.1)\">\n       <use xlink:href=\"#DejaVuSans-4c\"/>\n       <use x=\"53.962891\" xlink:href=\"#DejaVuSans-6f\"/>\n       <use x=\"115.144531\" xlink:href=\"#DejaVuSans-63\"/>\n       <use x=\"170.125\" xlink:href=\"#DejaVuSans-61\"/>\n       <use x=\"231.404297\" xlink:href=\"#DejaVuSans-74\"/>\n       <use x=\"270.613281\" xlink:href=\"#DejaVuSans-69\"/>\n       <use x=\"298.396484\" xlink:href=\"#DejaVuSans-6f\"/>\n       <use x=\"359.578125\" xlink:href=\"#DejaVuSans-6e\"/>\n       <use x=\"422.957031\" xlink:href=\"#DejaVuSans-20\"/>\n       <use x=\"454.744141\" xlink:href=\"#DejaVuSans-53\"/>\n       <use x=\"518.220703\" xlink:href=\"#DejaVuSans-63\"/>\n       <use x=\"573.201172\" xlink:href=\"#DejaVuSans-6f\"/>\n       <use x=\"634.382812\" xlink:href=\"#DejaVuSans-72\"/>\n       <use x=\"673.246094\" xlink:href=\"#DejaVuSans-65\"/>\n      </g>\n     </g>\n    </g>\n    <g id=\"xtick_21\">\n     <g id=\"line2d_21\">\n      <g>\n       <use style=\"stroke:#000000;stroke-width:0.8;\" x=\"462.163125\" xlink:href=\"#m65911a720d\" y=\"391.519219\"/>\n      </g>\n     </g>\n     <g id=\"text_21\">\n      <!-- Duration Score -->\n      <g transform=\"translate(464.9225 473.133281)rotate(-90)scale(0.1 -0.1)\">\n       <use xlink:href=\"#DejaVuSans-44\"/>\n       <use x=\"77.001953\" xlink:href=\"#DejaVuSans-75\"/>\n       <use x=\"140.380859\" xlink:href=\"#DejaVuSans-72\"/>\n       <use x=\"181.494141\" xlink:href=\"#DejaVuSans-61\"/>\n       <use x=\"242.773438\" xlink:href=\"#DejaVuSans-74\"/>\n       <use x=\"281.982422\" xlink:href=\"#DejaVuSans-69\"/>\n       <use x=\"309.765625\" xlink:href=\"#DejaVuSans-6f\"/>\n       <use x=\"370.947266\" xlink:href=\"#DejaVuSans-6e\"/>\n       <use x=\"434.326172\" xlink:href=\"#DejaVuSans-20\"/>\n       <use x=\"466.113281\" xlink:href=\"#DejaVuSans-53\"/>\n       <use x=\"529.589844\" xlink:href=\"#DejaVuSans-63\"/>\n       <use x=\"584.570312\" xlink:href=\"#DejaVuSans-6f\"/>\n       <use x=\"645.751953\" xlink:href=\"#DejaVuSans-72\"/>\n       <use x=\"684.615234\" xlink:href=\"#DejaVuSans-65\"/>\n      </g>\n     </g>\n    </g>\n    <g id=\"xtick_22\">\n     <g id=\"line2d_22\">\n      <g>\n       <use style=\"stroke:#000000;stroke-width:0.8;\" x=\"475.183125\" xlink:href=\"#m65911a720d\" y=\"391.519219\"/>\n      </g>\n     </g>\n     <g id=\"text_22\">\n      <!-- ME Score -->\n      <g transform=\"translate(477.9425 444.648906)rotate(-90)scale(0.1 -0.1)\">\n       <use xlink:href=\"#DejaVuSans-4d\"/>\n       <use x=\"86.279297\" xlink:href=\"#DejaVuSans-45\"/>\n       <use x=\"149.462891\" xlink:href=\"#DejaVuSans-20\"/>\n       <use x=\"181.25\" xlink:href=\"#DejaVuSans-53\"/>\n       <use x=\"244.726562\" xlink:href=\"#DejaVuSans-63\"/>\n       <use x=\"299.707031\" xlink:href=\"#DejaVuSans-6f\"/>\n       <use x=\"360.888672\" xlink:href=\"#DejaVuSans-72\"/>\n       <use x=\"399.751953\" xlink:href=\"#DejaVuSans-65\"/>\n      </g>\n     </g>\n    </g>\n    <g id=\"xtick_23\">\n     <g id=\"line2d_23\">\n      <g>\n       <use style=\"stroke:#000000;stroke-width:0.8;\" x=\"488.203125\" xlink:href=\"#m65911a720d\" y=\"391.519219\"/>\n      </g>\n     </g>\n     <g id=\"text_23\">\n      <!-- Start Time Hour -->\n      <g transform=\"translate(490.9625 477.858281)rotate(-90)scale(0.1 -0.1)\">\n       <use xlink:href=\"#DejaVuSans-53\"/>\n       <use x=\"63.476562\" xlink:href=\"#DejaVuSans-74\"/>\n       <use x=\"102.685547\" xlink:href=\"#DejaVuSans-61\"/>\n       <use x=\"163.964844\" xlink:href=\"#DejaVuSans-72\"/>\n       <use x=\"205.078125\" xlink:href=\"#DejaVuSans-74\"/>\n       <use x=\"244.287109\" xlink:href=\"#DejaVuSans-20\"/>\n       <use x=\"276.074219\" xlink:href=\"#DejaVuSans-54\"/>\n       <use x=\"334.033203\" xlink:href=\"#DejaVuSans-69\"/>\n       <use x=\"361.816406\" xlink:href=\"#DejaVuSans-6d\"/>\n       <use x=\"459.228516\" xlink:href=\"#DejaVuSans-65\"/>\n       <use x=\"520.751953\" xlink:href=\"#DejaVuSans-20\"/>\n       <use x=\"552.539062\" xlink:href=\"#DejaVuSans-48\"/>\n       <use x=\"627.734375\" xlink:href=\"#DejaVuSans-6f\"/>\n       <use x=\"688.916016\" xlink:href=\"#DejaVuSans-75\"/>\n       <use x=\"752.294922\" xlink:href=\"#DejaVuSans-72\"/>\n      </g>\n     </g>\n    </g>\n    <g id=\"xtick_24\">\n     <g id=\"line2d_24\">\n      <g>\n       <use style=\"stroke:#000000;stroke-width:0.8;\" x=\"501.223125\" xlink:href=\"#m65911a720d\" y=\"391.519219\"/>\n      </g>\n     </g>\n     <g id=\"text_24\">\n      <!-- MEV -->\n      <g transform=\"translate(503.9825 420.306719)rotate(-90)scale(0.1 -0.1)\">\n       <use xlink:href=\"#DejaVuSans-4d\"/>\n       <use x=\"86.279297\" xlink:href=\"#DejaVuSans-45\"/>\n       <use x=\"149.462891\" xlink:href=\"#DejaVuSans-56\"/>\n      </g>\n     </g>\n    </g>\n   </g>\n   <g id=\"matplotlib.axis_2\">\n    <g id=\"ytick_1\">\n     <g id=\"line2d_25\">\n      <defs>\n       <path d=\"M 0 0 \nL -3.5 0 \n\" id=\"m06cc58fb58\" style=\"stroke:#000000;stroke-width:0.8;\"/>\n      </defs>\n      <g>\n       <use style=\"stroke:#000000;stroke-width:0.8;\" x=\"195.253125\" xlink:href=\"#m06cc58fb58\" y=\"18.926719\"/>\n      </g>\n     </g>\n     <g id=\"text_25\">\n      <!-- x0_NINJAVEGAS18 -->\n      <g transform=\"translate(97.259375 22.637656)scale(0.1 -0.1)\">\n       <use xlink:href=\"#DejaVuSans-78\"/>\n       <use x=\"59.179688\" xlink:href=\"#DejaVuSans-30\"/>\n       <use x=\"122.802734\" xlink:href=\"#DejaVuSans-5f\"/>\n       <use x=\"172.802734\" xlink:href=\"#DejaVuSans-4e\"/>\n       <use x=\"247.607422\" xlink:href=\"#DejaVuSans-49\"/>\n       <use x=\"277.099609\" xlink:href=\"#DejaVuSans-4e\"/>\n       <use x=\"351.904297\" xlink:href=\"#DejaVuSans-4a\"/>\n       <use x=\"379.646484\" xlink:href=\"#DejaVuSans-41\"/>\n       <use x=\"441.679688\" xlink:href=\"#DejaVuSans-56\"/>\n       <use x=\"510.087891\" xlink:href=\"#DejaVuSans-45\"/>\n       <use x=\"573.271484\" xlink:href=\"#DejaVuSans-47\"/>\n       <use x=\"650.761719\" xlink:href=\"#DejaVuSans-41\"/>\n       <use x=\"719.169922\" xlink:href=\"#DejaVuSans-53\"/>\n       <use x=\"782.646484\" xlink:href=\"#DejaVuSans-31\"/>\n       <use x=\"846.269531\" xlink:href=\"#DejaVuSans-38\"/>\n      </g>\n     </g>\n    </g>\n    <g id=\"ytick_2\">\n     <g id=\"line2d_26\">\n      <g>\n       <use style=\"stroke:#000000;stroke-width:0.8;\" x=\"195.253125\" xlink:href=\"#m06cc58fb58\" y=\"34.781719\"/>\n      </g>\n     </g>\n     <g id=\"text_26\">\n      <!-- x0_NINJAVEGAS186m46s -->\n      <g transform=\"translate(63.221875 38.492656)scale(0.1 -0.1)\">\n       <use xlink:href=\"#DejaVuSans-78\"/>\n       <use x=\"59.179688\" xlink:href=\"#DejaVuSans-30\"/>\n       <use x=\"122.802734\" xlink:href=\"#DejaVuSans-5f\"/>\n       <use x=\"172.802734\" xlink:href=\"#DejaVuSans-4e\"/>\n       <use x=\"247.607422\" xlink:href=\"#DejaVuSans-49\"/>\n       <use x=\"277.099609\" xlink:href=\"#DejaVuSans-4e\"/>\n       <use x=\"351.904297\" xlink:href=\"#DejaVuSans-4a\"/>\n       <use x=\"379.646484\" xlink:href=\"#DejaVuSans-41\"/>\n       <use x=\"441.679688\" xlink:href=\"#DejaVuSans-56\"/>\n       <use x=\"510.087891\" xlink:href=\"#DejaVuSans-45\"/>\n       <use x=\"573.271484\" xlink:href=\"#DejaVuSans-47\"/>\n       <use x=\"650.761719\" xlink:href=\"#DejaVuSans-41\"/>\n       <use x=\"719.169922\" xlink:href=\"#DejaVuSans-53\"/>\n       <use x=\"782.646484\" xlink:href=\"#DejaVuSans-31\"/>\n       <use x=\"846.269531\" xlink:href=\"#DejaVuSans-38\"/>\n       <use x=\"909.892578\" xlink:href=\"#DejaVuSans-36\"/>\n       <use x=\"973.515625\" xlink:href=\"#DejaVuSans-6d\"/>\n       <use x=\"1070.927734\" xlink:href=\"#DejaVuSans-34\"/>\n       <use x=\"1134.550781\" xlink:href=\"#DejaVuSans-36\"/>\n       <use x=\"1198.173828\" xlink:href=\"#DejaVuSans-73\"/>\n      </g>\n     </g>\n    </g>\n    <g id=\"ytick_3\">\n     <g id=\"line2d_27\">\n      <g>\n       <use style=\"stroke:#000000;stroke-width:0.8;\" x=\"195.253125\" xlink:href=\"#m06cc58fb58\" y=\"50.636719\"/>\n      </g>\n     </g>\n     <g id=\"text_27\">\n      <!-- x0_NINJAVEGAS18LIVEAT4 -->\n      <g transform=\"translate(57.042188 54.347656)scale(0.1 -0.1)\">\n       <use xlink:href=\"#DejaVuSans-78\"/>\n       <use x=\"59.179688\" xlink:href=\"#DejaVuSans-30\"/>\n       <use x=\"122.802734\" xlink:href=\"#DejaVuSans-5f\"/>\n       <use x=\"172.802734\" xlink:href=\"#DejaVuSans-4e\"/>\n       <use x=\"247.607422\" xlink:href=\"#DejaVuSans-49\"/>\n       <use x=\"277.099609\" xlink:href=\"#DejaVuSans-4e\"/>\n       <use x=\"351.904297\" xlink:href=\"#DejaVuSans-4a\"/>\n       <use x=\"379.646484\" xlink:href=\"#DejaVuSans-41\"/>\n       <use x=\"441.679688\" xlink:href=\"#DejaVuSans-56\"/>\n       <use x=\"510.087891\" xlink:href=\"#DejaVuSans-45\"/>\n       <use x=\"573.271484\" xlink:href=\"#DejaVuSans-47\"/>\n       <use x=\"650.761719\" xlink:href=\"#DejaVuSans-41\"/>\n       <use x=\"719.169922\" xlink:href=\"#DejaVuSans-53\"/>\n       <use x=\"782.646484\" xlink:href=\"#DejaVuSans-31\"/>\n       <use x=\"846.269531\" xlink:href=\"#DejaVuSans-38\"/>\n       <use x=\"909.892578\" xlink:href=\"#DejaVuSans-4c\"/>\n       <use x=\"965.605469\" xlink:href=\"#DejaVuSans-49\"/>\n       <use x=\"995.097656\" xlink:href=\"#DejaVuSans-56\"/>\n       <use x=\"1063.505859\" xlink:href=\"#DejaVuSans-45\"/>\n       <use x=\"1126.689453\" xlink:href=\"#DejaVuSans-41\"/>\n       <use x=\"1187.347656\" xlink:href=\"#DejaVuSans-54\"/>\n       <use x=\"1248.431641\" xlink:href=\"#DejaVuSans-34\"/>\n      </g>\n     </g>\n    </g>\n    <g id=\"ytick_4\">\n     <g id=\"line2d_28\">\n      <g>\n       <use style=\"stroke:#000000;stroke-width:0.8;\" x=\"195.253125\" xlink:href=\"#m06cc58fb58\" y=\"66.491719\"/>\n      </g>\n     </g>\n     <g id=\"text_28\">\n      <!-- x0_NINJAVEGAS18LIVEAT41H36M -->\n      <g transform=\"translate(21.80625 70.202656)scale(0.1 -0.1)\">\n       <use xlink:href=\"#DejaVuSans-78\"/>\n       <use x=\"59.179688\" xlink:href=\"#DejaVuSans-30\"/>\n       <use x=\"122.802734\" xlink:href=\"#DejaVuSans-5f\"/>\n       <use x=\"172.802734\" xlink:href=\"#DejaVuSans-4e\"/>\n       <use x=\"247.607422\" xlink:href=\"#DejaVuSans-49\"/>\n       <use x=\"277.099609\" xlink:href=\"#DejaVuSans-4e\"/>\n       <use x=\"351.904297\" xlink:href=\"#DejaVuSans-4a\"/>\n       <use x=\"379.646484\" xlink:href=\"#DejaVuSans-41\"/>\n       <use x=\"441.679688\" xlink:href=\"#DejaVuSans-56\"/>\n       <use x=\"510.087891\" xlink:href=\"#DejaVuSans-45\"/>\n       <use x=\"573.271484\" xlink:href=\"#DejaVuSans-47\"/>\n       <use x=\"650.761719\" xlink:href=\"#DejaVuSans-41\"/>\n       <use x=\"719.169922\" xlink:href=\"#DejaVuSans-53\"/>\n       <use x=\"782.646484\" xlink:href=\"#DejaVuSans-31\"/>\n       <use x=\"846.269531\" xlink:href=\"#DejaVuSans-38\"/>\n       <use x=\"909.892578\" xlink:href=\"#DejaVuSans-4c\"/>\n       <use x=\"965.605469\" xlink:href=\"#DejaVuSans-49\"/>\n       <use x=\"995.097656\" xlink:href=\"#DejaVuSans-56\"/>\n       <use x=\"1063.505859\" xlink:href=\"#DejaVuSans-45\"/>\n       <use x=\"1126.689453\" xlink:href=\"#DejaVuSans-41\"/>\n       <use x=\"1187.347656\" xlink:href=\"#DejaVuSans-54\"/>\n       <use x=\"1248.431641\" xlink:href=\"#DejaVuSans-34\"/>\n       <use x=\"1312.054688\" xlink:href=\"#DejaVuSans-31\"/>\n       <use x=\"1375.677734\" xlink:href=\"#DejaVuSans-48\"/>\n       <use x=\"1450.873047\" xlink:href=\"#DejaVuSans-33\"/>\n       <use x=\"1514.496094\" xlink:href=\"#DejaVuSans-36\"/>\n       <use x=\"1578.119141\" xlink:href=\"#DejaVuSans-4d\"/>\n      </g>\n     </g>\n    </g>\n    <g id=\"ytick_5\">\n     <g id=\"line2d_29\">\n      <g>\n       <use style=\"stroke:#000000;stroke-width:0.8;\" x=\"195.253125\" xlink:href=\"#m06cc58fb58\" y=\"82.346719\"/>\n      </g>\n     </g>\n     <g id=\"text_29\">\n      <!-- x1_Purple -->\n      <g transform=\"translate(139.389063 86.145938)scale(0.1 -0.1)\">\n       <use xlink:href=\"#DejaVuSans-78\"/>\n       <use x=\"59.179688\" xlink:href=\"#DejaVuSans-31\"/>\n       <use x=\"122.802734\" xlink:href=\"#DejaVuSans-5f\"/>\n       <use x=\"172.802734\" xlink:href=\"#DejaVuSans-50\"/>\n       <use x=\"231.355469\" xlink:href=\"#DejaVuSans-75\"/>\n       <use x=\"294.734375\" xlink:href=\"#DejaVuSans-72\"/>\n       <use x=\"335.847656\" xlink:href=\"#DejaVuSans-70\"/>\n       <use x=\"399.324219\" xlink:href=\"#DejaVuSans-6c\"/>\n       <use x=\"427.107422\" xlink:href=\"#DejaVuSans-65\"/>\n      </g>\n     </g>\n    </g>\n    <g id=\"ytick_6\">\n     <g id=\"line2d_30\">\n      <g>\n       <use style=\"stroke:#000000;stroke-width:0.8;\" x=\"195.253125\" xlink:href=\"#m06cc58fb58\" y=\"98.201719\"/>\n      </g>\n     </g>\n     <g id=\"text_30\">\n      <!-- x1_Red Bull -->\n      <g transform=\"translate(130.039062 102.000938)scale(0.1 -0.1)\">\n       <use xlink:href=\"#DejaVuSans-78\"/>\n       <use x=\"59.179688\" xlink:href=\"#DejaVuSans-31\"/>\n       <use x=\"122.802734\" xlink:href=\"#DejaVuSans-5f\"/>\n       <use x=\"172.802734\" xlink:href=\"#DejaVuSans-52\"/>\n       <use x=\"237.785156\" xlink:href=\"#DejaVuSans-65\"/>\n       <use x=\"299.308594\" xlink:href=\"#DejaVuSans-64\"/>\n       <use x=\"362.785156\" xlink:href=\"#DejaVuSans-20\"/>\n       <use x=\"394.572266\" xlink:href=\"#DejaVuSans-42\"/>\n       <use x=\"463.175781\" xlink:href=\"#DejaVuSans-75\"/>\n       <use x=\"526.554688\" xlink:href=\"#DejaVuSans-6c\"/>\n       <use x=\"554.337891\" xlink:href=\"#DejaVuSans-6c\"/>\n      </g>\n     </g>\n    </g>\n    <g id=\"ytick_7\">\n     <g id=\"line2d_31\">\n      <g>\n       <use style=\"stroke:#000000;stroke-width:0.8;\" x=\"195.253125\" xlink:href=\"#m06cc58fb58\" y=\"114.056719\"/>\n      </g>\n     </g>\n     <g id=\"text_31\">\n      <!-- x2_Banner Sign -->\n      <g transform=\"translate(110.053125 117.855938)scale(0.1 -0.1)\">\n       <use xlink:href=\"#DejaVuSans-78\"/>\n       <use x=\"59.179688\" xlink:href=\"#DejaVuSans-32\"/>\n       <use x=\"122.802734\" xlink:href=\"#DejaVuSans-5f\"/>\n       <use x=\"172.802734\" xlink:href=\"#DejaVuSans-42\"/>\n       <use x=\"241.40625\" xlink:href=\"#DejaVuSans-61\"/>\n       <use x=\"302.685547\" xlink:href=\"#DejaVuSans-6e\"/>\n       <use x=\"366.064453\" xlink:href=\"#DejaVuSans-6e\"/>\n       <use x=\"429.443359\" xlink:href=\"#DejaVuSans-65\"/>\n       <use x=\"490.966797\" xlink:href=\"#DejaVuSans-72\"/>\n       <use x=\"532.080078\" xlink:href=\"#DejaVuSans-20\"/>\n       <use x=\"563.867188\" xlink:href=\"#DejaVuSans-53\"/>\n       <use x=\"627.34375\" xlink:href=\"#DejaVuSans-69\"/>\n       <use x=\"655.126953\" xlink:href=\"#DejaVuSans-67\"/>\n       <use x=\"718.603516\" xlink:href=\"#DejaVuSans-6e\"/>\n      </g>\n     </g>\n    </g>\n    <g id=\"ytick_8\">\n     <g id=\"line2d_32\">\n      <g>\n       <use style=\"stroke:#000000;stroke-width:0.8;\" x=\"195.253125\" xlink:href=\"#m06cc58fb58\" y=\"129.911719\"/>\n      </g>\n     </g>\n     <g id=\"text_32\">\n      <!-- x2_Logo Bug -->\n      <g transform=\"translate(124.264063 133.622656)scale(0.1 -0.1)\">\n       <use xlink:href=\"#DejaVuSans-78\"/>\n       <use x=\"59.179688\" xlink:href=\"#DejaVuSans-32\"/>\n       <use x=\"122.802734\" xlink:href=\"#DejaVuSans-5f\"/>\n       <use x=\"172.802734\" xlink:href=\"#DejaVuSans-4c\"/>\n       <use x=\"226.765625\" xlink:href=\"#DejaVuSans-6f\"/>\n       <use x=\"287.947266\" xlink:href=\"#DejaVuSans-67\"/>\n       <use x=\"351.423828\" xlink:href=\"#DejaVuSans-6f\"/>\n       <use x=\"412.605469\" xlink:href=\"#DejaVuSans-20\"/>\n       <use x=\"444.392578\" xlink:href=\"#DejaVuSans-42\"/>\n       <use x=\"512.996094\" xlink:href=\"#DejaVuSans-75\"/>\n       <use x=\"576.375\" xlink:href=\"#DejaVuSans-67\"/>\n      </g>\n     </g>\n    </g>\n    <g id=\"ytick_9\">\n     <g id=\"line2d_33\">\n      <g>\n       <use style=\"stroke:#000000;stroke-width:0.8;\" x=\"195.253125\" xlink:href=\"#m06cc58fb58\" y=\"145.766719\"/>\n      </g>\n     </g>\n     <g id=\"text_33\">\n      <!-- x2_Midroll -->\n      <g transform=\"translate(137.65625 149.565938)scale(0.1 -0.1)\">\n       <use xlink:href=\"#DejaVuSans-78\"/>\n       <use x=\"59.179688\" xlink:href=\"#DejaVuSans-32\"/>\n       <use x=\"122.802734\" xlink:href=\"#DejaVuSans-5f\"/>\n       <use x=\"172.802734\" xlink:href=\"#DejaVuSans-4d\"/>\n       <use x=\"259.082031\" xlink:href=\"#DejaVuSans-69\"/>\n       <use x=\"286.865234\" xlink:href=\"#DejaVuSans-64\"/>\n       <use x=\"350.341797\" xlink:href=\"#DejaVuSans-72\"/>\n       <use x=\"389.205078\" xlink:href=\"#DejaVuSans-6f\"/>\n       <use x=\"450.386719\" xlink:href=\"#DejaVuSans-6c\"/>\n       <use x=\"478.169922\" xlink:href=\"#DejaVuSans-6c\"/>\n      </g>\n     </g>\n    </g>\n    <g id=\"ytick_10\">\n     <g id=\"line2d_34\">\n      <g>\n       <use style=\"stroke:#000000;stroke-width:0.8;\" x=\"195.253125\" xlink:href=\"#m06cc58fb58\" y=\"161.621719\"/>\n      </g>\n     </g>\n     <g id=\"text_34\">\n      <!-- x2_Product Placement -->\n      <g transform=\"translate(77.090625 165.420938)scale(0.1 -0.1)\">\n       <use xlink:href=\"#DejaVuSans-78\"/>\n       <use x=\"59.179688\" xlink:href=\"#DejaVuSans-32\"/>\n       <use x=\"122.802734\" xlink:href=\"#DejaVuSans-5f\"/>\n       <use x=\"172.802734\" xlink:href=\"#DejaVuSans-50\"/>\n       <use x=\"231.355469\" xlink:href=\"#DejaVuSans-72\"/>\n       <use x=\"270.21875\" xlink:href=\"#DejaVuSans-6f\"/>\n       <use x=\"331.400391\" xlink:href=\"#DejaVuSans-64\"/>\n       <use x=\"394.876953\" xlink:href=\"#DejaVuSans-75\"/>\n       <use x=\"458.255859\" xlink:href=\"#DejaVuSans-63\"/>\n       <use x=\"513.236328\" xlink:href=\"#DejaVuSans-74\"/>\n       <use x=\"552.445312\" xlink:href=\"#DejaVuSans-20\"/>\n       <use x=\"584.232422\" xlink:href=\"#DejaVuSans-50\"/>\n       <use x=\"644.535156\" xlink:href=\"#DejaVuSans-6c\"/>\n       <use x=\"672.318359\" xlink:href=\"#DejaVuSans-61\"/>\n       <use x=\"733.597656\" xlink:href=\"#DejaVuSans-63\"/>\n       <use x=\"788.578125\" xlink:href=\"#DejaVuSans-65\"/>\n       <use x=\"850.101562\" xlink:href=\"#DejaVuSans-6d\"/>\n       <use x=\"947.513672\" xlink:href=\"#DejaVuSans-65\"/>\n       <use x=\"1009.037109\" xlink:href=\"#DejaVuSans-6e\"/>\n       <use x=\"1072.416016\" xlink:href=\"#DejaVuSans-74\"/>\n      </g>\n     </g>\n    </g>\n    <g id=\"ytick_11\">\n     <g id=\"line2d_35\">\n      <g>\n       <use style=\"stroke:#000000;stroke-width:0.8;\" x=\"195.253125\" xlink:href=\"#m06cc58fb58\" y=\"177.476719\"/>\n      </g>\n     </g>\n     <g id=\"text_35\">\n      <!-- x2_Single refridgerator behind Ninja -->\n      <g transform=\"translate(7.2 181.275938)scale(0.1 -0.1)\">\n       <use xlink:href=\"#DejaVuSans-78\"/>\n       <use x=\"59.179688\" xlink:href=\"#DejaVuSans-32\"/>\n       <use x=\"122.802734\" xlink:href=\"#DejaVuSans-5f\"/>\n       <use x=\"172.802734\" xlink:href=\"#DejaVuSans-53\"/>\n       <use x=\"236.279297\" xlink:href=\"#DejaVuSans-69\"/>\n       <use x=\"264.0625\" xlink:href=\"#DejaVuSans-6e\"/>\n       <use x=\"327.441406\" xlink:href=\"#DejaVuSans-67\"/>\n       <use x=\"390.917969\" xlink:href=\"#DejaVuSans-6c\"/>\n       <use x=\"418.701172\" xlink:href=\"#DejaVuSans-65\"/>\n       <use x=\"480.224609\" xlink:href=\"#DejaVuSans-20\"/>\n       <use x=\"512.011719\" xlink:href=\"#DejaVuSans-72\"/>\n       <use x=\"550.875\" xlink:href=\"#DejaVuSans-65\"/>\n       <use x=\"612.398438\" xlink:href=\"#DejaVuSans-66\"/>\n       <use x=\"647.603516\" xlink:href=\"#DejaVuSans-72\"/>\n       <use x=\"688.716797\" xlink:href=\"#DejaVuSans-69\"/>\n       <use x=\"716.5\" xlink:href=\"#DejaVuSans-64\"/>\n       <use x=\"779.976562\" xlink:href=\"#DejaVuSans-67\"/>\n       <use x=\"843.453125\" xlink:href=\"#DejaVuSans-65\"/>\n       <use x=\"904.976562\" xlink:href=\"#DejaVuSans-72\"/>\n       <use x=\"946.089844\" xlink:href=\"#DejaVuSans-61\"/>\n       <use x=\"1007.369141\" xlink:href=\"#DejaVuSans-74\"/>\n       <use x=\"1046.578125\" xlink:href=\"#DejaVuSans-6f\"/>\n       <use x=\"1107.759766\" xlink:href=\"#DejaVuSans-72\"/>\n       <use x=\"1148.873047\" xlink:href=\"#DejaVuSans-20\"/>\n       <use x=\"1180.660156\" xlink:href=\"#DejaVuSans-62\"/>\n       <use x=\"1244.136719\" xlink:href=\"#DejaVuSans-65\"/>\n       <use x=\"1305.660156\" xlink:href=\"#DejaVuSans-68\"/>\n       <use x=\"1369.039062\" xlink:href=\"#DejaVuSans-69\"/>\n       <use x=\"1396.822266\" xlink:href=\"#DejaVuSans-6e\"/>\n       <use x=\"1460.201172\" xlink:href=\"#DejaVuSans-64\"/>\n       <use x=\"1523.677734\" xlink:href=\"#DejaVuSans-20\"/>\n       <use x=\"1555.464844\" xlink:href=\"#DejaVuSans-4e\"/>\n       <use x=\"1630.269531\" xlink:href=\"#DejaVuSans-69\"/>\n       <use x=\"1658.052734\" xlink:href=\"#DejaVuSans-6e\"/>\n       <use x=\"1721.431641\" xlink:href=\"#DejaVuSans-6a\"/>\n       <use x=\"1749.214844\" xlink:href=\"#DejaVuSans-61\"/>\n      </g>\n     </g>\n    </g>\n    <g id=\"ytick_12\">\n     <g id=\"line2d_36\">\n      <g>\n       <use style=\"stroke:#000000;stroke-width:0.8;\" x=\"195.253125\" xlink:href=\"#m06cc58fb58\" y=\"193.331719\"/>\n      </g>\n     </g>\n     <g id=\"text_36\">\n      <!-- Duration Time -->\n      <g transform=\"translate(117.176563 197.130938)scale(0.1 -0.1)\">\n       <use xlink:href=\"#DejaVuSans-44\"/>\n       <use x=\"77.001953\" xlink:href=\"#DejaVuSans-75\"/>\n       <use x=\"140.380859\" xlink:href=\"#DejaVuSans-72\"/>\n       <use x=\"181.494141\" xlink:href=\"#DejaVuSans-61\"/>\n       <use x=\"242.773438\" xlink:href=\"#DejaVuSans-74\"/>\n       <use x=\"281.982422\" xlink:href=\"#DejaVuSans-69\"/>\n       <use x=\"309.765625\" xlink:href=\"#DejaVuSans-6f\"/>\n       <use x=\"370.947266\" xlink:href=\"#DejaVuSans-6e\"/>\n       <use x=\"434.326172\" xlink:href=\"#DejaVuSans-20\"/>\n       <use x=\"466.113281\" xlink:href=\"#DejaVuSans-54\"/>\n       <use x=\"524.072266\" xlink:href=\"#DejaVuSans-69\"/>\n       <use x=\"551.855469\" xlink:href=\"#DejaVuSans-6d\"/>\n       <use x=\"649.267578\" xlink:href=\"#DejaVuSans-65\"/>\n      </g>\n     </g>\n    </g>\n    <g id=\"ytick_13\">\n     <g id=\"line2d_37\">\n      <g>\n       <use style=\"stroke:#000000;stroke-width:0.8;\" x=\"195.253125\" xlink:href=\"#m06cc58fb58\" y=\"209.186719\"/>\n      </g>\n     </g>\n     <g id=\"text_37\">\n      <!-- Duration Weight -->\n      <g transform=\"translate(106.80625 212.985938)scale(0.1 -0.1)\">\n       <use xlink:href=\"#DejaVuSans-44\"/>\n       <use x=\"77.001953\" xlink:href=\"#DejaVuSans-75\"/>\n       <use x=\"140.380859\" xlink:href=\"#DejaVuSans-72\"/>\n       <use x=\"181.494141\" xlink:href=\"#DejaVuSans-61\"/>\n       <use x=\"242.773438\" xlink:href=\"#DejaVuSans-74\"/>\n       <use x=\"281.982422\" xlink:href=\"#DejaVuSans-69\"/>\n       <use x=\"309.765625\" xlink:href=\"#DejaVuSans-6f\"/>\n       <use x=\"370.947266\" xlink:href=\"#DejaVuSans-6e\"/>\n       <use x=\"434.326172\" xlink:href=\"#DejaVuSans-20\"/>\n       <use x=\"466.113281\" xlink:href=\"#DejaVuSans-57\"/>\n       <use x=\"559.115234\" xlink:href=\"#DejaVuSans-65\"/>\n       <use x=\"620.638672\" xlink:href=\"#DejaVuSans-69\"/>\n       <use x=\"648.421875\" xlink:href=\"#DejaVuSans-67\"/>\n       <use x=\"711.898438\" xlink:href=\"#DejaVuSans-68\"/>\n       <use x=\"775.277344\" xlink:href=\"#DejaVuSans-74\"/>\n      </g>\n     </g>\n    </g>\n    <g id=\"ytick_14\">\n     <g id=\"line2d_38\">\n      <g>\n       <use style=\"stroke:#000000;stroke-width:0.8;\" x=\"195.253125\" xlink:href=\"#m06cc58fb58\" y=\"225.041719\"/>\n      </g>\n     </g>\n     <g id=\"text_38\">\n      <!-- 30 Second Equivalents -->\n      <g transform=\"translate(74.139063 228.840938)scale(0.1 -0.1)\">\n       <use xlink:href=\"#DejaVuSans-33\"/>\n       <use x=\"63.623047\" xlink:href=\"#DejaVuSans-30\"/>\n       <use x=\"127.246094\" xlink:href=\"#DejaVuSans-20\"/>\n       <use x=\"159.033203\" xlink:href=\"#DejaVuSans-53\"/>\n       <use x=\"222.509766\" xlink:href=\"#DejaVuSans-65\"/>\n       <use x=\"284.033203\" xlink:href=\"#DejaVuSans-63\"/>\n       <use x=\"339.013672\" xlink:href=\"#DejaVuSans-6f\"/>\n       <use x=\"400.195312\" xlink:href=\"#DejaVuSans-6e\"/>\n       <use x=\"463.574219\" xlink:href=\"#DejaVuSans-64\"/>\n       <use x=\"527.050781\" xlink:href=\"#DejaVuSans-20\"/>\n       <use x=\"558.837891\" xlink:href=\"#DejaVuSans-45\"/>\n       <use x=\"622.021484\" xlink:href=\"#DejaVuSans-71\"/>\n       <use x=\"685.498047\" xlink:href=\"#DejaVuSans-75\"/>\n       <use x=\"748.876953\" xlink:href=\"#DejaVuSans-69\"/>\n       <use x=\"776.660156\" xlink:href=\"#DejaVuSans-76\"/>\n       <use x=\"835.839844\" xlink:href=\"#DejaVuSans-61\"/>\n       <use x=\"897.119141\" xlink:href=\"#DejaVuSans-6c\"/>\n       <use x=\"924.902344\" xlink:href=\"#DejaVuSans-65\"/>\n       <use x=\"986.425781\" xlink:href=\"#DejaVuSans-6e\"/>\n       <use x=\"1049.804688\" xlink:href=\"#DejaVuSans-74\"/>\n       <use x=\"1089.013672\" xlink:href=\"#DejaVuSans-73\"/>\n      </g>\n     </g>\n    </g>\n    <g id=\"ytick_15\">\n     <g id=\"line2d_39\">\n      <g>\n       <use style=\"stroke:#000000;stroke-width:0.8;\" x=\"195.253125\" xlink:href=\"#m06cc58fb58\" y=\"240.896719\"/>\n      </g>\n     </g>\n     <g id=\"text_39\">\n      <!-- Location % -->\n      <g transform=\"translate(133.276563 244.695938)scale(0.1 -0.1)\">\n       <use xlink:href=\"#DejaVuSans-4c\"/>\n       <use x=\"53.962891\" xlink:href=\"#DejaVuSans-6f\"/>\n       <use x=\"115.144531\" xlink:href=\"#DejaVuSans-63\"/>\n       <use x=\"170.125\" xlink:href=\"#DejaVuSans-61\"/>\n       <use x=\"231.404297\" xlink:href=\"#DejaVuSans-74\"/>\n       <use x=\"270.613281\" xlink:href=\"#DejaVuSans-69\"/>\n       <use x=\"298.396484\" xlink:href=\"#DejaVuSans-6f\"/>\n       <use x=\"359.578125\" xlink:href=\"#DejaVuSans-6e\"/>\n       <use x=\"422.957031\" xlink:href=\"#DejaVuSans-20\"/>\n       <use x=\"454.744141\" xlink:href=\"#DejaVuSans-25\"/>\n      </g>\n     </g>\n    </g>\n    <g id=\"ytick_16\">\n     <g id=\"line2d_40\">\n      <g>\n       <use style=\"stroke:#000000;stroke-width:0.8;\" x=\"195.253125\" xlink:href=\"#m06cc58fb58\" y=\"256.751719\"/>\n      </g>\n     </g>\n     <g id=\"text_40\">\n      <!-- Brand Size % -->\n      <g transform=\"translate(122.08125 260.550938)scale(0.1 -0.1)\">\n       <use xlink:href=\"#DejaVuSans-42\"/>\n       <use x=\"68.603516\" xlink:href=\"#DejaVuSans-72\"/>\n       <use x=\"109.716797\" xlink:href=\"#DejaVuSans-61\"/>\n       <use x=\"170.996094\" xlink:href=\"#DejaVuSans-6e\"/>\n       <use x=\"234.375\" xlink:href=\"#DejaVuSans-64\"/>\n       <use x=\"297.851562\" xlink:href=\"#DejaVuSans-20\"/>\n       <use x=\"329.638672\" xlink:href=\"#DejaVuSans-53\"/>\n       <use x=\"393.115234\" xlink:href=\"#DejaVuSans-69\"/>\n       <use x=\"420.898438\" xlink:href=\"#DejaVuSans-7a\"/>\n       <use x=\"473.388672\" xlink:href=\"#DejaVuSans-65\"/>\n       <use x=\"534.912109\" xlink:href=\"#DejaVuSans-20\"/>\n       <use x=\"566.699219\" xlink:href=\"#DejaVuSans-25\"/>\n      </g>\n     </g>\n    </g>\n    <g id=\"ytick_17\">\n     <g id=\"line2d_41\">\n      <g>\n       <use style=\"stroke:#000000;stroke-width:0.8;\" x=\"195.253125\" xlink:href=\"#m06cc58fb58\" y=\"272.606719\"/>\n      </g>\n     </g>\n     <g id=\"text_41\">\n      <!-- Size Weight -->\n      <g transform=\"translate(129.709375 276.405938)scale(0.1 -0.1)\">\n       <use xlink:href=\"#DejaVuSans-53\"/>\n       <use x=\"63.476562\" xlink:href=\"#DejaVuSans-69\"/>\n       <use x=\"91.259766\" xlink:href=\"#DejaVuSans-7a\"/>\n       <use x=\"143.75\" xlink:href=\"#DejaVuSans-65\"/>\n       <use x=\"205.273438\" xlink:href=\"#DejaVuSans-20\"/>\n       <use x=\"237.060547\" xlink:href=\"#DejaVuSans-57\"/>\n       <use x=\"330.0625\" xlink:href=\"#DejaVuSans-65\"/>\n       <use x=\"391.585938\" xlink:href=\"#DejaVuSans-69\"/>\n       <use x=\"419.369141\" xlink:href=\"#DejaVuSans-67\"/>\n       <use x=\"482.845703\" xlink:href=\"#DejaVuSans-68\"/>\n       <use x=\"546.224609\" xlink:href=\"#DejaVuSans-74\"/>\n      </g>\n     </g>\n    </g>\n    <g id=\"ytick_18\">\n     <g id=\"line2d_42\">\n      <g>\n       <use style=\"stroke:#000000;stroke-width:0.8;\" x=\"195.253125\" xlink:href=\"#m06cc58fb58\" y=\"288.461719\"/>\n      </g>\n     </g>\n     <g id=\"text_42\">\n      <!-- Clutter/SOV -->\n      <g transform=\"translate(129.795313 292.260938)scale(0.1 -0.1)\">\n       <use xlink:href=\"#DejaVuSans-43\"/>\n       <use x=\"69.824219\" xlink:href=\"#DejaVuSans-6c\"/>\n       <use x=\"97.607422\" xlink:href=\"#DejaVuSans-75\"/>\n       <use x=\"160.986328\" xlink:href=\"#DejaVuSans-74\"/>\n       <use x=\"200.195312\" xlink:href=\"#DejaVuSans-74\"/>\n       <use x=\"239.404297\" xlink:href=\"#DejaVuSans-65\"/>\n       <use x=\"300.927734\" xlink:href=\"#DejaVuSans-72\"/>\n       <use x=\"342.041016\" xlink:href=\"#DejaVuSans-2f\"/>\n       <use x=\"375.732422\" xlink:href=\"#DejaVuSans-53\"/>\n       <use x=\"439.208984\" xlink:href=\"#DejaVuSans-4f\"/>\n       <use x=\"516.169922\" xlink:href=\"#DejaVuSans-56\"/>\n      </g>\n     </g>\n    </g>\n    <g id=\"ytick_19\">\n     <g id=\"line2d_43\">\n      <g>\n       <use style=\"stroke:#000000;stroke-width:0.8;\" x=\"195.253125\" xlink:href=\"#m06cc58fb58\" y=\"304.316719\"/>\n      </g>\n     </g>\n     <g id=\"text_43\">\n      <!-- Size Score -->\n      <g transform=\"translate(136.542188 308.115938)scale(0.1 -0.1)\">\n       <use xlink:href=\"#DejaVuSans-53\"/>\n       <use x=\"63.476562\" xlink:href=\"#DejaVuSans-69\"/>\n       <use x=\"91.259766\" xlink:href=\"#DejaVuSans-7a\"/>\n       <use x=\"143.75\" xlink:href=\"#DejaVuSans-65\"/>\n       <use x=\"205.273438\" xlink:href=\"#DejaVuSans-20\"/>\n       <use x=\"237.060547\" xlink:href=\"#DejaVuSans-53\"/>\n       <use x=\"300.537109\" xlink:href=\"#DejaVuSans-63\"/>\n       <use x=\"355.517578\" xlink:href=\"#DejaVuSans-6f\"/>\n       <use x=\"416.699219\" xlink:href=\"#DejaVuSans-72\"/>\n       <use x=\"455.5625\" xlink:href=\"#DejaVuSans-65\"/>\n      </g>\n     </g>\n    </g>\n    <g id=\"ytick_20\">\n     <g id=\"line2d_44\">\n      <g>\n       <use style=\"stroke:#000000;stroke-width:0.8;\" x=\"195.253125\" xlink:href=\"#m06cc58fb58\" y=\"320.171719\"/>\n      </g>\n     </g>\n     <g id=\"text_44\">\n      <!-- Location Score -->\n      <g transform=\"translate(114.773438 323.970938)scale(0.1 -0.1)\">\n       <use xlink:href=\"#DejaVuSans-4c\"/>\n       <use x=\"53.962891\" xlink:href=\"#DejaVuSans-6f\"/>\n       <use x=\"115.144531\" xlink:href=\"#DejaVuSans-63\"/>\n       <use x=\"170.125\" xlink:href=\"#DejaVuSans-61\"/>\n       <use x=\"231.404297\" xlink:href=\"#DejaVuSans-74\"/>\n       <use x=\"270.613281\" xlink:href=\"#DejaVuSans-69\"/>\n       <use x=\"298.396484\" xlink:href=\"#DejaVuSans-6f\"/>\n       <use x=\"359.578125\" xlink:href=\"#DejaVuSans-6e\"/>\n       <use x=\"422.957031\" xlink:href=\"#DejaVuSans-20\"/>\n       <use x=\"454.744141\" xlink:href=\"#DejaVuSans-53\"/>\n       <use x=\"518.220703\" xlink:href=\"#DejaVuSans-63\"/>\n       <use x=\"573.201172\" xlink:href=\"#DejaVuSans-6f\"/>\n       <use x=\"634.382812\" xlink:href=\"#DejaVuSans-72\"/>\n       <use x=\"673.246094\" xlink:href=\"#DejaVuSans-65\"/>\n      </g>\n     </g>\n    </g>\n    <g id=\"ytick_21\">\n     <g id=\"line2d_45\">\n      <g>\n       <use style=\"stroke:#000000;stroke-width:0.8;\" x=\"195.253125\" xlink:href=\"#m06cc58fb58\" y=\"336.026719\"/>\n      </g>\n     </g>\n     <g id=\"text_45\">\n      <!-- Duration Score -->\n      <g transform=\"translate(113.639063 339.825938)scale(0.1 -0.1)\">\n       <use xlink:href=\"#DejaVuSans-44\"/>\n       <use x=\"77.001953\" xlink:href=\"#DejaVuSans-75\"/>\n       <use x=\"140.380859\" xlink:href=\"#DejaVuSans-72\"/>\n       <use x=\"181.494141\" xlink:href=\"#DejaVuSans-61\"/>\n       <use x=\"242.773438\" xlink:href=\"#DejaVuSans-74\"/>\n       <use x=\"281.982422\" xlink:href=\"#DejaVuSans-69\"/>\n       <use x=\"309.765625\" xlink:href=\"#DejaVuSans-6f\"/>\n       <use x=\"370.947266\" xlink:href=\"#DejaVuSans-6e\"/>\n       <use x=\"434.326172\" xlink:href=\"#DejaVuSans-20\"/>\n       <use x=\"466.113281\" xlink:href=\"#DejaVuSans-53\"/>\n       <use x=\"529.589844\" xlink:href=\"#DejaVuSans-63\"/>\n       <use x=\"584.570312\" xlink:href=\"#DejaVuSans-6f\"/>\n       <use x=\"645.751953\" xlink:href=\"#DejaVuSans-72\"/>\n       <use x=\"684.615234\" xlink:href=\"#DejaVuSans-65\"/>\n      </g>\n     </g>\n    </g>\n    <g id=\"ytick_22\">\n     <g id=\"line2d_46\">\n      <g>\n       <use style=\"stroke:#000000;stroke-width:0.8;\" x=\"195.253125\" xlink:href=\"#m06cc58fb58\" y=\"351.881719\"/>\n      </g>\n     </g>\n     <g id=\"text_46\">\n      <!-- ME Score -->\n      <g transform=\"translate(142.123438 355.680938)scale(0.1 -0.1)\">\n       <use xlink:href=\"#DejaVuSans-4d\"/>\n       <use x=\"86.279297\" xlink:href=\"#DejaVuSans-45\"/>\n       <use x=\"149.462891\" xlink:href=\"#DejaVuSans-20\"/>\n       <use x=\"181.25\" xlink:href=\"#DejaVuSans-53\"/>\n       <use x=\"244.726562\" xlink:href=\"#DejaVuSans-63\"/>\n       <use x=\"299.707031\" xlink:href=\"#DejaVuSans-6f\"/>\n       <use x=\"360.888672\" xlink:href=\"#DejaVuSans-72\"/>\n       <use x=\"399.751953\" xlink:href=\"#DejaVuSans-65\"/>\n      </g>\n     </g>\n    </g>\n    <g id=\"ytick_23\">\n     <g id=\"line2d_47\">\n      <g>\n       <use style=\"stroke:#000000;stroke-width:0.8;\" x=\"195.253125\" xlink:href=\"#m06cc58fb58\" y=\"367.736719\"/>\n      </g>\n     </g>\n     <g id=\"text_47\">\n      <!-- Start Time Hour -->\n      <g transform=\"translate(108.914062 371.535938)scale(0.1 -0.1)\">\n       <use xlink:href=\"#DejaVuSans-53\"/>\n       <use x=\"63.476562\" xlink:href=\"#DejaVuSans-74\"/>\n       <use x=\"102.685547\" xlink:href=\"#DejaVuSans-61\"/>\n       <use x=\"163.964844\" xlink:href=\"#DejaVuSans-72\"/>\n       <use x=\"205.078125\" xlink:href=\"#DejaVuSans-74\"/>\n       <use x=\"244.287109\" xlink:href=\"#DejaVuSans-20\"/>\n       <use x=\"276.074219\" xlink:href=\"#DejaVuSans-54\"/>\n       <use x=\"334.033203\" xlink:href=\"#DejaVuSans-69\"/>\n       <use x=\"361.816406\" xlink:href=\"#DejaVuSans-6d\"/>\n       <use x=\"459.228516\" xlink:href=\"#DejaVuSans-65\"/>\n       <use x=\"520.751953\" xlink:href=\"#DejaVuSans-20\"/>\n       <use x=\"552.539062\" xlink:href=\"#DejaVuSans-48\"/>\n       <use x=\"627.734375\" xlink:href=\"#DejaVuSans-6f\"/>\n       <use x=\"688.916016\" xlink:href=\"#DejaVuSans-75\"/>\n       <use x=\"752.294922\" xlink:href=\"#DejaVuSans-72\"/>\n      </g>\n     </g>\n    </g>\n    <g id=\"ytick_24\">\n     <g id=\"line2d_48\">\n      <g>\n       <use style=\"stroke:#000000;stroke-width:0.8;\" x=\"195.253125\" xlink:href=\"#m06cc58fb58\" y=\"383.591719\"/>\n      </g>\n     </g>\n     <g id=\"text_48\">\n      <!-- MEV -->\n      <g transform=\"translate(166.465625 387.390937)scale(0.1 -0.1)\">\n       <use xlink:href=\"#DejaVuSans-4d\"/>\n       <use x=\"86.279297\" xlink:href=\"#DejaVuSans-45\"/>\n       <use x=\"149.462891\" xlink:href=\"#DejaVuSans-56\"/>\n      </g>\n     </g>\n    </g>\n   </g>\n  </g>\n  <g id=\"axes_2\">\n   <g id=\"patch_3\">\n    <path d=\"M 527.263125 391.519219 \nL 546.289125 391.519219 \nL 546.289125 10.999219 \nL 527.263125 10.999219 \nz\n\" style=\"fill:#ffffff;\"/>\n   </g>\n   <g id=\"patch_4\">\n    <path clip-path=\"url(#p2ffbf3586c)\" d=\"M 527.263125 391.519219 \nL 527.263125 390.032812 \nL 527.263125 12.485625 \nL 527.263125 10.999219 \nL 546.289125 10.999219 \nL 546.289125 12.485625 \nL 546.289125 390.032812 \nL 546.289125 391.519219 \nL 546.289125 391.519219 \nz\n\" style=\"fill:#ffffff;stroke:#ffffff;stroke-linejoin:miter;stroke-width:0.01;\"/>\n   </g>\n   <image height=\"381\" id=\"image329b16fa61\" transform=\"scale(1 -1)translate(0 -381)\" width=\"19\" x=\"527\" xlink:href=\"data:image/png;base64,\niVBORw0KGgoAAAANSUhEUgAAABMAAAF9CAYAAADm2VNSAAACEklEQVR4nO2dwY3DQAwD5cP2398V49urQcY8BiBVAJExJVpxks1z7+8dqH4ooZmZcwd7YXNm/jAxGPOimJxY3dwX6yZ5zVhMss/O1brJYoKtYcasm9sKSdqYPNO2Roib8ARoMS/ophizbu7FtJhw0mJaMCbn5cwBKfGmJcU4LRzzAcUwKbxpU9wkxTgtMyaZZ2JMs5uNoK2YF5N8ZeItCMVMaY0UTDDPendalxjT6yYaQaQYjQnO5ivGJMU4rbr5oXJmExR7wdYQY4rdJMXq5rrEmOakJVd3LeZLinkxU9y0RpD4mrGbIyalju0QN81vd0Ax8imVGDPETXICxO8DzBGEitXNZZlvKF5MVMyL2fVgLdb1YF1mTK+bqFhIBIkxQTH2A2btNYMxrd+OZjHB2BBjege9s/lBDLTTjKl1U3t3qpv7Qu8BMfdNrZsps8k2LSembtrO5rLg2SSbFvyRJP37TTCDzmib9mExMS21mxmtAZ6hMOcRY0pbA8ZEj9/SPnGBMa1uNrY/iKVEEKZFN23GbKYkbWdzLfaEJK14NlExLWbIekAmLblStWn3xb7fFGOi6wHaGuIJkF4zcWyLn7ikNC0qpsXsrrEXy2hacQR119iLeR9FoH9GAH4qT58yRp6cq21a9rjnFDe1mOxxzxmYGbMZ46YVk/2bhIxrFnJ8fd38INY825Y6zzqby+qCvK9/hs7kg1RY0vEAAAAASUVORK5CYII=\" y=\"-10\"/>\n   <g id=\"matplotlib.axis_3\"/>\n   <g id=\"matplotlib.axis_4\">\n    <g id=\"ytick_25\">\n     <g id=\"line2d_49\">\n      <defs>\n       <path d=\"M 0 0 \nL 3.5 0 \n\" id=\"me2d263ff92\" style=\"stroke:#000000;stroke-width:0.8;\"/>\n      </defs>\n      <g>\n       <use style=\"stroke:#000000;stroke-width:0.8;\" x=\"546.289125\" xlink:href=\"#me2d263ff92\" y=\"391.519219\"/>\n      </g>\n     </g>\n     <g id=\"text_49\">\n      <!-- −1.00 -->\n      <g transform=\"translate(553.289125 395.318437)scale(0.1 -0.1)\">\n       <defs>\n        <path d=\"M 678 2272 \nL 4684 2272 \nL 4684 1741 \nL 678 1741 \nL 678 2272 \nz\n\" id=\"DejaVuSans-2212\" transform=\"scale(0.015625)\"/>\n        <path d=\"M 684 794 \nL 1344 794 \nL 1344 0 \nL 684 0 \nL 684 794 \nz\n\" id=\"DejaVuSans-2e\" transform=\"scale(0.015625)\"/>\n       </defs>\n       <use xlink:href=\"#DejaVuSans-2212\"/>\n       <use x=\"83.789062\" xlink:href=\"#DejaVuSans-31\"/>\n       <use x=\"147.412109\" xlink:href=\"#DejaVuSans-2e\"/>\n       <use x=\"179.199219\" xlink:href=\"#DejaVuSans-30\"/>\n       <use x=\"242.822266\" xlink:href=\"#DejaVuSans-30\"/>\n      </g>\n     </g>\n    </g>\n    <g id=\"ytick_26\">\n     <g id=\"line2d_50\">\n      <g>\n       <use style=\"stroke:#000000;stroke-width:0.8;\" x=\"546.289125\" xlink:href=\"#me2d263ff92\" y=\"343.954219\"/>\n      </g>\n     </g>\n     <g id=\"text_50\">\n      <!-- −0.75 -->\n      <g transform=\"translate(553.289125 347.753437)scale(0.1 -0.1)\">\n       <defs>\n        <path d=\"M 525 4666 \nL 3525 4666 \nL 3525 4397 \nL 1831 0 \nL 1172 0 \nL 2766 4134 \nL 525 4134 \nL 525 4666 \nz\n\" id=\"DejaVuSans-37\" transform=\"scale(0.015625)\"/>\n        <path d=\"M 691 4666 \nL 3169 4666 \nL 3169 4134 \nL 1269 4134 \nL 1269 2991 \nQ 1406 3038 1543 3061 \nQ 1681 3084 1819 3084 \nQ 2600 3084 3056 2656 \nQ 3513 2228 3513 1497 \nQ 3513 744 3044 326 \nQ 2575 -91 1722 -91 \nQ 1428 -91 1123 -41 \nQ 819 9 494 109 \nL 494 744 \nQ 775 591 1075 516 \nQ 1375 441 1709 441 \nQ 2250 441 2565 725 \nQ 2881 1009 2881 1497 \nQ 2881 1984 2565 2268 \nQ 2250 2553 1709 2553 \nQ 1456 2553 1204 2497 \nQ 953 2441 691 2322 \nL 691 4666 \nz\n\" id=\"DejaVuSans-35\" transform=\"scale(0.015625)\"/>\n       </defs>\n       <use xlink:href=\"#DejaVuSans-2212\"/>\n       <use x=\"83.789062\" xlink:href=\"#DejaVuSans-30\"/>\n       <use x=\"147.412109\" xlink:href=\"#DejaVuSans-2e\"/>\n       <use x=\"179.199219\" xlink:href=\"#DejaVuSans-37\"/>\n       <use x=\"242.822266\" xlink:href=\"#DejaVuSans-35\"/>\n      </g>\n     </g>\n    </g>\n    <g id=\"ytick_27\">\n     <g id=\"line2d_51\">\n      <g>\n       <use style=\"stroke:#000000;stroke-width:0.8;\" x=\"546.289125\" xlink:href=\"#me2d263ff92\" y=\"296.389219\"/>\n      </g>\n     </g>\n     <g id=\"text_51\">\n      <!-- −0.50 -->\n      <g transform=\"translate(553.289125 300.188437)scale(0.1 -0.1)\">\n       <use xlink:href=\"#DejaVuSans-2212\"/>\n       <use x=\"83.789062\" xlink:href=\"#DejaVuSans-30\"/>\n       <use x=\"147.412109\" xlink:href=\"#DejaVuSans-2e\"/>\n       <use x=\"179.199219\" xlink:href=\"#DejaVuSans-35\"/>\n       <use x=\"242.822266\" xlink:href=\"#DejaVuSans-30\"/>\n      </g>\n     </g>\n    </g>\n    <g id=\"ytick_28\">\n     <g id=\"line2d_52\">\n      <g>\n       <use style=\"stroke:#000000;stroke-width:0.8;\" x=\"546.289125\" xlink:href=\"#me2d263ff92\" y=\"248.824219\"/>\n      </g>\n     </g>\n     <g id=\"text_52\">\n      <!-- −0.25 -->\n      <g transform=\"translate(553.289125 252.623437)scale(0.1 -0.1)\">\n       <use xlink:href=\"#DejaVuSans-2212\"/>\n       <use x=\"83.789062\" xlink:href=\"#DejaVuSans-30\"/>\n       <use x=\"147.412109\" xlink:href=\"#DejaVuSans-2e\"/>\n       <use x=\"179.199219\" xlink:href=\"#DejaVuSans-32\"/>\n       <use x=\"242.822266\" xlink:href=\"#DejaVuSans-35\"/>\n      </g>\n     </g>\n    </g>\n    <g id=\"ytick_29\">\n     <g id=\"line2d_53\">\n      <g>\n       <use style=\"stroke:#000000;stroke-width:0.8;\" x=\"546.289125\" xlink:href=\"#me2d263ff92\" y=\"201.259219\"/>\n      </g>\n     </g>\n     <g id=\"text_53\">\n      <!-- 0.00 -->\n      <g transform=\"translate(553.289125 205.058437)scale(0.1 -0.1)\">\n       <use xlink:href=\"#DejaVuSans-30\"/>\n       <use x=\"63.623047\" xlink:href=\"#DejaVuSans-2e\"/>\n       <use x=\"95.410156\" xlink:href=\"#DejaVuSans-30\"/>\n       <use x=\"159.033203\" xlink:href=\"#DejaVuSans-30\"/>\n      </g>\n     </g>\n    </g>\n    <g id=\"ytick_30\">\n     <g id=\"line2d_54\">\n      <g>\n       <use style=\"stroke:#000000;stroke-width:0.8;\" x=\"546.289125\" xlink:href=\"#me2d263ff92\" y=\"153.694219\"/>\n      </g>\n     </g>\n     <g id=\"text_54\">\n      <!-- 0.25 -->\n      <g transform=\"translate(553.289125 157.493437)scale(0.1 -0.1)\">\n       <use xlink:href=\"#DejaVuSans-30\"/>\n       <use x=\"63.623047\" xlink:href=\"#DejaVuSans-2e\"/>\n       <use x=\"95.410156\" xlink:href=\"#DejaVuSans-32\"/>\n       <use x=\"159.033203\" xlink:href=\"#DejaVuSans-35\"/>\n      </g>\n     </g>\n    </g>\n    <g id=\"ytick_31\">\n     <g id=\"line2d_55\">\n      <g>\n       <use style=\"stroke:#000000;stroke-width:0.8;\" x=\"546.289125\" xlink:href=\"#me2d263ff92\" y=\"106.129219\"/>\n      </g>\n     </g>\n     <g id=\"text_55\">\n      <!-- 0.50 -->\n      <g transform=\"translate(553.289125 109.928437)scale(0.1 -0.1)\">\n       <use xlink:href=\"#DejaVuSans-30\"/>\n       <use x=\"63.623047\" xlink:href=\"#DejaVuSans-2e\"/>\n       <use x=\"95.410156\" xlink:href=\"#DejaVuSans-35\"/>\n       <use x=\"159.033203\" xlink:href=\"#DejaVuSans-30\"/>\n      </g>\n     </g>\n    </g>\n    <g id=\"ytick_32\">\n     <g id=\"line2d_56\">\n      <g>\n       <use style=\"stroke:#000000;stroke-width:0.8;\" x=\"546.289125\" xlink:href=\"#me2d263ff92\" y=\"58.564219\"/>\n      </g>\n     </g>\n     <g id=\"text_56\">\n      <!-- 0.75 -->\n      <g transform=\"translate(553.289125 62.363438)scale(0.1 -0.1)\">\n       <use xlink:href=\"#DejaVuSans-30\"/>\n       <use x=\"63.623047\" xlink:href=\"#DejaVuSans-2e\"/>\n       <use x=\"95.410156\" xlink:href=\"#DejaVuSans-37\"/>\n       <use x=\"159.033203\" xlink:href=\"#DejaVuSans-35\"/>\n      </g>\n     </g>\n    </g>\n    <g id=\"ytick_33\">\n     <g id=\"line2d_57\">\n      <g>\n       <use style=\"stroke:#000000;stroke-width:0.8;\" x=\"546.289125\" xlink:href=\"#me2d263ff92\" y=\"10.999219\"/>\n      </g>\n     </g>\n     <g id=\"text_57\">\n      <!-- 1.00 -->\n      <g transform=\"translate(553.289125 14.798438)scale(0.1 -0.1)\">\n       <use xlink:href=\"#DejaVuSans-31\"/>\n       <use x=\"63.623047\" xlink:href=\"#DejaVuSans-2e\"/>\n       <use x=\"95.410156\" xlink:href=\"#DejaVuSans-30\"/>\n       <use x=\"159.033203\" xlink:href=\"#DejaVuSans-30\"/>\n      </g>\n     </g>\n    </g>\n   </g>\n   <g id=\"LineCollection_1\"/>\n   <g id=\"patch_5\">\n    <path d=\"M 527.263125 391.519219 \nL 527.263125 390.032812 \nL 527.263125 12.485625 \nL 527.263125 10.999219 \nL 546.289125 10.999219 \nL 546.289125 12.485625 \nL 546.289125 390.032812 \nL 546.289125 391.519219 \nz\n\" style=\"fill:none;\"/>\n   </g>\n  </g>\n </g>\n <defs>\n  <clipPath id=\"pd23a781904\">\n   <rect height=\"380.52\" width=\"312.48\" x=\"195.253125\" y=\"10.999219\"/>\n  </clipPath>\n  <clipPath id=\"p2ffbf3586c\">\n   <rect height=\"380.52\" width=\"19.026\" x=\"527.263125\" y=\"10.999219\"/>\n  </clipPath>\n </defs>\n</svg>\n",
      "image/png": "[encoded data removed]"
     },
     "metadata": {
      "needs_background": "light"
     }
    }
   ],
   "metadata": {}
  },
  {
   "cell_type": "markdown",
   "source": [
    "As you can see, the MEV has the highest correlation to the duration time and 30 Second equivalents"
   ],
   "metadata": {}
  },
  {
   "cell_type": "markdown",
   "source": [
    "# Additional Models"
   ],
   "metadata": {}
  },
  {
   "cell_type": "markdown",
   "source": [
    "Importing some additional packages: "
   ],
   "metadata": {}
  },
  {
   "cell_type": "code",
   "execution_count": 350,
   "source": [
    "from sklearn.pipeline import Pipeline\n",
    "from sklearn.preprocessing import StandardScaler\n",
    "from sklearn.ensemble import RandomForestRegressor\n",
    "from sklearn.metrics import r2_score, mean_squared_error\n",
    "from sklearn.model_selection import GridSearchCV\n",
    "from sklearn.base import BaseEstimator, TransformerMixin\n",
    "from sklearn.linear_model import ElasticNet\n",
    "from sklearn.tree import DecisionTreeRegressor"
   ],
   "outputs": [],
   "metadata": {}
  },
  {
   "cell_type": "markdown",
   "source": [
    "Let's create a custom analysis function for grid searches:"
   ],
   "metadata": {}
  },
  {
   "cell_type": "code",
   "execution_count": 277,
   "source": [
    "def show_scores_gs(X,y,model, show_cv_results=True):\n",
    "    print('Best model parameters: ', model.best_params_)\n",
    "    print('MSE on X set: ',mean_squared_error(model.predict(X),y))\n",
    "    print('Mean Cross Val Score of Best Estimator: ', model.best_score_)\n",
    "    if show_cv_results:\n",
    "        print(model.cv_results_['mean_test_score'])"
   ],
   "outputs": [],
   "metadata": {}
  },
  {
   "cell_type": "markdown",
   "source": [
    "To determine whether scaling is of any use, I will create a transformer which just returns the data it was set. We will compare this with Standard Scalers."
   ],
   "metadata": {}
  },
  {
   "cell_type": "code",
   "execution_count": 278,
   "source": [
    "class ReturnSelf(BaseEstimator, TransformerMixin):\n",
    "    def __init__(self):\n",
    "        pass\n",
    "    def fit(self, X, y=None):\n",
    "        return self\n",
    "    def transform(self, X):\n",
    "        return 1*X"
   ],
   "outputs": [],
   "metadata": {}
  },
  {
   "cell_type": "code",
   "execution_count": 279,
   "source": [
    "svr=SVR()\n",
    "ridge_reg_2=Ridge(tol=1e-4)\n",
    "rfreg=RandomForestRegressor()"
   ],
   "outputs": [],
   "metadata": {}
  },
  {
   "cell_type": "markdown",
   "source": [
    "SVR didn't work very well. I just commented it out for the time being."
   ],
   "metadata": {}
  },
  {
   "cell_type": "code",
   "execution_count": 280,
   "source": [
    "\"\"\"svr_grid = {'kernel':['rbf','linear','poly'], 'degree':[2,3], 'C':[5,10,15]}\n",
    "svr_grid_search = GridSearchCV(svr, svr_grid, cv=5, scoring='neg_mean_squared_error', n_jobs=-1)\n",
    "svr_grid_search.fit(X, y)\n",
    "show_scores_gs(X,y,svr_grid_search)\"\"\""
   ],
   "outputs": [
    {
     "output_type": "execute_result",
     "data": {
      "text/plain": [
       "\"svr_grid = {'kernel':['rbf','linear','poly'], 'degree':[2,3], 'C':[5,10,15]}\\nsvr_grid_search = GridSearchCV(svr, svr_grid, cv=5, scoring='neg_mean_squared_error', n_jobs=-1)\\nsvr_grid_search.fit(X, y)\\nshow_scores_gs(X,y,svr_grid_search)\""
      ]
     },
     "metadata": {},
     "execution_count": 280
    }
   ],
   "metadata": {}
  },
  {
   "cell_type": "markdown",
   "source": [
    "The scores are highly variable relative to how many folds we use. We will search for the best alpha within the most promising region of 0<x<1. A cv of 5 achieves a much lower best MSE but also figures that a low alpha (.025) is optimal. This implies that it is not high enough as it does not take into account the extreme instances. A cv of 6 tends to do just fine however."
   ],
   "metadata": {}
  },
  {
   "cell_type": "code",
   "execution_count": 281,
   "source": [
    "ridge_grid = {'alpha':list(np.arange(0,1,.1))}\n",
    "ridge_grid_search = GridSearchCV(ridge_reg_2, ridge_grid, cv=6, scoring='neg_mean_squared_error')\n",
    "ridge_grid_search.fit(X_2, y)\n",
    "show_scores_gs(X_2,y,ridge_grid_search)"
   ],
   "outputs": [
    {
     "output_type": "stream",
     "name": "stdout",
     "text": [
      "Best model parameters:  {'alpha': 0.1}\n",
      "MSE on X set:  0.011102599585586586\n",
      "Mean Cross Val Score of Best Estimator:  -5.218946111457166\n",
      "[-6.64273695e+16 -5.21894611e+00 -6.01767893e+00 -6.19214460e+00\n",
      " -6.16526068e+00 -6.06845778e+00 -5.95126497e+00 -5.83406726e+00\n",
      " -5.72546361e+00 -5.62863261e+00]\n"
     ]
    }
   ],
   "metadata": {}
  },
  {
   "cell_type": "markdown",
   "source": [
    "We were able to only slightly improve the quality with grid search compared to the basic Ridge model from earlier in the code."
   ],
   "metadata": {}
  },
  {
   "cell_type": "markdown",
   "source": [
    "## Ridge and Lasso search (Elastic Net): optimal features"
   ],
   "metadata": {}
  },
  {
   "cell_type": "markdown",
   "source": [
    "Elastic Net encompasses a mixture of L1 and L2 regularization, but for some reason the model began losing functionality after attaining a good model. The grid search determines that Ridge model performs better than Elastic Net with l2_ratio of 1.0"
   ],
   "metadata": {}
  },
  {
   "cell_type": "code",
   "execution_count": 326,
   "source": [
    "pipeline=Pipeline([ ('scaler',ReturnSelf()),('polynomial_scale',PolynomialFeatures()), ('Elastic_Net', ElasticNet(tol=.0001, max_iter=1000, random_state=2))])\n",
    "\n",
    "parameters_pipeline=[{ 'scaler':[ReturnSelf(), StandardScaler()] ,'Elastic_Net__alpha':np.arange(0.1,.2,.3), \n",
    "                        'Elastic_Net__l1_ratio':np.arange(0,.2,.3)},\n",
    "                     {'scaler':[ReturnSelf(), StandardScaler()], 'Elastic_Net':[Ridge(random_state=2)],'Elastic_Net__alpha':np.arange(0,1.1,.1)},\n",
    "                     {'scaler':[ReturnSelf(), StandardScaler()], 'Elastic_Net':[Lasso(random_state=2)] ,'Elastic_Net__alpha':np.arange(0,1.1,.1)}]\n",
    "grid_search_pipe = GridSearchCV(pipeline, parameters_pipeline,scoring='neg_mean_squared_error', cv=6, n_jobs=-1)\n",
    "grid_search_pipe.fit(X,y)\n",
    "show_scores_gs(X,y,grid_search_pipe, show_cv_results=False)"
   ],
   "outputs": [
    {
     "output_type": "stream",
     "name": "stdout",
     "text": [
      "Best model parameters:  {'Elastic_Net': Ridge(alpha=0.1, random_state=2), 'Elastic_Net__alpha': 0.1, 'scaler': ReturnSelf()}\n",
      "MSE on X set:  0.011102599585586586\n",
      "Mean Cross Val Score of Best Estimator:  -5.218961229945236\n"
     ]
    }
   ],
   "metadata": {}
  },
  {
   "cell_type": "markdown",
   "source": [
    "## Ensemble model- AdaBoost optimal features"
   ],
   "metadata": {}
  },
  {
   "cell_type": "code",
   "execution_count": 388,
   "source": [
    "pipeline=Pipeline([ ('scaler',ReturnSelf()),('polynomial_scale',PolynomialFeatures()), ('Regressor', AdaBoostRegressor())])\n",
    "\n",
    "parameters_pipeline_adaboost=[{ 'scaler':[ReturnSelf(), StandardScaler()] ,'polynomial_scale__degree':[1,2], \n",
    "                        'Regressor__base_estimator':[LinearRegression(),DecisionTreeRegressor()],\n",
    "                         'Regressor__n_estimators':[150]}]\n",
    "grid_search_adaboost = GridSearchCV(pipeline, parameters_pipeline_adaboost,scoring='neg_mean_squared_error', cv=6, n_jobs=-1)\n",
    "grid_search_adaboost.fit(X,y)\n",
    "show_scores_gs(X,y,grid_search_adaboost, show_cv_results=False)"
   ],
   "outputs": [
    {
     "output_type": "stream",
     "name": "stdout",
     "text": [
      "Best model parameters:  {'Regressor__base_estimator': LinearRegression(), 'Regressor__n_estimators': 150, 'polynomial_scale__degree': 2, 'scaler': ReturnSelf()}\n",
      "MSE on X set:  0.0005101298891464614\n",
      "Mean Cross Val Score of Best Estimator:  -0.904367804578378\n"
     ]
    }
   ],
   "metadata": {}
  },
  {
   "cell_type": "markdown",
   "source": [
    "This model so far has the best cross val score. This value fluctuates highly between ~0.5 and ~7.0 so this value may not be the entire story."
   ],
   "metadata": {}
  },
  {
   "cell_type": "code",
   "execution_count": null,
   "source": [
    "joblib.dump(grid_search_adaboost, 'pipeline_Ada_Boost.pkl')"
   ],
   "outputs": [],
   "metadata": {}
  },
  {
   "cell_type": "markdown",
   "source": [
    "## Random Forest Regressor\n",
    "To show you the basis from which the $MEV was calculated, I will show you a non linear model"
   ],
   "metadata": {}
  },
  {
   "cell_type": "code",
   "execution_count": 378,
   "source": [
    "parameters_pipeline_RF=[{ 'scaler':[ReturnSelf(), StandardScaler()] ,'polynomial_scale__degree':[1,2], 'Regressor':[RandomForestRegressor()],\n",
    "                        'Regressor__n_estimators':[150,300], 'Regressor__max_depth':[30], 'Regressor__min_samples_split':[2,20]}]\n",
    "grid_search_RF = GridSearchCV(pipeline, parameters_pipeline_RF,scoring='neg_mean_squared_error', cv=6, n_jobs=-1)\n",
    "grid_search_RF.fit(X,y)\n",
    "show_scores_gs(X,y,grid_search_RF, show_cv_results=False)"
   ],
   "outputs": [
    {
     "output_type": "stream",
     "name": "stdout",
     "text": [
      "Best model parameters:  {'Regressor': RandomForestRegressor(max_depth=30, n_estimators=150), 'Regressor__max_depth': 30, 'Regressor__min_samples_split': 2, 'Regressor__n_estimators': 150, 'polynomial_scale__degree': 2, 'scaler': ReturnSelf()}\n",
      "MSE on X set:  9487.825254055893\n",
      "Mean Cross Val Score of Best Estimator:  -52032.84284603471\n"
     ]
    }
   ],
   "metadata": {}
  },
  {
   "cell_type": "markdown",
   "source": [
    "This produces a very high error rate with cross validation!"
   ],
   "metadata": {}
  },
  {
   "cell_type": "markdown",
   "source": [
    "## Custom Ensemble model "
   ],
   "metadata": {}
  },
  {
   "cell_type": "markdown",
   "source": [
    "I will create a custom class that allows us to have the ridge and adaboost models train on our X values, and then let a Linear regression model train on their outputs. The idea behind this is to maximize functionality by combining the novelties and structures of a regularized model and an ensemble model. This should not provide a significant improvement."
   ],
   "metadata": {}
  },
  {
   "cell_type": "code",
   "execution_count": 496,
   "source": [
    "class CreateEnsembleModelsPredictions(BaseEstimator, TransformerMixin):\n",
    "    def __init__(self, model1, model2):\n",
    "        self.model1=model1\n",
    "        self.model2=model2\n",
    "    def fit(self, X, y):\n",
    "        self.model1.fit(X,y)\n",
    "        self.model2.fit(X,y)\n",
    "        self.score(X,y)\n",
    "        return self\n",
    "    def score(self, X, y):\n",
    "        cross_val_score_1, cross_val_score_2 = cross_val_score(self.model1,X,y, scoring='neg_mean_squared_error').mean(), cross_val_score(self.model2,X,y,scoring='neg_mean_squared_error').mean()\n",
    "        print('cross validation score 1: ',cross_val_score_1)\n",
    "        print('cross validation score 2: ',cross_val_score_2)\n",
    "    def transform(self, X):\n",
    "        new_X=self.model1.predict(X),self.model2.predict(X)\n",
    "        return pd.DataFrame(new_X).T\n",
    "\n",
    "pipeline_ensemble_ridge_adaboost = Pipeline([('polynomial',PolynomialFeatures(degree=2)), ('create_predictions',CreateEnsembleModelsPredictions(Ridge(alpha=0.1), \n",
    "                                            AdaBoostRegressor(base_estimator=LinearRegression(), n_estimators=150)))])\n",
    "X_new=pipeline_ensemble_ridge_adaboost.fit_transform(X,y)"
   ],
   "outputs": [
    {
     "output_type": "stream",
     "name": "stdout",
     "text": [
      "cross validation score 1:  -2.1188037568224374\n",
      "cross validation score 2:  -3.87974370985865\n"
     ]
    }
   ],
   "metadata": {}
  },
  {
   "cell_type": "markdown",
   "source": [
    "Our custom pipeline returns data which we can use to train a new linear regression model:"
   ],
   "metadata": {}
  },
  {
   "cell_type": "code",
   "execution_count": 459,
   "source": [
    "X_new.head(3)"
   ],
   "outputs": [
    {
     "output_type": "execute_result",
     "data": {
      "text/plain": [
       "            0           1\n",
       "0  754.021379  753.900000\n",
       "1  264.802455  264.660133\n",
       "2  862.110102  862.084186"
      ],
      "text/html": [
       "<div>\n",
       "<style scoped>\n",
       "    .dataframe tbody tr th:only-of-type {\n",
       "        vertical-align: middle;\n",
       "    }\n",
       "\n",
       "    .dataframe tbody tr th {\n",
       "        vertical-align: top;\n",
       "    }\n",
       "\n",
       "    .dataframe thead th {\n",
       "        text-align: right;\n",
       "    }\n",
       "</style>\n",
       "<table border=\"1\" class=\"dataframe\">\n",
       "  <thead>\n",
       "    <tr style=\"text-align: right;\">\n",
       "      <th></th>\n",
       "      <th>0</th>\n",
       "      <th>1</th>\n",
       "    </tr>\n",
       "  </thead>\n",
       "  <tbody>\n",
       "    <tr>\n",
       "      <th>0</th>\n",
       "      <td>754.021379</td>\n",
       "      <td>753.900000</td>\n",
       "    </tr>\n",
       "    <tr>\n",
       "      <th>1</th>\n",
       "      <td>264.802455</td>\n",
       "      <td>264.660133</td>\n",
       "    </tr>\n",
       "    <tr>\n",
       "      <th>2</th>\n",
       "      <td>862.110102</td>\n",
       "      <td>862.084186</td>\n",
       "    </tr>\n",
       "  </tbody>\n",
       "</table>\n",
       "</div>"
      ]
     },
     "metadata": {},
     "execution_count": 459
    }
   ],
   "metadata": {}
  },
  {
   "cell_type": "markdown",
   "source": [
    "This model technically cheats given that the models that it is based off have seen the entire training data, but this would be good if you are okay with using the entire data set for training."
   ],
   "metadata": {}
  },
  {
   "cell_type": "code",
   "execution_count": 498,
   "source": [
    "cross_val_score(LinearRegression(),X_new,y, scoring='neg_mean_squared_error', cv=6).mean()"
   ],
   "outputs": [
    {
     "output_type": "execute_result",
     "data": {
      "text/plain": [
       "-0.0003584901313949834"
      ]
     },
     "metadata": {},
     "execution_count": 498
    }
   ],
   "metadata": {}
  },
  {
   "cell_type": "markdown",
   "source": [
    "## Predictions using the ensemble model:"
   ],
   "metadata": {}
  },
  {
   "cell_type": "code",
   "execution_count": 500,
   "source": [
    "lr=LinearRegression()\n",
    "lr.fit(X_new,y)\n",
    "lr.predict(X_new)[:7],y[:7]"
   ],
   "outputs": [
    {
     "output_type": "execute_result",
     "data": {
      "text/plain": [
       "(array([753.89432669, 264.64336317, 862.08234711, 267.31406524,\n",
       "        262.51186969, 253.53987122, 222.11649098]),\n",
       " 154     753.90\n",
       " 1259    264.65\n",
       " 688     862.09\n",
       " 1313    267.32\n",
       " 522     262.52\n",
       " 1106    253.54\n",
       " 68      222.10\n",
       " Name:  ME Value , dtype: float64)"
      ]
     },
     "metadata": {},
     "execution_count": 500
    }
   ],
   "metadata": {}
  },
  {
   "cell_type": "markdown",
   "source": [
    "As you can see, the model performs fairly well!"
   ],
   "metadata": {}
  },
  {
   "cell_type": "markdown",
   "source": [
    "# Conclusion:"
   ],
   "metadata": {}
  },
  {
   "cell_type": "markdown",
   "source": [
    "## Effect of Shuffling:"
   ],
   "metadata": {}
  },
  {
   "cell_type": "markdown",
   "source": [
    "The following are the largest negative and positive differences among predicted values. The grid_search_pipe utilized a ridge regression model. Shuffling is far less important for other models that use bootstrapping such as the Decision Trees. This implies that the data that we had was not Independently and identically distributed (or I.I.D.)!"
   ],
   "metadata": {}
  },
  {
   "cell_type": "markdown",
   "source": [
    "Before Shuffling:"
   ],
   "metadata": {}
  },
  {
   "cell_type": "code",
   "execution_count": 132,
   "source": [
    "diff=grid_search_pipe.predict(X)-y.values\n",
    "print(np.sort(diff)[-11:-1],'\\n',np.sort(diff)[0:10])"
   ],
   "outputs": [
    {
     "output_type": "stream",
     "name": "stdout",
     "text": [
      "[21.9541731  22.14381983 22.16904134 27.71106104 27.73925956 29.31640097\n",
      " 30.72446583 33.8931182  35.55649486 43.90162681] \n",
      " [-79.67207811 -43.30895891 -35.02410601 -34.51280464 -29.06059131\n",
      " -24.20340243 -22.89421003 -22.87507844 -22.87507844 -22.75433228]\n"
     ]
    }
   ],
   "metadata": {}
  },
  {
   "cell_type": "markdown",
   "source": [
    "After Shuffling:"
   ],
   "metadata": {}
  },
  {
   "cell_type": "code",
   "execution_count": 332,
   "source": [
    "diff=grid_search_pipe.predict(X)-y.values\n",
    "print(np.sort(diff)[-11:-1],'\\n',np.sort(diff)[0:10])"
   ],
   "outputs": [
    {
     "output_type": "stream",
     "name": "stdout",
     "text": [
      "[0.34845033 0.35234404 0.36355539 0.36856405 0.37080809 0.38904349\n",
      " 0.39951156 0.40874145 0.46862184 0.49563571] \n",
      " [-0.62821268 -0.53647866 -0.49199924 -0.47589831 -0.39430341 -0.34957283\n",
      " -0.3371224  -0.32305222 -0.3107713  -0.30735833]\n"
     ]
    }
   ],
   "metadata": {}
  },
  {
   "cell_type": "markdown",
   "source": [
    "## Statement:"
   ],
   "metadata": {}
  },
  {
   "cell_type": "markdown",
   "source": [
    "On first sight, it appear to be a simple task.  Using a testing and training set results in a very low Mean squared error for both when training a regularized model. The problem, however, is that this low error is based and dependent solely on how you happen to split the data into training and test sets (aka. luck). \n",
    "\n",
    "When split into some folds, the testing set may not contain extreme instances which the model did not account for, which causes the test set MSE to spike. The solution is to 1) shuffle the data and/or 2) train your model by bootstrapping.\n",
    "\n",
    "A cross validation technique is far more indicative of the model performance than using a train/test split, especially without shuffling, as it further accounts for the chance that a rare extreme value is not in one of the training sets but is in the relative testing set.\n",
    "\n",
    "It is reasonable to assume that the basis of calculating the $MEV is derived from some sort of linear/polynomial model, so we decided on focusing on them.\n",
    "\n",
    "Given the variation in the Cross Validation scores, it is wise for us to assume that a regularized model is superior to that of a plain linear model. Likewise, the models suggest strongly that a polynomial function applied on X is superior than not*. A variation in CV scores also motivates us to execute AdaBoost regression, which adds weights to the instances that it tends to produce higher errors for, and higher weights to the models that perform better. Despite being comprised of plain Linear Regression models, it performs even better than Ridge regression. These two methods achieve a far smaller error than pure Linear Regression.\n",
    "\n",
    "The grid search and my custom transform function indicated that the models perform better when the data is not scaled. This is not too surprising as scaling is generally used for speeding up Gradient Descent or giving an equal weight distribution to variables.\n",
    "\n",
    "The ultimate model would be one that is capable of using the strenghts of both a regularized model and an ensemble model composed of Lin. Regressors. This is where my custom CreateEnsembleModelsPredictions class comes into play. It first applies polynomial regression and trains both the previously mentioned models (with optimal parameters that we determined using Grid Search) and creates two datasets of the predicted $MEV (with a resulting MSE of around 2 for each). You can then create a linear regressor which takes the combined outputs into account to create an optimal output."
   ],
   "metadata": {}
  }
 ],
 "metadata": {
  "orig_nbformat": 4,
  "language_info": {
   "name": "python",
   "version": "3.9.2",
   "mimetype": "text/x-python",
   "codemirror_mode": {
    "name": "ipython",
    "version": 3
   },
   "pygments_lexer": "ipython3",
   "nbconvert_exporter": "python",
   "file_extension": ".py"
  },
  "kernelspec": {
   "name": "python3",
   "display_name": "Python 3.9.2 64-bit ('base': conda)"
  },
  "interpreter": {
   "hash": "2e0b06e939cfaac91950ab77db9a6123fc890c659ed78c01383b418f212f0994"
  }
 },
 "nbformat": 4,
 "nbformat_minor": 2
}